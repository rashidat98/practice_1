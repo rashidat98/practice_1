{
  "nbformat": 4,
  "nbformat_minor": 0,
  "metadata": {
    "colab": {
      "provenance": [],
      "mount_file_id": "1ymW4LlmVzMZXEgUnYG0sulMIbI8CcUdJ",
      "authorship_tag": "ABX9TyNCvGIpa8j63B/T9FFudbv/",
      "include_colab_link": true
    },
    "kernelspec": {
      "name": "python3",
      "display_name": "Python 3"
    },
    "language_info": {
      "name": "python"
    }
  },
  "cells": [
    {
      "cell_type": "markdown",
      "metadata": {
        "id": "view-in-github",
        "colab_type": "text"
      },
      "source": [
        "<a href=\"https://colab.research.google.com/github/rashidat98/practice_1/blob/main/My_book_sailpractice.ipynb\" target=\"_parent\"><img src=\"https://colab.research.google.com/assets/colab-badge.svg\" alt=\"Open In Colab\"/></a>"
      ]
    },
    {
      "cell_type": "code",
      "source": [
        "# basic maths practice"
      ],
      "metadata": {
        "id": "9mSWUAT8tmQM"
      },
      "execution_count": null,
      "outputs": []
    },
    {
      "cell_type": "code",
      "execution_count": null,
      "metadata": {
        "colab": {
          "base_uri": "https://localhost:8080/"
        },
        "id": "FUyoodbSp4-B",
        "outputId": "321f395e-2cbb-4b07-c0f9-6606617689c9"
      },
      "outputs": [
        {
          "output_type": "execute_result",
          "data": {
            "text/plain": [
              "16.0"
            ]
          },
          "metadata": {},
          "execution_count": 2
        }
      ],
      "source": [
        "80/5"
      ]
    },
    {
      "cell_type": "code",
      "execution_count": null,
      "metadata": {
        "colab": {
          "base_uri": "https://localhost:8080/"
        },
        "id": "krIkrPZsqxnz",
        "outputId": "1a93abfc-8b00-45b5-dd34-83ea784a9281"
      },
      "outputs": [
        {
          "output_type": "execute_result",
          "data": {
            "text/plain": [
              "60"
            ]
          },
          "metadata": {},
          "execution_count": 3
        }
      ],
      "source": [
        "100-40"
      ]
    },
    {
      "cell_type": "code",
      "execution_count": null,
      "metadata": {
        "colab": {
          "base_uri": "https://localhost:8080/"
        },
        "id": "z2OHg52rqxvv",
        "outputId": "156c5297-c479-41cb-d968-0ebdd66fbc24"
      },
      "outputs": [
        {
          "output_type": "execute_result",
          "data": {
            "text/plain": [
              "750"
            ]
          },
          "metadata": {},
          "execution_count": 4
        }
      ],
      "source": [
        "500+250"
      ]
    },
    {
      "cell_type": "code",
      "execution_count": null,
      "metadata": {
        "colab": {
          "base_uri": "https://localhost:8080/"
        },
        "id": "o2eO5SphqxyU",
        "outputId": "37baf34f-4375-4689-939c-d451df653908"
      },
      "outputs": [
        {
          "output_type": "execute_result",
          "data": {
            "text/plain": [
              "2500"
            ]
          },
          "metadata": {},
          "execution_count": 5
        }
      ],
      "source": [
        "50*50"
      ]
    },
    {
      "cell_type": "code",
      "source": [
        "# data types"
      ],
      "metadata": {
        "id": "30o5Eq0IAb2i"
      },
      "execution_count": null,
      "outputs": []
    },
    {
      "cell_type": "code",
      "source": [
        "# variables in python practice"
      ],
      "metadata": {
        "id": "z-IRQKyq0nPH"
      },
      "execution_count": null,
      "outputs": []
    },
    {
      "cell_type": "code",
      "source": [
        "aasiyah = \"baby\"\n",
        "aasiyah"
      ],
      "metadata": {
        "colab": {
          "base_uri": "https://localhost:8080/",
          "height": 36
        },
        "id": "9gFMsSS_uGFh",
        "outputId": "cee1006f-4adb-4fc7-e038-358fe7d4f290"
      },
      "execution_count": null,
      "outputs": [
        {
          "output_type": "execute_result",
          "data": {
            "text/plain": [
              "'baby'"
            ],
            "application/vnd.google.colaboratory.intrinsic+json": {
              "type": "string"
            }
          },
          "metadata": {},
          "execution_count": 7
        }
      ]
    },
    {
      "cell_type": "code",
      "source": [
        "rayyan = \"no 1\"\n",
        "print(rayyan)"
      ],
      "metadata": {
        "colab": {
          "base_uri": "https://localhost:8080/"
        },
        "id": "1E3xgWauu-yt",
        "outputId": "e31baff2-7418-4817-f39a-a367c9290022"
      },
      "execution_count": null,
      "outputs": [
        {
          "output_type": "stream",
          "name": "stdout",
          "text": [
            "no 1\n"
          ]
        }
      ]
    },
    {
      "cell_type": "code",
      "source": [
        "sch_fees= 10000+5000+2000+3000\n",
        "sch_fees"
      ],
      "metadata": {
        "colab": {
          "base_uri": "https://localhost:8080/"
        },
        "id": "We5O0Vvnu_PE",
        "outputId": "75a60160-e641-40b8-fda0-8df30186d6ba"
      },
      "execution_count": null,
      "outputs": [
        {
          "output_type": "execute_result",
          "data": {
            "text/plain": [
              "20000"
            ]
          },
          "metadata": {},
          "execution_count": 9
        }
      ]
    },
    {
      "cell_type": "code",
      "source": [
        "# practice time"
      ],
      "metadata": {
        "id": "BS2QGitl1pYk"
      },
      "execution_count": null,
      "outputs": []
    },
    {
      "cell_type": "code",
      "source": [
        "70/7"
      ],
      "metadata": {
        "colab": {
          "base_uri": "https://localhost:8080/"
        },
        "id": "RWjJI2L71pVr",
        "outputId": "78a7251e-732b-46ba-ec62-c0fe626cf312"
      },
      "execution_count": null,
      "outputs": [
        {
          "output_type": "execute_result",
          "data": {
            "text/plain": [
              "10.0"
            ]
          },
          "metadata": {},
          "execution_count": 9
        }
      ]
    },
    {
      "cell_type": "code",
      "source": [
        "100*5"
      ],
      "metadata": {
        "colab": {
          "base_uri": "https://localhost:8080/"
        },
        "id": "I0yZBKVW1pSt",
        "outputId": "76ca3cfe-88fe-47d9-f9bc-dcab56562565"
      },
      "execution_count": null,
      "outputs": [
        {
          "output_type": "execute_result",
          "data": {
            "text/plain": [
              "500"
            ]
          },
          "metadata": {},
          "execution_count": 10
        }
      ]
    },
    {
      "cell_type": "code",
      "source": [
        "tjay = \"50000\"\n",
        "tjay"
      ],
      "metadata": {
        "colab": {
          "base_uri": "https://localhost:8080/",
          "height": 36
        },
        "id": "8ISO1BaZ1pPp",
        "outputId": "5d1c13aa-5156-446d-875a-93553afb7269"
      },
      "execution_count": null,
      "outputs": [
        {
          "output_type": "execute_result",
          "data": {
            "text/plain": [
              "'50000'"
            ],
            "application/vnd.google.colaboratory.intrinsic+json": {
              "type": "string"
            }
          },
          "metadata": {},
          "execution_count": 11
        }
      ]
    },
    {
      "cell_type": "code",
      "source": [
        "ola_1 = \"the book is on the table\"\n",
        "print(ola_1)"
      ],
      "metadata": {
        "colab": {
          "base_uri": "https://localhost:8080/"
        },
        "id": "al6dD1Ex0nIN",
        "outputId": "f64949eb-7939-457b-87f8-8149daaf9047"
      },
      "execution_count": null,
      "outputs": [
        {
          "output_type": "stream",
          "name": "stdout",
          "text": [
            "the book is on the table\n"
          ]
        }
      ]
    },
    {
      "cell_type": "code",
      "source": [
        "wunmi =\"my name is adedeji rashidat\"\n",
        "print(wunmi)"
      ],
      "metadata": {
        "colab": {
          "base_uri": "https://localhost:8080/"
        },
        "id": "4ozUSfp32cgg",
        "outputId": "28cdf9d8-c673-474d-b798-794b10ba7fe8"
      },
      "execution_count": null,
      "outputs": [
        {
          "output_type": "stream",
          "name": "stdout",
          "text": [
            "my name is adedeji rashidat\n"
          ]
        }
      ]
    },
    {
      "cell_type": "code",
      "source": [
        "cocopops = 32000 + 6500 + 3250\n",
        "cocopops"
      ],
      "metadata": {
        "colab": {
          "base_uri": "https://localhost:8080/"
        },
        "id": "HPCXzvm72cdw",
        "outputId": "51aed563-8892-4ca6-90bb-150b00cc095f"
      },
      "execution_count": null,
      "outputs": [
        {
          "output_type": "execute_result",
          "data": {
            "text/plain": [
              "41750"
            ]
          },
          "metadata": {},
          "execution_count": 14
        }
      ]
    },
    {
      "cell_type": "code",
      "source": [
        "# practice time 2"
      ],
      "metadata": {
        "id": "EKszN9Wk2cad"
      },
      "execution_count": null,
      "outputs": []
    },
    {
      "cell_type": "code",
      "source": [
        "100//30"
      ],
      "metadata": {
        "colab": {
          "base_uri": "https://localhost:8080/"
        },
        "id": "rsVVNYt72cXm",
        "outputId": "341131aa-ea57-4bb1-f2d1-82ec6ff68219"
      },
      "execution_count": null,
      "outputs": [
        {
          "output_type": "execute_result",
          "data": {
            "text/plain": [
              "3"
            ]
          },
          "metadata": {},
          "execution_count": 16
        }
      ]
    },
    {
      "cell_type": "code",
      "source": [
        "50//30"
      ],
      "metadata": {
        "colab": {
          "base_uri": "https://localhost:8080/"
        },
        "id": "TZDI7rtC2cUY",
        "outputId": "73770cb1-9950-4483-bff9-46fb8f7a528d"
      },
      "execution_count": null,
      "outputs": [
        {
          "output_type": "execute_result",
          "data": {
            "text/plain": [
              "1"
            ]
          },
          "metadata": {},
          "execution_count": 17
        }
      ]
    },
    {
      "cell_type": "code",
      "source": [
        "4**5"
      ],
      "metadata": {
        "colab": {
          "base_uri": "https://localhost:8080/"
        },
        "id": "VxC0CsPX2cRt",
        "outputId": "ee0e286f-4a90-4920-c9d7-1c126c4b9848"
      },
      "execution_count": null,
      "outputs": [
        {
          "output_type": "execute_result",
          "data": {
            "text/plain": [
              "1024"
            ]
          },
          "metadata": {},
          "execution_count": 18
        }
      ]
    },
    {
      "cell_type": "code",
      "source": [
        "5**2"
      ],
      "metadata": {
        "colab": {
          "base_uri": "https://localhost:8080/"
        },
        "id": "2XfGpYFv3BTJ",
        "outputId": "81340cb7-67c2-47c1-b09d-f642f3052efc"
      },
      "execution_count": null,
      "outputs": [
        {
          "output_type": "execute_result",
          "data": {
            "text/plain": [
              "25"
            ]
          },
          "metadata": {},
          "execution_count": 19
        }
      ]
    },
    {
      "cell_type": "code",
      "source": [
        "7*7"
      ],
      "metadata": {
        "colab": {
          "base_uri": "https://localhost:8080/"
        },
        "id": "mr3ozK3x3BP5",
        "outputId": "b8d17cd5-c01a-402b-de5b-09417d93aa8f"
      },
      "execution_count": null,
      "outputs": [
        {
          "output_type": "execute_result",
          "data": {
            "text/plain": [
              "49"
            ]
          },
          "metadata": {},
          "execution_count": 20
        }
      ]
    },
    {
      "cell_type": "code",
      "source": [
        "4*5"
      ],
      "metadata": {
        "colab": {
          "base_uri": "https://localhost:8080/"
        },
        "id": "zQ6F2naa3BMz",
        "outputId": "0450eaf8-b03c-46ea-e772-189a298fb4b5"
      },
      "execution_count": null,
      "outputs": [
        {
          "output_type": "execute_result",
          "data": {
            "text/plain": [
              "20"
            ]
          },
          "metadata": {},
          "execution_count": 21
        }
      ]
    },
    {
      "cell_type": "code",
      "source": [
        "50%3"
      ],
      "metadata": {
        "colab": {
          "base_uri": "https://localhost:8080/"
        },
        "id": "Ci41FTY83BJZ",
        "outputId": "8e1e7650-5f10-4eec-a7bd-8d518fe4236e"
      },
      "execution_count": null,
      "outputs": [
        {
          "output_type": "execute_result",
          "data": {
            "text/plain": [
              "2"
            ]
          },
          "metadata": {},
          "execution_count": 22
        }
      ]
    },
    {
      "cell_type": "code",
      "source": [
        "73%4"
      ],
      "metadata": {
        "colab": {
          "base_uri": "https://localhost:8080/"
        },
        "id": "QCIVYqDi3BGT",
        "outputId": "1c1677a2-936d-4f7d-e8f2-e3b9af33d82a"
      },
      "execution_count": null,
      "outputs": [
        {
          "output_type": "execute_result",
          "data": {
            "text/plain": [
              "1"
            ]
          },
          "metadata": {},
          "execution_count": 23
        }
      ]
    },
    {
      "cell_type": "code",
      "source": [
        "5*5"
      ],
      "metadata": {
        "colab": {
          "base_uri": "https://localhost:8080/"
        },
        "id": "Mz-62mHX3BBI",
        "outputId": "282d7e0f-9b44-47e0-e147-f08e5116db7a"
      },
      "execution_count": null,
      "outputs": [
        {
          "output_type": "execute_result",
          "data": {
            "text/plain": [
              "25"
            ]
          },
          "metadata": {},
          "execution_count": 24
        }
      ]
    },
    {
      "cell_type": "code",
      "source": [
        "# practice time 3\n",
        "a = 2\n",
        "b = 6\n",
        "a == b"
      ],
      "metadata": {
        "colab": {
          "base_uri": "https://localhost:8080/"
        },
        "id": "4k827qd-0nEV",
        "outputId": "3eaa33fd-42ec-4e21-a019-e209ef6eea21"
      },
      "execution_count": null,
      "outputs": [
        {
          "output_type": "execute_result",
          "data": {
            "text/plain": [
              "False"
            ]
          },
          "metadata": {},
          "execution_count": 25
        }
      ]
    },
    {
      "cell_type": "code",
      "source": [
        "a >= b"
      ],
      "metadata": {
        "colab": {
          "base_uri": "https://localhost:8080/"
        },
        "id": "O8s5-sYS3tUk",
        "outputId": "1e2449ea-ff82-4d21-b9f3-dbc78076eab4"
      },
      "execution_count": null,
      "outputs": [
        {
          "output_type": "execute_result",
          "data": {
            "text/plain": [
              "False"
            ]
          },
          "metadata": {},
          "execution_count": 26
        }
      ]
    },
    {
      "cell_type": "code",
      "source": [
        "b <= a"
      ],
      "metadata": {
        "colab": {
          "base_uri": "https://localhost:8080/"
        },
        "id": "eHzMGx4s3tRO",
        "outputId": "d2b79bd6-e236-40d2-85c5-18dc820861c7"
      },
      "execution_count": null,
      "outputs": [
        {
          "output_type": "execute_result",
          "data": {
            "text/plain": [
              "False"
            ]
          },
          "metadata": {},
          "execution_count": 27
        }
      ]
    },
    {
      "cell_type": "code",
      "source": [
        "a != b"
      ],
      "metadata": {
        "colab": {
          "base_uri": "https://localhost:8080/"
        },
        "id": "CKSJVPc83tGs",
        "outputId": "5b28db51-9a83-4955-8a2b-251d7f714253"
      },
      "execution_count": null,
      "outputs": [
        {
          "output_type": "execute_result",
          "data": {
            "text/plain": [
              "True"
            ]
          },
          "metadata": {},
          "execution_count": 28
        }
      ]
    },
    {
      "cell_type": "code",
      "source": [
        "a <= b"
      ],
      "metadata": {
        "colab": {
          "base_uri": "https://localhost:8080/"
        },
        "id": "ltmdwC-53tDx",
        "outputId": "4eb42e3b-bcf3-43f7-97d3-74255ac284c4"
      },
      "execution_count": null,
      "outputs": [
        {
          "output_type": "execute_result",
          "data": {
            "text/plain": [
              "True"
            ]
          },
          "metadata": {},
          "execution_count": 29
        }
      ]
    },
    {
      "cell_type": "code",
      "source": [
        "b >= a"
      ],
      "metadata": {
        "colab": {
          "base_uri": "https://localhost:8080/"
        },
        "id": "gZqDnQ_M3tAd",
        "outputId": "b4f7b4d1-3fdb-4d39-f514-7daf1926d9f1"
      },
      "execution_count": null,
      "outputs": [
        {
          "output_type": "execute_result",
          "data": {
            "text/plain": [
              "True"
            ]
          },
          "metadata": {},
          "execution_count": 30
        }
      ]
    },
    {
      "cell_type": "code",
      "source": [
        "# practice time 4"
      ],
      "metadata": {
        "id": "rV-r670T3s9p"
      },
      "execution_count": null,
      "outputs": []
    },
    {
      "cell_type": "code",
      "source": [
        "tope = 1900\n",
        "type(tope)"
      ],
      "metadata": {
        "colab": {
          "base_uri": "https://localhost:8080/"
        },
        "id": "izK8q7ix3s6Q",
        "outputId": "5e1bdcb5-a591-4af0-bd23-a5fa5b52a33c"
      },
      "execution_count": null,
      "outputs": [
        {
          "output_type": "execute_result",
          "data": {
            "text/plain": [
              "int"
            ]
          },
          "metadata": {},
          "execution_count": 32
        }
      ]
    },
    {
      "cell_type": "code",
      "source": [
        "tope2 = 500\n",
        "type(tope2)"
      ],
      "metadata": {
        "colab": {
          "base_uri": "https://localhost:8080/"
        },
        "id": "JBmugZk74x-E",
        "outputId": "651edc95-54e7-44af-d2f3-2e36821b9fc1"
      },
      "execution_count": null,
      "outputs": [
        {
          "output_type": "execute_result",
          "data": {
            "text/plain": [
              "int"
            ]
          },
          "metadata": {},
          "execution_count": 33
        }
      ]
    },
    {
      "cell_type": "code",
      "source": [
        "sayo = 11.50\n",
        "type(sayo)"
      ],
      "metadata": {
        "colab": {
          "base_uri": "https://localhost:8080/"
        },
        "id": "S-jW7zUb4x6R",
        "outputId": "ca963516-a669-47f7-d0b5-8f1809752108"
      },
      "execution_count": null,
      "outputs": [
        {
          "output_type": "execute_result",
          "data": {
            "text/plain": [
              "float"
            ]
          },
          "metadata": {},
          "execution_count": 34
        }
      ]
    },
    {
      "cell_type": "code",
      "source": [
        "sayo1 = 30.10\n",
        "type(sayo1)"
      ],
      "metadata": {
        "colab": {
          "base_uri": "https://localhost:8080/"
        },
        "id": "-ChLTHdt4x3L",
        "outputId": "cb5ef831-be02-41f8-efd3-7fa564bef89b"
      },
      "execution_count": null,
      "outputs": [
        {
          "output_type": "execute_result",
          "data": {
            "text/plain": [
              "float"
            ]
          },
          "metadata": {},
          "execution_count": 35
        }
      ]
    },
    {
      "cell_type": "code",
      "source": [
        "sayo2 = \"i am a smart girl\"\n",
        "type(sayo2)"
      ],
      "metadata": {
        "colab": {
          "base_uri": "https://localhost:8080/"
        },
        "id": "kTEC0-nb4x0F",
        "outputId": "31e3d963-814d-4fab-9179-fc61b0f68924"
      },
      "execution_count": null,
      "outputs": [
        {
          "output_type": "execute_result",
          "data": {
            "text/plain": [
              "str"
            ]
          },
          "metadata": {},
          "execution_count": 36
        }
      ]
    },
    {
      "cell_type": "code",
      "source": [
        "titi = 1 + 3j\n",
        "type(titi)"
      ],
      "metadata": {
        "colab": {
          "base_uri": "https://localhost:8080/"
        },
        "id": "ri4EqVx74xwq",
        "outputId": "c7bf8ff5-023e-499a-ba75-16e10a40eb3b"
      },
      "execution_count": null,
      "outputs": [
        {
          "output_type": "execute_result",
          "data": {
            "text/plain": [
              "complex"
            ]
          },
          "metadata": {},
          "execution_count": 37
        }
      ]
    },
    {
      "cell_type": "code",
      "source": [
        "wale_is_a_boy = True\n",
        "type(wale_is_a_boy)"
      ],
      "metadata": {
        "colab": {
          "base_uri": "https://localhost:8080/"
        },
        "id": "OpggnW3E4xtl",
        "outputId": "a2286a6b-3495-4b93-cca2-2118b026e94f"
      },
      "execution_count": null,
      "outputs": [
        {
          "output_type": "execute_result",
          "data": {
            "text/plain": [
              "bool"
            ]
          },
          "metadata": {},
          "execution_count": 38
        }
      ]
    },
    {
      "cell_type": "code",
      "source": [
        "shoe = False\n",
        "type(shoe)"
      ],
      "metadata": {
        "colab": {
          "base_uri": "https://localhost:8080/"
        },
        "id": "YkDo-6Fx3s3R",
        "outputId": "a9e5ca8a-68dc-4707-b33c-05712f6a6aea"
      },
      "execution_count": null,
      "outputs": [
        {
          "output_type": "execute_result",
          "data": {
            "text/plain": [
              "bool"
            ]
          },
          "metadata": {},
          "execution_count": 40
        }
      ]
    },
    {
      "cell_type": "code",
      "source": [
        "tunde_girl = False\n",
        "type(tunde_girl)"
      ],
      "metadata": {
        "colab": {
          "base_uri": "https://localhost:8080/"
        },
        "id": "DU1zqYCZ5uSs",
        "outputId": "7745074b-6c02-476c-d6e4-a934fa2c90b9"
      },
      "execution_count": null,
      "outputs": [
        {
          "output_type": "execute_result",
          "data": {
            "text/plain": [
              "bool"
            ]
          },
          "metadata": {},
          "execution_count": 41
        }
      ]
    },
    {
      "cell_type": "code",
      "source": [
        "tope + tope2"
      ],
      "metadata": {
        "colab": {
          "base_uri": "https://localhost:8080/"
        },
        "id": "pLJP4BWQ5uMy",
        "outputId": "044b04e8-0eeb-4c99-9489-f06e4c896d0c"
      },
      "execution_count": null,
      "outputs": [
        {
          "output_type": "execute_result",
          "data": {
            "text/plain": [
              "2400"
            ]
          },
          "metadata": {},
          "execution_count": 42
        }
      ]
    },
    {
      "cell_type": "code",
      "source": [],
      "metadata": {
        "id": "I8706L4fAKNm"
      },
      "execution_count": null,
      "outputs": []
    },
    {
      "cell_type": "code",
      "source": [
        "sayo + sayo1"
      ],
      "metadata": {
        "colab": {
          "base_uri": "https://localhost:8080/"
        },
        "id": "L5QDKxsO5uH5",
        "outputId": "02e1a449-3bd6-461f-da6c-bb77fdf75c60"
      },
      "execution_count": null,
      "outputs": [
        {
          "output_type": "execute_result",
          "data": {
            "text/plain": [
              "41.6"
            ]
          },
          "metadata": {},
          "execution_count": 43
        }
      ]
    },
    {
      "cell_type": "code",
      "source": [
        "# data structures\n",
        "sola_list = [\"bread\", \"beans\", \"meat\", \"egg\",\"pomo\",\"butter\"]\n",
        "print(sola_list)"
      ],
      "metadata": {
        "colab": {
          "base_uri": "https://localhost:8080/"
        },
        "id": "hJ-DpUyK5uDq",
        "outputId": "03126d22-51a1-4b59-a7bf-0a8c6101b77c"
      },
      "execution_count": null,
      "outputs": [
        {
          "output_type": "stream",
          "name": "stdout",
          "text": [
            "['bread', 'beans', 'meat', 'egg', 'pomo', 'butter']\n"
          ]
        }
      ]
    },
    {
      "cell_type": "code",
      "source": [
        "sola_list.append(2000)\n",
        "print(sola_list)"
      ],
      "metadata": {
        "colab": {
          "base_uri": "https://localhost:8080/"
        },
        "id": "Qceu8qGB5t_G",
        "outputId": "271df728-08a7-45fa-d190-a39876998aa9"
      },
      "execution_count": null,
      "outputs": [
        {
          "output_type": "stream",
          "name": "stdout",
          "text": [
            "['bread', 'beans', 'meat', 'egg', 'pomo', 'butter', 2000]\n"
          ]
        }
      ]
    },
    {
      "cell_type": "code",
      "source": [
        "sola_list.insert(6, \"water\")\n",
        "print(sola_list)"
      ],
      "metadata": {
        "colab": {
          "base_uri": "https://localhost:8080/"
        },
        "id": "2DEHDHdm5t7C",
        "outputId": "1896281a-6604-4bd9-c68c-9218689a96a5"
      },
      "execution_count": null,
      "outputs": [
        {
          "output_type": "stream",
          "name": "stdout",
          "text": [
            "['bread', 'beans', 'meat', 'egg', 'pomo', 'butter', 'water', 2000]\n"
          ]
        }
      ]
    },
    {
      "cell_type": "code",
      "source": [
        "sola_list.remove(\"egg\")\n",
        "print(sola_list)"
      ],
      "metadata": {
        "colab": {
          "base_uri": "https://localhost:8080/"
        },
        "id": "0TzjYP145t2v",
        "outputId": "2c8e4764-e1b6-4a97-f921-4b56d7931be3"
      },
      "execution_count": null,
      "outputs": [
        {
          "output_type": "stream",
          "name": "stdout",
          "text": [
            "['bread', 'beans', 'meat', 'pomo', 'butter', 'water', 2000]\n"
          ]
        }
      ]
    },
    {
      "cell_type": "code",
      "source": [
        "sola_list.insert(3, \"fish\")\n",
        "print(sola_list)"
      ],
      "metadata": {
        "colab": {
          "base_uri": "https://localhost:8080/"
        },
        "id": "WWwPDNOZ5ty-",
        "outputId": "1b153e1d-91ee-4ea8-af33-3466f63f3b16"
      },
      "execution_count": null,
      "outputs": [
        {
          "output_type": "stream",
          "name": "stdout",
          "text": [
            "['bread', 'beans', 'meat', 'fish', 'pomo', 'butter', 'water', 2000]\n"
          ]
        }
      ]
    },
    {
      "cell_type": "code",
      "source": [
        "sola_list[6] = \"table_water\"\n",
        "print(sola_list)"
      ],
      "metadata": {
        "colab": {
          "base_uri": "https://localhost:8080/"
        },
        "id": "GY896jg6BDdP",
        "outputId": "546b4cc6-5727-4852-8e1f-e8820108dccb"
      },
      "execution_count": null,
      "outputs": [
        {
          "output_type": "stream",
          "name": "stdout",
          "text": [
            "['bread', 'beans', 'meat', 'fish', 'pomo', 'butter', 'table_water', 2000]\n"
          ]
        }
      ]
    },
    {
      "cell_type": "code",
      "source": [
        "sola_list.remove(2000)\n",
        "print(sola_list)"
      ],
      "metadata": {
        "colab": {
          "base_uri": "https://localhost:8080/"
        },
        "id": "CyuO3U5fBDaN",
        "outputId": "f59bc8a3-4cb4-4363-8e70-f747c2f6b411"
      },
      "execution_count": null,
      "outputs": [
        {
          "output_type": "stream",
          "name": "stdout",
          "text": [
            "['bread', 'beans', 'meat', 'fish', 'pomo', 'butter', 'table_water']\n"
          ]
        }
      ]
    },
    {
      "cell_type": "code",
      "source": [
        "#initializing a list\n",
        "titi_learning_list = []\n",
        "\n",
        "#lets populate the list\n",
        "titi_learning_list.append(\"python\")\n",
        "titi_learning_list.append(\"pandas\")\n",
        "titi_learning_list.append(\"numpy\")\n",
        "titi_learning_list.append(\"matplotlib\")\n",
        "titi_learning_list.append(\"seaborn\")\n",
        "titi_learning_list.append(\"scikit-learn\")\n",
        "titi_learning_list.append(\"tensorflow\")\n",
        "titi_learning_list.append(\"pytorch\")\n",
        "\n",
        "print(titi_learning_list)\n"
      ],
      "metadata": {
        "colab": {
          "base_uri": "https://localhost:8080/"
        },
        "id": "Hy4usGsXBDW4",
        "outputId": "d0265b96-5597-473c-c90a-06fc5083a99b"
      },
      "execution_count": null,
      "outputs": [
        {
          "output_type": "stream",
          "name": "stdout",
          "text": [
            "['python', 'pandas', 'numpy', 'matplotlib', 'seaborn', 'scikit-learn', 'tensorflow', 'pytorch']\n"
          ]
        }
      ]
    },
    {
      "cell_type": "code",
      "source": [
        "type(titi_learning_list)"
      ],
      "metadata": {
        "colab": {
          "base_uri": "https://localhost:8080/"
        },
        "id": "lfifAhH2BDTD",
        "outputId": "36168bea-062e-4102-8758-1b978c6889be"
      },
      "execution_count": null,
      "outputs": [
        {
          "output_type": "execute_result",
          "data": {
            "text/plain": [
              "list"
            ]
          },
          "metadata": {},
          "execution_count": 54
        }
      ]
    },
    {
      "cell_type": "code",
      "source": [
        "titi_learning_list.remove(\"tensorflow\")\n",
        "print(titi_learning_list)"
      ],
      "metadata": {
        "colab": {
          "base_uri": "https://localhost:8080/"
        },
        "id": "vDTWuJKuBC5-",
        "outputId": "3d543300-f5c4-48a1-bc0e-5b357baff585"
      },
      "execution_count": null,
      "outputs": [
        {
          "output_type": "stream",
          "name": "stdout",
          "text": [
            "['python', 'pandas', 'numpy', 'matplotlib', 'seaborn', 'scikit-learn', 'pytorch']\n"
          ]
        }
      ]
    },
    {
      "cell_type": "code",
      "source": [
        "del titi_learning_list [6]\n",
        "print(titi_learning_list)"
      ],
      "metadata": {
        "colab": {
          "base_uri": "https://localhost:8080/"
        },
        "id": "aeACWAJo5ttl",
        "outputId": "2ddf871a-fa8c-4b01-ce22-64a0a55e689e"
      },
      "execution_count": null,
      "outputs": [
        {
          "output_type": "stream",
          "name": "stdout",
          "text": [
            "['python', 'pandas', 'numpy', 'matplotlib', 'seaborn', 'scikit-learn']\n"
          ]
        }
      ]
    },
    {
      "cell_type": "code",
      "source": [
        "# indexing and slicing a list\n",
        "peju = \"trademark\"\n",
        "peju[:5]\n",
        "\n"
      ],
      "metadata": {
        "colab": {
          "base_uri": "https://localhost:8080/",
          "height": 36
        },
        "id": "VIC6I40jB7OX",
        "outputId": "05f81399-fa50-48a8-c1ba-4e02131bae0f"
      },
      "execution_count": null,
      "outputs": [
        {
          "output_type": "execute_result",
          "data": {
            "text/plain": [
              "'trade'"
            ],
            "application/vnd.google.colaboratory.intrinsic+json": {
              "type": "string"
            }
          },
          "metadata": {},
          "execution_count": 57
        }
      ]
    },
    {
      "cell_type": "code",
      "source": [
        "peju[9:]"
      ],
      "metadata": {
        "colab": {
          "base_uri": "https://localhost:8080/",
          "height": 36
        },
        "id": "owrxhu0JB7Gl",
        "outputId": "025b66bf-54a4-4972-9923-22b2b786da8c"
      },
      "execution_count": null,
      "outputs": [
        {
          "output_type": "execute_result",
          "data": {
            "text/plain": [
              "''"
            ],
            "application/vnd.google.colaboratory.intrinsic+json": {
              "type": "string"
            }
          },
          "metadata": {},
          "execution_count": 58
        }
      ]
    },
    {
      "cell_type": "code",
      "source": [
        "peju[:9]"
      ],
      "metadata": {
        "colab": {
          "base_uri": "https://localhost:8080/",
          "height": 36
        },
        "id": "9VjLb2RNB67P",
        "outputId": "5bd429f9-d35a-448f-c52c-0be885ce39ff"
      },
      "execution_count": null,
      "outputs": [
        {
          "output_type": "execute_result",
          "data": {
            "text/plain": [
              "'trademark'"
            ],
            "application/vnd.google.colaboratory.intrinsic+json": {
              "type": "string"
            }
          },
          "metadata": {},
          "execution_count": 59
        }
      ]
    },
    {
      "cell_type": "code",
      "source": [
        "peju[6:]"
      ],
      "metadata": {
        "colab": {
          "base_uri": "https://localhost:8080/",
          "height": 36
        },
        "id": "OO1jcYOYCNWW",
        "outputId": "29c5275d-ed13-49db-dd87-3018f4b1e3b3"
      },
      "execution_count": null,
      "outputs": [
        {
          "output_type": "execute_result",
          "data": {
            "text/plain": [
              "'ark'"
            ],
            "application/vnd.google.colaboratory.intrinsic+json": {
              "type": "string"
            }
          },
          "metadata": {},
          "execution_count": 60
        }
      ]
    },
    {
      "cell_type": "code",
      "source": [
        "peju[:0]"
      ],
      "metadata": {
        "colab": {
          "base_uri": "https://localhost:8080/",
          "height": 36
        },
        "id": "Ct1oyQypCNS3",
        "outputId": "3df0e915-511d-4c36-b7c9-63c8e351a67f"
      },
      "execution_count": null,
      "outputs": [
        {
          "output_type": "execute_result",
          "data": {
            "text/plain": [
              "''"
            ],
            "application/vnd.google.colaboratory.intrinsic+json": {
              "type": "string"
            }
          },
          "metadata": {},
          "execution_count": 61
        }
      ]
    },
    {
      "cell_type": "code",
      "source": [
        "peju[:1]"
      ],
      "metadata": {
        "colab": {
          "base_uri": "https://localhost:8080/",
          "height": 36
        },
        "id": "sOjkm5fXCNBx",
        "outputId": "76d47ed8-c8d9-411c-fe44-ae02e8a5deb3"
      },
      "execution_count": null,
      "outputs": [
        {
          "output_type": "execute_result",
          "data": {
            "text/plain": [
              "'t'"
            ],
            "application/vnd.google.colaboratory.intrinsic+json": {
              "type": "string"
            }
          },
          "metadata": {},
          "execution_count": 62
        }
      ]
    },
    {
      "cell_type": "code",
      "source": [
        "peju[-3:]"
      ],
      "metadata": {
        "colab": {
          "base_uri": "https://localhost:8080/",
          "height": 36
        },
        "id": "uOrVzbA-CM-b",
        "outputId": "ec86a93b-aafe-40ab-c578-b226fe380001"
      },
      "execution_count": null,
      "outputs": [
        {
          "output_type": "execute_result",
          "data": {
            "text/plain": [
              "'ark'"
            ],
            "application/vnd.google.colaboratory.intrinsic+json": {
              "type": "string"
            }
          },
          "metadata": {},
          "execution_count": 63
        }
      ]
    },
    {
      "cell_type": "code",
      "source": [
        "peju[-4:]"
      ],
      "metadata": {
        "colab": {
          "base_uri": "https://localhost:8080/",
          "height": 36
        },
        "id": "1LW6dG3OCMrU",
        "outputId": "c0b89dd3-663b-4cc1-a4b2-70a53500d021"
      },
      "execution_count": null,
      "outputs": [
        {
          "output_type": "execute_result",
          "data": {
            "text/plain": [
              "'mark'"
            ],
            "application/vnd.google.colaboratory.intrinsic+json": {
              "type": "string"
            }
          },
          "metadata": {},
          "execution_count": 64
        }
      ]
    },
    {
      "cell_type": "code",
      "source": [
        "peju[-9:]"
      ],
      "metadata": {
        "colab": {
          "base_uri": "https://localhost:8080/",
          "height": 36
        },
        "id": "sHedrewL5toj",
        "outputId": "37b3e518-5ce5-4584-b83f-0dcf05b629be"
      },
      "execution_count": null,
      "outputs": [
        {
          "output_type": "execute_result",
          "data": {
            "text/plain": [
              "'trademark'"
            ],
            "application/vnd.google.colaboratory.intrinsic+json": {
              "type": "string"
            }
          },
          "metadata": {},
          "execution_count": 65
        }
      ]
    },
    {
      "cell_type": "code",
      "source": [
        "peju[5:]"
      ],
      "metadata": {
        "colab": {
          "base_uri": "https://localhost:8080/",
          "height": 36
        },
        "id": "XrdwIxDUEdgR",
        "outputId": "aa0f7227-9f22-435d-e39c-5ca91472d08a"
      },
      "execution_count": null,
      "outputs": [
        {
          "output_type": "execute_result",
          "data": {
            "text/plain": [
              "'mark'"
            ],
            "application/vnd.google.colaboratory.intrinsic+json": {
              "type": "string"
            }
          },
          "metadata": {},
          "execution_count": 66
        }
      ]
    },
    {
      "cell_type": "code",
      "source": [
        "peju[:1]"
      ],
      "metadata": {
        "colab": {
          "base_uri": "https://localhost:8080/",
          "height": 36
        },
        "id": "ZYPeEQedEddE",
        "outputId": "5ca2922b-c857-4a18-9977-30f2ab05817b"
      },
      "execution_count": null,
      "outputs": [
        {
          "output_type": "execute_result",
          "data": {
            "text/plain": [
              "'t'"
            ],
            "application/vnd.google.colaboratory.intrinsic+json": {
              "type": "string"
            }
          },
          "metadata": {},
          "execution_count": 67
        }
      ]
    },
    {
      "cell_type": "code",
      "source": [
        "# indexing through a list\n"
      ],
      "metadata": {
        "id": "uhNKKbz5EdZl"
      },
      "execution_count": null,
      "outputs": []
    },
    {
      "cell_type": "code",
      "source": [
        "# lets bring back titi_learning_list\n",
        "titi_learning_list[-6]"
      ],
      "metadata": {
        "colab": {
          "base_uri": "https://localhost:8080/",
          "height": 36
        },
        "id": "x2kgOo4fEdWA",
        "outputId": "5447b4f9-a92a-4745-e15a-dc3a1bc7de1c"
      },
      "execution_count": null,
      "outputs": [
        {
          "output_type": "execute_result",
          "data": {
            "text/plain": [
              "'python'"
            ],
            "application/vnd.google.colaboratory.intrinsic+json": {
              "type": "string"
            }
          },
          "metadata": {},
          "execution_count": 69
        }
      ]
    },
    {
      "cell_type": "code",
      "source": [
        "titi_learning_list[-1]"
      ],
      "metadata": {
        "colab": {
          "base_uri": "https://localhost:8080/",
          "height": 36
        },
        "id": "zLOjEM-aEdSb",
        "outputId": "206ea8cf-632e-4823-c9e8-8383a7c5ebf4"
      },
      "execution_count": null,
      "outputs": [
        {
          "output_type": "execute_result",
          "data": {
            "text/plain": [
              "'scikit-learn'"
            ],
            "application/vnd.google.colaboratory.intrinsic+json": {
              "type": "string"
            }
          },
          "metadata": {},
          "execution_count": 70
        }
      ]
    },
    {
      "cell_type": "code",
      "source": [
        "titi_learning_list[1]"
      ],
      "metadata": {
        "colab": {
          "base_uri": "https://localhost:8080/",
          "height": 36
        },
        "id": "99HLFtWSE6aX",
        "outputId": "422a172e-5de0-4967-c721-38776ac06e88"
      },
      "execution_count": null,
      "outputs": [
        {
          "output_type": "execute_result",
          "data": {
            "text/plain": [
              "'pandas'"
            ],
            "application/vnd.google.colaboratory.intrinsic+json": {
              "type": "string"
            }
          },
          "metadata": {},
          "execution_count": 71
        }
      ]
    },
    {
      "cell_type": "code",
      "source": [
        "titi_learning_list[0]"
      ],
      "metadata": {
        "colab": {
          "base_uri": "https://localhost:8080/",
          "height": 36
        },
        "id": "0ece5QqjE6Xf",
        "outputId": "c86c0e7c-e20c-445b-e3df-ddfe80b1a678"
      },
      "execution_count": null,
      "outputs": [
        {
          "output_type": "execute_result",
          "data": {
            "text/plain": [
              "'python'"
            ],
            "application/vnd.google.colaboratory.intrinsic+json": {
              "type": "string"
            }
          },
          "metadata": {},
          "execution_count": 72
        }
      ]
    },
    {
      "cell_type": "code",
      "source": [
        "print(titi_learning_list)"
      ],
      "metadata": {
        "colab": {
          "base_uri": "https://localhost:8080/"
        },
        "id": "-zwK1HCeE6UW",
        "outputId": "f760196f-165b-49e2-e621-814008492831"
      },
      "execution_count": null,
      "outputs": [
        {
          "output_type": "stream",
          "name": "stdout",
          "text": [
            "['python', 'pandas', 'numpy', 'matplotlib', 'seaborn', 'scikit-learn']\n"
          ]
        }
      ]
    },
    {
      "cell_type": "code",
      "source": [
        "titi_learning_list[:]"
      ],
      "metadata": {
        "colab": {
          "base_uri": "https://localhost:8080/"
        },
        "id": "8R5jtIUlE6RP",
        "outputId": "e3bdc583-e1ec-4e11-8645-d9b6feae7201"
      },
      "execution_count": null,
      "outputs": [
        {
          "output_type": "execute_result",
          "data": {
            "text/plain": [
              "['python', 'pandas', 'numpy', 'matplotlib', 'seaborn', 'scikit-learn']"
            ]
          },
          "metadata": {},
          "execution_count": 74
        }
      ]
    },
    {
      "cell_type": "code",
      "source": [
        "titi_learning_list[::]"
      ],
      "metadata": {
        "colab": {
          "base_uri": "https://localhost:8080/"
        },
        "id": "5VD7i92hE6OK",
        "outputId": "4ee567f3-30e1-4d4d-b5d3-7598b5e2d368"
      },
      "execution_count": null,
      "outputs": [
        {
          "output_type": "execute_result",
          "data": {
            "text/plain": [
              "['python', 'pandas', 'numpy', 'matplotlib', 'seaborn', 'scikit-learn']"
            ]
          },
          "metadata": {},
          "execution_count": 75
        }
      ]
    },
    {
      "cell_type": "code",
      "source": [
        "titi_learning_list[0:5]"
      ],
      "metadata": {
        "colab": {
          "base_uri": "https://localhost:8080/"
        },
        "id": "6NAN4YS4E6Dx",
        "outputId": "8062686d-16ac-4194-d3b3-d8ee4c4f415b"
      },
      "execution_count": null,
      "outputs": [
        {
          "output_type": "execute_result",
          "data": {
            "text/plain": [
              "['python', 'pandas', 'numpy', 'matplotlib', 'seaborn']"
            ]
          },
          "metadata": {},
          "execution_count": 76
        }
      ]
    },
    {
      "cell_type": "code",
      "source": [
        "titi_learning_list[0:2]"
      ],
      "metadata": {
        "colab": {
          "base_uri": "https://localhost:8080/"
        },
        "id": "VodlthTTE5yS",
        "outputId": "2d773ff9-a6b0-4f46-f218-b9e1ea22ed59"
      },
      "execution_count": null,
      "outputs": [
        {
          "output_type": "execute_result",
          "data": {
            "text/plain": [
              "['python', 'pandas']"
            ]
          },
          "metadata": {},
          "execution_count": 77
        }
      ]
    },
    {
      "cell_type": "code",
      "source": [
        "# lets do negative slicing\n",
        "titi_learning_list[-1:]"
      ],
      "metadata": {
        "colab": {
          "base_uri": "https://localhost:8080/"
        },
        "id": "FpJDJRDZE5oJ",
        "outputId": "7c1b4a37-aa29-46cf-f7e9-dd349e7fb7bb"
      },
      "execution_count": null,
      "outputs": [
        {
          "output_type": "execute_result",
          "data": {
            "text/plain": [
              "['scikit-learn']"
            ]
          },
          "metadata": {},
          "execution_count": 78
        }
      ]
    },
    {
      "cell_type": "code",
      "source": [
        "titi_learning_list[:-1]"
      ],
      "metadata": {
        "colab": {
          "base_uri": "https://localhost:8080/"
        },
        "id": "ZapbtZSUE5kl",
        "outputId": "759fb043-c019-4e92-da93-5b6680ee91ee"
      },
      "execution_count": null,
      "outputs": [
        {
          "output_type": "execute_result",
          "data": {
            "text/plain": [
              "['python', 'pandas', 'numpy', 'matplotlib', 'seaborn']"
            ]
          },
          "metadata": {},
          "execution_count": 79
        }
      ]
    },
    {
      "cell_type": "code",
      "source": [
        "titi_learning_list[:-3]"
      ],
      "metadata": {
        "colab": {
          "base_uri": "https://localhost:8080/"
        },
        "id": "tDSYMZKzE5gJ",
        "outputId": "b3474d83-a42e-4311-f2c4-042df6404b39"
      },
      "execution_count": null,
      "outputs": [
        {
          "output_type": "execute_result",
          "data": {
            "text/plain": [
              "['python', 'pandas', 'numpy']"
            ]
          },
          "metadata": {},
          "execution_count": 80
        }
      ]
    },
    {
      "cell_type": "code",
      "source": [
        "titi_learning_list[-3:]"
      ],
      "metadata": {
        "colab": {
          "base_uri": "https://localhost:8080/"
        },
        "id": "9tcxKGXxE5cj",
        "outputId": "ce119a63-ee74-4b49-aa93-4b3667a169a2"
      },
      "execution_count": null,
      "outputs": [
        {
          "output_type": "execute_result",
          "data": {
            "text/plain": [
              "['matplotlib', 'seaborn', 'scikit-learn']"
            ]
          },
          "metadata": {},
          "execution_count": 81
        }
      ]
    },
    {
      "cell_type": "code",
      "source": [
        "titi_learning_list[::2]"
      ],
      "metadata": {
        "colab": {
          "base_uri": "https://localhost:8080/"
        },
        "id": "fw1FC24vFfqx",
        "outputId": "4932893a-5f07-4af5-e4e3-be59a1b0a8a9"
      },
      "execution_count": null,
      "outputs": [
        {
          "output_type": "execute_result",
          "data": {
            "text/plain": [
              "['python', 'numpy', 'seaborn']"
            ]
          },
          "metadata": {},
          "execution_count": 82
        }
      ]
    },
    {
      "cell_type": "code",
      "source": [
        "# another way to create list\n",
        "lst1 = list(range(8))\n",
        "print(lst1)"
      ],
      "metadata": {
        "colab": {
          "base_uri": "https://localhost:8080/"
        },
        "id": "OK4YuMiKFfnq",
        "outputId": "0b2bd618-a3ed-46ac-8754-56c59d0269a7"
      },
      "execution_count": null,
      "outputs": [
        {
          "output_type": "stream",
          "name": "stdout",
          "text": [
            "[0, 1, 2, 3, 4, 5, 6, 7]\n"
          ]
        }
      ]
    },
    {
      "cell_type": "code",
      "source": [
        "lst2 = list((\"apple\", \"guava\", \"cherry\", \"kiwi\", \"pawpaw\"))\n",
        "print(lst2)\n"
      ],
      "metadata": {
        "colab": {
          "base_uri": "https://localhost:8080/"
        },
        "id": "z8-bLNvpFfj7",
        "outputId": "5dd8c031-750e-46ea-a137-a178268b6fe1"
      },
      "execution_count": null,
      "outputs": [
        {
          "output_type": "stream",
          "name": "stdout",
          "text": [
            "['apple', 'guava', 'cherry', 'kiwi', 'pawpaw']\n"
          ]
        }
      ]
    },
    {
      "cell_type": "code",
      "source": [
        "# creating  tuples\n",
        "tuple = (1,2,3,4,5,6,7,8,9)\n",
        "print(tuple)"
      ],
      "metadata": {
        "colab": {
          "base_uri": "https://localhost:8080/"
        },
        "id": "UOFVa-0YFfgN",
        "outputId": "d78c78e0-cc51-4ba3-a827-679437d542c5"
      },
      "execution_count": null,
      "outputs": [
        {
          "output_type": "stream",
          "name": "stdout",
          "text": [
            "(1, 2, 3, 4, 5, 6, 7, 8, 9)\n"
          ]
        }
      ]
    },
    {
      "cell_type": "code",
      "source": [
        "# creating a tuple and printing using print formatting\n",
        "tuple_example = (4,5,6,7,8,9)\n",
        "print(\"tuple example:\", tuple_example)"
      ],
      "metadata": {
        "colab": {
          "base_uri": "https://localhost:8080/"
        },
        "id": "it9_WB7MZzD1",
        "outputId": "4d497788-aa62-4295-e7ff-dc62c3a47277"
      },
      "execution_count": null,
      "outputs": [
        {
          "output_type": "stream",
          "name": "stdout",
          "text": [
            "tuple example: (4, 5, 6, 7, 8, 9)\n"
          ]
        }
      ]
    },
    {
      "cell_type": "code",
      "source": [
        "tupleexample1 = (1,2,3,4,5)\n",
        "print(\"tuple example:\", tupleexample1)"
      ],
      "metadata": {
        "colab": {
          "base_uri": "https://localhost:8080/"
        },
        "id": "nysOJrMZZy8s",
        "outputId": "0ddc7ffa-4cc3-4645-cdf7-2129e3e0615e"
      },
      "execution_count": null,
      "outputs": [
        {
          "output_type": "stream",
          "name": "stdout",
          "text": [
            "tuple example: (1, 2, 3, 4, 5)\n"
          ]
        }
      ]
    },
    {
      "cell_type": "code",
      "source": [
        "# accessing element\n",
        "firstelement = tupleexample1[0]\n",
        "print(firstelement)"
      ],
      "metadata": {
        "colab": {
          "base_uri": "https://localhost:8080/"
        },
        "id": "i-oZ5-ocHkCM",
        "outputId": "4770bbd0-65e7-4a18-a33c-6b9c8baa417a"
      },
      "execution_count": null,
      "outputs": [
        {
          "output_type": "stream",
          "name": "stdout",
          "text": [
            "1\n"
          ]
        }
      ]
    },
    {
      "cell_type": "code",
      "source": [
        "secondelement = tupleexample1[1]\n",
        "print(secondelement)"
      ],
      "metadata": {
        "colab": {
          "base_uri": "https://localhost:8080/"
        },
        "id": "skuA0YpBHj-B",
        "outputId": "c5086035-3c3d-499d-a11e-955197d439b3"
      },
      "execution_count": null,
      "outputs": [
        {
          "output_type": "stream",
          "name": "stdout",
          "text": [
            "2\n"
          ]
        }
      ]
    },
    {
      "cell_type": "code",
      "source": [
        "thirdelement = tupleexample1[2]\n",
        "print(thirdelement)"
      ],
      "metadata": {
        "colab": {
          "base_uri": "https://localhost:8080/"
        },
        "id": "X9UwOi7HHj6e",
        "outputId": "94190f79-8336-440a-c1ba-46692a40fff0"
      },
      "execution_count": null,
      "outputs": [
        {
          "output_type": "stream",
          "name": "stdout",
          "text": [
            "3\n"
          ]
        }
      ]
    },
    {
      "cell_type": "code",
      "source": [
        "# lets slice our tuple"
      ],
      "metadata": {
        "id": "F9QuXJYcHj23"
      },
      "execution_count": null,
      "outputs": []
    },
    {
      "cell_type": "code",
      "source": [
        "# slicing a tuple\n",
        "sliced_tuple = tuple_example[4:9]\n",
        "print(\"sliced tuple containing index 4 to 8:\", sliced_tuple)\n"
      ],
      "metadata": {
        "colab": {
          "base_uri": "https://localhost:8080/"
        },
        "id": "0sZvt0GyHjyh",
        "outputId": "d905a4b8-ebe0-439a-b646-8571b8298fb3"
      },
      "execution_count": null,
      "outputs": [
        {
          "output_type": "stream",
          "name": "stdout",
          "text": [
            "sliced tuple containing index 4 to 8: (8, 9)\n"
          ]
        }
      ]
    },
    {
      "cell_type": "code",
      "source": [
        "slicedtuple = tupleexample1[1:5]\n",
        "print(\"sliced tuple containing index 1 to 4\", slicedtuple)"
      ],
      "metadata": {
        "colab": {
          "base_uri": "https://localhost:8080/"
        },
        "id": "uEJPAs7qHjuh",
        "outputId": "46532ef9-701d-482e-b4b9-be1e0eaa8490"
      },
      "execution_count": null,
      "outputs": [
        {
          "output_type": "stream",
          "name": "stdout",
          "text": [
            "sliced tuple containing index 1 to 4 (2, 3, 4, 5)\n"
          ]
        }
      ]
    },
    {
      "cell_type": "code",
      "source": [
        "# tuple operation\n",
        "concatenated_tuple = tuple_example + (6, 7, 8)\n",
        "repeated_tuple = tuple_example * 3\n",
        "print(concatenated_tuple)\n",
        "print(\"repeated tuple:\", repeated_tuple)"
      ],
      "metadata": {
        "colab": {
          "base_uri": "https://localhost:8080/"
        },
        "id": "H8vrGkqkHjqQ",
        "outputId": "38cc9261-d874-4527-a35e-1a6e98dc57f1"
      },
      "execution_count": null,
      "outputs": [
        {
          "output_type": "stream",
          "name": "stdout",
          "text": [
            "(4, 5, 6, 7, 8, 9, 6, 7, 8)\n",
            "repeated tuple: (4, 5, 6, 7, 8, 9, 4, 5, 6, 7, 8, 9, 4, 5, 6, 7, 8, 9)\n"
          ]
        }
      ]
    },
    {
      "cell_type": "code",
      "source": [
        "# tuple methods\n",
        "count_of_3 = tuple_example.count(3)\n",
        "index_of_4 = tuple_example.index(4)\n",
        "print(count_of_3)\n",
        "print(index_of_4)"
      ],
      "metadata": {
        "colab": {
          "base_uri": "https://localhost:8080/"
        },
        "id": "OV8sC5AZHjl5",
        "outputId": "44ba493a-b1fd-4e3e-eef6-60ad966e5691"
      },
      "execution_count": null,
      "outputs": [
        {
          "output_type": "stream",
          "name": "stdout",
          "text": [
            "0\n",
            "0\n"
          ]
        }
      ]
    },
    {
      "cell_type": "code",
      "source": [
        "# creating a dictionary\n",
        "biodata= {\"age\":20, 'gender':'f', 'edu':'Bsc'}\n",
        "biodata"
      ],
      "metadata": {
        "colab": {
          "base_uri": "https://localhost:8080/"
        },
        "id": "9Sx82nHBJAxe",
        "outputId": "dc1eda5f-ba05-4cba-ccea-8a93b2c4bb53"
      },
      "execution_count": null,
      "outputs": [
        {
          "output_type": "execute_result",
          "data": {
            "text/plain": [
              "{'age': 20, 'gender': 'f', 'edu': 'Bsc'}"
            ]
          },
          "metadata": {},
          "execution_count": 99
        }
      ]
    },
    {
      "cell_type": "code",
      "source": [
        "#lets use the keys to access the values\n",
        "biodata[\"age\"]"
      ],
      "metadata": {
        "colab": {
          "base_uri": "https://localhost:8080/"
        },
        "id": "hNPJTF_IJAs3",
        "outputId": "c7778244-77f9-4f0b-a03e-ed8cbdc4985d"
      },
      "execution_count": null,
      "outputs": [
        {
          "output_type": "execute_result",
          "data": {
            "text/plain": [
              "20"
            ]
          },
          "metadata": {},
          "execution_count": 100
        }
      ]
    },
    {
      "cell_type": "code",
      "source": [
        "#lets use the keys to access the values\n",
        "biodata[\"gender\"]"
      ],
      "metadata": {
        "colab": {
          "base_uri": "https://localhost:8080/",
          "height": 36
        },
        "id": "33aFDO0JJApJ",
        "outputId": "2210cdef-a1c4-4861-f132-f7b42c258b82"
      },
      "execution_count": null,
      "outputs": [
        {
          "output_type": "execute_result",
          "data": {
            "text/plain": [
              "'f'"
            ],
            "application/vnd.google.colaboratory.intrinsic+json": {
              "type": "string"
            }
          },
          "metadata": {},
          "execution_count": 103
        }
      ]
    },
    {
      "cell_type": "code",
      "source": [
        "#lets get the edu\n",
        "biodata['edu']"
      ],
      "metadata": {
        "colab": {
          "base_uri": "https://localhost:8080/",
          "height": 36
        },
        "id": "kL8k1CwEJAld",
        "outputId": "03f7e958-b54f-425b-d899-ddd365279983"
      },
      "execution_count": null,
      "outputs": [
        {
          "output_type": "execute_result",
          "data": {
            "text/plain": [
              "'Bsc'"
            ],
            "application/vnd.google.colaboratory.intrinsic+json": {
              "type": "string"
            }
          },
          "metadata": {},
          "execution_count": 102
        }
      ]
    },
    {
      "cell_type": "code",
      "source": [
        "#lets get all the keys\n",
        "for key in biodata:\n",
        "  print(key)\n"
      ],
      "metadata": {
        "colab": {
          "base_uri": "https://localhost:8080/"
        },
        "id": "gDYlBMMFJAbB",
        "outputId": "7aca73ce-2216-420e-e7b1-db9d8a7a7bc0"
      },
      "execution_count": null,
      "outputs": [
        {
          "output_type": "stream",
          "name": "stdout",
          "text": [
            "age\n",
            "gender\n",
            "edu\n"
          ]
        }
      ]
    },
    {
      "cell_type": "code",
      "source": [
        "#lets get all the values\n",
        "for value in biodata.values():\n",
        "  print(value)"
      ],
      "metadata": {
        "colab": {
          "base_uri": "https://localhost:8080/"
        },
        "id": "p2DaQOD3JAI_",
        "outputId": "d0088fc9-490a-406b-f80d-84df7bf1c91d"
      },
      "execution_count": null,
      "outputs": [
        {
          "output_type": "stream",
          "name": "stdout",
          "text": [
            "20\n",
            "f\n",
            "Bsc\n"
          ]
        }
      ]
    },
    {
      "cell_type": "code",
      "source": [
        "#lets get both keys and values\n",
        "for key, value in biodata.items():\n",
        "  print(key, value)"
      ],
      "metadata": {
        "colab": {
          "base_uri": "https://localhost:8080/"
        },
        "id": "md1SE-VBI__Y",
        "outputId": "7f6bbb5d-5f2a-46cb-a882-b709fc481198"
      },
      "execution_count": null,
      "outputs": [
        {
          "output_type": "stream",
          "name": "stdout",
          "text": [
            "age 20\n",
            "gender f\n",
            "edu Bsc\n"
          ]
        }
      ]
    },
    {
      "cell_type": "code",
      "source": [
        "#lets add name of school to the biodata\n",
        "biodata[\"name of school\"] = \"unilag\"\n",
        "print(biodata)"
      ],
      "metadata": {
        "colab": {
          "base_uri": "https://localhost:8080/"
        },
        "id": "xBL2CcvkI_60",
        "outputId": "6f1b66c8-a744-4b98-afa2-34835503caa0"
      },
      "execution_count": null,
      "outputs": [
        {
          "output_type": "stream",
          "name": "stdout",
          "text": [
            "{'age': 20, 'gender': 'f', 'edu': 'Bsc', 'name of school': 'unilag'}\n"
          ]
        }
      ]
    },
    {
      "cell_type": "code",
      "source": [
        "#lets reduce biodata's age\n",
        "biodata[\"age\"] -= 2\n",
        "print(biodata)"
      ],
      "metadata": {
        "colab": {
          "base_uri": "https://localhost:8080/"
        },
        "id": "WV0oWZK8I_2V",
        "outputId": "a607a891-ecc9-4e1b-987b-e7fa9fb03d3e"
      },
      "execution_count": null,
      "outputs": [
        {
          "output_type": "stream",
          "name": "stdout",
          "text": [
            "{'age': 18, 'gender': 'f', 'edu': 'Bsc', 'name of school': 'unilag'}\n"
          ]
        }
      ]
    },
    {
      "cell_type": "code",
      "source": [
        "#lets add five to her age\n",
        "biodata[\"age\"] += 5\n",
        "print(biodata)"
      ],
      "metadata": {
        "colab": {
          "base_uri": "https://localhost:8080/"
        },
        "id": "Y0aIsIIMI_x7",
        "outputId": "d14dc4a3-e34c-48ef-d44c-934402056e98"
      },
      "execution_count": null,
      "outputs": [
        {
          "output_type": "stream",
          "name": "stdout",
          "text": [
            "{'age': 23, 'gender': 'f', 'edu': 'Bsc', 'name of school': 'unilag'}\n"
          ]
        }
      ]
    },
    {
      "cell_type": "code",
      "source": [
        "#lets replace her age with with 30\n",
        "biodata[\"age\"] = 30\n",
        "print(biodata)"
      ],
      "metadata": {
        "colab": {
          "base_uri": "https://localhost:8080/"
        },
        "id": "FxOw7YYKI_uS",
        "outputId": "bce3d8a9-50dc-4ea3-cfd0-cdba16883229"
      },
      "execution_count": null,
      "outputs": [
        {
          "output_type": "stream",
          "name": "stdout",
          "text": [
            "{'age': 30, 'gender': 'f', 'edu': 'Bsc', 'name of school': 'unilag'}\n"
          ]
        }
      ]
    },
    {
      "cell_type": "code",
      "source": [
        "#lets remove her age\n",
        "del biodata[\"age\"]\n",
        "print(biodata)"
      ],
      "metadata": {
        "colab": {
          "base_uri": "https://localhost:8080/"
        },
        "id": "4988qbBMI_qe",
        "outputId": "04a0dbec-3fcb-4c51-c094-45b8a22c3af1"
      },
      "execution_count": null,
      "outputs": [
        {
          "output_type": "stream",
          "name": "stdout",
          "text": [
            "{'gender': 'f', 'edu': 'Bsc', 'name of school': 'unilag'}\n"
          ]
        }
      ]
    },
    {
      "cell_type": "code",
      "source": [
        "#lets check if her age is there\n",
        "\"age\" in biodata"
      ],
      "metadata": {
        "colab": {
          "base_uri": "https://localhost:8080/"
        },
        "id": "J5ZbA95zI_m7",
        "outputId": "bf9fd01c-6c0c-43ff-d828-5ae2ed1c65bb"
      },
      "execution_count": null,
      "outputs": [
        {
          "output_type": "execute_result",
          "data": {
            "text/plain": [
              "False"
            ]
          },
          "metadata": {},
          "execution_count": 112
        }
      ]
    },
    {
      "cell_type": "code",
      "source": [
        "#lets confirm if her age is still there\n",
        "if \"age\" in biodata:\n",
        "  print(\"age is still there\")\n",
        "else:\n",
        "  print(\"age is not there\")\n"
      ],
      "metadata": {
        "colab": {
          "base_uri": "https://localhost:8080/"
        },
        "id": "Jmj08ZMrI_is",
        "outputId": "948a13be-a2af-4056-af92-d767dfc36768"
      },
      "execution_count": null,
      "outputs": [
        {
          "output_type": "stream",
          "name": "stdout",
          "text": [
            "age is not there\n"
          ]
        }
      ]
    },
    {
      "cell_type": "code",
      "source": [
        "# combining two dictionaries\n",
        "biodata_hubby = {\"food\":\"rice\",\"origin\":\"lagos\",\"sport\":\"ball\"}"
      ],
      "metadata": {
        "id": "zT081OUyLuPi"
      },
      "execution_count": null,
      "outputs": []
    },
    {
      "cell_type": "code",
      "source": [
        "biodata.update(biodata_hubby)\n",
        "print(biodata)"
      ],
      "metadata": {
        "colab": {
          "base_uri": "https://localhost:8080/"
        },
        "id": "vk-A7tBvLuLC",
        "outputId": "43014e69-7478-49b5-b57e-787ef2b46ef9"
      },
      "execution_count": null,
      "outputs": [
        {
          "output_type": "stream",
          "name": "stdout",
          "text": [
            "{'gender': 'f', 'edu': 'Bsc', 'name of school': 'unilag', 'food': 'rice', 'origin': 'lagos', 'sport': 'ball'}\n"
          ]
        }
      ]
    },
    {
      "cell_type": "code",
      "source": [
        "# creating a set\n",
        "new_set = {6,7,8,9,10}\n",
        "print(new_set)"
      ],
      "metadata": {
        "colab": {
          "base_uri": "https://localhost:8080/"
        },
        "id": "2joSn03TLuG5",
        "outputId": "eabae37e-0492-44ae-edde-ec7326d41b45"
      },
      "execution_count": null,
      "outputs": [
        {
          "output_type": "stream",
          "name": "stdout",
          "text": [
            "{6, 7, 8, 9, 10}\n"
          ]
        }
      ]
    },
    {
      "cell_type": "code",
      "source": [
        "# checking set type\n",
        "type(new_set)"
      ],
      "metadata": {
        "colab": {
          "base_uri": "https://localhost:8080/"
        },
        "id": "JqZZ24TmLuBl",
        "outputId": "cfccb379-1d9e-401e-c15a-3c3fd2f8d88f"
      },
      "execution_count": null,
      "outputs": [
        {
          "output_type": "execute_result",
          "data": {
            "text/plain": [
              "set"
            ]
          },
          "metadata": {},
          "execution_count": 118
        }
      ]
    },
    {
      "cell_type": "code",
      "source": [
        "# create a set\n",
        "my_set1 = {1,2,3,4,5,6,7,7,7,7,8}\n",
        "print(my_set1)"
      ],
      "metadata": {
        "colab": {
          "base_uri": "https://localhost:8080/"
        },
        "id": "Rl7isae-I_eh",
        "outputId": "5acd9297-0e9d-4198-9e12-ac41bd2e1ffa"
      },
      "execution_count": null,
      "outputs": [
        {
          "output_type": "stream",
          "name": "stdout",
          "text": [
            "{1, 2, 3, 4, 5, 6, 7, 8}\n"
          ]
        }
      ]
    },
    {
      "cell_type": "code",
      "source": [
        "# checking set type\n",
        "type(my_set1)"
      ],
      "metadata": {
        "colab": {
          "base_uri": "https://localhost:8080/"
        },
        "id": "TijlUR76I_Wb",
        "outputId": "25c7cbe3-9333-45a6-f498-4746f14cdb88"
      },
      "execution_count": null,
      "outputs": [
        {
          "output_type": "execute_result",
          "data": {
            "text/plain": [
              "set"
            ]
          },
          "metadata": {},
          "execution_count": 121
        }
      ]
    },
    {
      "cell_type": "code",
      "source": [
        "# lets iterate through the set\n",
        "for item in new_set:\n",
        "  print(item)"
      ],
      "metadata": {
        "colab": {
          "base_uri": "https://localhost:8080/"
        },
        "id": "Jw6h_GlVTEz7",
        "outputId": "a043e60b-eec3-4d8b-934e-4e5a78dddf5e"
      },
      "execution_count": null,
      "outputs": [
        {
          "output_type": "stream",
          "name": "stdout",
          "text": [
            "6\n",
            "7\n",
            "8\n",
            "9\n",
            "10\n"
          ]
        }
      ]
    },
    {
      "cell_type": "code",
      "source": [
        "# add an element to the set\n",
        "new_set.add(11)\n",
        "print(new_set)"
      ],
      "metadata": {
        "colab": {
          "base_uri": "https://localhost:8080/"
        },
        "id": "vpThILX9TEvb",
        "outputId": "87a43d3a-35c7-42ce-c9f3-63c858734683"
      },
      "execution_count": null,
      "outputs": [
        {
          "output_type": "stream",
          "name": "stdout",
          "text": [
            "{6, 7, 8, 9, 10, 11}\n"
          ]
        }
      ]
    },
    {
      "cell_type": "code",
      "source": [
        "# lets remove the secondelement, which is 7\n",
        "new_set.discard(7)\n",
        "print(new_set)"
      ],
      "metadata": {
        "colab": {
          "base_uri": "https://localhost:8080/"
        },
        "id": "ig1346IJTErG",
        "outputId": "9603a741-89f7-408e-942b-7bacf5ef40ca"
      },
      "execution_count": null,
      "outputs": [
        {
          "output_type": "stream",
          "name": "stdout",
          "text": [
            "{6, 8, 9, 10, 11}\n"
          ]
        }
      ]
    },
    {
      "cell_type": "code",
      "source": [
        "#lets combine two sets\n",
        "set3 = {2,3,4,5}\n",
        "set4 = {1,2,6,7,8}\n",
        "combined_set = set3.union(set4)\n",
        "print(combined_set)"
      ],
      "metadata": {
        "colab": {
          "base_uri": "https://localhost:8080/"
        },
        "id": "0fmRV_FATEki",
        "outputId": "a4f9d61c-f5c7-4448-b544-914b8e063e17"
      },
      "execution_count": null,
      "outputs": [
        {
          "output_type": "stream",
          "name": "stdout",
          "text": [
            "{1, 2, 3, 4, 5, 6, 7, 8}\n"
          ]
        }
      ]
    },
    {
      "cell_type": "code",
      "source": [
        "#lets check for element that are the same in two set\n",
        "set3 = {2,3,4,5}\n",
        "set4 = {1,2,6,7,8}\n",
        "intersection_set = set3.intersection(set4)\n",
        "print(intersection_set)"
      ],
      "metadata": {
        "colab": {
          "base_uri": "https://localhost:8080/"
        },
        "id": "iO1lxIV3TEgK",
        "outputId": "bf2a3e2c-064e-4862-82b2-294692c01f20"
      },
      "execution_count": null,
      "outputs": [
        {
          "output_type": "stream",
          "name": "stdout",
          "text": [
            "{2}\n"
          ]
        }
      ]
    },
    {
      "cell_type": "code",
      "source": [
        "# lets iterate through the set\n",
        "for item in my_set1:\n",
        "  print(item)"
      ],
      "metadata": {
        "colab": {
          "base_uri": "https://localhost:8080/"
        },
        "id": "jeNEeufWTEca",
        "outputId": "e07965ba-696c-4972-be62-ee221d7bce71"
      },
      "execution_count": null,
      "outputs": [
        {
          "output_type": "stream",
          "name": "stdout",
          "text": [
            "1\n",
            "2\n",
            "3\n",
            "4\n",
            "5\n",
            "6\n",
            "7\n",
            "8\n"
          ]
        }
      ]
    },
    {
      "cell_type": "code",
      "source": [
        "#lets add an element to our set\n",
        "my_set1.add(9)\n",
        "print(my_set1)\n"
      ],
      "metadata": {
        "colab": {
          "base_uri": "https://localhost:8080/"
        },
        "id": "a2sNJY_2TEYa",
        "outputId": "dda5ea4d-da1d-4721-f1a2-a36ac1bae184"
      },
      "execution_count": null,
      "outputs": [
        {
          "output_type": "stream",
          "name": "stdout",
          "text": [
            "{1, 2, 3, 4, 5, 6, 7, 8, 9}\n"
          ]
        }
      ]
    },
    {
      "cell_type": "code",
      "source": [
        "# lets remove the third element which is 3\n",
        "my_set1.remove(3)\n",
        "print(my_set1)\n"
      ],
      "metadata": {
        "colab": {
          "base_uri": "https://localhost:8080/"
        },
        "id": "uYY1IcLHTET1",
        "outputId": "8e59df1e-65e7-46ce-baf6-104d09681401"
      },
      "execution_count": null,
      "outputs": [
        {
          "output_type": "stream",
          "name": "stdout",
          "text": [
            "{1, 2, 4, 5, 6, 7, 8, 9}\n"
          ]
        }
      ]
    },
    {
      "cell_type": "code",
      "source": [
        "#lets check the type\n",
        "type(my_set1)"
      ],
      "metadata": {
        "colab": {
          "base_uri": "https://localhost:8080/"
        },
        "id": "2bqN4KDETEQQ",
        "outputId": "c600dc96-49d1-4807-d158-a3972bfdc6d3"
      },
      "execution_count": null,
      "outputs": [
        {
          "output_type": "execute_result",
          "data": {
            "text/plain": [
              "set"
            ]
          },
          "metadata": {},
          "execution_count": 131
        }
      ]
    },
    {
      "cell_type": "code",
      "source": [
        "# creating an email splitter"
      ],
      "metadata": {
        "id": "rgYJXpQyVub7"
      },
      "execution_count": null,
      "outputs": []
    },
    {
      "cell_type": "code",
      "execution_count": null,
      "metadata": {
        "id": "VCNJxhSya8fd",
        "colab": {
          "base_uri": "https://localhost:8080/"
        },
        "outputId": "53248636-f7f9-43e4-a8c6-7a4cf84738ef"
      },
      "outputs": [
        {
          "name": "stdout",
          "output_type": "stream",
          "text": [
            "check for my mailoladejirashidat98@gmail.com\n"
          ]
        },
        {
          "output_type": "execute_result",
          "data": {
            "text/plain": [
              "['oladejirashidat98', 'gmail.com']"
            ]
          },
          "metadata": {},
          "execution_count": 5
        }
      ],
      "source": [
        "# my mail\n",
        "email = input('check for my mail')\n",
        "split = email.split('@')\n",
        "split\n"
      ]
    },
    {
      "cell_type": "code",
      "source": [
        "split[0]"
      ],
      "metadata": {
        "colab": {
          "base_uri": "https://localhost:8080/",
          "height": 35
        },
        "id": "QRyHBsdddMj1",
        "outputId": "18168900-31b8-404d-cc2d-331f4e8d3c7b"
      },
      "execution_count": null,
      "outputs": [
        {
          "output_type": "execute_result",
          "data": {
            "text/plain": [
              "'oladejirashidat98'"
            ],
            "application/vnd.google.colaboratory.intrinsic+json": {
              "type": "string"
            }
          },
          "metadata": {},
          "execution_count": 5
        }
      ]
    },
    {
      "cell_type": "code",
      "source": [
        "split[1]"
      ],
      "metadata": {
        "colab": {
          "base_uri": "https://localhost:8080/",
          "height": 36
        },
        "id": "Px9QW9EkeVkq",
        "outputId": "6789f94c-5cbd-4289-e5b1-285c2baab90f"
      },
      "execution_count": null,
      "outputs": [
        {
          "output_type": "execute_result",
          "data": {
            "text/plain": [
              "'gmail.com'"
            ],
            "application/vnd.google.colaboratory.intrinsic+json": {
              "type": "string"
            }
          },
          "metadata": {},
          "execution_count": 7
        }
      ]
    },
    {
      "cell_type": "code",
      "source": [
        "mail_dict = {\"username\":split[0], \"domain\":split[1]}"
      ],
      "metadata": {
        "id": "Wcvu0uFCuOC3"
      },
      "execution_count": null,
      "outputs": []
    },
    {
      "cell_type": "code",
      "source": [
        "print(\"username:\",mail_dict['username'])"
      ],
      "metadata": {
        "colab": {
          "base_uri": "https://localhost:8080/"
        },
        "id": "cgY6oksRzNHf",
        "outputId": "8636e8be-fd5a-441e-9a6e-7eb4b5f11a8f"
      },
      "execution_count": null,
      "outputs": [
        {
          "output_type": "stream",
          "name": "stdout",
          "text": [
            "username: oladejirashidat98\n"
          ]
        }
      ]
    },
    {
      "cell_type": "code",
      "source": [
        "print(\"domain:\",mail_dict['domain'])"
      ],
      "metadata": {
        "id": "gFmKFYuMlSb3",
        "colab": {
          "base_uri": "https://localhost:8080/"
        },
        "outputId": "f7c4377f-4bc9-4312-bf0f-67b49b5c2ae5"
      },
      "execution_count": null,
      "outputs": [
        {
          "output_type": "stream",
          "name": "stdout",
          "text": [
            "domain: gmail.com\n"
          ]
        }
      ]
    },
    {
      "cell_type": "code",
      "source": [
        "# creating fellowId splitter\n",
        "fellowId = input('put fellowId')\n",
        "split = fellowId.split('/')\n",
        "split"
      ],
      "metadata": {
        "id": "7bJxgN9v-9M_",
        "colab": {
          "base_uri": "https://localhost:8080/"
        },
        "outputId": "a70163f1-95c5-4f76-faac-144864b9e0fe"
      },
      "execution_count": null,
      "outputs": [
        {
          "name": "stdout",
          "output_type": "stream",
          "text": [
            "put fellowIdfe/23/96172745\n"
          ]
        },
        {
          "output_type": "execute_result",
          "data": {
            "text/plain": [
              "['fe', '23', '96172745']"
            ]
          },
          "metadata": {},
          "execution_count": 133
        }
      ]
    },
    {
      "cell_type": "code",
      "source": [
        "split[0]"
      ],
      "metadata": {
        "colab": {
          "base_uri": "https://localhost:8080/",
          "height": 36
        },
        "id": "hHQ8Qv1hXrDT",
        "outputId": "f86d2d16-ea14-4dda-eae1-14ce4c7d59fa"
      },
      "execution_count": null,
      "outputs": [
        {
          "output_type": "execute_result",
          "data": {
            "text/plain": [
              "'fe'"
            ],
            "application/vnd.google.colaboratory.intrinsic+json": {
              "type": "string"
            }
          },
          "metadata": {},
          "execution_count": 134
        }
      ]
    },
    {
      "cell_type": "code",
      "source": [
        "split[1]"
      ],
      "metadata": {
        "colab": {
          "base_uri": "https://localhost:8080/",
          "height": 36
        },
        "id": "tfv3ZWZVXq--",
        "outputId": "3b2e1f91-4354-4d13-976e-9c73a304c437"
      },
      "execution_count": null,
      "outputs": [
        {
          "output_type": "execute_result",
          "data": {
            "text/plain": [
              "'23'"
            ],
            "application/vnd.google.colaboratory.intrinsic+json": {
              "type": "string"
            }
          },
          "metadata": {},
          "execution_count": 135
        }
      ]
    },
    {
      "cell_type": "code",
      "source": [
        "split[2]"
      ],
      "metadata": {
        "colab": {
          "base_uri": "https://localhost:8080/",
          "height": 36
        },
        "id": "07ARXGP6Xq6p",
        "outputId": "ebc0866d-72f9-4e62-9e7f-9f8647453d0e"
      },
      "execution_count": null,
      "outputs": [
        {
          "output_type": "execute_result",
          "data": {
            "text/plain": [
              "'96172745'"
            ],
            "application/vnd.google.colaboratory.intrinsic+json": {
              "type": "string"
            }
          },
          "metadata": {},
          "execution_count": 136
        }
      ]
    },
    {
      "cell_type": "code",
      "source": [
        "Id_dict = {\"fellow\":split[0], \"year\":split[1], \"Id\":split[2]}"
      ],
      "metadata": {
        "id": "th4EzsoUXq2B"
      },
      "execution_count": null,
      "outputs": []
    },
    {
      "cell_type": "code",
      "source": [
        "print(\"fellow:\",Id_dict['fellow'])"
      ],
      "metadata": {
        "colab": {
          "base_uri": "https://localhost:8080/"
        },
        "id": "6G3mVxtjXqwh",
        "outputId": "7137b2c2-0543-4a33-8334-d727c080043c"
      },
      "execution_count": null,
      "outputs": [
        {
          "output_type": "stream",
          "name": "stdout",
          "text": [
            "fellow: fe\n"
          ]
        }
      ]
    },
    {
      "cell_type": "code",
      "source": [
        "print(\"year:\",Id_dict['year'])"
      ],
      "metadata": {
        "colab": {
          "base_uri": "https://localhost:8080/"
        },
        "id": "p1L1jGvtXqnX",
        "outputId": "be27ceff-db4b-437b-9fdb-a3f1a6bc1ada"
      },
      "execution_count": null,
      "outputs": [
        {
          "output_type": "stream",
          "name": "stdout",
          "text": [
            "year: 23\n"
          ]
        }
      ]
    },
    {
      "cell_type": "code",
      "source": [
        "print(\"Id:\",Id_dict['Id'])"
      ],
      "metadata": {
        "colab": {
          "base_uri": "https://localhost:8080/"
        },
        "id": "ggvXJqWzYRHs",
        "outputId": "52e5bcfc-52fe-4544-c7b0-f0f49de2507f"
      },
      "execution_count": null,
      "outputs": [
        {
          "output_type": "stream",
          "name": "stdout",
          "text": [
            "Id: 96172745\n"
          ]
        }
      ]
    },
    {
      "cell_type": "code",
      "source": [],
      "metadata": {
        "id": "DoJ5OOp4YRC_"
      },
      "execution_count": null,
      "outputs": []
    },
    {
      "cell_type": "code",
      "source": [
        "# creating sentence splitter\n",
        "word_sentence = input(\"put sentence:\")"
      ],
      "metadata": {
        "colab": {
          "base_uri": "https://localhost:8080/"
        },
        "id": "dVSGoJKfYQ-L",
        "outputId": "23f351e7-9083-4b33-f39a-3a24ec326a16"
      },
      "execution_count": null,
      "outputs": [
        {
          "name": "stdout",
          "output_type": "stream",
          "text": [
            "put sentence:Aasiyah is a girl\n"
          ]
        }
      ]
    },
    {
      "cell_type": "code",
      "source": [
        "# counting the alphabet in the input\n",
        "alphabet_count = len(word_sentence)\n",
        "print(f\"letter/alphabet count: {alphabet_count}\")"
      ],
      "metadata": {
        "colab": {
          "base_uri": "https://localhost:8080/"
        },
        "id": "yCBARt2_ZDfj",
        "outputId": "178252d6-cda5-41ce-f9c3-904329b68550"
      },
      "execution_count": null,
      "outputs": [
        {
          "output_type": "stream",
          "name": "stdout",
          "text": [
            "letter/alphabet count: 17\n"
          ]
        }
      ]
    },
    {
      "cell_type": "code",
      "source": [
        "# counting the sentence\n",
        "sentence_count  = word_sentence.count('.')\n",
        "print(f\"sentence count: {sentence_count}\")\n"
      ],
      "metadata": {
        "colab": {
          "base_uri": "https://localhost:8080/"
        },
        "id": "EEUiXJupZDbS",
        "outputId": "d73c8576-c265-4c32-ec6c-2c62ba54c356"
      },
      "execution_count": null,
      "outputs": [
        {
          "output_type": "stream",
          "name": "stdout",
          "text": [
            "sentence count: 0\n"
          ]
        }
      ]
    },
    {
      "cell_type": "code",
      "source": [
        "# counting the word in the sentence\n",
        "input_split = word_sentence.split()\n",
        "word_count = len(input_split)\n",
        "print(f\"word count: {word_count}\")"
      ],
      "metadata": {
        "colab": {
          "base_uri": "https://localhost:8080/"
        },
        "id": "jTukqRXvZDWd",
        "outputId": "8f10f68a-a6c4-4e2c-aff5-d1e7e35cd8ad"
      },
      "execution_count": null,
      "outputs": [
        {
          "output_type": "stream",
          "name": "stdout",
          "text": [
            "word count: 4\n"
          ]
        }
      ]
    },
    {
      "cell_type": "code",
      "source": [
        "# counting occurence of letter (a) in the input\n",
        "occurence_count = word_sentence.count('a')\n",
        "print(f\"letter (a) count: {occurence_count}\")\n"
      ],
      "metadata": {
        "colab": {
          "base_uri": "https://localhost:8080/"
        },
        "id": "EZgNUvYkZDR4",
        "outputId": "ba56b699-3a3d-471e-e5de-497b4a0070aa"
      },
      "execution_count": null,
      "outputs": [
        {
          "output_type": "stream",
          "name": "stdout",
          "text": [
            "letter (a) count: 3\n"
          ]
        }
      ]
    },
    {
      "cell_type": "code",
      "source": [],
      "metadata": {
        "id": "QEyQM4E1-4df"
      },
      "execution_count": null,
      "outputs": []
    },
    {
      "cell_type": "code",
      "source": [
        "# conditional statement\n",
        "if(conditional):\n"
      ],
      "metadata": {
        "id": "bXQ6C4zT3ghz"
      },
      "execution_count": null,
      "outputs": []
    },
    {
      "cell_type": "code",
      "source": [
        "# if statement using input function\n",
        "age = int(input(\"please, enter age:\"))\n",
        "\n",
        "if age <= 8:\n",
        "  print(\"i am a girl.\")\n"
      ],
      "metadata": {
        "colab": {
          "base_uri": "https://localhost:8080/"
        },
        "id": "FgM3CQFx3gbI",
        "outputId": "5959871c-2459-4f93-bf32-366630051c22"
      },
      "execution_count": null,
      "outputs": [
        {
          "output_type": "stream",
          "name": "stdout",
          "text": [
            "please, enter age:5\n",
            "i am a girl.\n"
          ]
        }
      ]
    },
    {
      "cell_type": "code",
      "source": [
        "# \"if else\" statement using input function\n",
        "age = int(input(\"enter age:\"))\n",
        "if age <= 8:\n",
        "  print(\"i am a girl\")\n",
        "else:\n",
        "  print(\"i am a baby\")"
      ],
      "metadata": {
        "colab": {
          "base_uri": "https://localhost:8080/"
        },
        "id": "q-0VXHn13gW4",
        "outputId": "40ac2cb0-394d-4444-877e-3953ae0025bf"
      },
      "execution_count": null,
      "outputs": [
        {
          "output_type": "stream",
          "name": "stdout",
          "text": [
            "enter age:10\n",
            "i am a baby\n"
          ]
        }
      ]
    },
    {
      "cell_type": "code",
      "source": [
        "# \"if elif else\" statement\n",
        "age = int(input(\"enter age:\"))\n",
        "\n",
        "if age<= 8:\n",
        "  print(\"i am a girl\")\n",
        "elif age <= 11:\n",
        "  print(\"iam a baby\")\n",
        "else:\n",
        "  print(\"i am a mum\")\n"
      ],
      "metadata": {
        "colab": {
          "base_uri": "https://localhost:8080/"
        },
        "id": "6F0BCtHd3gIY",
        "outputId": "a101a2e5-2928-4a8f-fa76-ebf8f7f87037"
      },
      "execution_count": null,
      "outputs": [
        {
          "output_type": "stream",
          "name": "stdout",
          "text": [
            "enter age:25\n",
            "i am a mum\n"
          ]
        }
      ]
    },
    {
      "cell_type": "code",
      "source": [
        "# more than one elif\n",
        "age = int(input(\"enter age:\"))\n",
        "\n",
        "if age <= 8:\n",
        "  print(\"i am a girl\")\n",
        "elif age <= 11:\n",
        "  print(\"i am a baby\")\n",
        "elif age <= 20:\n",
        "  print(\"i am a young mum\")\n",
        "else:\n",
        "  print(\"i am a mum\")\n"
      ],
      "metadata": {
        "colab": {
          "base_uri": "https://localhost:8080/"
        },
        "id": "LjYv8bWm8jpP",
        "outputId": "d048bc5f-57ec-44e1-dc56-c9f72e9546e7"
      },
      "execution_count": null,
      "outputs": [
        {
          "output_type": "stream",
          "name": "stdout",
          "text": [
            "enter age:26\n",
            "i am a mum\n"
          ]
        }
      ]
    },
    {
      "cell_type": "code",
      "source": [
        "# \"multiple elif\" statement\n",
        "age = int(input(\"enter age:\"))\n",
        "\n",
        "if age <= 8:\n",
        "  print(\"i am a girl\")\n",
        "elif age <= 11:\n",
        "  print(\"i am a baby\")\n",
        "elif age <= 20:\n",
        "  print(\"i am a young mum\")\n",
        "elif age <= 25:\n",
        "  print(\"i am a mum\")\n",
        "else:\n",
        "  print(\"i am grandma\")"
      ],
      "metadata": {
        "colab": {
          "base_uri": "https://localhost:8080/"
        },
        "id": "Z8TUDQ7r-CFc",
        "outputId": "de4ea546-197f-4db9-d999-ce73e544ec26"
      },
      "execution_count": null,
      "outputs": [
        {
          "output_type": "stream",
          "name": "stdout",
          "text": [
            "enter age:50\n",
            "i am grandma\n"
          ]
        }
      ]
    },
    {
      "cell_type": "code",
      "source": [
        "# mini project\n",
        "score = int(input(\"enter score:\"))\n",
        "\n",
        "if score >= 80:\n",
        "  print(\"A\")\n",
        "elif score >= 70:\n",
        "  print(\"B\")\n",
        "elif score >= 50:\n",
        "  print(\"C\")\n",
        "elif score >= 45:\n",
        "  print(\"D\")\n",
        "else:\n",
        "  print(\"F\")\n",
        "\n",
        "\n",
        "\n",
        "\n",
        "\n",
        "\n",
        "\n"
      ],
      "metadata": {
        "colab": {
          "base_uri": "https://localhost:8080/"
        },
        "id": "0sgSrwx--CBs",
        "outputId": "566e8c1f-aeb5-4608-93c8-d825719481b9"
      },
      "execution_count": null,
      "outputs": [
        {
          "output_type": "stream",
          "name": "stdout",
          "text": [
            "enter score:40\n",
            "F\n"
          ]
        }
      ]
    },
    {
      "cell_type": "code",
      "source": [
        "# nested if\n",
        "# lets check if input is a positive number and even number\n",
        "num = int(input(\"enter a number:\"))\n",
        "\n",
        "if num >= 2:\n",
        "  print(\"the number is positive.\")\n",
        "  if num % 4 == 2:\n",
        "    print(\"the number is even\")\n"
      ],
      "metadata": {
        "colab": {
          "base_uri": "https://localhost:8080/"
        },
        "id": "dkVg4MT--B88",
        "outputId": "951278af-6170-4a7a-c889-93d5c4ef0c0a"
      },
      "execution_count": null,
      "outputs": [
        {
          "output_type": "stream",
          "name": "stdout",
          "text": [
            "enter a number:26\n",
            "the number is positive.\n",
            "the number is even\n"
          ]
        }
      ]
    },
    {
      "cell_type": "code",
      "source": [
        "# nested if else\n",
        "# who can join millitary\n",
        "\n",
        "age = int(input(\"enter age:\"))\n",
        "\n",
        "height = int(input(\"enter height in centimeters:\"))\n",
        "\n",
        "if age >= 20:\n",
        "  if height >= 180:\n",
        "    print(\"you are eligible to join army\")\n",
        "  else:\n",
        "    print(\"you are not tall to join\")\n",
        "else:\n",
        "  print(\"you are young to join\")"
      ],
      "metadata": {
        "colab": {
          "base_uri": "https://localhost:8080/"
        },
        "id": "yKCpYpcBFKf6",
        "outputId": "35e7c582-8323-48e3-a39f-cc114fa5da6b"
      },
      "execution_count": null,
      "outputs": [
        {
          "output_type": "stream",
          "name": "stdout",
          "text": [
            "enter age:22\n",
            "enter height in centimeters:175\n",
            "you are not tall to join\n"
          ]
        }
      ]
    },
    {
      "cell_type": "code",
      "source": [
        "# for loop\n",
        "list_colors = [\"green\", \"orange\", \"black\", \"red\",\"blue\",\"grey\"]\n",
        "print(list_colors)\n",
        "for green in list_colors:\n",
        "  print(green)\n"
      ],
      "metadata": {
        "id": "zIz4irQuFKVa",
        "colab": {
          "base_uri": "https://localhost:8080/"
        },
        "outputId": "f8414329-b80c-44d9-cb5d-72b6c2117ef5"
      },
      "execution_count": null,
      "outputs": [
        {
          "output_type": "stream",
          "name": "stdout",
          "text": [
            "['green', 'orange', 'black', 'red', 'blue', 'grey']\n",
            "green\n",
            "orange\n",
            "black\n",
            "red\n",
            "blue\n",
            "grey\n"
          ]
        }
      ]
    },
    {
      "cell_type": "code",
      "source": [
        "for number in range(1,6):\n",
        "  print(number)"
      ],
      "metadata": {
        "colab": {
          "base_uri": "https://localhost:8080/"
        },
        "id": "jT787VVdaMLE",
        "outputId": "7f0b8a77-6b32-4289-a8a3-e5e1228bf0b1"
      },
      "execution_count": null,
      "outputs": [
        {
          "output_type": "stream",
          "name": "stdout",
          "text": [
            "1\n",
            "2\n",
            "3\n",
            "4\n",
            "5\n"
          ]
        }
      ]
    },
    {
      "cell_type": "code",
      "source": [
        "for number in range(6):\n",
        "  print(number)"
      ],
      "metadata": {
        "colab": {
          "base_uri": "https://localhost:8080/"
        },
        "id": "6odE4GnbaMFx",
        "outputId": "285c82f8-a49f-4dae-91bd-52f5bcd6faa8"
      },
      "execution_count": null,
      "outputs": [
        {
          "output_type": "stream",
          "name": "stdout",
          "text": [
            "0\n",
            "1\n",
            "2\n",
            "3\n",
            "4\n",
            "5\n"
          ]
        }
      ]
    },
    {
      "cell_type": "code",
      "source": [
        "snacks = [\"doughnut\", \"meatpie\", \"buns\"]\n",
        "for index, snack in enumerate(snacks):\n",
        "  print(f\"at position {index}, i bought a {snack}\")"
      ],
      "metadata": {
        "colab": {
          "base_uri": "https://localhost:8080/"
        },
        "id": "gjTMLGnDaW37",
        "outputId": "41792832-3f42-43f3-c34d-8bc8dc9e7c7b"
      },
      "execution_count": null,
      "outputs": [
        {
          "output_type": "stream",
          "name": "stdout",
          "text": [
            "at position 0, i bought a doughnut\n",
            "at position 1, i bought a meatpie\n",
            "at position 2, i bought a buns\n"
          ]
        }
      ]
    },
    {
      "cell_type": "code",
      "source": [
        "# Defining functions\n",
        "def greet(rashy):\n",
        "  print(f\"hello, {rashy}\")"
      ],
      "metadata": {
        "id": "3J3sLDGCbX9A"
      },
      "execution_count": null,
      "outputs": []
    },
    {
      "cell_type": "code",
      "source": [
        "def greet(rashy):\n",
        "  print(f\"hello, {rashy}, this is my name\")"
      ],
      "metadata": {
        "id": "O3pMrtlvbX4d"
      },
      "execution_count": null,
      "outputs": []
    },
    {
      "cell_type": "code",
      "source": [
        "greet(\"rashy\")"
      ],
      "metadata": {
        "colab": {
          "base_uri": "https://localhost:8080/"
        },
        "id": "ToH6ej3CbX0a",
        "outputId": "43b67bb7-6ba5-437c-e4e0-f4f8883c9855"
      },
      "execution_count": null,
      "outputs": [
        {
          "output_type": "stream",
          "name": "stdout",
          "text": [
            "hello, rashy, this is my name\n"
          ]
        }
      ]
    },
    {
      "cell_type": "code",
      "source": [
        "# function without parameters\n",
        "def greet():\n",
        "  print(\"hi, people\")"
      ],
      "metadata": {
        "id": "K3EdjLjgbXwL"
      },
      "execution_count": null,
      "outputs": []
    },
    {
      "cell_type": "code",
      "source": [
        "greet()"
      ],
      "metadata": {
        "colab": {
          "base_uri": "https://localhost:8080/"
        },
        "id": "H7Hd6x_FbXri",
        "outputId": "f004d612-e8b2-4f62-9796-f71d5464815b"
      },
      "execution_count": null,
      "outputs": [
        {
          "output_type": "stream",
          "name": "stdout",
          "text": [
            "hi, people\n"
          ]
        }
      ]
    },
    {
      "cell_type": "code",
      "source": [
        "def greet_us():\n",
        "  print(\"hi people, this is data science class and i am new here\")"
      ],
      "metadata": {
        "id": "x4s4_wU1wYvs"
      },
      "execution_count": null,
      "outputs": []
    },
    {
      "cell_type": "code",
      "source": [
        "greet_us()"
      ],
      "metadata": {
        "id": "kZke0hj-wYnz"
      },
      "execution_count": null,
      "outputs": []
    },
    {
      "cell_type": "code",
      "source": [
        "# funtion with multiple parameters"
      ],
      "metadata": {
        "id": "F-rScVPZwYjQ"
      },
      "execution_count": null,
      "outputs": []
    },
    {
      "cell_type": "code",
      "source": [
        "def add_numbers(a, b):\n",
        "  print(a + b)"
      ],
      "metadata": {
        "id": "16W68dVRwYe2"
      },
      "execution_count": null,
      "outputs": []
    },
    {
      "cell_type": "code",
      "source": [
        "def rayyan_and_abdurrahman_and_aasiyah(rayyan_age, abdurrahman_age, aasiyah_age):\n",
        "  print(rayyan_age + abdurrahman_age + aasiyah_age)\n"
      ],
      "metadata": {
        "id": "beZNzwDewYZZ"
      },
      "execution_count": null,
      "outputs": []
    },
    {
      "cell_type": "code",
      "source": [
        "rayyan_and_abdurrahman_and_aasiyah(8, 6, 4)"
      ],
      "metadata": {
        "colab": {
          "base_uri": "https://localhost:8080/"
        },
        "id": "u2iem4jVw2SP",
        "outputId": "fdd94125-91ed-4652-f885-b0eaa180a449"
      },
      "execution_count": null,
      "outputs": [
        {
          "output_type": "stream",
          "name": "stdout",
          "text": [
            "18\n"
          ]
        }
      ]
    },
    {
      "cell_type": "code",
      "source": [
        "# calling the function\n",
        "add_numbers(50, 7)"
      ],
      "metadata": {
        "colab": {
          "base_uri": "https://localhost:8080/"
        },
        "id": "ZwcHIBxFw2My",
        "outputId": "5554530d-8b55-4f1e-bb59-aaebd51c9dcf"
      },
      "execution_count": null,
      "outputs": [
        {
          "output_type": "stream",
          "name": "stdout",
          "text": [
            "57\n"
          ]
        }
      ]
    },
    {
      "cell_type": "code",
      "source": [
        "result = add_numbers(50,7)"
      ],
      "metadata": {
        "colab": {
          "base_uri": "https://localhost:8080/"
        },
        "id": "Rxl2RY_Rw2HI",
        "outputId": "cb3ed537-b441-4a60-aa79-0443b7fc557e"
      },
      "execution_count": null,
      "outputs": [
        {
          "output_type": "stream",
          "name": "stdout",
          "text": [
            "57\n"
          ]
        }
      ]
    },
    {
      "cell_type": "code",
      "source": [
        "result = add_numbers(50, 7)\n",
        "print(result)"
      ],
      "metadata": {
        "colab": {
          "base_uri": "https://localhost:8080/"
        },
        "id": "WjLtANEPw1zr",
        "outputId": "9a60effc-123e-48e6-a4ee-9bd15c53f684"
      },
      "execution_count": null,
      "outputs": [
        {
          "output_type": "stream",
          "name": "stdout",
          "text": [
            "57\n",
            "None\n"
          ]
        }
      ]
    },
    {
      "cell_type": "code",
      "source": [
        "def subtract_numbers(a, b):\n",
        "  print(a-b)"
      ],
      "metadata": {
        "id": "_99AsBXfxJlw"
      },
      "execution_count": null,
      "outputs": []
    },
    {
      "cell_type": "code",
      "source": [
        "subtract_numbers(60, 12)"
      ],
      "metadata": {
        "colab": {
          "base_uri": "https://localhost:8080/"
        },
        "id": "ZbKp7pQWxJgk",
        "outputId": "ac84b880-9909-4c6c-88c1-7cbc99894de5"
      },
      "execution_count": null,
      "outputs": [
        {
          "output_type": "stream",
          "name": "stdout",
          "text": [
            "48\n"
          ]
        }
      ]
    },
    {
      "cell_type": "code",
      "source": [
        "subtract_numbers(5, 14)"
      ],
      "metadata": {
        "colab": {
          "base_uri": "https://localhost:8080/"
        },
        "id": "b3j1yaOCxJcD",
        "outputId": "2258f617-ebcf-4a19-f76e-05735273f10a"
      },
      "execution_count": null,
      "outputs": [
        {
          "output_type": "stream",
          "name": "stdout",
          "text": [
            "-9\n"
          ]
        }
      ]
    },
    {
      "cell_type": "code",
      "source": [
        "def add_numbers(a, b):\n",
        "  return a + b"
      ],
      "metadata": {
        "id": "uhMayr_oxXAg"
      },
      "execution_count": null,
      "outputs": []
    },
    {
      "cell_type": "code",
      "source": [
        "add_numbers(8, 7)"
      ],
      "metadata": {
        "colab": {
          "base_uri": "https://localhost:8080/"
        },
        "id": "gFx5uZKZxW69",
        "outputId": "1542f178-a0f9-4e6a-f11e-ff2d7b0900e3"
      },
      "execution_count": null,
      "outputs": [
        {
          "output_type": "execute_result",
          "data": {
            "text/plain": [
              "15"
            ]
          },
          "metadata": {},
          "execution_count": 173
        }
      ]
    },
    {
      "cell_type": "code",
      "source": [
        "def square_number(b):\n",
        "  return b ** b"
      ],
      "metadata": {
        "id": "IBRAZ2YJxW0-"
      },
      "execution_count": null,
      "outputs": []
    },
    {
      "cell_type": "code",
      "source": [
        "result = square_number(5)\n",
        "print(result)"
      ],
      "metadata": {
        "colab": {
          "base_uri": "https://localhost:8080/"
        },
        "id": "NVj7tLxXxJWa",
        "outputId": "0f466055-649d-49e7-daf7-1c04f5bd524a"
      },
      "execution_count": null,
      "outputs": [
        {
          "output_type": "stream",
          "name": "stdout",
          "text": [
            "3125\n"
          ]
        }
      ]
    },
    {
      "cell_type": "code",
      "source": [
        "def square_number(b):\n",
        "  return b*b"
      ],
      "metadata": {
        "id": "NBI-hftJw1t4"
      },
      "execution_count": null,
      "outputs": []
    },
    {
      "cell_type": "code",
      "source": [
        "result = square_number(6)\n",
        "print(result)"
      ],
      "metadata": {
        "colab": {
          "base_uri": "https://localhost:8080/"
        },
        "id": "cZOuvnXvw1pk",
        "outputId": "a774fa76-b577-499d-a70e-8461c3da1756"
      },
      "execution_count": null,
      "outputs": [
        {
          "output_type": "stream",
          "name": "stdout",
          "text": [
            "36\n"
          ]
        }
      ]
    },
    {
      "cell_type": "code",
      "source": [
        "def greet(name=\"stranger\"):\n",
        "  return(f\"hello,{name}\")"
      ],
      "metadata": {
        "id": "ho_dxnwGw1ju"
      },
      "execution_count": null,
      "outputs": []
    },
    {
      "cell_type": "code",
      "source": [
        "greet()"
      ],
      "metadata": {
        "colab": {
          "base_uri": "https://localhost:8080/",
          "height": 36
        },
        "id": "Npqj0zFdx1BC",
        "outputId": "87c0438e-4de5-43af-ec42-3bbc1a0c76b6"
      },
      "execution_count": null,
      "outputs": [
        {
          "output_type": "execute_result",
          "data": {
            "text/plain": [
              "'hello,stranger'"
            ],
            "application/vnd.google.colaboratory.intrinsic+json": {
              "type": "string"
            }
          },
          "metadata": {},
          "execution_count": 179
        }
      ]
    },
    {
      "cell_type": "code",
      "source": [
        "greet(\"rashy\")"
      ],
      "metadata": {
        "colab": {
          "base_uri": "https://localhost:8080/",
          "height": 36
        },
        "id": "q6M7wGkZx07m",
        "outputId": "a284f02b-cb51-4b3d-adaa-89ef844e6bd4"
      },
      "execution_count": null,
      "outputs": [
        {
          "output_type": "execute_result",
          "data": {
            "text/plain": [
              "'hello,rashy'"
            ],
            "application/vnd.google.colaboratory.intrinsic+json": {
              "type": "string"
            }
          },
          "metadata": {},
          "execution_count": 180
        }
      ]
    },
    {
      "cell_type": "code",
      "source": [
        "def introduction(name, age, city, school,origin):\n",
        "  print(f\"my name is {name}, i am {age} years old, i live at {city}, the name of my school is {school},i am from {origin}\")"
      ],
      "metadata": {
        "id": "evfngTwhx01i"
      },
      "execution_count": null,
      "outputs": []
    },
    {
      "cell_type": "code",
      "source": [
        "introduction(name=\"ola\",age=20, city=\"ebute\", school=\"unilag\", origin=\"oyo\")"
      ],
      "metadata": {
        "colab": {
          "base_uri": "https://localhost:8080/"
        },
        "id": "F2UZLRDYx0wG",
        "outputId": "037bd8f4-8776-4fff-92ee-83d30d259120"
      },
      "execution_count": null,
      "outputs": [
        {
          "output_type": "stream",
          "name": "stdout",
          "text": [
            "my name is ola, i am 20 years old, i live at ebute, the name of my school is unilag,i am from oyo\n"
          ]
        }
      ]
    },
    {
      "cell_type": "code",
      "source": [
        "# lambda function to add two numbers\n",
        "add = lambda a,b: a+b"
      ],
      "metadata": {
        "id": "mId5wjXqx0qy"
      },
      "execution_count": null,
      "outputs": []
    },
    {
      "cell_type": "code",
      "source": [
        "print(add(6, 9))"
      ],
      "metadata": {
        "colab": {
          "base_uri": "https://localhost:8080/"
        },
        "id": "X_T3kbFzx0ls",
        "outputId": "5bba5e5a-44d5-4ef6-a70e-d8c5029fbaef"
      },
      "execution_count": null,
      "outputs": [
        {
          "output_type": "stream",
          "name": "stdout",
          "text": [
            "15\n"
          ]
        }
      ]
    },
    {
      "cell_type": "code",
      "source": [
        "print(add(50, 20))"
      ],
      "metadata": {
        "colab": {
          "base_uri": "https://localhost:8080/"
        },
        "id": "HtIFSISrx0ge",
        "outputId": "08878065-07ca-4fae-bf49-0823f3758139"
      },
      "execution_count": null,
      "outputs": [
        {
          "output_type": "stream",
          "name": "stdout",
          "text": [
            "70\n"
          ]
        }
      ]
    },
    {
      "cell_type": "code",
      "source": [
        "def my_function():\n",
        "  n = 15\n",
        "  return n"
      ],
      "metadata": {
        "id": "CFjm3haix0bn"
      },
      "execution_count": null,
      "outputs": []
    },
    {
      "cell_type": "code",
      "source": [
        "def my_function(n):\n",
        "  print()"
      ],
      "metadata": {
        "id": "T56Evphcx0WL"
      },
      "execution_count": null,
      "outputs": []
    },
    {
      "cell_type": "code",
      "source": [
        "# global variables\n",
        "x =10"
      ],
      "metadata": {
        "id": "DUuTkuh_x0QD"
      },
      "execution_count": null,
      "outputs": []
    },
    {
      "cell_type": "code",
      "source": [
        "def print_number():\n",
        "  print(x)"
      ],
      "metadata": {
        "id": "VCU1wUBix0LI"
      },
      "execution_count": null,
      "outputs": []
    },
    {
      "cell_type": "code",
      "source": [],
      "metadata": {
        "id": "7075Jd7vx0Et"
      },
      "execution_count": null,
      "outputs": []
    },
    {
      "cell_type": "code",
      "source": [
        "# introduction to data analysis"
      ],
      "metadata": {
        "id": "wmrBX6FubXmg"
      },
      "execution_count": null,
      "outputs": []
    },
    {
      "cell_type": "code",
      "source": [
        "import pandas as pd"
      ],
      "metadata": {
        "id": "e7JVii7n-zAo"
      },
      "execution_count": null,
      "outputs": []
    },
    {
      "cell_type": "code",
      "source": [
        "seyi_dictionary = {\"name\":\"seyi\", \"school\":\"3mtt\", \"track\": \"data science\"}\n",
        "data = pd.Series(seyi_dictionary)"
      ],
      "metadata": {
        "id": "GRhnFv8x-zDO"
      },
      "execution_count": null,
      "outputs": []
    },
    {
      "cell_type": "code",
      "source": [
        "data"
      ],
      "metadata": {
        "colab": {
          "base_uri": "https://localhost:8080/",
          "height": 178
        },
        "id": "LxviNO0zgKEe",
        "outputId": "68a21ddf-8e55-4e4c-f517-14e1c637e434"
      },
      "execution_count": null,
      "outputs": [
        {
          "output_type": "execute_result",
          "data": {
            "text/plain": [
              "name              seyi\n",
              "school            3mtt\n",
              "track     data science\n",
              "dtype: object"
            ],
            "text/html": [
              "<div>\n",
              "<style scoped>\n",
              "    .dataframe tbody tr th:only-of-type {\n",
              "        vertical-align: middle;\n",
              "    }\n",
              "\n",
              "    .dataframe tbody tr th {\n",
              "        vertical-align: top;\n",
              "    }\n",
              "\n",
              "    .dataframe thead th {\n",
              "        text-align: right;\n",
              "    }\n",
              "</style>\n",
              "<table border=\"1\" class=\"dataframe\">\n",
              "  <thead>\n",
              "    <tr style=\"text-align: right;\">\n",
              "      <th></th>\n",
              "      <th>0</th>\n",
              "    </tr>\n",
              "  </thead>\n",
              "  <tbody>\n",
              "    <tr>\n",
              "      <th>name</th>\n",
              "      <td>seyi</td>\n",
              "    </tr>\n",
              "    <tr>\n",
              "      <th>school</th>\n",
              "      <td>3mtt</td>\n",
              "    </tr>\n",
              "    <tr>\n",
              "      <th>track</th>\n",
              "      <td>data science</td>\n",
              "    </tr>\n",
              "  </tbody>\n",
              "</table>\n",
              "</div><br><label><b>dtype:</b> object</label>"
            ]
          },
          "metadata": {},
          "execution_count": 4
        }
      ]
    },
    {
      "cell_type": "code",
      "source": [
        "data.values"
      ],
      "metadata": {
        "colab": {
          "base_uri": "https://localhost:8080/"
        },
        "id": "iytAtUfPgYA3",
        "outputId": "71d927f5-6bcb-4e2a-dbe5-88febc37285b"
      },
      "execution_count": null,
      "outputs": [
        {
          "output_type": "execute_result",
          "data": {
            "text/plain": [
              "array(['seyi', '3mtt', 'data science'], dtype=object)"
            ]
          },
          "metadata": {},
          "execution_count": 9
        }
      ]
    },
    {
      "cell_type": "code",
      "source": [
        "data_science_cohort2 = [{\"name\":\"tobi\",\"age\":21},\n",
        "                        {\"name\":\"joy\", \"age\":25},\n",
        "                         {\"name\":\"toheebat\", \"age\":25},\n",
        "                          {\"name\":\"rashidat\", \"age\":36},\n",
        "                         {\"name\":\"emmanuel\", \"age\":29}]\n",
        "data = pd.DataFrame(data_science_cohort2)"
      ],
      "metadata": {
        "id": "Oy4fG0_W-y8t"
      },
      "execution_count": null,
      "outputs": []
    },
    {
      "cell_type": "code",
      "source": [
        "data"
      ],
      "metadata": {
        "colab": {
          "base_uri": "https://localhost:8080/",
          "height": 206
        },
        "id": "pi8nCrYn-ywp",
        "outputId": "b4579ccc-f972-4161-a13b-8c132ec33639"
      },
      "execution_count": null,
      "outputs": [
        {
          "output_type": "execute_result",
          "data": {
            "text/plain": [
              "       name  age\n",
              "0      tobi   21\n",
              "1       joy   25\n",
              "2  toheebat   25\n",
              "3  rashidat   36\n",
              "4  emmanuel   29"
            ],
            "text/html": [
              "\n",
              "  <div id=\"df-773bb88f-ea2e-4dae-82f0-402276e4ed26\" class=\"colab-df-container\">\n",
              "    <div>\n",
              "<style scoped>\n",
              "    .dataframe tbody tr th:only-of-type {\n",
              "        vertical-align: middle;\n",
              "    }\n",
              "\n",
              "    .dataframe tbody tr th {\n",
              "        vertical-align: top;\n",
              "    }\n",
              "\n",
              "    .dataframe thead th {\n",
              "        text-align: right;\n",
              "    }\n",
              "</style>\n",
              "<table border=\"1\" class=\"dataframe\">\n",
              "  <thead>\n",
              "    <tr style=\"text-align: right;\">\n",
              "      <th></th>\n",
              "      <th>name</th>\n",
              "      <th>age</th>\n",
              "    </tr>\n",
              "  </thead>\n",
              "  <tbody>\n",
              "    <tr>\n",
              "      <th>0</th>\n",
              "      <td>tobi</td>\n",
              "      <td>21</td>\n",
              "    </tr>\n",
              "    <tr>\n",
              "      <th>1</th>\n",
              "      <td>joy</td>\n",
              "      <td>25</td>\n",
              "    </tr>\n",
              "    <tr>\n",
              "      <th>2</th>\n",
              "      <td>toheebat</td>\n",
              "      <td>25</td>\n",
              "    </tr>\n",
              "    <tr>\n",
              "      <th>3</th>\n",
              "      <td>rashidat</td>\n",
              "      <td>36</td>\n",
              "    </tr>\n",
              "    <tr>\n",
              "      <th>4</th>\n",
              "      <td>emmanuel</td>\n",
              "      <td>29</td>\n",
              "    </tr>\n",
              "  </tbody>\n",
              "</table>\n",
              "</div>\n",
              "    <div class=\"colab-df-buttons\">\n",
              "\n",
              "  <div class=\"colab-df-container\">\n",
              "    <button class=\"colab-df-convert\" onclick=\"convertToInteractive('df-773bb88f-ea2e-4dae-82f0-402276e4ed26')\"\n",
              "            title=\"Convert this dataframe to an interactive table.\"\n",
              "            style=\"display:none;\">\n",
              "\n",
              "  <svg xmlns=\"http://www.w3.org/2000/svg\" height=\"24px\" viewBox=\"0 -960 960 960\">\n",
              "    <path d=\"M120-120v-720h720v720H120Zm60-500h600v-160H180v160Zm220 220h160v-160H400v160Zm0 220h160v-160H400v160ZM180-400h160v-160H180v160Zm440 0h160v-160H620v160ZM180-180h160v-160H180v160Zm440 0h160v-160H620v160Z\"/>\n",
              "  </svg>\n",
              "    </button>\n",
              "\n",
              "  <style>\n",
              "    .colab-df-container {\n",
              "      display:flex;\n",
              "      gap: 12px;\n",
              "    }\n",
              "\n",
              "    .colab-df-convert {\n",
              "      background-color: #E8F0FE;\n",
              "      border: none;\n",
              "      border-radius: 50%;\n",
              "      cursor: pointer;\n",
              "      display: none;\n",
              "      fill: #1967D2;\n",
              "      height: 32px;\n",
              "      padding: 0 0 0 0;\n",
              "      width: 32px;\n",
              "    }\n",
              "\n",
              "    .colab-df-convert:hover {\n",
              "      background-color: #E2EBFA;\n",
              "      box-shadow: 0px 1px 2px rgba(60, 64, 67, 0.3), 0px 1px 3px 1px rgba(60, 64, 67, 0.15);\n",
              "      fill: #174EA6;\n",
              "    }\n",
              "\n",
              "    .colab-df-buttons div {\n",
              "      margin-bottom: 4px;\n",
              "    }\n",
              "\n",
              "    [theme=dark] .colab-df-convert {\n",
              "      background-color: #3B4455;\n",
              "      fill: #D2E3FC;\n",
              "    }\n",
              "\n",
              "    [theme=dark] .colab-df-convert:hover {\n",
              "      background-color: #434B5C;\n",
              "      box-shadow: 0px 1px 3px 1px rgba(0, 0, 0, 0.15);\n",
              "      filter: drop-shadow(0px 1px 2px rgba(0, 0, 0, 0.3));\n",
              "      fill: #FFFFFF;\n",
              "    }\n",
              "  </style>\n",
              "\n",
              "    <script>\n",
              "      const buttonEl =\n",
              "        document.querySelector('#df-773bb88f-ea2e-4dae-82f0-402276e4ed26 button.colab-df-convert');\n",
              "      buttonEl.style.display =\n",
              "        google.colab.kernel.accessAllowed ? 'block' : 'none';\n",
              "\n",
              "      async function convertToInteractive(key) {\n",
              "        const element = document.querySelector('#df-773bb88f-ea2e-4dae-82f0-402276e4ed26');\n",
              "        const dataTable =\n",
              "          await google.colab.kernel.invokeFunction('convertToInteractive',\n",
              "                                                    [key], {});\n",
              "        if (!dataTable) return;\n",
              "\n",
              "        const docLinkHtml = 'Like what you see? Visit the ' +\n",
              "          '<a target=\"_blank\" href=https://colab.research.google.com/notebooks/data_table.ipynb>data table notebook</a>'\n",
              "          + ' to learn more about interactive tables.';\n",
              "        element.innerHTML = '';\n",
              "        dataTable['output_type'] = 'display_data';\n",
              "        await google.colab.output.renderOutput(dataTable, element);\n",
              "        const docLink = document.createElement('div');\n",
              "        docLink.innerHTML = docLinkHtml;\n",
              "        element.appendChild(docLink);\n",
              "      }\n",
              "    </script>\n",
              "  </div>\n",
              "\n",
              "\n",
              "<div id=\"df-db5b6119-781c-4e78-bc6b-619d50074a8c\">\n",
              "  <button class=\"colab-df-quickchart\" onclick=\"quickchart('df-db5b6119-781c-4e78-bc6b-619d50074a8c')\"\n",
              "            title=\"Suggest charts\"\n",
              "            style=\"display:none;\">\n",
              "\n",
              "<svg xmlns=\"http://www.w3.org/2000/svg\" height=\"24px\"viewBox=\"0 0 24 24\"\n",
              "     width=\"24px\">\n",
              "    <g>\n",
              "        <path d=\"M19 3H5c-1.1 0-2 .9-2 2v14c0 1.1.9 2 2 2h14c1.1 0 2-.9 2-2V5c0-1.1-.9-2-2-2zM9 17H7v-7h2v7zm4 0h-2V7h2v10zm4 0h-2v-4h2v4z\"/>\n",
              "    </g>\n",
              "</svg>\n",
              "  </button>\n",
              "\n",
              "<style>\n",
              "  .colab-df-quickchart {\n",
              "      --bg-color: #E8F0FE;\n",
              "      --fill-color: #1967D2;\n",
              "      --hover-bg-color: #E2EBFA;\n",
              "      --hover-fill-color: #174EA6;\n",
              "      --disabled-fill-color: #AAA;\n",
              "      --disabled-bg-color: #DDD;\n",
              "  }\n",
              "\n",
              "  [theme=dark] .colab-df-quickchart {\n",
              "      --bg-color: #3B4455;\n",
              "      --fill-color: #D2E3FC;\n",
              "      --hover-bg-color: #434B5C;\n",
              "      --hover-fill-color: #FFFFFF;\n",
              "      --disabled-bg-color: #3B4455;\n",
              "      --disabled-fill-color: #666;\n",
              "  }\n",
              "\n",
              "  .colab-df-quickchart {\n",
              "    background-color: var(--bg-color);\n",
              "    border: none;\n",
              "    border-radius: 50%;\n",
              "    cursor: pointer;\n",
              "    display: none;\n",
              "    fill: var(--fill-color);\n",
              "    height: 32px;\n",
              "    padding: 0;\n",
              "    width: 32px;\n",
              "  }\n",
              "\n",
              "  .colab-df-quickchart:hover {\n",
              "    background-color: var(--hover-bg-color);\n",
              "    box-shadow: 0 1px 2px rgba(60, 64, 67, 0.3), 0 1px 3px 1px rgba(60, 64, 67, 0.15);\n",
              "    fill: var(--button-hover-fill-color);\n",
              "  }\n",
              "\n",
              "  .colab-df-quickchart-complete:disabled,\n",
              "  .colab-df-quickchart-complete:disabled:hover {\n",
              "    background-color: var(--disabled-bg-color);\n",
              "    fill: var(--disabled-fill-color);\n",
              "    box-shadow: none;\n",
              "  }\n",
              "\n",
              "  .colab-df-spinner {\n",
              "    border: 2px solid var(--fill-color);\n",
              "    border-color: transparent;\n",
              "    border-bottom-color: var(--fill-color);\n",
              "    animation:\n",
              "      spin 1s steps(1) infinite;\n",
              "  }\n",
              "\n",
              "  @keyframes spin {\n",
              "    0% {\n",
              "      border-color: transparent;\n",
              "      border-bottom-color: var(--fill-color);\n",
              "      border-left-color: var(--fill-color);\n",
              "    }\n",
              "    20% {\n",
              "      border-color: transparent;\n",
              "      border-left-color: var(--fill-color);\n",
              "      border-top-color: var(--fill-color);\n",
              "    }\n",
              "    30% {\n",
              "      border-color: transparent;\n",
              "      border-left-color: var(--fill-color);\n",
              "      border-top-color: var(--fill-color);\n",
              "      border-right-color: var(--fill-color);\n",
              "    }\n",
              "    40% {\n",
              "      border-color: transparent;\n",
              "      border-right-color: var(--fill-color);\n",
              "      border-top-color: var(--fill-color);\n",
              "    }\n",
              "    60% {\n",
              "      border-color: transparent;\n",
              "      border-right-color: var(--fill-color);\n",
              "    }\n",
              "    80% {\n",
              "      border-color: transparent;\n",
              "      border-right-color: var(--fill-color);\n",
              "      border-bottom-color: var(--fill-color);\n",
              "    }\n",
              "    90% {\n",
              "      border-color: transparent;\n",
              "      border-bottom-color: var(--fill-color);\n",
              "    }\n",
              "  }\n",
              "</style>\n",
              "\n",
              "  <script>\n",
              "    async function quickchart(key) {\n",
              "      const quickchartButtonEl =\n",
              "        document.querySelector('#' + key + ' button');\n",
              "      quickchartButtonEl.disabled = true;  // To prevent multiple clicks.\n",
              "      quickchartButtonEl.classList.add('colab-df-spinner');\n",
              "      try {\n",
              "        const charts = await google.colab.kernel.invokeFunction(\n",
              "            'suggestCharts', [key], {});\n",
              "      } catch (error) {\n",
              "        console.error('Error during call to suggestCharts:', error);\n",
              "      }\n",
              "      quickchartButtonEl.classList.remove('colab-df-spinner');\n",
              "      quickchartButtonEl.classList.add('colab-df-quickchart-complete');\n",
              "    }\n",
              "    (() => {\n",
              "      let quickchartButtonEl =\n",
              "        document.querySelector('#df-db5b6119-781c-4e78-bc6b-619d50074a8c button');\n",
              "      quickchartButtonEl.style.display =\n",
              "        google.colab.kernel.accessAllowed ? 'block' : 'none';\n",
              "    })();\n",
              "  </script>\n",
              "</div>\n",
              "\n",
              "  <div id=\"id_6416c86d-ad3a-4c98-8a5a-6dd258bf9300\">\n",
              "    <style>\n",
              "      .colab-df-generate {\n",
              "        background-color: #E8F0FE;\n",
              "        border: none;\n",
              "        border-radius: 50%;\n",
              "        cursor: pointer;\n",
              "        display: none;\n",
              "        fill: #1967D2;\n",
              "        height: 32px;\n",
              "        padding: 0 0 0 0;\n",
              "        width: 32px;\n",
              "      }\n",
              "\n",
              "      .colab-df-generate:hover {\n",
              "        background-color: #E2EBFA;\n",
              "        box-shadow: 0px 1px 2px rgba(60, 64, 67, 0.3), 0px 1px 3px 1px rgba(60, 64, 67, 0.15);\n",
              "        fill: #174EA6;\n",
              "      }\n",
              "\n",
              "      [theme=dark] .colab-df-generate {\n",
              "        background-color: #3B4455;\n",
              "        fill: #D2E3FC;\n",
              "      }\n",
              "\n",
              "      [theme=dark] .colab-df-generate:hover {\n",
              "        background-color: #434B5C;\n",
              "        box-shadow: 0px 1px 3px 1px rgba(0, 0, 0, 0.15);\n",
              "        filter: drop-shadow(0px 1px 2px rgba(0, 0, 0, 0.3));\n",
              "        fill: #FFFFFF;\n",
              "      }\n",
              "    </style>\n",
              "    <button class=\"colab-df-generate\" onclick=\"generateWithVariable('data')\"\n",
              "            title=\"Generate code using this dataframe.\"\n",
              "            style=\"display:none;\">\n",
              "\n",
              "  <svg xmlns=\"http://www.w3.org/2000/svg\" height=\"24px\"viewBox=\"0 0 24 24\"\n",
              "       width=\"24px\">\n",
              "    <path d=\"M7,19H8.4L18.45,9,17,7.55,7,17.6ZM5,21V16.75L18.45,3.32a2,2,0,0,1,2.83,0l1.4,1.43a1.91,1.91,0,0,1,.58,1.4,1.91,1.91,0,0,1-.58,1.4L9.25,21ZM18.45,9,17,7.55Zm-12,3A5.31,5.31,0,0,0,4.9,8.1,5.31,5.31,0,0,0,1,6.5,5.31,5.31,0,0,0,4.9,4.9,5.31,5.31,0,0,0,6.5,1,5.31,5.31,0,0,0,8.1,4.9,5.31,5.31,0,0,0,12,6.5,5.46,5.46,0,0,0,6.5,12Z\"/>\n",
              "  </svg>\n",
              "    </button>\n",
              "    <script>\n",
              "      (() => {\n",
              "      const buttonEl =\n",
              "        document.querySelector('#id_6416c86d-ad3a-4c98-8a5a-6dd258bf9300 button.colab-df-generate');\n",
              "      buttonEl.style.display =\n",
              "        google.colab.kernel.accessAllowed ? 'block' : 'none';\n",
              "\n",
              "      buttonEl.onclick = () => {\n",
              "        google.colab.notebook.generateWithVariable('data');\n",
              "      }\n",
              "      })();\n",
              "    </script>\n",
              "  </div>\n",
              "\n",
              "    </div>\n",
              "  </div>\n"
            ],
            "application/vnd.google.colaboratory.intrinsic+json": {
              "type": "dataframe",
              "variable_name": "data",
              "summary": "{\n  \"name\": \"data\",\n  \"rows\": 5,\n  \"fields\": [\n    {\n      \"column\": \"name\",\n      \"properties\": {\n        \"dtype\": \"string\",\n        \"num_unique_values\": 5,\n        \"samples\": [\n          \"joy\",\n          \"emmanuel\",\n          \"toheebat\"\n        ],\n        \"semantic_type\": \"\",\n        \"description\": \"\"\n      }\n    },\n    {\n      \"column\": \"age\",\n      \"properties\": {\n        \"dtype\": \"number\",\n        \"std\": 5,\n        \"min\": 21,\n        \"max\": 36,\n        \"num_unique_values\": 4,\n        \"samples\": [\n          25,\n          29,\n          21\n        ],\n        \"semantic_type\": \"\",\n        \"description\": \"\"\n      }\n    }\n  ]\n}"
            }
          },
          "metadata": {},
          "execution_count": 16
        }
      ]
    },
    {
      "cell_type": "code",
      "source": [
        "attendance = {\"class1\":[\"joy\",\"rashidat\",\"seyi\",\"tope\"],\n",
        "              \"class2\":[\"rashidat\",\"tobi\",\"seyi\",\"ikechukwu\"],\n",
        "              \"class3\":[\"emmanuel\",\"esther\",\"ibrahim\",\"toheebat\"]}\n",
        "data = pd.DataFrame(attendance)"
      ],
      "metadata": {
        "id": "Xh_z7Lz7E9Dn"
      },
      "execution_count": null,
      "outputs": []
    },
    {
      "cell_type": "code",
      "source": [
        "data.columns"
      ],
      "metadata": {
        "colab": {
          "base_uri": "https://localhost:8080/"
        },
        "id": "brhu9m8_H8M1",
        "outputId": "71a6bd80-d305-4d96-e7c3-9f8048f53ef4"
      },
      "execution_count": null,
      "outputs": [
        {
          "output_type": "execute_result",
          "data": {
            "text/plain": [
              "Index(['class1', 'class2', 'class3'], dtype='object')"
            ]
          },
          "metadata": {},
          "execution_count": 25
        }
      ]
    },
    {
      "cell_type": "code",
      "source": [
        "data.values"
      ],
      "metadata": {
        "colab": {
          "base_uri": "https://localhost:8080/"
        },
        "id": "_POWwGsQIfx2",
        "outputId": "d889aac1-9073-452a-960d-2e6eed74beae"
      },
      "execution_count": null,
      "outputs": [
        {
          "output_type": "execute_result",
          "data": {
            "text/plain": [
              "array([['joy', 'rashidat', 'emmanuel'],\n",
              "       ['rashidat', 'tobi', 'esther'],\n",
              "       ['seyi', 'seyi', 'ibrahim'],\n",
              "       ['tope', 'ikechukwu', 'toheebat']], dtype=object)"
            ]
          },
          "metadata": {},
          "execution_count": 26
        }
      ]
    },
    {
      "cell_type": "code",
      "source": [
        "bio_data = {'fe00234': {'name': 'seyi', 'age': 25},\n",
        "            'fe00235': {'name': 'esther', 'age': 30},\n",
        "            'fe00236': {'name': 'tobi', 'age': 21}}\n",
        "data = pd.DataFrame(bio_data)"
      ],
      "metadata": {
        "id": "izHtEmN4E88Q"
      },
      "execution_count": null,
      "outputs": []
    },
    {
      "cell_type": "code",
      "source": [
        "data"
      ],
      "metadata": {
        "colab": {
          "base_uri": "https://localhost:8080/",
          "height": 125
        },
        "id": "MYp_eGvxHegd",
        "outputId": "e9f17ed1-49da-41b9-cf3c-0f1ba99f0831"
      },
      "execution_count": null,
      "outputs": [
        {
          "output_type": "execute_result",
          "data": {
            "text/plain": [
              "     fe00234 fe00235 fe00236\n",
              "name    seyi  esther    tobi\n",
              "age       25      30      21"
            ],
            "text/html": [
              "\n",
              "  <div id=\"df-456d2ead-a6c2-4a51-b52a-9b7d319acfbd\" class=\"colab-df-container\">\n",
              "    <div>\n",
              "<style scoped>\n",
              "    .dataframe tbody tr th:only-of-type {\n",
              "        vertical-align: middle;\n",
              "    }\n",
              "\n",
              "    .dataframe tbody tr th {\n",
              "        vertical-align: top;\n",
              "    }\n",
              "\n",
              "    .dataframe thead th {\n",
              "        text-align: right;\n",
              "    }\n",
              "</style>\n",
              "<table border=\"1\" class=\"dataframe\">\n",
              "  <thead>\n",
              "    <tr style=\"text-align: right;\">\n",
              "      <th></th>\n",
              "      <th>fe00234</th>\n",
              "      <th>fe00235</th>\n",
              "      <th>fe00236</th>\n",
              "    </tr>\n",
              "  </thead>\n",
              "  <tbody>\n",
              "    <tr>\n",
              "      <th>name</th>\n",
              "      <td>seyi</td>\n",
              "      <td>esther</td>\n",
              "      <td>tobi</td>\n",
              "    </tr>\n",
              "    <tr>\n",
              "      <th>age</th>\n",
              "      <td>25</td>\n",
              "      <td>30</td>\n",
              "      <td>21</td>\n",
              "    </tr>\n",
              "  </tbody>\n",
              "</table>\n",
              "</div>\n",
              "    <div class=\"colab-df-buttons\">\n",
              "\n",
              "  <div class=\"colab-df-container\">\n",
              "    <button class=\"colab-df-convert\" onclick=\"convertToInteractive('df-456d2ead-a6c2-4a51-b52a-9b7d319acfbd')\"\n",
              "            title=\"Convert this dataframe to an interactive table.\"\n",
              "            style=\"display:none;\">\n",
              "\n",
              "  <svg xmlns=\"http://www.w3.org/2000/svg\" height=\"24px\" viewBox=\"0 -960 960 960\">\n",
              "    <path d=\"M120-120v-720h720v720H120Zm60-500h600v-160H180v160Zm220 220h160v-160H400v160Zm0 220h160v-160H400v160ZM180-400h160v-160H180v160Zm440 0h160v-160H620v160ZM180-180h160v-160H180v160Zm440 0h160v-160H620v160Z\"/>\n",
              "  </svg>\n",
              "    </button>\n",
              "\n",
              "  <style>\n",
              "    .colab-df-container {\n",
              "      display:flex;\n",
              "      gap: 12px;\n",
              "    }\n",
              "\n",
              "    .colab-df-convert {\n",
              "      background-color: #E8F0FE;\n",
              "      border: none;\n",
              "      border-radius: 50%;\n",
              "      cursor: pointer;\n",
              "      display: none;\n",
              "      fill: #1967D2;\n",
              "      height: 32px;\n",
              "      padding: 0 0 0 0;\n",
              "      width: 32px;\n",
              "    }\n",
              "\n",
              "    .colab-df-convert:hover {\n",
              "      background-color: #E2EBFA;\n",
              "      box-shadow: 0px 1px 2px rgba(60, 64, 67, 0.3), 0px 1px 3px 1px rgba(60, 64, 67, 0.15);\n",
              "      fill: #174EA6;\n",
              "    }\n",
              "\n",
              "    .colab-df-buttons div {\n",
              "      margin-bottom: 4px;\n",
              "    }\n",
              "\n",
              "    [theme=dark] .colab-df-convert {\n",
              "      background-color: #3B4455;\n",
              "      fill: #D2E3FC;\n",
              "    }\n",
              "\n",
              "    [theme=dark] .colab-df-convert:hover {\n",
              "      background-color: #434B5C;\n",
              "      box-shadow: 0px 1px 3px 1px rgba(0, 0, 0, 0.15);\n",
              "      filter: drop-shadow(0px 1px 2px rgba(0, 0, 0, 0.3));\n",
              "      fill: #FFFFFF;\n",
              "    }\n",
              "  </style>\n",
              "\n",
              "    <script>\n",
              "      const buttonEl =\n",
              "        document.querySelector('#df-456d2ead-a6c2-4a51-b52a-9b7d319acfbd button.colab-df-convert');\n",
              "      buttonEl.style.display =\n",
              "        google.colab.kernel.accessAllowed ? 'block' : 'none';\n",
              "\n",
              "      async function convertToInteractive(key) {\n",
              "        const element = document.querySelector('#df-456d2ead-a6c2-4a51-b52a-9b7d319acfbd');\n",
              "        const dataTable =\n",
              "          await google.colab.kernel.invokeFunction('convertToInteractive',\n",
              "                                                    [key], {});\n",
              "        if (!dataTable) return;\n",
              "\n",
              "        const docLinkHtml = 'Like what you see? Visit the ' +\n",
              "          '<a target=\"_blank\" href=https://colab.research.google.com/notebooks/data_table.ipynb>data table notebook</a>'\n",
              "          + ' to learn more about interactive tables.';\n",
              "        element.innerHTML = '';\n",
              "        dataTable['output_type'] = 'display_data';\n",
              "        await google.colab.output.renderOutput(dataTable, element);\n",
              "        const docLink = document.createElement('div');\n",
              "        docLink.innerHTML = docLinkHtml;\n",
              "        element.appendChild(docLink);\n",
              "      }\n",
              "    </script>\n",
              "  </div>\n",
              "\n",
              "\n",
              "<div id=\"df-5d78234a-f3e0-4603-803c-c3bf22d06a94\">\n",
              "  <button class=\"colab-df-quickchart\" onclick=\"quickchart('df-5d78234a-f3e0-4603-803c-c3bf22d06a94')\"\n",
              "            title=\"Suggest charts\"\n",
              "            style=\"display:none;\">\n",
              "\n",
              "<svg xmlns=\"http://www.w3.org/2000/svg\" height=\"24px\"viewBox=\"0 0 24 24\"\n",
              "     width=\"24px\">\n",
              "    <g>\n",
              "        <path d=\"M19 3H5c-1.1 0-2 .9-2 2v14c0 1.1.9 2 2 2h14c1.1 0 2-.9 2-2V5c0-1.1-.9-2-2-2zM9 17H7v-7h2v7zm4 0h-2V7h2v10zm4 0h-2v-4h2v4z\"/>\n",
              "    </g>\n",
              "</svg>\n",
              "  </button>\n",
              "\n",
              "<style>\n",
              "  .colab-df-quickchart {\n",
              "      --bg-color: #E8F0FE;\n",
              "      --fill-color: #1967D2;\n",
              "      --hover-bg-color: #E2EBFA;\n",
              "      --hover-fill-color: #174EA6;\n",
              "      --disabled-fill-color: #AAA;\n",
              "      --disabled-bg-color: #DDD;\n",
              "  }\n",
              "\n",
              "  [theme=dark] .colab-df-quickchart {\n",
              "      --bg-color: #3B4455;\n",
              "      --fill-color: #D2E3FC;\n",
              "      --hover-bg-color: #434B5C;\n",
              "      --hover-fill-color: #FFFFFF;\n",
              "      --disabled-bg-color: #3B4455;\n",
              "      --disabled-fill-color: #666;\n",
              "  }\n",
              "\n",
              "  .colab-df-quickchart {\n",
              "    background-color: var(--bg-color);\n",
              "    border: none;\n",
              "    border-radius: 50%;\n",
              "    cursor: pointer;\n",
              "    display: none;\n",
              "    fill: var(--fill-color);\n",
              "    height: 32px;\n",
              "    padding: 0;\n",
              "    width: 32px;\n",
              "  }\n",
              "\n",
              "  .colab-df-quickchart:hover {\n",
              "    background-color: var(--hover-bg-color);\n",
              "    box-shadow: 0 1px 2px rgba(60, 64, 67, 0.3), 0 1px 3px 1px rgba(60, 64, 67, 0.15);\n",
              "    fill: var(--button-hover-fill-color);\n",
              "  }\n",
              "\n",
              "  .colab-df-quickchart-complete:disabled,\n",
              "  .colab-df-quickchart-complete:disabled:hover {\n",
              "    background-color: var(--disabled-bg-color);\n",
              "    fill: var(--disabled-fill-color);\n",
              "    box-shadow: none;\n",
              "  }\n",
              "\n",
              "  .colab-df-spinner {\n",
              "    border: 2px solid var(--fill-color);\n",
              "    border-color: transparent;\n",
              "    border-bottom-color: var(--fill-color);\n",
              "    animation:\n",
              "      spin 1s steps(1) infinite;\n",
              "  }\n",
              "\n",
              "  @keyframes spin {\n",
              "    0% {\n",
              "      border-color: transparent;\n",
              "      border-bottom-color: var(--fill-color);\n",
              "      border-left-color: var(--fill-color);\n",
              "    }\n",
              "    20% {\n",
              "      border-color: transparent;\n",
              "      border-left-color: var(--fill-color);\n",
              "      border-top-color: var(--fill-color);\n",
              "    }\n",
              "    30% {\n",
              "      border-color: transparent;\n",
              "      border-left-color: var(--fill-color);\n",
              "      border-top-color: var(--fill-color);\n",
              "      border-right-color: var(--fill-color);\n",
              "    }\n",
              "    40% {\n",
              "      border-color: transparent;\n",
              "      border-right-color: var(--fill-color);\n",
              "      border-top-color: var(--fill-color);\n",
              "    }\n",
              "    60% {\n",
              "      border-color: transparent;\n",
              "      border-right-color: var(--fill-color);\n",
              "    }\n",
              "    80% {\n",
              "      border-color: transparent;\n",
              "      border-right-color: var(--fill-color);\n",
              "      border-bottom-color: var(--fill-color);\n",
              "    }\n",
              "    90% {\n",
              "      border-color: transparent;\n",
              "      border-bottom-color: var(--fill-color);\n",
              "    }\n",
              "  }\n",
              "</style>\n",
              "\n",
              "  <script>\n",
              "    async function quickchart(key) {\n",
              "      const quickchartButtonEl =\n",
              "        document.querySelector('#' + key + ' button');\n",
              "      quickchartButtonEl.disabled = true;  // To prevent multiple clicks.\n",
              "      quickchartButtonEl.classList.add('colab-df-spinner');\n",
              "      try {\n",
              "        const charts = await google.colab.kernel.invokeFunction(\n",
              "            'suggestCharts', [key], {});\n",
              "      } catch (error) {\n",
              "        console.error('Error during call to suggestCharts:', error);\n",
              "      }\n",
              "      quickchartButtonEl.classList.remove('colab-df-spinner');\n",
              "      quickchartButtonEl.classList.add('colab-df-quickchart-complete');\n",
              "    }\n",
              "    (() => {\n",
              "      let quickchartButtonEl =\n",
              "        document.querySelector('#df-5d78234a-f3e0-4603-803c-c3bf22d06a94 button');\n",
              "      quickchartButtonEl.style.display =\n",
              "        google.colab.kernel.accessAllowed ? 'block' : 'none';\n",
              "    })();\n",
              "  </script>\n",
              "</div>\n",
              "\n",
              "  <div id=\"id_0e904a2c-c949-4d2b-b67b-0877fe8679e1\">\n",
              "    <style>\n",
              "      .colab-df-generate {\n",
              "        background-color: #E8F0FE;\n",
              "        border: none;\n",
              "        border-radius: 50%;\n",
              "        cursor: pointer;\n",
              "        display: none;\n",
              "        fill: #1967D2;\n",
              "        height: 32px;\n",
              "        padding: 0 0 0 0;\n",
              "        width: 32px;\n",
              "      }\n",
              "\n",
              "      .colab-df-generate:hover {\n",
              "        background-color: #E2EBFA;\n",
              "        box-shadow: 0px 1px 2px rgba(60, 64, 67, 0.3), 0px 1px 3px 1px rgba(60, 64, 67, 0.15);\n",
              "        fill: #174EA6;\n",
              "      }\n",
              "\n",
              "      [theme=dark] .colab-df-generate {\n",
              "        background-color: #3B4455;\n",
              "        fill: #D2E3FC;\n",
              "      }\n",
              "\n",
              "      [theme=dark] .colab-df-generate:hover {\n",
              "        background-color: #434B5C;\n",
              "        box-shadow: 0px 1px 3px 1px rgba(0, 0, 0, 0.15);\n",
              "        filter: drop-shadow(0px 1px 2px rgba(0, 0, 0, 0.3));\n",
              "        fill: #FFFFFF;\n",
              "      }\n",
              "    </style>\n",
              "    <button class=\"colab-df-generate\" onclick=\"generateWithVariable('data')\"\n",
              "            title=\"Generate code using this dataframe.\"\n",
              "            style=\"display:none;\">\n",
              "\n",
              "  <svg xmlns=\"http://www.w3.org/2000/svg\" height=\"24px\"viewBox=\"0 0 24 24\"\n",
              "       width=\"24px\">\n",
              "    <path d=\"M7,19H8.4L18.45,9,17,7.55,7,17.6ZM5,21V16.75L18.45,3.32a2,2,0,0,1,2.83,0l1.4,1.43a1.91,1.91,0,0,1,.58,1.4,1.91,1.91,0,0,1-.58,1.4L9.25,21ZM18.45,9,17,7.55Zm-12,3A5.31,5.31,0,0,0,4.9,8.1,5.31,5.31,0,0,0,1,6.5,5.31,5.31,0,0,0,4.9,4.9,5.31,5.31,0,0,0,6.5,1,5.31,5.31,0,0,0,8.1,4.9,5.31,5.31,0,0,0,12,6.5,5.46,5.46,0,0,0,6.5,12Z\"/>\n",
              "  </svg>\n",
              "    </button>\n",
              "    <script>\n",
              "      (() => {\n",
              "      const buttonEl =\n",
              "        document.querySelector('#id_0e904a2c-c949-4d2b-b67b-0877fe8679e1 button.colab-df-generate');\n",
              "      buttonEl.style.display =\n",
              "        google.colab.kernel.accessAllowed ? 'block' : 'none';\n",
              "\n",
              "      buttonEl.onclick = () => {\n",
              "        google.colab.notebook.generateWithVariable('data');\n",
              "      }\n",
              "      })();\n",
              "    </script>\n",
              "  </div>\n",
              "\n",
              "    </div>\n",
              "  </div>\n"
            ],
            "application/vnd.google.colaboratory.intrinsic+json": {
              "type": "dataframe",
              "variable_name": "data",
              "summary": "{\n  \"name\": \"data\",\n  \"rows\": 2,\n  \"fields\": [\n    {\n      \"column\": \"fe00234\",\n      \"properties\": {\n        \"dtype\": \"string\",\n        \"num_unique_values\": 2,\n        \"samples\": [\n          25,\n          \"seyi\"\n        ],\n        \"semantic_type\": \"\",\n        \"description\": \"\"\n      }\n    },\n    {\n      \"column\": \"fe00235\",\n      \"properties\": {\n        \"dtype\": \"string\",\n        \"num_unique_values\": 2,\n        \"samples\": [\n          30,\n          \"esther\"\n        ],\n        \"semantic_type\": \"\",\n        \"description\": \"\"\n      }\n    },\n    {\n      \"column\": \"fe00236\",\n      \"properties\": {\n        \"dtype\": \"string\",\n        \"num_unique_values\": 2,\n        \"samples\": [\n          21,\n          \"tobi\"\n        ],\n        \"semantic_type\": \"\",\n        \"description\": \"\"\n      }\n    }\n  ]\n}"
            }
          },
          "metadata": {},
          "execution_count": 34
        }
      ]
    },
    {
      "cell_type": "code",
      "source": [
        "data.columns"
      ],
      "metadata": {
        "colab": {
          "base_uri": "https://localhost:8080/"
        },
        "id": "f2j12spnHeb1",
        "outputId": "0a724868-1a2a-47e4-cd7f-0279e1faa935"
      },
      "execution_count": null,
      "outputs": [
        {
          "output_type": "execute_result",
          "data": {
            "text/plain": [
              "Index(['fe00234', 'fe00235', 'fe00236'], dtype='object')"
            ]
          },
          "metadata": {},
          "execution_count": 35
        }
      ]
    },
    {
      "cell_type": "code",
      "source": [
        "data.values"
      ],
      "metadata": {
        "colab": {
          "base_uri": "https://localhost:8080/"
        },
        "id": "hPLLRjT2HeTN",
        "outputId": "53822847-5dcb-4521-c9c5-e6f19d418ddf"
      },
      "execution_count": null,
      "outputs": [
        {
          "output_type": "execute_result",
          "data": {
            "text/plain": [
              "array([['seyi', 'esther', 'tobi'],\n",
              "       [25, 30, 21]], dtype=object)"
            ]
          },
          "metadata": {},
          "execution_count": 36
        }
      ]
    },
    {
      "cell_type": "code",
      "source": [
        "import pandas as rashy"
      ],
      "metadata": {
        "id": "yJdIeZ_GiyKL"
      },
      "execution_count": null,
      "outputs": []
    },
    {
      "cell_type": "code",
      "source": [
        "# rashy.read_csv()\n",
        "trip = rashy.read_csv(\"/content/drive/MyDrive/ola's folder/trip.csv\")\n",
        "#dothead() or.head() ----> to view first five rows of our dataset\n",
        "trip.head()"
      ],
      "metadata": {
        "id": "0ZxNVTo1iyGA",
        "colab": {
          "base_uri": "https://localhost:8080/",
          "height": 399
        },
        "outputId": "fc8d1e33-dbe8-40f2-84bf-81b7e3844bcf"
      },
      "execution_count": null,
      "outputs": [
        {
          "output_type": "execute_result",
          "data": {
            "text/plain": [
              "   trip_id         starttime          stoptime    bikeid  tripduration  \\\n",
              "0      431  10/13/2014 10:31  10/13/2014 10:48  SEA00298       985.935   \n",
              "1      432  10/13/2014 10:32  10/13/2014 10:48  SEA00195       926.375   \n",
              "2      433  10/13/2014 10:33  10/13/2014 10:48  SEA00486       883.831   \n",
              "3      434  10/13/2014 10:34  10/13/2014 10:48  SEA00333       865.937   \n",
              "4      435  10/13/2014 10:34  10/13/2014 10:49  SEA00202       923.923   \n",
              "\n",
              "     from_station_name                                    to_station_name  \\\n",
              "0  2nd Ave & Spring St  Occidental Park / Occidental Ave S & S Washing...   \n",
              "1  2nd Ave & Spring St  Occidental Park / Occidental Ave S & S Washing...   \n",
              "2  2nd Ave & Spring St  Occidental Park / Occidental Ave S & S Washing...   \n",
              "3  2nd Ave & Spring St  Occidental Park / Occidental Ave S & S Washing...   \n",
              "4  2nd Ave & Spring St  Occidental Park / Occidental Ave S & S Washing...   \n",
              "\n",
              "  from_station_id to_station_id usertype  gender  birthyear  \n",
              "0          CBD-06         PS-04   Member    Male     1960.0  \n",
              "1          CBD-06         PS-04   Member    Male     1970.0  \n",
              "2          CBD-06         PS-04   Member  Female     1988.0  \n",
              "3          CBD-06         PS-04   Member  Female     1977.0  \n",
              "4          CBD-06         PS-04   Member    Male     1971.0  "
            ],
            "text/html": [
              "\n",
              "  <div id=\"df-1f57cece-d6f0-417f-8b89-1d1205a5d518\" class=\"colab-df-container\">\n",
              "    <div>\n",
              "<style scoped>\n",
              "    .dataframe tbody tr th:only-of-type {\n",
              "        vertical-align: middle;\n",
              "    }\n",
              "\n",
              "    .dataframe tbody tr th {\n",
              "        vertical-align: top;\n",
              "    }\n",
              "\n",
              "    .dataframe thead th {\n",
              "        text-align: right;\n",
              "    }\n",
              "</style>\n",
              "<table border=\"1\" class=\"dataframe\">\n",
              "  <thead>\n",
              "    <tr style=\"text-align: right;\">\n",
              "      <th></th>\n",
              "      <th>trip_id</th>\n",
              "      <th>starttime</th>\n",
              "      <th>stoptime</th>\n",
              "      <th>bikeid</th>\n",
              "      <th>tripduration</th>\n",
              "      <th>from_station_name</th>\n",
              "      <th>to_station_name</th>\n",
              "      <th>from_station_id</th>\n",
              "      <th>to_station_id</th>\n",
              "      <th>usertype</th>\n",
              "      <th>gender</th>\n",
              "      <th>birthyear</th>\n",
              "    </tr>\n",
              "  </thead>\n",
              "  <tbody>\n",
              "    <tr>\n",
              "      <th>0</th>\n",
              "      <td>431</td>\n",
              "      <td>10/13/2014 10:31</td>\n",
              "      <td>10/13/2014 10:48</td>\n",
              "      <td>SEA00298</td>\n",
              "      <td>985.935</td>\n",
              "      <td>2nd Ave &amp; Spring St</td>\n",
              "      <td>Occidental Park / Occidental Ave S &amp; S Washing...</td>\n",
              "      <td>CBD-06</td>\n",
              "      <td>PS-04</td>\n",
              "      <td>Member</td>\n",
              "      <td>Male</td>\n",
              "      <td>1960.0</td>\n",
              "    </tr>\n",
              "    <tr>\n",
              "      <th>1</th>\n",
              "      <td>432</td>\n",
              "      <td>10/13/2014 10:32</td>\n",
              "      <td>10/13/2014 10:48</td>\n",
              "      <td>SEA00195</td>\n",
              "      <td>926.375</td>\n",
              "      <td>2nd Ave &amp; Spring St</td>\n",
              "      <td>Occidental Park / Occidental Ave S &amp; S Washing...</td>\n",
              "      <td>CBD-06</td>\n",
              "      <td>PS-04</td>\n",
              "      <td>Member</td>\n",
              "      <td>Male</td>\n",
              "      <td>1970.0</td>\n",
              "    </tr>\n",
              "    <tr>\n",
              "      <th>2</th>\n",
              "      <td>433</td>\n",
              "      <td>10/13/2014 10:33</td>\n",
              "      <td>10/13/2014 10:48</td>\n",
              "      <td>SEA00486</td>\n",
              "      <td>883.831</td>\n",
              "      <td>2nd Ave &amp; Spring St</td>\n",
              "      <td>Occidental Park / Occidental Ave S &amp; S Washing...</td>\n",
              "      <td>CBD-06</td>\n",
              "      <td>PS-04</td>\n",
              "      <td>Member</td>\n",
              "      <td>Female</td>\n",
              "      <td>1988.0</td>\n",
              "    </tr>\n",
              "    <tr>\n",
              "      <th>3</th>\n",
              "      <td>434</td>\n",
              "      <td>10/13/2014 10:34</td>\n",
              "      <td>10/13/2014 10:48</td>\n",
              "      <td>SEA00333</td>\n",
              "      <td>865.937</td>\n",
              "      <td>2nd Ave &amp; Spring St</td>\n",
              "      <td>Occidental Park / Occidental Ave S &amp; S Washing...</td>\n",
              "      <td>CBD-06</td>\n",
              "      <td>PS-04</td>\n",
              "      <td>Member</td>\n",
              "      <td>Female</td>\n",
              "      <td>1977.0</td>\n",
              "    </tr>\n",
              "    <tr>\n",
              "      <th>4</th>\n",
              "      <td>435</td>\n",
              "      <td>10/13/2014 10:34</td>\n",
              "      <td>10/13/2014 10:49</td>\n",
              "      <td>SEA00202</td>\n",
              "      <td>923.923</td>\n",
              "      <td>2nd Ave &amp; Spring St</td>\n",
              "      <td>Occidental Park / Occidental Ave S &amp; S Washing...</td>\n",
              "      <td>CBD-06</td>\n",
              "      <td>PS-04</td>\n",
              "      <td>Member</td>\n",
              "      <td>Male</td>\n",
              "      <td>1971.0</td>\n",
              "    </tr>\n",
              "  </tbody>\n",
              "</table>\n",
              "</div>\n",
              "    <div class=\"colab-df-buttons\">\n",
              "\n",
              "  <div class=\"colab-df-container\">\n",
              "    <button class=\"colab-df-convert\" onclick=\"convertToInteractive('df-1f57cece-d6f0-417f-8b89-1d1205a5d518')\"\n",
              "            title=\"Convert this dataframe to an interactive table.\"\n",
              "            style=\"display:none;\">\n",
              "\n",
              "  <svg xmlns=\"http://www.w3.org/2000/svg\" height=\"24px\" viewBox=\"0 -960 960 960\">\n",
              "    <path d=\"M120-120v-720h720v720H120Zm60-500h600v-160H180v160Zm220 220h160v-160H400v160Zm0 220h160v-160H400v160ZM180-400h160v-160H180v160Zm440 0h160v-160H620v160ZM180-180h160v-160H180v160Zm440 0h160v-160H620v160Z\"/>\n",
              "  </svg>\n",
              "    </button>\n",
              "\n",
              "  <style>\n",
              "    .colab-df-container {\n",
              "      display:flex;\n",
              "      gap: 12px;\n",
              "    }\n",
              "\n",
              "    .colab-df-convert {\n",
              "      background-color: #E8F0FE;\n",
              "      border: none;\n",
              "      border-radius: 50%;\n",
              "      cursor: pointer;\n",
              "      display: none;\n",
              "      fill: #1967D2;\n",
              "      height: 32px;\n",
              "      padding: 0 0 0 0;\n",
              "      width: 32px;\n",
              "    }\n",
              "\n",
              "    .colab-df-convert:hover {\n",
              "      background-color: #E2EBFA;\n",
              "      box-shadow: 0px 1px 2px rgba(60, 64, 67, 0.3), 0px 1px 3px 1px rgba(60, 64, 67, 0.15);\n",
              "      fill: #174EA6;\n",
              "    }\n",
              "\n",
              "    .colab-df-buttons div {\n",
              "      margin-bottom: 4px;\n",
              "    }\n",
              "\n",
              "    [theme=dark] .colab-df-convert {\n",
              "      background-color: #3B4455;\n",
              "      fill: #D2E3FC;\n",
              "    }\n",
              "\n",
              "    [theme=dark] .colab-df-convert:hover {\n",
              "      background-color: #434B5C;\n",
              "      box-shadow: 0px 1px 3px 1px rgba(0, 0, 0, 0.15);\n",
              "      filter: drop-shadow(0px 1px 2px rgba(0, 0, 0, 0.3));\n",
              "      fill: #FFFFFF;\n",
              "    }\n",
              "  </style>\n",
              "\n",
              "    <script>\n",
              "      const buttonEl =\n",
              "        document.querySelector('#df-1f57cece-d6f0-417f-8b89-1d1205a5d518 button.colab-df-convert');\n",
              "      buttonEl.style.display =\n",
              "        google.colab.kernel.accessAllowed ? 'block' : 'none';\n",
              "\n",
              "      async function convertToInteractive(key) {\n",
              "        const element = document.querySelector('#df-1f57cece-d6f0-417f-8b89-1d1205a5d518');\n",
              "        const dataTable =\n",
              "          await google.colab.kernel.invokeFunction('convertToInteractive',\n",
              "                                                    [key], {});\n",
              "        if (!dataTable) return;\n",
              "\n",
              "        const docLinkHtml = 'Like what you see? Visit the ' +\n",
              "          '<a target=\"_blank\" href=https://colab.research.google.com/notebooks/data_table.ipynb>data table notebook</a>'\n",
              "          + ' to learn more about interactive tables.';\n",
              "        element.innerHTML = '';\n",
              "        dataTable['output_type'] = 'display_data';\n",
              "        await google.colab.output.renderOutput(dataTable, element);\n",
              "        const docLink = document.createElement('div');\n",
              "        docLink.innerHTML = docLinkHtml;\n",
              "        element.appendChild(docLink);\n",
              "      }\n",
              "    </script>\n",
              "  </div>\n",
              "\n",
              "\n",
              "<div id=\"df-7b040b0c-af2e-4f4b-80d3-67bb3726e9ee\">\n",
              "  <button class=\"colab-df-quickchart\" onclick=\"quickchart('df-7b040b0c-af2e-4f4b-80d3-67bb3726e9ee')\"\n",
              "            title=\"Suggest charts\"\n",
              "            style=\"display:none;\">\n",
              "\n",
              "<svg xmlns=\"http://www.w3.org/2000/svg\" height=\"24px\"viewBox=\"0 0 24 24\"\n",
              "     width=\"24px\">\n",
              "    <g>\n",
              "        <path d=\"M19 3H5c-1.1 0-2 .9-2 2v14c0 1.1.9 2 2 2h14c1.1 0 2-.9 2-2V5c0-1.1-.9-2-2-2zM9 17H7v-7h2v7zm4 0h-2V7h2v10zm4 0h-2v-4h2v4z\"/>\n",
              "    </g>\n",
              "</svg>\n",
              "  </button>\n",
              "\n",
              "<style>\n",
              "  .colab-df-quickchart {\n",
              "      --bg-color: #E8F0FE;\n",
              "      --fill-color: #1967D2;\n",
              "      --hover-bg-color: #E2EBFA;\n",
              "      --hover-fill-color: #174EA6;\n",
              "      --disabled-fill-color: #AAA;\n",
              "      --disabled-bg-color: #DDD;\n",
              "  }\n",
              "\n",
              "  [theme=dark] .colab-df-quickchart {\n",
              "      --bg-color: #3B4455;\n",
              "      --fill-color: #D2E3FC;\n",
              "      --hover-bg-color: #434B5C;\n",
              "      --hover-fill-color: #FFFFFF;\n",
              "      --disabled-bg-color: #3B4455;\n",
              "      --disabled-fill-color: #666;\n",
              "  }\n",
              "\n",
              "  .colab-df-quickchart {\n",
              "    background-color: var(--bg-color);\n",
              "    border: none;\n",
              "    border-radius: 50%;\n",
              "    cursor: pointer;\n",
              "    display: none;\n",
              "    fill: var(--fill-color);\n",
              "    height: 32px;\n",
              "    padding: 0;\n",
              "    width: 32px;\n",
              "  }\n",
              "\n",
              "  .colab-df-quickchart:hover {\n",
              "    background-color: var(--hover-bg-color);\n",
              "    box-shadow: 0 1px 2px rgba(60, 64, 67, 0.3), 0 1px 3px 1px rgba(60, 64, 67, 0.15);\n",
              "    fill: var(--button-hover-fill-color);\n",
              "  }\n",
              "\n",
              "  .colab-df-quickchart-complete:disabled,\n",
              "  .colab-df-quickchart-complete:disabled:hover {\n",
              "    background-color: var(--disabled-bg-color);\n",
              "    fill: var(--disabled-fill-color);\n",
              "    box-shadow: none;\n",
              "  }\n",
              "\n",
              "  .colab-df-spinner {\n",
              "    border: 2px solid var(--fill-color);\n",
              "    border-color: transparent;\n",
              "    border-bottom-color: var(--fill-color);\n",
              "    animation:\n",
              "      spin 1s steps(1) infinite;\n",
              "  }\n",
              "\n",
              "  @keyframes spin {\n",
              "    0% {\n",
              "      border-color: transparent;\n",
              "      border-bottom-color: var(--fill-color);\n",
              "      border-left-color: var(--fill-color);\n",
              "    }\n",
              "    20% {\n",
              "      border-color: transparent;\n",
              "      border-left-color: var(--fill-color);\n",
              "      border-top-color: var(--fill-color);\n",
              "    }\n",
              "    30% {\n",
              "      border-color: transparent;\n",
              "      border-left-color: var(--fill-color);\n",
              "      border-top-color: var(--fill-color);\n",
              "      border-right-color: var(--fill-color);\n",
              "    }\n",
              "    40% {\n",
              "      border-color: transparent;\n",
              "      border-right-color: var(--fill-color);\n",
              "      border-top-color: var(--fill-color);\n",
              "    }\n",
              "    60% {\n",
              "      border-color: transparent;\n",
              "      border-right-color: var(--fill-color);\n",
              "    }\n",
              "    80% {\n",
              "      border-color: transparent;\n",
              "      border-right-color: var(--fill-color);\n",
              "      border-bottom-color: var(--fill-color);\n",
              "    }\n",
              "    90% {\n",
              "      border-color: transparent;\n",
              "      border-bottom-color: var(--fill-color);\n",
              "    }\n",
              "  }\n",
              "</style>\n",
              "\n",
              "  <script>\n",
              "    async function quickchart(key) {\n",
              "      const quickchartButtonEl =\n",
              "        document.querySelector('#' + key + ' button');\n",
              "      quickchartButtonEl.disabled = true;  // To prevent multiple clicks.\n",
              "      quickchartButtonEl.classList.add('colab-df-spinner');\n",
              "      try {\n",
              "        const charts = await google.colab.kernel.invokeFunction(\n",
              "            'suggestCharts', [key], {});\n",
              "      } catch (error) {\n",
              "        console.error('Error during call to suggestCharts:', error);\n",
              "      }\n",
              "      quickchartButtonEl.classList.remove('colab-df-spinner');\n",
              "      quickchartButtonEl.classList.add('colab-df-quickchart-complete');\n",
              "    }\n",
              "    (() => {\n",
              "      let quickchartButtonEl =\n",
              "        document.querySelector('#df-7b040b0c-af2e-4f4b-80d3-67bb3726e9ee button');\n",
              "      quickchartButtonEl.style.display =\n",
              "        google.colab.kernel.accessAllowed ? 'block' : 'none';\n",
              "    })();\n",
              "  </script>\n",
              "</div>\n",
              "\n",
              "    </div>\n",
              "  </div>\n"
            ],
            "application/vnd.google.colaboratory.intrinsic+json": {
              "type": "dataframe",
              "variable_name": "trip"
            }
          },
          "metadata": {},
          "execution_count": 6
        }
      ]
    },
    {
      "cell_type": "code",
      "source": [
        "# rashy.read_csv()\n",
        "trip = rashy.read_csv(\"/content/drive/MyDrive/ola's folder/trip.csv\")\n",
        "#dottail() or.tail() ----> to view last five rows of our dataset\n",
        "trip.tail()"
      ],
      "metadata": {
        "id": "7RqvEgYRiyDJ",
        "colab": {
          "base_uri": "https://localhost:8080/",
          "height": 486
        },
        "outputId": "8f91575a-0d99-4024-9057-2b6eb6cd2813"
      },
      "execution_count": null,
      "outputs": [
        {
          "output_type": "execute_result",
          "data": {
            "text/plain": [
              "        trip_id        starttime         stoptime    bikeid  tripduration  \\\n",
              "236060   255241  8/31/2016 23:34  8/31/2016 23:45  SEA00201       679.532   \n",
              "236061   255242  8/31/2016 23:48    9/1/2016 0:20  SEA00247      1965.418   \n",
              "236062   255243  8/31/2016 23:47    9/1/2016 0:20  SEA00300      1951.173   \n",
              "236063   255244  8/31/2016 23:49    9/1/2016 0:20  SEA00047      1883.299   \n",
              "236064   255245  8/31/2016 23:49    9/1/2016 0:20  SEA00442      1896.031   \n",
              "\n",
              "                             from_station_name        to_station_name  \\\n",
              "236060                 Harvard Ave & E Pine St    2nd Ave & Spring St   \n",
              "236061  Cal Anderson Park / 11th Ave & Pine St  6th Ave S & S King St   \n",
              "236062  Cal Anderson Park / 11th Ave & Pine St  6th Ave S & S King St   \n",
              "236063  Cal Anderson Park / 11th Ave & Pine St  6th Ave S & S King St   \n",
              "236064  Cal Anderson Park / 11th Ave & Pine St  6th Ave S & S King St   \n",
              "\n",
              "       from_station_id to_station_id                usertype gender  birthyear  \n",
              "236060           CH-09        CBD-06  Short-Term Pass Holder    NaN        NaN  \n",
              "236061           CH-08         ID-04  Short-Term Pass Holder    NaN        NaN  \n",
              "236062           CH-08         ID-04  Short-Term Pass Holder    NaN        NaN  \n",
              "236063           CH-08         ID-04  Short-Term Pass Holder    NaN        NaN  \n",
              "236064           CH-08         ID-04  Short-Term Pass Holder    NaN        NaN  "
            ],
            "text/html": [
              "\n",
              "  <div id=\"df-1d9e0655-da85-4f37-aba6-a303e6695039\" class=\"colab-df-container\">\n",
              "    <div>\n",
              "<style scoped>\n",
              "    .dataframe tbody tr th:only-of-type {\n",
              "        vertical-align: middle;\n",
              "    }\n",
              "\n",
              "    .dataframe tbody tr th {\n",
              "        vertical-align: top;\n",
              "    }\n",
              "\n",
              "    .dataframe thead th {\n",
              "        text-align: right;\n",
              "    }\n",
              "</style>\n",
              "<table border=\"1\" class=\"dataframe\">\n",
              "  <thead>\n",
              "    <tr style=\"text-align: right;\">\n",
              "      <th></th>\n",
              "      <th>trip_id</th>\n",
              "      <th>starttime</th>\n",
              "      <th>stoptime</th>\n",
              "      <th>bikeid</th>\n",
              "      <th>tripduration</th>\n",
              "      <th>from_station_name</th>\n",
              "      <th>to_station_name</th>\n",
              "      <th>from_station_id</th>\n",
              "      <th>to_station_id</th>\n",
              "      <th>usertype</th>\n",
              "      <th>gender</th>\n",
              "      <th>birthyear</th>\n",
              "    </tr>\n",
              "  </thead>\n",
              "  <tbody>\n",
              "    <tr>\n",
              "      <th>236060</th>\n",
              "      <td>255241</td>\n",
              "      <td>8/31/2016 23:34</td>\n",
              "      <td>8/31/2016 23:45</td>\n",
              "      <td>SEA00201</td>\n",
              "      <td>679.532</td>\n",
              "      <td>Harvard Ave &amp; E Pine St</td>\n",
              "      <td>2nd Ave &amp; Spring St</td>\n",
              "      <td>CH-09</td>\n",
              "      <td>CBD-06</td>\n",
              "      <td>Short-Term Pass Holder</td>\n",
              "      <td>NaN</td>\n",
              "      <td>NaN</td>\n",
              "    </tr>\n",
              "    <tr>\n",
              "      <th>236061</th>\n",
              "      <td>255242</td>\n",
              "      <td>8/31/2016 23:48</td>\n",
              "      <td>9/1/2016 0:20</td>\n",
              "      <td>SEA00247</td>\n",
              "      <td>1965.418</td>\n",
              "      <td>Cal Anderson Park / 11th Ave &amp; Pine St</td>\n",
              "      <td>6th Ave S &amp; S King St</td>\n",
              "      <td>CH-08</td>\n",
              "      <td>ID-04</td>\n",
              "      <td>Short-Term Pass Holder</td>\n",
              "      <td>NaN</td>\n",
              "      <td>NaN</td>\n",
              "    </tr>\n",
              "    <tr>\n",
              "      <th>236062</th>\n",
              "      <td>255243</td>\n",
              "      <td>8/31/2016 23:47</td>\n",
              "      <td>9/1/2016 0:20</td>\n",
              "      <td>SEA00300</td>\n",
              "      <td>1951.173</td>\n",
              "      <td>Cal Anderson Park / 11th Ave &amp; Pine St</td>\n",
              "      <td>6th Ave S &amp; S King St</td>\n",
              "      <td>CH-08</td>\n",
              "      <td>ID-04</td>\n",
              "      <td>Short-Term Pass Holder</td>\n",
              "      <td>NaN</td>\n",
              "      <td>NaN</td>\n",
              "    </tr>\n",
              "    <tr>\n",
              "      <th>236063</th>\n",
              "      <td>255244</td>\n",
              "      <td>8/31/2016 23:49</td>\n",
              "      <td>9/1/2016 0:20</td>\n",
              "      <td>SEA00047</td>\n",
              "      <td>1883.299</td>\n",
              "      <td>Cal Anderson Park / 11th Ave &amp; Pine St</td>\n",
              "      <td>6th Ave S &amp; S King St</td>\n",
              "      <td>CH-08</td>\n",
              "      <td>ID-04</td>\n",
              "      <td>Short-Term Pass Holder</td>\n",
              "      <td>NaN</td>\n",
              "      <td>NaN</td>\n",
              "    </tr>\n",
              "    <tr>\n",
              "      <th>236064</th>\n",
              "      <td>255245</td>\n",
              "      <td>8/31/2016 23:49</td>\n",
              "      <td>9/1/2016 0:20</td>\n",
              "      <td>SEA00442</td>\n",
              "      <td>1896.031</td>\n",
              "      <td>Cal Anderson Park / 11th Ave &amp; Pine St</td>\n",
              "      <td>6th Ave S &amp; S King St</td>\n",
              "      <td>CH-08</td>\n",
              "      <td>ID-04</td>\n",
              "      <td>Short-Term Pass Holder</td>\n",
              "      <td>NaN</td>\n",
              "      <td>NaN</td>\n",
              "    </tr>\n",
              "  </tbody>\n",
              "</table>\n",
              "</div>\n",
              "    <div class=\"colab-df-buttons\">\n",
              "\n",
              "  <div class=\"colab-df-container\">\n",
              "    <button class=\"colab-df-convert\" onclick=\"convertToInteractive('df-1d9e0655-da85-4f37-aba6-a303e6695039')\"\n",
              "            title=\"Convert this dataframe to an interactive table.\"\n",
              "            style=\"display:none;\">\n",
              "\n",
              "  <svg xmlns=\"http://www.w3.org/2000/svg\" height=\"24px\" viewBox=\"0 -960 960 960\">\n",
              "    <path d=\"M120-120v-720h720v720H120Zm60-500h600v-160H180v160Zm220 220h160v-160H400v160Zm0 220h160v-160H400v160ZM180-400h160v-160H180v160Zm440 0h160v-160H620v160ZM180-180h160v-160H180v160Zm440 0h160v-160H620v160Z\"/>\n",
              "  </svg>\n",
              "    </button>\n",
              "\n",
              "  <style>\n",
              "    .colab-df-container {\n",
              "      display:flex;\n",
              "      gap: 12px;\n",
              "    }\n",
              "\n",
              "    .colab-df-convert {\n",
              "      background-color: #E8F0FE;\n",
              "      border: none;\n",
              "      border-radius: 50%;\n",
              "      cursor: pointer;\n",
              "      display: none;\n",
              "      fill: #1967D2;\n",
              "      height: 32px;\n",
              "      padding: 0 0 0 0;\n",
              "      width: 32px;\n",
              "    }\n",
              "\n",
              "    .colab-df-convert:hover {\n",
              "      background-color: #E2EBFA;\n",
              "      box-shadow: 0px 1px 2px rgba(60, 64, 67, 0.3), 0px 1px 3px 1px rgba(60, 64, 67, 0.15);\n",
              "      fill: #174EA6;\n",
              "    }\n",
              "\n",
              "    .colab-df-buttons div {\n",
              "      margin-bottom: 4px;\n",
              "    }\n",
              "\n",
              "    [theme=dark] .colab-df-convert {\n",
              "      background-color: #3B4455;\n",
              "      fill: #D2E3FC;\n",
              "    }\n",
              "\n",
              "    [theme=dark] .colab-df-convert:hover {\n",
              "      background-color: #434B5C;\n",
              "      box-shadow: 0px 1px 3px 1px rgba(0, 0, 0, 0.15);\n",
              "      filter: drop-shadow(0px 1px 2px rgba(0, 0, 0, 0.3));\n",
              "      fill: #FFFFFF;\n",
              "    }\n",
              "  </style>\n",
              "\n",
              "    <script>\n",
              "      const buttonEl =\n",
              "        document.querySelector('#df-1d9e0655-da85-4f37-aba6-a303e6695039 button.colab-df-convert');\n",
              "      buttonEl.style.display =\n",
              "        google.colab.kernel.accessAllowed ? 'block' : 'none';\n",
              "\n",
              "      async function convertToInteractive(key) {\n",
              "        const element = document.querySelector('#df-1d9e0655-da85-4f37-aba6-a303e6695039');\n",
              "        const dataTable =\n",
              "          await google.colab.kernel.invokeFunction('convertToInteractive',\n",
              "                                                    [key], {});\n",
              "        if (!dataTable) return;\n",
              "\n",
              "        const docLinkHtml = 'Like what you see? Visit the ' +\n",
              "          '<a target=\"_blank\" href=https://colab.research.google.com/notebooks/data_table.ipynb>data table notebook</a>'\n",
              "          + ' to learn more about interactive tables.';\n",
              "        element.innerHTML = '';\n",
              "        dataTable['output_type'] = 'display_data';\n",
              "        await google.colab.output.renderOutput(dataTable, element);\n",
              "        const docLink = document.createElement('div');\n",
              "        docLink.innerHTML = docLinkHtml;\n",
              "        element.appendChild(docLink);\n",
              "      }\n",
              "    </script>\n",
              "  </div>\n",
              "\n",
              "\n",
              "<div id=\"df-f5ee5a8c-1676-43b8-8095-684d63d8f05d\">\n",
              "  <button class=\"colab-df-quickchart\" onclick=\"quickchart('df-f5ee5a8c-1676-43b8-8095-684d63d8f05d')\"\n",
              "            title=\"Suggest charts\"\n",
              "            style=\"display:none;\">\n",
              "\n",
              "<svg xmlns=\"http://www.w3.org/2000/svg\" height=\"24px\"viewBox=\"0 0 24 24\"\n",
              "     width=\"24px\">\n",
              "    <g>\n",
              "        <path d=\"M19 3H5c-1.1 0-2 .9-2 2v14c0 1.1.9 2 2 2h14c1.1 0 2-.9 2-2V5c0-1.1-.9-2-2-2zM9 17H7v-7h2v7zm4 0h-2V7h2v10zm4 0h-2v-4h2v4z\"/>\n",
              "    </g>\n",
              "</svg>\n",
              "  </button>\n",
              "\n",
              "<style>\n",
              "  .colab-df-quickchart {\n",
              "      --bg-color: #E8F0FE;\n",
              "      --fill-color: #1967D2;\n",
              "      --hover-bg-color: #E2EBFA;\n",
              "      --hover-fill-color: #174EA6;\n",
              "      --disabled-fill-color: #AAA;\n",
              "      --disabled-bg-color: #DDD;\n",
              "  }\n",
              "\n",
              "  [theme=dark] .colab-df-quickchart {\n",
              "      --bg-color: #3B4455;\n",
              "      --fill-color: #D2E3FC;\n",
              "      --hover-bg-color: #434B5C;\n",
              "      --hover-fill-color: #FFFFFF;\n",
              "      --disabled-bg-color: #3B4455;\n",
              "      --disabled-fill-color: #666;\n",
              "  }\n",
              "\n",
              "  .colab-df-quickchart {\n",
              "    background-color: var(--bg-color);\n",
              "    border: none;\n",
              "    border-radius: 50%;\n",
              "    cursor: pointer;\n",
              "    display: none;\n",
              "    fill: var(--fill-color);\n",
              "    height: 32px;\n",
              "    padding: 0;\n",
              "    width: 32px;\n",
              "  }\n",
              "\n",
              "  .colab-df-quickchart:hover {\n",
              "    background-color: var(--hover-bg-color);\n",
              "    box-shadow: 0 1px 2px rgba(60, 64, 67, 0.3), 0 1px 3px 1px rgba(60, 64, 67, 0.15);\n",
              "    fill: var(--button-hover-fill-color);\n",
              "  }\n",
              "\n",
              "  .colab-df-quickchart-complete:disabled,\n",
              "  .colab-df-quickchart-complete:disabled:hover {\n",
              "    background-color: var(--disabled-bg-color);\n",
              "    fill: var(--disabled-fill-color);\n",
              "    box-shadow: none;\n",
              "  }\n",
              "\n",
              "  .colab-df-spinner {\n",
              "    border: 2px solid var(--fill-color);\n",
              "    border-color: transparent;\n",
              "    border-bottom-color: var(--fill-color);\n",
              "    animation:\n",
              "      spin 1s steps(1) infinite;\n",
              "  }\n",
              "\n",
              "  @keyframes spin {\n",
              "    0% {\n",
              "      border-color: transparent;\n",
              "      border-bottom-color: var(--fill-color);\n",
              "      border-left-color: var(--fill-color);\n",
              "    }\n",
              "    20% {\n",
              "      border-color: transparent;\n",
              "      border-left-color: var(--fill-color);\n",
              "      border-top-color: var(--fill-color);\n",
              "    }\n",
              "    30% {\n",
              "      border-color: transparent;\n",
              "      border-left-color: var(--fill-color);\n",
              "      border-top-color: var(--fill-color);\n",
              "      border-right-color: var(--fill-color);\n",
              "    }\n",
              "    40% {\n",
              "      border-color: transparent;\n",
              "      border-right-color: var(--fill-color);\n",
              "      border-top-color: var(--fill-color);\n",
              "    }\n",
              "    60% {\n",
              "      border-color: transparent;\n",
              "      border-right-color: var(--fill-color);\n",
              "    }\n",
              "    80% {\n",
              "      border-color: transparent;\n",
              "      border-right-color: var(--fill-color);\n",
              "      border-bottom-color: var(--fill-color);\n",
              "    }\n",
              "    90% {\n",
              "      border-color: transparent;\n",
              "      border-bottom-color: var(--fill-color);\n",
              "    }\n",
              "  }\n",
              "</style>\n",
              "\n",
              "  <script>\n",
              "    async function quickchart(key) {\n",
              "      const quickchartButtonEl =\n",
              "        document.querySelector('#' + key + ' button');\n",
              "      quickchartButtonEl.disabled = true;  // To prevent multiple clicks.\n",
              "      quickchartButtonEl.classList.add('colab-df-spinner');\n",
              "      try {\n",
              "        const charts = await google.colab.kernel.invokeFunction(\n",
              "            'suggestCharts', [key], {});\n",
              "      } catch (error) {\n",
              "        console.error('Error during call to suggestCharts:', error);\n",
              "      }\n",
              "      quickchartButtonEl.classList.remove('colab-df-spinner');\n",
              "      quickchartButtonEl.classList.add('colab-df-quickchart-complete');\n",
              "    }\n",
              "    (() => {\n",
              "      let quickchartButtonEl =\n",
              "        document.querySelector('#df-f5ee5a8c-1676-43b8-8095-684d63d8f05d button');\n",
              "      quickchartButtonEl.style.display =\n",
              "        google.colab.kernel.accessAllowed ? 'block' : 'none';\n",
              "    })();\n",
              "  </script>\n",
              "</div>\n",
              "\n",
              "    </div>\n",
              "  </div>\n"
            ],
            "application/vnd.google.colaboratory.intrinsic+json": {
              "type": "dataframe",
              "repr_error": "0"
            }
          },
          "metadata": {},
          "execution_count": 199
        }
      ]
    },
    {
      "cell_type": "code",
      "source": [
        "# rashy.read_csv()\n",
        "trip = rashy.read_csv(\"/content/drive/MyDrive/ola's folder/trip.csv\")\n",
        "#dotdescribe() or.describe() ----> to view first five rows of our dataset\n",
        "trip.describe()"
      ],
      "metadata": {
        "id": "4apiwzMQix_x",
        "colab": {
          "base_uri": "https://localhost:8080/",
          "height": 300
        },
        "outputId": "7433c4b8-b1cb-4be3-f261-cf215038f586"
      },
      "execution_count": null,
      "outputs": [
        {
          "output_type": "execute_result",
          "data": {
            "text/plain": [
              "             trip_id  tripduration      birthyear\n",
              "count  236065.000000  236065.00000  146167.000000\n",
              "mean   130059.869333    1202.61221    1979.879740\n",
              "std     72842.289278    2066.42488      10.154978\n",
              "min       431.000000      60.00800    1931.000000\n",
              "25%     67746.000000     392.26500    1975.000000\n",
              "50%    130526.000000     633.23500    1983.000000\n",
              "75%    192900.000000    1145.01500    1987.000000\n",
              "max    255245.000000   28794.39800    1999.000000"
            ],
            "text/html": [
              "\n",
              "  <div id=\"df-754ebce6-d70f-41f6-b790-90b0d80ff16b\" class=\"colab-df-container\">\n",
              "    <div>\n",
              "<style scoped>\n",
              "    .dataframe tbody tr th:only-of-type {\n",
              "        vertical-align: middle;\n",
              "    }\n",
              "\n",
              "    .dataframe tbody tr th {\n",
              "        vertical-align: top;\n",
              "    }\n",
              "\n",
              "    .dataframe thead th {\n",
              "        text-align: right;\n",
              "    }\n",
              "</style>\n",
              "<table border=\"1\" class=\"dataframe\">\n",
              "  <thead>\n",
              "    <tr style=\"text-align: right;\">\n",
              "      <th></th>\n",
              "      <th>trip_id</th>\n",
              "      <th>tripduration</th>\n",
              "      <th>birthyear</th>\n",
              "    </tr>\n",
              "  </thead>\n",
              "  <tbody>\n",
              "    <tr>\n",
              "      <th>count</th>\n",
              "      <td>236065.000000</td>\n",
              "      <td>236065.00000</td>\n",
              "      <td>146167.000000</td>\n",
              "    </tr>\n",
              "    <tr>\n",
              "      <th>mean</th>\n",
              "      <td>130059.869333</td>\n",
              "      <td>1202.61221</td>\n",
              "      <td>1979.879740</td>\n",
              "    </tr>\n",
              "    <tr>\n",
              "      <th>std</th>\n",
              "      <td>72842.289278</td>\n",
              "      <td>2066.42488</td>\n",
              "      <td>10.154978</td>\n",
              "    </tr>\n",
              "    <tr>\n",
              "      <th>min</th>\n",
              "      <td>431.000000</td>\n",
              "      <td>60.00800</td>\n",
              "      <td>1931.000000</td>\n",
              "    </tr>\n",
              "    <tr>\n",
              "      <th>25%</th>\n",
              "      <td>67746.000000</td>\n",
              "      <td>392.26500</td>\n",
              "      <td>1975.000000</td>\n",
              "    </tr>\n",
              "    <tr>\n",
              "      <th>50%</th>\n",
              "      <td>130526.000000</td>\n",
              "      <td>633.23500</td>\n",
              "      <td>1983.000000</td>\n",
              "    </tr>\n",
              "    <tr>\n",
              "      <th>75%</th>\n",
              "      <td>192900.000000</td>\n",
              "      <td>1145.01500</td>\n",
              "      <td>1987.000000</td>\n",
              "    </tr>\n",
              "    <tr>\n",
              "      <th>max</th>\n",
              "      <td>255245.000000</td>\n",
              "      <td>28794.39800</td>\n",
              "      <td>1999.000000</td>\n",
              "    </tr>\n",
              "  </tbody>\n",
              "</table>\n",
              "</div>\n",
              "    <div class=\"colab-df-buttons\">\n",
              "\n",
              "  <div class=\"colab-df-container\">\n",
              "    <button class=\"colab-df-convert\" onclick=\"convertToInteractive('df-754ebce6-d70f-41f6-b790-90b0d80ff16b')\"\n",
              "            title=\"Convert this dataframe to an interactive table.\"\n",
              "            style=\"display:none;\">\n",
              "\n",
              "  <svg xmlns=\"http://www.w3.org/2000/svg\" height=\"24px\" viewBox=\"0 -960 960 960\">\n",
              "    <path d=\"M120-120v-720h720v720H120Zm60-500h600v-160H180v160Zm220 220h160v-160H400v160Zm0 220h160v-160H400v160ZM180-400h160v-160H180v160Zm440 0h160v-160H620v160ZM180-180h160v-160H180v160Zm440 0h160v-160H620v160Z\"/>\n",
              "  </svg>\n",
              "    </button>\n",
              "\n",
              "  <style>\n",
              "    .colab-df-container {\n",
              "      display:flex;\n",
              "      gap: 12px;\n",
              "    }\n",
              "\n",
              "    .colab-df-convert {\n",
              "      background-color: #E8F0FE;\n",
              "      border: none;\n",
              "      border-radius: 50%;\n",
              "      cursor: pointer;\n",
              "      display: none;\n",
              "      fill: #1967D2;\n",
              "      height: 32px;\n",
              "      padding: 0 0 0 0;\n",
              "      width: 32px;\n",
              "    }\n",
              "\n",
              "    .colab-df-convert:hover {\n",
              "      background-color: #E2EBFA;\n",
              "      box-shadow: 0px 1px 2px rgba(60, 64, 67, 0.3), 0px 1px 3px 1px rgba(60, 64, 67, 0.15);\n",
              "      fill: #174EA6;\n",
              "    }\n",
              "\n",
              "    .colab-df-buttons div {\n",
              "      margin-bottom: 4px;\n",
              "    }\n",
              "\n",
              "    [theme=dark] .colab-df-convert {\n",
              "      background-color: #3B4455;\n",
              "      fill: #D2E3FC;\n",
              "    }\n",
              "\n",
              "    [theme=dark] .colab-df-convert:hover {\n",
              "      background-color: #434B5C;\n",
              "      box-shadow: 0px 1px 3px 1px rgba(0, 0, 0, 0.15);\n",
              "      filter: drop-shadow(0px 1px 2px rgba(0, 0, 0, 0.3));\n",
              "      fill: #FFFFFF;\n",
              "    }\n",
              "  </style>\n",
              "\n",
              "    <script>\n",
              "      const buttonEl =\n",
              "        document.querySelector('#df-754ebce6-d70f-41f6-b790-90b0d80ff16b button.colab-df-convert');\n",
              "      buttonEl.style.display =\n",
              "        google.colab.kernel.accessAllowed ? 'block' : 'none';\n",
              "\n",
              "      async function convertToInteractive(key) {\n",
              "        const element = document.querySelector('#df-754ebce6-d70f-41f6-b790-90b0d80ff16b');\n",
              "        const dataTable =\n",
              "          await google.colab.kernel.invokeFunction('convertToInteractive',\n",
              "                                                    [key], {});\n",
              "        if (!dataTable) return;\n",
              "\n",
              "        const docLinkHtml = 'Like what you see? Visit the ' +\n",
              "          '<a target=\"_blank\" href=https://colab.research.google.com/notebooks/data_table.ipynb>data table notebook</a>'\n",
              "          + ' to learn more about interactive tables.';\n",
              "        element.innerHTML = '';\n",
              "        dataTable['output_type'] = 'display_data';\n",
              "        await google.colab.output.renderOutput(dataTable, element);\n",
              "        const docLink = document.createElement('div');\n",
              "        docLink.innerHTML = docLinkHtml;\n",
              "        element.appendChild(docLink);\n",
              "      }\n",
              "    </script>\n",
              "  </div>\n",
              "\n",
              "\n",
              "<div id=\"df-615e654d-c7b9-49da-bcab-52ae31fde126\">\n",
              "  <button class=\"colab-df-quickchart\" onclick=\"quickchart('df-615e654d-c7b9-49da-bcab-52ae31fde126')\"\n",
              "            title=\"Suggest charts\"\n",
              "            style=\"display:none;\">\n",
              "\n",
              "<svg xmlns=\"http://www.w3.org/2000/svg\" height=\"24px\"viewBox=\"0 0 24 24\"\n",
              "     width=\"24px\">\n",
              "    <g>\n",
              "        <path d=\"M19 3H5c-1.1 0-2 .9-2 2v14c0 1.1.9 2 2 2h14c1.1 0 2-.9 2-2V5c0-1.1-.9-2-2-2zM9 17H7v-7h2v7zm4 0h-2V7h2v10zm4 0h-2v-4h2v4z\"/>\n",
              "    </g>\n",
              "</svg>\n",
              "  </button>\n",
              "\n",
              "<style>\n",
              "  .colab-df-quickchart {\n",
              "      --bg-color: #E8F0FE;\n",
              "      --fill-color: #1967D2;\n",
              "      --hover-bg-color: #E2EBFA;\n",
              "      --hover-fill-color: #174EA6;\n",
              "      --disabled-fill-color: #AAA;\n",
              "      --disabled-bg-color: #DDD;\n",
              "  }\n",
              "\n",
              "  [theme=dark] .colab-df-quickchart {\n",
              "      --bg-color: #3B4455;\n",
              "      --fill-color: #D2E3FC;\n",
              "      --hover-bg-color: #434B5C;\n",
              "      --hover-fill-color: #FFFFFF;\n",
              "      --disabled-bg-color: #3B4455;\n",
              "      --disabled-fill-color: #666;\n",
              "  }\n",
              "\n",
              "  .colab-df-quickchart {\n",
              "    background-color: var(--bg-color);\n",
              "    border: none;\n",
              "    border-radius: 50%;\n",
              "    cursor: pointer;\n",
              "    display: none;\n",
              "    fill: var(--fill-color);\n",
              "    height: 32px;\n",
              "    padding: 0;\n",
              "    width: 32px;\n",
              "  }\n",
              "\n",
              "  .colab-df-quickchart:hover {\n",
              "    background-color: var(--hover-bg-color);\n",
              "    box-shadow: 0 1px 2px rgba(60, 64, 67, 0.3), 0 1px 3px 1px rgba(60, 64, 67, 0.15);\n",
              "    fill: var(--button-hover-fill-color);\n",
              "  }\n",
              "\n",
              "  .colab-df-quickchart-complete:disabled,\n",
              "  .colab-df-quickchart-complete:disabled:hover {\n",
              "    background-color: var(--disabled-bg-color);\n",
              "    fill: var(--disabled-fill-color);\n",
              "    box-shadow: none;\n",
              "  }\n",
              "\n",
              "  .colab-df-spinner {\n",
              "    border: 2px solid var(--fill-color);\n",
              "    border-color: transparent;\n",
              "    border-bottom-color: var(--fill-color);\n",
              "    animation:\n",
              "      spin 1s steps(1) infinite;\n",
              "  }\n",
              "\n",
              "  @keyframes spin {\n",
              "    0% {\n",
              "      border-color: transparent;\n",
              "      border-bottom-color: var(--fill-color);\n",
              "      border-left-color: var(--fill-color);\n",
              "    }\n",
              "    20% {\n",
              "      border-color: transparent;\n",
              "      border-left-color: var(--fill-color);\n",
              "      border-top-color: var(--fill-color);\n",
              "    }\n",
              "    30% {\n",
              "      border-color: transparent;\n",
              "      border-left-color: var(--fill-color);\n",
              "      border-top-color: var(--fill-color);\n",
              "      border-right-color: var(--fill-color);\n",
              "    }\n",
              "    40% {\n",
              "      border-color: transparent;\n",
              "      border-right-color: var(--fill-color);\n",
              "      border-top-color: var(--fill-color);\n",
              "    }\n",
              "    60% {\n",
              "      border-color: transparent;\n",
              "      border-right-color: var(--fill-color);\n",
              "    }\n",
              "    80% {\n",
              "      border-color: transparent;\n",
              "      border-right-color: var(--fill-color);\n",
              "      border-bottom-color: var(--fill-color);\n",
              "    }\n",
              "    90% {\n",
              "      border-color: transparent;\n",
              "      border-bottom-color: var(--fill-color);\n",
              "    }\n",
              "  }\n",
              "</style>\n",
              "\n",
              "  <script>\n",
              "    async function quickchart(key) {\n",
              "      const quickchartButtonEl =\n",
              "        document.querySelector('#' + key + ' button');\n",
              "      quickchartButtonEl.disabled = true;  // To prevent multiple clicks.\n",
              "      quickchartButtonEl.classList.add('colab-df-spinner');\n",
              "      try {\n",
              "        const charts = await google.colab.kernel.invokeFunction(\n",
              "            'suggestCharts', [key], {});\n",
              "      } catch (error) {\n",
              "        console.error('Error during call to suggestCharts:', error);\n",
              "      }\n",
              "      quickchartButtonEl.classList.remove('colab-df-spinner');\n",
              "      quickchartButtonEl.classList.add('colab-df-quickchart-complete');\n",
              "    }\n",
              "    (() => {\n",
              "      let quickchartButtonEl =\n",
              "        document.querySelector('#df-615e654d-c7b9-49da-bcab-52ae31fde126 button');\n",
              "      quickchartButtonEl.style.display =\n",
              "        google.colab.kernel.accessAllowed ? 'block' : 'none';\n",
              "    })();\n",
              "  </script>\n",
              "</div>\n",
              "\n",
              "    </div>\n",
              "  </div>\n"
            ],
            "application/vnd.google.colaboratory.intrinsic+json": {
              "type": "dataframe",
              "summary": "{\n  \"name\": \"trip\",\n  \"rows\": 8,\n  \"fields\": [\n    {\n      \"column\": \"trip_id\",\n      \"properties\": {\n        \"dtype\": \"number\",\n        \"std\": 88286.13876599481,\n        \"min\": 431.0,\n        \"max\": 255245.0,\n        \"num_unique_values\": 8,\n        \"samples\": [\n          130059.86933259908,\n          130526.0,\n          236065.0\n        ],\n        \"semantic_type\": \"\",\n        \"description\": \"\"\n      }\n    },\n    {\n      \"column\": \"tripduration\",\n      \"properties\": {\n        \"dtype\": \"number\",\n        \"std\": 82311.81282204713,\n        \"min\": 60.008,\n        \"max\": 236065.0,\n        \"num_unique_values\": 8,\n        \"samples\": [\n          1202.6122102556499,\n          633.235,\n          236065.0\n        ],\n        \"semantic_type\": \"\",\n        \"description\": \"\"\n      }\n    },\n    {\n      \"column\": \"birthyear\",\n      \"properties\": {\n        \"dtype\": \"number\",\n        \"std\": 51083.19860950053,\n        \"min\": 10.154978386244577,\n        \"max\": 146167.0,\n        \"num_unique_values\": 8,\n        \"samples\": [\n          1979.8797402970574,\n          1983.0,\n          146167.0\n        ],\n        \"semantic_type\": \"\",\n        \"description\": \"\"\n      }\n    }\n  ]\n}"
            }
          },
          "metadata": {},
          "execution_count": 7
        }
      ]
    },
    {
      "cell_type": "code",
      "source": [
        "# rashy.read_csv()\n",
        "trip = rashy.read_csv(\"/content/drive/MyDrive/ola's folder/trip.csv\")\n",
        "#dotshape or.shape ----> to view first five rows of our dataset\n",
        "trip.shape"
      ],
      "metadata": {
        "colab": {
          "base_uri": "https://localhost:8080/"
        },
        "id": "9Q0QmTtW4iFK",
        "outputId": "93846b8a-d996-422e-bbc2-c8d4bc2d0669"
      },
      "execution_count": null,
      "outputs": [
        {
          "output_type": "execute_result",
          "data": {
            "text/plain": [
              "(236065, 12)"
            ]
          },
          "metadata": {},
          "execution_count": 8
        }
      ]
    },
    {
      "cell_type": "code",
      "source": [
        "# rashy.read_csv()\n",
        "trip = rashy.read_csv(\"/content/drive/MyDrive/ola's folder/trip.csv\")\n",
        "#dotloc or.loc ----> to view first five rows of our dataset\n",
        "trip.loc"
      ],
      "metadata": {
        "colab": {
          "base_uri": "https://localhost:8080/"
        },
        "id": "boUWqZ4e4h_v",
        "outputId": "a336fda2-7f7b-423d-91b6-a87ea3a757ea"
      },
      "execution_count": null,
      "outputs": [
        {
          "output_type": "execute_result",
          "data": {
            "text/plain": [
              "<pandas.core.indexing._LocIndexer at 0x7a6213ee78d0>"
            ]
          },
          "metadata": {},
          "execution_count": 9
        }
      ]
    },
    {
      "cell_type": "code",
      "source": [
        "# rashy.read_csv()\n",
        "trip = rashy.read_csv(\"/content/drive/MyDrive/ola's folder/trip.csv\")\n",
        "#dotiloc or.iloc ----> to access data by in integers index of our dataset\n",
        "trip.iloc"
      ],
      "metadata": {
        "colab": {
          "base_uri": "https://localhost:8080/"
        },
        "id": "HpaxM76g4h6Y",
        "outputId": "167ba054-bd0b-477a-bcdf-8bc960cd37f8"
      },
      "execution_count": null,
      "outputs": [
        {
          "output_type": "execute_result",
          "data": {
            "text/plain": [
              "<pandas.core.indexing._iLocIndexer at 0x7a62166b3ec0>"
            ]
          },
          "metadata": {},
          "execution_count": 10
        }
      ]
    },
    {
      "cell_type": "code",
      "source": [
        "# rashy.read_csv()\n",
        "trip = rashy.read_csv(\"/content/drive/MyDrive/ola's folder/trip.csv\")\n",
        "#dotfillna or.fillna ----> to fill missing values of our dataset\n",
        "trip.fillna"
      ],
      "metadata": {
        "colab": {
          "base_uri": "https://localhost:8080/",
          "height": 221
        },
        "id": "KJpcNQKs4h12",
        "outputId": "7ab51c25-0570-4078-8a94-1ecca60afdf8"
      },
      "execution_count": null,
      "outputs": [
        {
          "output_type": "execute_result",
          "data": {
            "text/plain": [
              "<bound method NDFrame.fillna of         trip_id         starttime          stoptime    bikeid  tripduration  \\\n",
              "0           431  10/13/2014 10:31  10/13/2014 10:48  SEA00298       985.935   \n",
              "1           432  10/13/2014 10:32  10/13/2014 10:48  SEA00195       926.375   \n",
              "2           433  10/13/2014 10:33  10/13/2014 10:48  SEA00486       883.831   \n",
              "3           434  10/13/2014 10:34  10/13/2014 10:48  SEA00333       865.937   \n",
              "4           435  10/13/2014 10:34  10/13/2014 10:49  SEA00202       923.923   \n",
              "...         ...               ...               ...       ...           ...   \n",
              "236060   255241   8/31/2016 23:34   8/31/2016 23:45  SEA00201       679.532   \n",
              "236061   255242   8/31/2016 23:48     9/1/2016 0:20  SEA00247      1965.418   \n",
              "236062   255243   8/31/2016 23:47     9/1/2016 0:20  SEA00300      1951.173   \n",
              "236063   255244   8/31/2016 23:49     9/1/2016 0:20  SEA00047      1883.299   \n",
              "236064   255245   8/31/2016 23:49     9/1/2016 0:20  SEA00442      1896.031   \n",
              "\n",
              "                             from_station_name  \\\n",
              "0                          2nd Ave & Spring St   \n",
              "1                          2nd Ave & Spring St   \n",
              "2                          2nd Ave & Spring St   \n",
              "3                          2nd Ave & Spring St   \n",
              "4                          2nd Ave & Spring St   \n",
              "...                                        ...   \n",
              "236060                 Harvard Ave & E Pine St   \n",
              "236061  Cal Anderson Park / 11th Ave & Pine St   \n",
              "236062  Cal Anderson Park / 11th Ave & Pine St   \n",
              "236063  Cal Anderson Park / 11th Ave & Pine St   \n",
              "236064  Cal Anderson Park / 11th Ave & Pine St   \n",
              "\n",
              "                                          to_station_name from_station_id  \\\n",
              "0       Occidental Park / Occidental Ave S & S Washing...          CBD-06   \n",
              "1       Occidental Park / Occidental Ave S & S Washing...          CBD-06   \n",
              "2       Occidental Park / Occidental Ave S & S Washing...          CBD-06   \n",
              "3       Occidental Park / Occidental Ave S & S Washing...          CBD-06   \n",
              "4       Occidental Park / Occidental Ave S & S Washing...          CBD-06   \n",
              "...                                                   ...             ...   \n",
              "236060                                2nd Ave & Spring St           CH-09   \n",
              "236061                              6th Ave S & S King St           CH-08   \n",
              "236062                              6th Ave S & S King St           CH-08   \n",
              "236063                              6th Ave S & S King St           CH-08   \n",
              "236064                              6th Ave S & S King St           CH-08   \n",
              "\n",
              "       to_station_id                usertype  gender  birthyear  \n",
              "0              PS-04                  Member    Male     1960.0  \n",
              "1              PS-04                  Member    Male     1970.0  \n",
              "2              PS-04                  Member  Female     1988.0  \n",
              "3              PS-04                  Member  Female     1977.0  \n",
              "4              PS-04                  Member    Male     1971.0  \n",
              "...              ...                     ...     ...        ...  \n",
              "236060        CBD-06  Short-Term Pass Holder     NaN        NaN  \n",
              "236061         ID-04  Short-Term Pass Holder     NaN        NaN  \n",
              "236062         ID-04  Short-Term Pass Holder     NaN        NaN  \n",
              "236063         ID-04  Short-Term Pass Holder     NaN        NaN  \n",
              "236064         ID-04  Short-Term Pass Holder     NaN        NaN  \n",
              "\n",
              "[236065 rows x 12 columns]>"
            ],
            "text/html": [
              "<div style=\"max-width:800px; border: 1px solid var(--colab-border-color);\"><style>\n",
              "      pre.function-repr-contents {\n",
              "        overflow-x: auto;\n",
              "        padding: 8px 12px;\n",
              "        max-height: 500px;\n",
              "      }\n",
              "\n",
              "      pre.function-repr-contents.function-repr-contents-collapsed {\n",
              "        cursor: pointer;\n",
              "        max-height: 100px;\n",
              "      }\n",
              "    </style>\n",
              "    <pre style=\"white-space: initial; background:\n",
              "         var(--colab-secondary-surface-color); padding: 8px 12px;\n",
              "         border-bottom: 1px solid var(--colab-border-color);\"><b>pandas.core.generic.NDFrame.fillna</b><br/>def fillna(value: Hashable | Mapping | Series | DataFrame | None=None, *, method: FillnaOptions | None=None, axis: Axis | None=None, inplace: bool_t=False, limit: int | None=None, downcast: dict | None | lib.NoDefault=lib.no_default) -&gt; Self | None</pre><pre class=\"function-repr-contents function-repr-contents-collapsed\" style=\"\"><a class=\"filepath\" style=\"display:none\" href=\"#\">/usr/local/lib/python3.10/dist-packages/pandas/core/generic.py</a>Fill NA/NaN values using the specified method.\n",
              "\n",
              "Parameters\n",
              "----------\n",
              "value : scalar, dict, Series, or DataFrame\n",
              "    Value to use to fill holes (e.g. 0), alternately a\n",
              "    dict/Series/DataFrame of values specifying which value to use for\n",
              "    each index (for a Series) or column (for a DataFrame).  Values not\n",
              "    in the dict/Series/DataFrame will not be filled. This value cannot\n",
              "    be a list.\n",
              "method : {&#x27;backfill&#x27;, &#x27;bfill&#x27;, &#x27;ffill&#x27;, None}, default None\n",
              "    Method to use for filling holes in reindexed Series:\n",
              "\n",
              "    * ffill: propagate last valid observation forward to next valid.\n",
              "    * backfill / bfill: use next valid observation to fill gap.\n",
              "\n",
              "    .. deprecated:: 2.1.0\n",
              "        Use ffill or bfill instead.\n",
              "\n",
              "axis : {0 or &#x27;index&#x27;} for Series, {0 or &#x27;index&#x27;, 1 or &#x27;columns&#x27;} for DataFrame\n",
              "    Axis along which to fill missing values. For `Series`\n",
              "    this parameter is unused and defaults to 0.\n",
              "inplace : bool, default False\n",
              "    If True, fill in-place. Note: this will modify any\n",
              "    other views on this object (e.g., a no-copy slice for a column in a\n",
              "    DataFrame).\n",
              "limit : int, default None\n",
              "    If method is specified, this is the maximum number of consecutive\n",
              "    NaN values to forward/backward fill. In other words, if there is\n",
              "    a gap with more than this number of consecutive NaNs, it will only\n",
              "    be partially filled. If method is not specified, this is the\n",
              "    maximum number of entries along the entire axis where NaNs will be\n",
              "    filled. Must be greater than 0 if not None.\n",
              "downcast : dict, default is None\n",
              "    A dict of item-&gt;dtype of what to downcast if possible,\n",
              "    or the string &#x27;infer&#x27; which will try to downcast to an appropriate\n",
              "    equal type (e.g. float64 to int64 if possible).\n",
              "\n",
              "    .. deprecated:: 2.2.0\n",
              "\n",
              "Returns\n",
              "-------\n",
              "Series/DataFrame or None\n",
              "    Object with missing values filled or None if ``inplace=True``.\n",
              "\n",
              "See Also\n",
              "--------\n",
              "ffill : Fill values by propagating the last valid observation to next valid.\n",
              "bfill : Fill values by using the next valid observation to fill the gap.\n",
              "interpolate : Fill NaN values using interpolation.\n",
              "reindex : Conform object to new index.\n",
              "asfreq : Convert TimeSeries to specified frequency.\n",
              "\n",
              "Examples\n",
              "--------\n",
              "&gt;&gt;&gt; df = pd.DataFrame([[np.nan, 2, np.nan, 0],\n",
              "...                    [3, 4, np.nan, 1],\n",
              "...                    [np.nan, np.nan, np.nan, np.nan],\n",
              "...                    [np.nan, 3, np.nan, 4]],\n",
              "...                   columns=list(&quot;ABCD&quot;))\n",
              "&gt;&gt;&gt; df\n",
              "     A    B   C    D\n",
              "0  NaN  2.0 NaN  0.0\n",
              "1  3.0  4.0 NaN  1.0\n",
              "2  NaN  NaN NaN  NaN\n",
              "3  NaN  3.0 NaN  4.0\n",
              "\n",
              "Replace all NaN elements with 0s.\n",
              "\n",
              "&gt;&gt;&gt; df.fillna(0)\n",
              "     A    B    C    D\n",
              "0  0.0  2.0  0.0  0.0\n",
              "1  3.0  4.0  0.0  1.0\n",
              "2  0.0  0.0  0.0  0.0\n",
              "3  0.0  3.0  0.0  4.0\n",
              "\n",
              "Replace all NaN elements in column &#x27;A&#x27;, &#x27;B&#x27;, &#x27;C&#x27;, and &#x27;D&#x27;, with 0, 1,\n",
              "2, and 3 respectively.\n",
              "\n",
              "&gt;&gt;&gt; values = {&quot;A&quot;: 0, &quot;B&quot;: 1, &quot;C&quot;: 2, &quot;D&quot;: 3}\n",
              "&gt;&gt;&gt; df.fillna(value=values)\n",
              "     A    B    C    D\n",
              "0  0.0  2.0  2.0  0.0\n",
              "1  3.0  4.0  2.0  1.0\n",
              "2  0.0  1.0  2.0  3.0\n",
              "3  0.0  3.0  2.0  4.0\n",
              "\n",
              "Only replace the first NaN element.\n",
              "\n",
              "&gt;&gt;&gt; df.fillna(value=values, limit=1)\n",
              "     A    B    C    D\n",
              "0  0.0  2.0  2.0  0.0\n",
              "1  3.0  4.0  NaN  1.0\n",
              "2  NaN  1.0  NaN  3.0\n",
              "3  NaN  3.0  NaN  4.0\n",
              "\n",
              "When filling using a DataFrame, replacement happens along\n",
              "the same column names and same indices\n",
              "\n",
              "&gt;&gt;&gt; df2 = pd.DataFrame(np.zeros((4, 4)), columns=list(&quot;ABCE&quot;))\n",
              "&gt;&gt;&gt; df.fillna(df2)\n",
              "     A    B    C    D\n",
              "0  0.0  2.0  0.0  0.0\n",
              "1  3.0  4.0  0.0  1.0\n",
              "2  0.0  0.0  0.0  NaN\n",
              "3  0.0  3.0  0.0  4.0\n",
              "\n",
              "Note that column D is not affected since it is not present in df2.</pre>\n",
              "      <script>\n",
              "      if (google.colab.kernel.accessAllowed && google.colab.files && google.colab.files.view) {\n",
              "        for (const element of document.querySelectorAll('.filepath')) {\n",
              "          element.style.display = 'block'\n",
              "          element.onclick = (event) => {\n",
              "            event.preventDefault();\n",
              "            event.stopPropagation();\n",
              "            google.colab.files.view(element.textContent, 7142);\n",
              "          };\n",
              "        }\n",
              "      }\n",
              "      for (const element of document.querySelectorAll('.function-repr-contents')) {\n",
              "        element.onclick = (event) => {\n",
              "          event.preventDefault();\n",
              "          event.stopPropagation();\n",
              "          element.classList.toggle('function-repr-contents-collapsed');\n",
              "        };\n",
              "      }\n",
              "      </script>\n",
              "      </div>"
            ]
          },
          "metadata": {},
          "execution_count": 11
        }
      ]
    },
    {
      "cell_type": "code",
      "source": [
        "# rashy.read_csv()\n",
        "trip = rashy.read_csv(\"/content/drive/MyDrive/ola's folder/trip.csv\")\n",
        "#dotdropna() or.dropna() ----> to view first five rows of our dataset\n",
        "trip.dropna()"
      ],
      "metadata": {
        "colab": {
          "base_uri": "https://localhost:8080/",
          "height": 721
        },
        "id": "HUgkf2yK4hwY",
        "outputId": "797515df-ab41-47bb-e16b-35f0f04d14b8"
      },
      "execution_count": null,
      "outputs": [
        {
          "output_type": "execute_result",
          "data": {
            "text/plain": [
              "        trip_id         starttime          stoptime    bikeid  tripduration  \\\n",
              "0           431  10/13/2014 10:31  10/13/2014 10:48  SEA00298       985.935   \n",
              "1           432  10/13/2014 10:32  10/13/2014 10:48  SEA00195       926.375   \n",
              "2           433  10/13/2014 10:33  10/13/2014 10:48  SEA00486       883.831   \n",
              "3           434  10/13/2014 10:34  10/13/2014 10:48  SEA00333       865.937   \n",
              "4           435  10/13/2014 10:34  10/13/2014 10:49  SEA00202       923.923   \n",
              "...         ...               ...               ...       ...           ...   \n",
              "236051   255232   8/31/2016 21:59   8/31/2016 22:04  SEA00499       308.484   \n",
              "236052   255233   8/31/2016 22:02   8/31/2016 22:17  SEA00074       905.417   \n",
              "236053   255234   8/31/2016 22:02   8/31/2016 22:17  SEA00448       879.160   \n",
              "236055   255236   8/31/2016 22:13   8/31/2016 22:25  SEA00254       674.993   \n",
              "236056   255237   8/31/2016 22:37   8/31/2016 22:39  SEA00330       144.477   \n",
              "\n",
              "                          from_station_name  \\\n",
              "0                       2nd Ave & Spring St   \n",
              "1                       2nd Ave & Spring St   \n",
              "2                       2nd Ave & Spring St   \n",
              "3                       2nd Ave & Spring St   \n",
              "4                       2nd Ave & Spring St   \n",
              "...                                     ...   \n",
              "236051       E Harrison St & Broadway Ave E   \n",
              "236052  Key Arena / 1st Ave N & Harrison St   \n",
              "236053  Key Arena / 1st Ave N & Harrison St   \n",
              "236055                   3rd Ave & Broad St   \n",
              "236056             Summit Ave & E Denny Way   \n",
              "\n",
              "                                          to_station_name from_station_id  \\\n",
              "0       Occidental Park / Occidental Ave S & S Washing...          CBD-06   \n",
              "1       Occidental Park / Occidental Ave S & S Washing...          CBD-06   \n",
              "2       Occidental Park / Occidental Ave S & S Washing...          CBD-06   \n",
              "3       Occidental Park / Occidental Ave S & S Washing...          CBD-06   \n",
              "4       Occidental Park / Occidental Ave S & S Washing...          CBD-06   \n",
              "...                                                   ...             ...   \n",
              "236051                           Bellevue Ave & E Pine St           CH-02   \n",
              "236052                    Pier 66 / Alaskan Way & Bell St          SLU-19   \n",
              "236053                    Pier 66 / Alaskan Way & Bell St          SLU-19   \n",
              "236055  Occidental Park / Occidental Ave S & S Washing...           BT-01   \n",
              "236056                     Summit Ave E & E Republican St           CH-01   \n",
              "\n",
              "       to_station_id usertype  gender  birthyear  \n",
              "0              PS-04   Member    Male     1960.0  \n",
              "1              PS-04   Member    Male     1970.0  \n",
              "2              PS-04   Member  Female     1988.0  \n",
              "3              PS-04   Member  Female     1977.0  \n",
              "4              PS-04   Member    Male     1971.0  \n",
              "...              ...      ...     ...        ...  \n",
              "236051         CH-12   Member    Male     1989.0  \n",
              "236052         WF-03   Member  Female     1974.0  \n",
              "236053         WF-03   Member    Male     1981.0  \n",
              "236055         PS-04   Member    Male     1984.0  \n",
              "236056         CH-03   Member    Male     1990.0  \n",
              "\n",
              "[146167 rows x 12 columns]"
            ],
            "text/html": [
              "\n",
              "  <div id=\"df-08d203c0-848e-4880-9860-06d1228f703e\" class=\"colab-df-container\">\n",
              "    <div>\n",
              "<style scoped>\n",
              "    .dataframe tbody tr th:only-of-type {\n",
              "        vertical-align: middle;\n",
              "    }\n",
              "\n",
              "    .dataframe tbody tr th {\n",
              "        vertical-align: top;\n",
              "    }\n",
              "\n",
              "    .dataframe thead th {\n",
              "        text-align: right;\n",
              "    }\n",
              "</style>\n",
              "<table border=\"1\" class=\"dataframe\">\n",
              "  <thead>\n",
              "    <tr style=\"text-align: right;\">\n",
              "      <th></th>\n",
              "      <th>trip_id</th>\n",
              "      <th>starttime</th>\n",
              "      <th>stoptime</th>\n",
              "      <th>bikeid</th>\n",
              "      <th>tripduration</th>\n",
              "      <th>from_station_name</th>\n",
              "      <th>to_station_name</th>\n",
              "      <th>from_station_id</th>\n",
              "      <th>to_station_id</th>\n",
              "      <th>usertype</th>\n",
              "      <th>gender</th>\n",
              "      <th>birthyear</th>\n",
              "    </tr>\n",
              "  </thead>\n",
              "  <tbody>\n",
              "    <tr>\n",
              "      <th>0</th>\n",
              "      <td>431</td>\n",
              "      <td>10/13/2014 10:31</td>\n",
              "      <td>10/13/2014 10:48</td>\n",
              "      <td>SEA00298</td>\n",
              "      <td>985.935</td>\n",
              "      <td>2nd Ave &amp; Spring St</td>\n",
              "      <td>Occidental Park / Occidental Ave S &amp; S Washing...</td>\n",
              "      <td>CBD-06</td>\n",
              "      <td>PS-04</td>\n",
              "      <td>Member</td>\n",
              "      <td>Male</td>\n",
              "      <td>1960.0</td>\n",
              "    </tr>\n",
              "    <tr>\n",
              "      <th>1</th>\n",
              "      <td>432</td>\n",
              "      <td>10/13/2014 10:32</td>\n",
              "      <td>10/13/2014 10:48</td>\n",
              "      <td>SEA00195</td>\n",
              "      <td>926.375</td>\n",
              "      <td>2nd Ave &amp; Spring St</td>\n",
              "      <td>Occidental Park / Occidental Ave S &amp; S Washing...</td>\n",
              "      <td>CBD-06</td>\n",
              "      <td>PS-04</td>\n",
              "      <td>Member</td>\n",
              "      <td>Male</td>\n",
              "      <td>1970.0</td>\n",
              "    </tr>\n",
              "    <tr>\n",
              "      <th>2</th>\n",
              "      <td>433</td>\n",
              "      <td>10/13/2014 10:33</td>\n",
              "      <td>10/13/2014 10:48</td>\n",
              "      <td>SEA00486</td>\n",
              "      <td>883.831</td>\n",
              "      <td>2nd Ave &amp; Spring St</td>\n",
              "      <td>Occidental Park / Occidental Ave S &amp; S Washing...</td>\n",
              "      <td>CBD-06</td>\n",
              "      <td>PS-04</td>\n",
              "      <td>Member</td>\n",
              "      <td>Female</td>\n",
              "      <td>1988.0</td>\n",
              "    </tr>\n",
              "    <tr>\n",
              "      <th>3</th>\n",
              "      <td>434</td>\n",
              "      <td>10/13/2014 10:34</td>\n",
              "      <td>10/13/2014 10:48</td>\n",
              "      <td>SEA00333</td>\n",
              "      <td>865.937</td>\n",
              "      <td>2nd Ave &amp; Spring St</td>\n",
              "      <td>Occidental Park / Occidental Ave S &amp; S Washing...</td>\n",
              "      <td>CBD-06</td>\n",
              "      <td>PS-04</td>\n",
              "      <td>Member</td>\n",
              "      <td>Female</td>\n",
              "      <td>1977.0</td>\n",
              "    </tr>\n",
              "    <tr>\n",
              "      <th>4</th>\n",
              "      <td>435</td>\n",
              "      <td>10/13/2014 10:34</td>\n",
              "      <td>10/13/2014 10:49</td>\n",
              "      <td>SEA00202</td>\n",
              "      <td>923.923</td>\n",
              "      <td>2nd Ave &amp; Spring St</td>\n",
              "      <td>Occidental Park / Occidental Ave S &amp; S Washing...</td>\n",
              "      <td>CBD-06</td>\n",
              "      <td>PS-04</td>\n",
              "      <td>Member</td>\n",
              "      <td>Male</td>\n",
              "      <td>1971.0</td>\n",
              "    </tr>\n",
              "    <tr>\n",
              "      <th>...</th>\n",
              "      <td>...</td>\n",
              "      <td>...</td>\n",
              "      <td>...</td>\n",
              "      <td>...</td>\n",
              "      <td>...</td>\n",
              "      <td>...</td>\n",
              "      <td>...</td>\n",
              "      <td>...</td>\n",
              "      <td>...</td>\n",
              "      <td>...</td>\n",
              "      <td>...</td>\n",
              "      <td>...</td>\n",
              "    </tr>\n",
              "    <tr>\n",
              "      <th>236051</th>\n",
              "      <td>255232</td>\n",
              "      <td>8/31/2016 21:59</td>\n",
              "      <td>8/31/2016 22:04</td>\n",
              "      <td>SEA00499</td>\n",
              "      <td>308.484</td>\n",
              "      <td>E Harrison St &amp; Broadway Ave E</td>\n",
              "      <td>Bellevue Ave &amp; E Pine St</td>\n",
              "      <td>CH-02</td>\n",
              "      <td>CH-12</td>\n",
              "      <td>Member</td>\n",
              "      <td>Male</td>\n",
              "      <td>1989.0</td>\n",
              "    </tr>\n",
              "    <tr>\n",
              "      <th>236052</th>\n",
              "      <td>255233</td>\n",
              "      <td>8/31/2016 22:02</td>\n",
              "      <td>8/31/2016 22:17</td>\n",
              "      <td>SEA00074</td>\n",
              "      <td>905.417</td>\n",
              "      <td>Key Arena / 1st Ave N &amp; Harrison St</td>\n",
              "      <td>Pier 66 / Alaskan Way &amp; Bell St</td>\n",
              "      <td>SLU-19</td>\n",
              "      <td>WF-03</td>\n",
              "      <td>Member</td>\n",
              "      <td>Female</td>\n",
              "      <td>1974.0</td>\n",
              "    </tr>\n",
              "    <tr>\n",
              "      <th>236053</th>\n",
              "      <td>255234</td>\n",
              "      <td>8/31/2016 22:02</td>\n",
              "      <td>8/31/2016 22:17</td>\n",
              "      <td>SEA00448</td>\n",
              "      <td>879.160</td>\n",
              "      <td>Key Arena / 1st Ave N &amp; Harrison St</td>\n",
              "      <td>Pier 66 / Alaskan Way &amp; Bell St</td>\n",
              "      <td>SLU-19</td>\n",
              "      <td>WF-03</td>\n",
              "      <td>Member</td>\n",
              "      <td>Male</td>\n",
              "      <td>1981.0</td>\n",
              "    </tr>\n",
              "    <tr>\n",
              "      <th>236055</th>\n",
              "      <td>255236</td>\n",
              "      <td>8/31/2016 22:13</td>\n",
              "      <td>8/31/2016 22:25</td>\n",
              "      <td>SEA00254</td>\n",
              "      <td>674.993</td>\n",
              "      <td>3rd Ave &amp; Broad St</td>\n",
              "      <td>Occidental Park / Occidental Ave S &amp; S Washing...</td>\n",
              "      <td>BT-01</td>\n",
              "      <td>PS-04</td>\n",
              "      <td>Member</td>\n",
              "      <td>Male</td>\n",
              "      <td>1984.0</td>\n",
              "    </tr>\n",
              "    <tr>\n",
              "      <th>236056</th>\n",
              "      <td>255237</td>\n",
              "      <td>8/31/2016 22:37</td>\n",
              "      <td>8/31/2016 22:39</td>\n",
              "      <td>SEA00330</td>\n",
              "      <td>144.477</td>\n",
              "      <td>Summit Ave &amp; E Denny Way</td>\n",
              "      <td>Summit Ave E &amp; E Republican St</td>\n",
              "      <td>CH-01</td>\n",
              "      <td>CH-03</td>\n",
              "      <td>Member</td>\n",
              "      <td>Male</td>\n",
              "      <td>1990.0</td>\n",
              "    </tr>\n",
              "  </tbody>\n",
              "</table>\n",
              "<p>146167 rows × 12 columns</p>\n",
              "</div>\n",
              "    <div class=\"colab-df-buttons\">\n",
              "\n",
              "  <div class=\"colab-df-container\">\n",
              "    <button class=\"colab-df-convert\" onclick=\"convertToInteractive('df-08d203c0-848e-4880-9860-06d1228f703e')\"\n",
              "            title=\"Convert this dataframe to an interactive table.\"\n",
              "            style=\"display:none;\">\n",
              "\n",
              "  <svg xmlns=\"http://www.w3.org/2000/svg\" height=\"24px\" viewBox=\"0 -960 960 960\">\n",
              "    <path d=\"M120-120v-720h720v720H120Zm60-500h600v-160H180v160Zm220 220h160v-160H400v160Zm0 220h160v-160H400v160ZM180-400h160v-160H180v160Zm440 0h160v-160H620v160ZM180-180h160v-160H180v160Zm440 0h160v-160H620v160Z\"/>\n",
              "  </svg>\n",
              "    </button>\n",
              "\n",
              "  <style>\n",
              "    .colab-df-container {\n",
              "      display:flex;\n",
              "      gap: 12px;\n",
              "    }\n",
              "\n",
              "    .colab-df-convert {\n",
              "      background-color: #E8F0FE;\n",
              "      border: none;\n",
              "      border-radius: 50%;\n",
              "      cursor: pointer;\n",
              "      display: none;\n",
              "      fill: #1967D2;\n",
              "      height: 32px;\n",
              "      padding: 0 0 0 0;\n",
              "      width: 32px;\n",
              "    }\n",
              "\n",
              "    .colab-df-convert:hover {\n",
              "      background-color: #E2EBFA;\n",
              "      box-shadow: 0px 1px 2px rgba(60, 64, 67, 0.3), 0px 1px 3px 1px rgba(60, 64, 67, 0.15);\n",
              "      fill: #174EA6;\n",
              "    }\n",
              "\n",
              "    .colab-df-buttons div {\n",
              "      margin-bottom: 4px;\n",
              "    }\n",
              "\n",
              "    [theme=dark] .colab-df-convert {\n",
              "      background-color: #3B4455;\n",
              "      fill: #D2E3FC;\n",
              "    }\n",
              "\n",
              "    [theme=dark] .colab-df-convert:hover {\n",
              "      background-color: #434B5C;\n",
              "      box-shadow: 0px 1px 3px 1px rgba(0, 0, 0, 0.15);\n",
              "      filter: drop-shadow(0px 1px 2px rgba(0, 0, 0, 0.3));\n",
              "      fill: #FFFFFF;\n",
              "    }\n",
              "  </style>\n",
              "\n",
              "    <script>\n",
              "      const buttonEl =\n",
              "        document.querySelector('#df-08d203c0-848e-4880-9860-06d1228f703e button.colab-df-convert');\n",
              "      buttonEl.style.display =\n",
              "        google.colab.kernel.accessAllowed ? 'block' : 'none';\n",
              "\n",
              "      async function convertToInteractive(key) {\n",
              "        const element = document.querySelector('#df-08d203c0-848e-4880-9860-06d1228f703e');\n",
              "        const dataTable =\n",
              "          await google.colab.kernel.invokeFunction('convertToInteractive',\n",
              "                                                    [key], {});\n",
              "        if (!dataTable) return;\n",
              "\n",
              "        const docLinkHtml = 'Like what you see? Visit the ' +\n",
              "          '<a target=\"_blank\" href=https://colab.research.google.com/notebooks/data_table.ipynb>data table notebook</a>'\n",
              "          + ' to learn more about interactive tables.';\n",
              "        element.innerHTML = '';\n",
              "        dataTable['output_type'] = 'display_data';\n",
              "        await google.colab.output.renderOutput(dataTable, element);\n",
              "        const docLink = document.createElement('div');\n",
              "        docLink.innerHTML = docLinkHtml;\n",
              "        element.appendChild(docLink);\n",
              "      }\n",
              "    </script>\n",
              "  </div>\n",
              "\n",
              "\n",
              "<div id=\"df-fe26a2a1-ea15-4a5e-a079-bcce13df0058\">\n",
              "  <button class=\"colab-df-quickchart\" onclick=\"quickchart('df-fe26a2a1-ea15-4a5e-a079-bcce13df0058')\"\n",
              "            title=\"Suggest charts\"\n",
              "            style=\"display:none;\">\n",
              "\n",
              "<svg xmlns=\"http://www.w3.org/2000/svg\" height=\"24px\"viewBox=\"0 0 24 24\"\n",
              "     width=\"24px\">\n",
              "    <g>\n",
              "        <path d=\"M19 3H5c-1.1 0-2 .9-2 2v14c0 1.1.9 2 2 2h14c1.1 0 2-.9 2-2V5c0-1.1-.9-2-2-2zM9 17H7v-7h2v7zm4 0h-2V7h2v10zm4 0h-2v-4h2v4z\"/>\n",
              "    </g>\n",
              "</svg>\n",
              "  </button>\n",
              "\n",
              "<style>\n",
              "  .colab-df-quickchart {\n",
              "      --bg-color: #E8F0FE;\n",
              "      --fill-color: #1967D2;\n",
              "      --hover-bg-color: #E2EBFA;\n",
              "      --hover-fill-color: #174EA6;\n",
              "      --disabled-fill-color: #AAA;\n",
              "      --disabled-bg-color: #DDD;\n",
              "  }\n",
              "\n",
              "  [theme=dark] .colab-df-quickchart {\n",
              "      --bg-color: #3B4455;\n",
              "      --fill-color: #D2E3FC;\n",
              "      --hover-bg-color: #434B5C;\n",
              "      --hover-fill-color: #FFFFFF;\n",
              "      --disabled-bg-color: #3B4455;\n",
              "      --disabled-fill-color: #666;\n",
              "  }\n",
              "\n",
              "  .colab-df-quickchart {\n",
              "    background-color: var(--bg-color);\n",
              "    border: none;\n",
              "    border-radius: 50%;\n",
              "    cursor: pointer;\n",
              "    display: none;\n",
              "    fill: var(--fill-color);\n",
              "    height: 32px;\n",
              "    padding: 0;\n",
              "    width: 32px;\n",
              "  }\n",
              "\n",
              "  .colab-df-quickchart:hover {\n",
              "    background-color: var(--hover-bg-color);\n",
              "    box-shadow: 0 1px 2px rgba(60, 64, 67, 0.3), 0 1px 3px 1px rgba(60, 64, 67, 0.15);\n",
              "    fill: var(--button-hover-fill-color);\n",
              "  }\n",
              "\n",
              "  .colab-df-quickchart-complete:disabled,\n",
              "  .colab-df-quickchart-complete:disabled:hover {\n",
              "    background-color: var(--disabled-bg-color);\n",
              "    fill: var(--disabled-fill-color);\n",
              "    box-shadow: none;\n",
              "  }\n",
              "\n",
              "  .colab-df-spinner {\n",
              "    border: 2px solid var(--fill-color);\n",
              "    border-color: transparent;\n",
              "    border-bottom-color: var(--fill-color);\n",
              "    animation:\n",
              "      spin 1s steps(1) infinite;\n",
              "  }\n",
              "\n",
              "  @keyframes spin {\n",
              "    0% {\n",
              "      border-color: transparent;\n",
              "      border-bottom-color: var(--fill-color);\n",
              "      border-left-color: var(--fill-color);\n",
              "    }\n",
              "    20% {\n",
              "      border-color: transparent;\n",
              "      border-left-color: var(--fill-color);\n",
              "      border-top-color: var(--fill-color);\n",
              "    }\n",
              "    30% {\n",
              "      border-color: transparent;\n",
              "      border-left-color: var(--fill-color);\n",
              "      border-top-color: var(--fill-color);\n",
              "      border-right-color: var(--fill-color);\n",
              "    }\n",
              "    40% {\n",
              "      border-color: transparent;\n",
              "      border-right-color: var(--fill-color);\n",
              "      border-top-color: var(--fill-color);\n",
              "    }\n",
              "    60% {\n",
              "      border-color: transparent;\n",
              "      border-right-color: var(--fill-color);\n",
              "    }\n",
              "    80% {\n",
              "      border-color: transparent;\n",
              "      border-right-color: var(--fill-color);\n",
              "      border-bottom-color: var(--fill-color);\n",
              "    }\n",
              "    90% {\n",
              "      border-color: transparent;\n",
              "      border-bottom-color: var(--fill-color);\n",
              "    }\n",
              "  }\n",
              "</style>\n",
              "\n",
              "  <script>\n",
              "    async function quickchart(key) {\n",
              "      const quickchartButtonEl =\n",
              "        document.querySelector('#' + key + ' button');\n",
              "      quickchartButtonEl.disabled = true;  // To prevent multiple clicks.\n",
              "      quickchartButtonEl.classList.add('colab-df-spinner');\n",
              "      try {\n",
              "        const charts = await google.colab.kernel.invokeFunction(\n",
              "            'suggestCharts', [key], {});\n",
              "      } catch (error) {\n",
              "        console.error('Error during call to suggestCharts:', error);\n",
              "      }\n",
              "      quickchartButtonEl.classList.remove('colab-df-spinner');\n",
              "      quickchartButtonEl.classList.add('colab-df-quickchart-complete');\n",
              "    }\n",
              "    (() => {\n",
              "      let quickchartButtonEl =\n",
              "        document.querySelector('#df-fe26a2a1-ea15-4a5e-a079-bcce13df0058 button');\n",
              "      quickchartButtonEl.style.display =\n",
              "        google.colab.kernel.accessAllowed ? 'block' : 'none';\n",
              "    })();\n",
              "  </script>\n",
              "</div>\n",
              "\n",
              "    </div>\n",
              "  </div>\n"
            ],
            "application/vnd.google.colaboratory.intrinsic+json": {
              "type": "dataframe"
            }
          },
          "metadata": {},
          "execution_count": 12
        }
      ]
    },
    {
      "cell_type": "code",
      "source": [
        "# subsetting your dataset"
      ],
      "metadata": {
        "id": "VJSiaFfj5Ys-"
      },
      "execution_count": null,
      "outputs": []
    },
    {
      "cell_type": "code",
      "source": [
        "trip.columns"
      ],
      "metadata": {
        "colab": {
          "base_uri": "https://localhost:8080/"
        },
        "id": "_PUXci4b5wsi",
        "outputId": "cce7594f-f4a2-4788-eacd-fab9ea6c2feb"
      },
      "execution_count": null,
      "outputs": [
        {
          "output_type": "execute_result",
          "data": {
            "text/plain": [
              "Index(['trip_id', 'starttime', 'stoptime', 'bikeid', 'tripduration',\n",
              "       'from_station_name', 'to_station_name', 'from_station_id',\n",
              "       'to_station_id', 'usertype', 'gender', 'birthyear'],\n",
              "      dtype='object')"
            ]
          },
          "metadata": {},
          "execution_count": 14
        }
      ]
    },
    {
      "cell_type": "code",
      "source": [
        "# another method subsetting"
      ],
      "metadata": {
        "id": "wbLZ4C6o5wnF"
      },
      "execution_count": null,
      "outputs": []
    },
    {
      "cell_type": "code",
      "source": [
        "trip[[\"trip_id\" ,\"starttime\", \"bikeid\", \"tripduration\"]]"
      ],
      "metadata": {
        "colab": {
          "base_uri": "https://localhost:8080/",
          "height": 423
        },
        "id": "Ld4Lvtyp5wh3",
        "outputId": "c12da3c2-b301-4f65-c6ab-fe22a35c3954"
      },
      "execution_count": null,
      "outputs": [
        {
          "output_type": "execute_result",
          "data": {
            "text/plain": [
              "        trip_id         starttime    bikeid  tripduration\n",
              "0           431  10/13/2014 10:31  SEA00298       985.935\n",
              "1           432  10/13/2014 10:32  SEA00195       926.375\n",
              "2           433  10/13/2014 10:33  SEA00486       883.831\n",
              "3           434  10/13/2014 10:34  SEA00333       865.937\n",
              "4           435  10/13/2014 10:34  SEA00202       923.923\n",
              "...         ...               ...       ...           ...\n",
              "236060   255241   8/31/2016 23:34  SEA00201       679.532\n",
              "236061   255242   8/31/2016 23:48  SEA00247      1965.418\n",
              "236062   255243   8/31/2016 23:47  SEA00300      1951.173\n",
              "236063   255244   8/31/2016 23:49  SEA00047      1883.299\n",
              "236064   255245   8/31/2016 23:49  SEA00442      1896.031\n",
              "\n",
              "[236065 rows x 4 columns]"
            ],
            "text/html": [
              "\n",
              "  <div id=\"df-be7dea0d-56dd-4eee-8042-751a8b52595c\" class=\"colab-df-container\">\n",
              "    <div>\n",
              "<style scoped>\n",
              "    .dataframe tbody tr th:only-of-type {\n",
              "        vertical-align: middle;\n",
              "    }\n",
              "\n",
              "    .dataframe tbody tr th {\n",
              "        vertical-align: top;\n",
              "    }\n",
              "\n",
              "    .dataframe thead th {\n",
              "        text-align: right;\n",
              "    }\n",
              "</style>\n",
              "<table border=\"1\" class=\"dataframe\">\n",
              "  <thead>\n",
              "    <tr style=\"text-align: right;\">\n",
              "      <th></th>\n",
              "      <th>trip_id</th>\n",
              "      <th>starttime</th>\n",
              "      <th>bikeid</th>\n",
              "      <th>tripduration</th>\n",
              "    </tr>\n",
              "  </thead>\n",
              "  <tbody>\n",
              "    <tr>\n",
              "      <th>0</th>\n",
              "      <td>431</td>\n",
              "      <td>10/13/2014 10:31</td>\n",
              "      <td>SEA00298</td>\n",
              "      <td>985.935</td>\n",
              "    </tr>\n",
              "    <tr>\n",
              "      <th>1</th>\n",
              "      <td>432</td>\n",
              "      <td>10/13/2014 10:32</td>\n",
              "      <td>SEA00195</td>\n",
              "      <td>926.375</td>\n",
              "    </tr>\n",
              "    <tr>\n",
              "      <th>2</th>\n",
              "      <td>433</td>\n",
              "      <td>10/13/2014 10:33</td>\n",
              "      <td>SEA00486</td>\n",
              "      <td>883.831</td>\n",
              "    </tr>\n",
              "    <tr>\n",
              "      <th>3</th>\n",
              "      <td>434</td>\n",
              "      <td>10/13/2014 10:34</td>\n",
              "      <td>SEA00333</td>\n",
              "      <td>865.937</td>\n",
              "    </tr>\n",
              "    <tr>\n",
              "      <th>4</th>\n",
              "      <td>435</td>\n",
              "      <td>10/13/2014 10:34</td>\n",
              "      <td>SEA00202</td>\n",
              "      <td>923.923</td>\n",
              "    </tr>\n",
              "    <tr>\n",
              "      <th>...</th>\n",
              "      <td>...</td>\n",
              "      <td>...</td>\n",
              "      <td>...</td>\n",
              "      <td>...</td>\n",
              "    </tr>\n",
              "    <tr>\n",
              "      <th>236060</th>\n",
              "      <td>255241</td>\n",
              "      <td>8/31/2016 23:34</td>\n",
              "      <td>SEA00201</td>\n",
              "      <td>679.532</td>\n",
              "    </tr>\n",
              "    <tr>\n",
              "      <th>236061</th>\n",
              "      <td>255242</td>\n",
              "      <td>8/31/2016 23:48</td>\n",
              "      <td>SEA00247</td>\n",
              "      <td>1965.418</td>\n",
              "    </tr>\n",
              "    <tr>\n",
              "      <th>236062</th>\n",
              "      <td>255243</td>\n",
              "      <td>8/31/2016 23:47</td>\n",
              "      <td>SEA00300</td>\n",
              "      <td>1951.173</td>\n",
              "    </tr>\n",
              "    <tr>\n",
              "      <th>236063</th>\n",
              "      <td>255244</td>\n",
              "      <td>8/31/2016 23:49</td>\n",
              "      <td>SEA00047</td>\n",
              "      <td>1883.299</td>\n",
              "    </tr>\n",
              "    <tr>\n",
              "      <th>236064</th>\n",
              "      <td>255245</td>\n",
              "      <td>8/31/2016 23:49</td>\n",
              "      <td>SEA00442</td>\n",
              "      <td>1896.031</td>\n",
              "    </tr>\n",
              "  </tbody>\n",
              "</table>\n",
              "<p>236065 rows × 4 columns</p>\n",
              "</div>\n",
              "    <div class=\"colab-df-buttons\">\n",
              "\n",
              "  <div class=\"colab-df-container\">\n",
              "    <button class=\"colab-df-convert\" onclick=\"convertToInteractive('df-be7dea0d-56dd-4eee-8042-751a8b52595c')\"\n",
              "            title=\"Convert this dataframe to an interactive table.\"\n",
              "            style=\"display:none;\">\n",
              "\n",
              "  <svg xmlns=\"http://www.w3.org/2000/svg\" height=\"24px\" viewBox=\"0 -960 960 960\">\n",
              "    <path d=\"M120-120v-720h720v720H120Zm60-500h600v-160H180v160Zm220 220h160v-160H400v160Zm0 220h160v-160H400v160ZM180-400h160v-160H180v160Zm440 0h160v-160H620v160ZM180-180h160v-160H180v160Zm440 0h160v-160H620v160Z\"/>\n",
              "  </svg>\n",
              "    </button>\n",
              "\n",
              "  <style>\n",
              "    .colab-df-container {\n",
              "      display:flex;\n",
              "      gap: 12px;\n",
              "    }\n",
              "\n",
              "    .colab-df-convert {\n",
              "      background-color: #E8F0FE;\n",
              "      border: none;\n",
              "      border-radius: 50%;\n",
              "      cursor: pointer;\n",
              "      display: none;\n",
              "      fill: #1967D2;\n",
              "      height: 32px;\n",
              "      padding: 0 0 0 0;\n",
              "      width: 32px;\n",
              "    }\n",
              "\n",
              "    .colab-df-convert:hover {\n",
              "      background-color: #E2EBFA;\n",
              "      box-shadow: 0px 1px 2px rgba(60, 64, 67, 0.3), 0px 1px 3px 1px rgba(60, 64, 67, 0.15);\n",
              "      fill: #174EA6;\n",
              "    }\n",
              "\n",
              "    .colab-df-buttons div {\n",
              "      margin-bottom: 4px;\n",
              "    }\n",
              "\n",
              "    [theme=dark] .colab-df-convert {\n",
              "      background-color: #3B4455;\n",
              "      fill: #D2E3FC;\n",
              "    }\n",
              "\n",
              "    [theme=dark] .colab-df-convert:hover {\n",
              "      background-color: #434B5C;\n",
              "      box-shadow: 0px 1px 3px 1px rgba(0, 0, 0, 0.15);\n",
              "      filter: drop-shadow(0px 1px 2px rgba(0, 0, 0, 0.3));\n",
              "      fill: #FFFFFF;\n",
              "    }\n",
              "  </style>\n",
              "\n",
              "    <script>\n",
              "      const buttonEl =\n",
              "        document.querySelector('#df-be7dea0d-56dd-4eee-8042-751a8b52595c button.colab-df-convert');\n",
              "      buttonEl.style.display =\n",
              "        google.colab.kernel.accessAllowed ? 'block' : 'none';\n",
              "\n",
              "      async function convertToInteractive(key) {\n",
              "        const element = document.querySelector('#df-be7dea0d-56dd-4eee-8042-751a8b52595c');\n",
              "        const dataTable =\n",
              "          await google.colab.kernel.invokeFunction('convertToInteractive',\n",
              "                                                    [key], {});\n",
              "        if (!dataTable) return;\n",
              "\n",
              "        const docLinkHtml = 'Like what you see? Visit the ' +\n",
              "          '<a target=\"_blank\" href=https://colab.research.google.com/notebooks/data_table.ipynb>data table notebook</a>'\n",
              "          + ' to learn more about interactive tables.';\n",
              "        element.innerHTML = '';\n",
              "        dataTable['output_type'] = 'display_data';\n",
              "        await google.colab.output.renderOutput(dataTable, element);\n",
              "        const docLink = document.createElement('div');\n",
              "        docLink.innerHTML = docLinkHtml;\n",
              "        element.appendChild(docLink);\n",
              "      }\n",
              "    </script>\n",
              "  </div>\n",
              "\n",
              "\n",
              "<div id=\"df-741eae9a-647c-4d47-b87b-62c857dfdacd\">\n",
              "  <button class=\"colab-df-quickchart\" onclick=\"quickchart('df-741eae9a-647c-4d47-b87b-62c857dfdacd')\"\n",
              "            title=\"Suggest charts\"\n",
              "            style=\"display:none;\">\n",
              "\n",
              "<svg xmlns=\"http://www.w3.org/2000/svg\" height=\"24px\"viewBox=\"0 0 24 24\"\n",
              "     width=\"24px\">\n",
              "    <g>\n",
              "        <path d=\"M19 3H5c-1.1 0-2 .9-2 2v14c0 1.1.9 2 2 2h14c1.1 0 2-.9 2-2V5c0-1.1-.9-2-2-2zM9 17H7v-7h2v7zm4 0h-2V7h2v10zm4 0h-2v-4h2v4z\"/>\n",
              "    </g>\n",
              "</svg>\n",
              "  </button>\n",
              "\n",
              "<style>\n",
              "  .colab-df-quickchart {\n",
              "      --bg-color: #E8F0FE;\n",
              "      --fill-color: #1967D2;\n",
              "      --hover-bg-color: #E2EBFA;\n",
              "      --hover-fill-color: #174EA6;\n",
              "      --disabled-fill-color: #AAA;\n",
              "      --disabled-bg-color: #DDD;\n",
              "  }\n",
              "\n",
              "  [theme=dark] .colab-df-quickchart {\n",
              "      --bg-color: #3B4455;\n",
              "      --fill-color: #D2E3FC;\n",
              "      --hover-bg-color: #434B5C;\n",
              "      --hover-fill-color: #FFFFFF;\n",
              "      --disabled-bg-color: #3B4455;\n",
              "      --disabled-fill-color: #666;\n",
              "  }\n",
              "\n",
              "  .colab-df-quickchart {\n",
              "    background-color: var(--bg-color);\n",
              "    border: none;\n",
              "    border-radius: 50%;\n",
              "    cursor: pointer;\n",
              "    display: none;\n",
              "    fill: var(--fill-color);\n",
              "    height: 32px;\n",
              "    padding: 0;\n",
              "    width: 32px;\n",
              "  }\n",
              "\n",
              "  .colab-df-quickchart:hover {\n",
              "    background-color: var(--hover-bg-color);\n",
              "    box-shadow: 0 1px 2px rgba(60, 64, 67, 0.3), 0 1px 3px 1px rgba(60, 64, 67, 0.15);\n",
              "    fill: var(--button-hover-fill-color);\n",
              "  }\n",
              "\n",
              "  .colab-df-quickchart-complete:disabled,\n",
              "  .colab-df-quickchart-complete:disabled:hover {\n",
              "    background-color: var(--disabled-bg-color);\n",
              "    fill: var(--disabled-fill-color);\n",
              "    box-shadow: none;\n",
              "  }\n",
              "\n",
              "  .colab-df-spinner {\n",
              "    border: 2px solid var(--fill-color);\n",
              "    border-color: transparent;\n",
              "    border-bottom-color: var(--fill-color);\n",
              "    animation:\n",
              "      spin 1s steps(1) infinite;\n",
              "  }\n",
              "\n",
              "  @keyframes spin {\n",
              "    0% {\n",
              "      border-color: transparent;\n",
              "      border-bottom-color: var(--fill-color);\n",
              "      border-left-color: var(--fill-color);\n",
              "    }\n",
              "    20% {\n",
              "      border-color: transparent;\n",
              "      border-left-color: var(--fill-color);\n",
              "      border-top-color: var(--fill-color);\n",
              "    }\n",
              "    30% {\n",
              "      border-color: transparent;\n",
              "      border-left-color: var(--fill-color);\n",
              "      border-top-color: var(--fill-color);\n",
              "      border-right-color: var(--fill-color);\n",
              "    }\n",
              "    40% {\n",
              "      border-color: transparent;\n",
              "      border-right-color: var(--fill-color);\n",
              "      border-top-color: var(--fill-color);\n",
              "    }\n",
              "    60% {\n",
              "      border-color: transparent;\n",
              "      border-right-color: var(--fill-color);\n",
              "    }\n",
              "    80% {\n",
              "      border-color: transparent;\n",
              "      border-right-color: var(--fill-color);\n",
              "      border-bottom-color: var(--fill-color);\n",
              "    }\n",
              "    90% {\n",
              "      border-color: transparent;\n",
              "      border-bottom-color: var(--fill-color);\n",
              "    }\n",
              "  }\n",
              "</style>\n",
              "\n",
              "  <script>\n",
              "    async function quickchart(key) {\n",
              "      const quickchartButtonEl =\n",
              "        document.querySelector('#' + key + ' button');\n",
              "      quickchartButtonEl.disabled = true;  // To prevent multiple clicks.\n",
              "      quickchartButtonEl.classList.add('colab-df-spinner');\n",
              "      try {\n",
              "        const charts = await google.colab.kernel.invokeFunction(\n",
              "            'suggestCharts', [key], {});\n",
              "      } catch (error) {\n",
              "        console.error('Error during call to suggestCharts:', error);\n",
              "      }\n",
              "      quickchartButtonEl.classList.remove('colab-df-spinner');\n",
              "      quickchartButtonEl.classList.add('colab-df-quickchart-complete');\n",
              "    }\n",
              "    (() => {\n",
              "      let quickchartButtonEl =\n",
              "        document.querySelector('#df-741eae9a-647c-4d47-b87b-62c857dfdacd button');\n",
              "      quickchartButtonEl.style.display =\n",
              "        google.colab.kernel.accessAllowed ? 'block' : 'none';\n",
              "    })();\n",
              "  </script>\n",
              "</div>\n",
              "\n",
              "    </div>\n",
              "  </div>\n"
            ],
            "application/vnd.google.colaboratory.intrinsic+json": {
              "type": "dataframe"
            }
          },
          "metadata": {},
          "execution_count": 16
        }
      ]
    },
    {
      "cell_type": "code",
      "source": [
        "trip[[\"trip_id\",\"starttime\",\"bikeid\",\"tripduration\"]].head(1)"
      ],
      "metadata": {
        "colab": {
          "base_uri": "https://localhost:8080/",
          "height": 81
        },
        "id": "1wAtQuJS5wbv",
        "outputId": "712f5d8f-b3dc-4d96-973b-dfec498f793a"
      },
      "execution_count": null,
      "outputs": [
        {
          "output_type": "execute_result",
          "data": {
            "text/plain": [
              "   trip_id         starttime    bikeid  tripduration\n",
              "0      431  10/13/2014 10:31  SEA00298       985.935"
            ],
            "text/html": [
              "\n",
              "  <div id=\"df-c7bf07bb-9a56-44d7-8d87-ab8767ff374b\" class=\"colab-df-container\">\n",
              "    <div>\n",
              "<style scoped>\n",
              "    .dataframe tbody tr th:only-of-type {\n",
              "        vertical-align: middle;\n",
              "    }\n",
              "\n",
              "    .dataframe tbody tr th {\n",
              "        vertical-align: top;\n",
              "    }\n",
              "\n",
              "    .dataframe thead th {\n",
              "        text-align: right;\n",
              "    }\n",
              "</style>\n",
              "<table border=\"1\" class=\"dataframe\">\n",
              "  <thead>\n",
              "    <tr style=\"text-align: right;\">\n",
              "      <th></th>\n",
              "      <th>trip_id</th>\n",
              "      <th>starttime</th>\n",
              "      <th>bikeid</th>\n",
              "      <th>tripduration</th>\n",
              "    </tr>\n",
              "  </thead>\n",
              "  <tbody>\n",
              "    <tr>\n",
              "      <th>0</th>\n",
              "      <td>431</td>\n",
              "      <td>10/13/2014 10:31</td>\n",
              "      <td>SEA00298</td>\n",
              "      <td>985.935</td>\n",
              "    </tr>\n",
              "  </tbody>\n",
              "</table>\n",
              "</div>\n",
              "    <div class=\"colab-df-buttons\">\n",
              "\n",
              "  <div class=\"colab-df-container\">\n",
              "    <button class=\"colab-df-convert\" onclick=\"convertToInteractive('df-c7bf07bb-9a56-44d7-8d87-ab8767ff374b')\"\n",
              "            title=\"Convert this dataframe to an interactive table.\"\n",
              "            style=\"display:none;\">\n",
              "\n",
              "  <svg xmlns=\"http://www.w3.org/2000/svg\" height=\"24px\" viewBox=\"0 -960 960 960\">\n",
              "    <path d=\"M120-120v-720h720v720H120Zm60-500h600v-160H180v160Zm220 220h160v-160H400v160Zm0 220h160v-160H400v160ZM180-400h160v-160H180v160Zm440 0h160v-160H620v160ZM180-180h160v-160H180v160Zm440 0h160v-160H620v160Z\"/>\n",
              "  </svg>\n",
              "    </button>\n",
              "\n",
              "  <style>\n",
              "    .colab-df-container {\n",
              "      display:flex;\n",
              "      gap: 12px;\n",
              "    }\n",
              "\n",
              "    .colab-df-convert {\n",
              "      background-color: #E8F0FE;\n",
              "      border: none;\n",
              "      border-radius: 50%;\n",
              "      cursor: pointer;\n",
              "      display: none;\n",
              "      fill: #1967D2;\n",
              "      height: 32px;\n",
              "      padding: 0 0 0 0;\n",
              "      width: 32px;\n",
              "    }\n",
              "\n",
              "    .colab-df-convert:hover {\n",
              "      background-color: #E2EBFA;\n",
              "      box-shadow: 0px 1px 2px rgba(60, 64, 67, 0.3), 0px 1px 3px 1px rgba(60, 64, 67, 0.15);\n",
              "      fill: #174EA6;\n",
              "    }\n",
              "\n",
              "    .colab-df-buttons div {\n",
              "      margin-bottom: 4px;\n",
              "    }\n",
              "\n",
              "    [theme=dark] .colab-df-convert {\n",
              "      background-color: #3B4455;\n",
              "      fill: #D2E3FC;\n",
              "    }\n",
              "\n",
              "    [theme=dark] .colab-df-convert:hover {\n",
              "      background-color: #434B5C;\n",
              "      box-shadow: 0px 1px 3px 1px rgba(0, 0, 0, 0.15);\n",
              "      filter: drop-shadow(0px 1px 2px rgba(0, 0, 0, 0.3));\n",
              "      fill: #FFFFFF;\n",
              "    }\n",
              "  </style>\n",
              "\n",
              "    <script>\n",
              "      const buttonEl =\n",
              "        document.querySelector('#df-c7bf07bb-9a56-44d7-8d87-ab8767ff374b button.colab-df-convert');\n",
              "      buttonEl.style.display =\n",
              "        google.colab.kernel.accessAllowed ? 'block' : 'none';\n",
              "\n",
              "      async function convertToInteractive(key) {\n",
              "        const element = document.querySelector('#df-c7bf07bb-9a56-44d7-8d87-ab8767ff374b');\n",
              "        const dataTable =\n",
              "          await google.colab.kernel.invokeFunction('convertToInteractive',\n",
              "                                                    [key], {});\n",
              "        if (!dataTable) return;\n",
              "\n",
              "        const docLinkHtml = 'Like what you see? Visit the ' +\n",
              "          '<a target=\"_blank\" href=https://colab.research.google.com/notebooks/data_table.ipynb>data table notebook</a>'\n",
              "          + ' to learn more about interactive tables.';\n",
              "        element.innerHTML = '';\n",
              "        dataTable['output_type'] = 'display_data';\n",
              "        await google.colab.output.renderOutput(dataTable, element);\n",
              "        const docLink = document.createElement('div');\n",
              "        docLink.innerHTML = docLinkHtml;\n",
              "        element.appendChild(docLink);\n",
              "      }\n",
              "    </script>\n",
              "  </div>\n",
              "\n",
              "\n",
              "    </div>\n",
              "  </div>\n"
            ],
            "application/vnd.google.colaboratory.intrinsic+json": {
              "type": "dataframe",
              "summary": "{\n  \"name\": \"trip[[\\\"trip_id\\\",\\\"starttime\\\",\\\"bikeid\\\",\\\"tripduration\\\"]]\",\n  \"rows\": 1,\n  \"fields\": [\n    {\n      \"column\": \"trip_id\",\n      \"properties\": {\n        \"dtype\": \"number\",\n        \"std\": null,\n        \"min\": 431,\n        \"max\": 431,\n        \"num_unique_values\": 1,\n        \"samples\": [\n          431\n        ],\n        \"semantic_type\": \"\",\n        \"description\": \"\"\n      }\n    },\n    {\n      \"column\": \"starttime\",\n      \"properties\": {\n        \"dtype\": \"object\",\n        \"num_unique_values\": 1,\n        \"samples\": [\n          \"10/13/2014 10:31\"\n        ],\n        \"semantic_type\": \"\",\n        \"description\": \"\"\n      }\n    },\n    {\n      \"column\": \"bikeid\",\n      \"properties\": {\n        \"dtype\": \"string\",\n        \"num_unique_values\": 1,\n        \"samples\": [\n          \"SEA00298\"\n        ],\n        \"semantic_type\": \"\",\n        \"description\": \"\"\n      }\n    },\n    {\n      \"column\": \"tripduration\",\n      \"properties\": {\n        \"dtype\": \"number\",\n        \"std\": null,\n        \"min\": 985.935,\n        \"max\": 985.935,\n        \"num_unique_values\": 1,\n        \"samples\": [\n          985.935\n        ],\n        \"semantic_type\": \"\",\n        \"description\": \"\"\n      }\n    }\n  ]\n}"
            }
          },
          "metadata": {},
          "execution_count": 17
        }
      ]
    },
    {
      "cell_type": "code",
      "source": [
        "trip.dtypes"
      ],
      "metadata": {
        "colab": {
          "base_uri": "https://localhost:8080/",
          "height": 460
        },
        "id": "G-LNNxwI5wQx",
        "outputId": "b820d3a6-f104-4a28-ca89-8459fa84ca07"
      },
      "execution_count": null,
      "outputs": [
        {
          "output_type": "execute_result",
          "data": {
            "text/plain": [
              "trip_id                int64\n",
              "starttime             object\n",
              "stoptime              object\n",
              "bikeid                object\n",
              "tripduration         float64\n",
              "from_station_name     object\n",
              "to_station_name       object\n",
              "from_station_id       object\n",
              "to_station_id         object\n",
              "usertype              object\n",
              "gender                object\n",
              "birthyear            float64\n",
              "dtype: object"
            ],
            "text/html": [
              "<div>\n",
              "<style scoped>\n",
              "    .dataframe tbody tr th:only-of-type {\n",
              "        vertical-align: middle;\n",
              "    }\n",
              "\n",
              "    .dataframe tbody tr th {\n",
              "        vertical-align: top;\n",
              "    }\n",
              "\n",
              "    .dataframe thead th {\n",
              "        text-align: right;\n",
              "    }\n",
              "</style>\n",
              "<table border=\"1\" class=\"dataframe\">\n",
              "  <thead>\n",
              "    <tr style=\"text-align: right;\">\n",
              "      <th></th>\n",
              "      <th>0</th>\n",
              "    </tr>\n",
              "  </thead>\n",
              "  <tbody>\n",
              "    <tr>\n",
              "      <th>trip_id</th>\n",
              "      <td>int64</td>\n",
              "    </tr>\n",
              "    <tr>\n",
              "      <th>starttime</th>\n",
              "      <td>object</td>\n",
              "    </tr>\n",
              "    <tr>\n",
              "      <th>stoptime</th>\n",
              "      <td>object</td>\n",
              "    </tr>\n",
              "    <tr>\n",
              "      <th>bikeid</th>\n",
              "      <td>object</td>\n",
              "    </tr>\n",
              "    <tr>\n",
              "      <th>tripduration</th>\n",
              "      <td>float64</td>\n",
              "    </tr>\n",
              "    <tr>\n",
              "      <th>from_station_name</th>\n",
              "      <td>object</td>\n",
              "    </tr>\n",
              "    <tr>\n",
              "      <th>to_station_name</th>\n",
              "      <td>object</td>\n",
              "    </tr>\n",
              "    <tr>\n",
              "      <th>from_station_id</th>\n",
              "      <td>object</td>\n",
              "    </tr>\n",
              "    <tr>\n",
              "      <th>to_station_id</th>\n",
              "      <td>object</td>\n",
              "    </tr>\n",
              "    <tr>\n",
              "      <th>usertype</th>\n",
              "      <td>object</td>\n",
              "    </tr>\n",
              "    <tr>\n",
              "      <th>gender</th>\n",
              "      <td>object</td>\n",
              "    </tr>\n",
              "    <tr>\n",
              "      <th>birthyear</th>\n",
              "      <td>float64</td>\n",
              "    </tr>\n",
              "  </tbody>\n",
              "</table>\n",
              "</div><br><label><b>dtype:</b> object</label>"
            ]
          },
          "metadata": {},
          "execution_count": 18
        }
      ]
    },
    {
      "cell_type": "code",
      "source": [
        "trip['trip_id']"
      ],
      "metadata": {
        "colab": {
          "base_uri": "https://localhost:8080/",
          "height": 458
        },
        "id": "hxGbFiVE5wLs",
        "outputId": "edb057ed-761c-41fe-d2c3-339ae18b5276"
      },
      "execution_count": null,
      "outputs": [
        {
          "output_type": "execute_result",
          "data": {
            "text/plain": [
              "0            431\n",
              "1            432\n",
              "2            433\n",
              "3            434\n",
              "4            435\n",
              "           ...  \n",
              "236060    255241\n",
              "236061    255242\n",
              "236062    255243\n",
              "236063    255244\n",
              "236064    255245\n",
              "Name: trip_id, Length: 236065, dtype: int64"
            ],
            "text/html": [
              "<div>\n",
              "<style scoped>\n",
              "    .dataframe tbody tr th:only-of-type {\n",
              "        vertical-align: middle;\n",
              "    }\n",
              "\n",
              "    .dataframe tbody tr th {\n",
              "        vertical-align: top;\n",
              "    }\n",
              "\n",
              "    .dataframe thead th {\n",
              "        text-align: right;\n",
              "    }\n",
              "</style>\n",
              "<table border=\"1\" class=\"dataframe\">\n",
              "  <thead>\n",
              "    <tr style=\"text-align: right;\">\n",
              "      <th></th>\n",
              "      <th>trip_id</th>\n",
              "    </tr>\n",
              "  </thead>\n",
              "  <tbody>\n",
              "    <tr>\n",
              "      <th>0</th>\n",
              "      <td>431</td>\n",
              "    </tr>\n",
              "    <tr>\n",
              "      <th>1</th>\n",
              "      <td>432</td>\n",
              "    </tr>\n",
              "    <tr>\n",
              "      <th>2</th>\n",
              "      <td>433</td>\n",
              "    </tr>\n",
              "    <tr>\n",
              "      <th>3</th>\n",
              "      <td>434</td>\n",
              "    </tr>\n",
              "    <tr>\n",
              "      <th>4</th>\n",
              "      <td>435</td>\n",
              "    </tr>\n",
              "    <tr>\n",
              "      <th>...</th>\n",
              "      <td>...</td>\n",
              "    </tr>\n",
              "    <tr>\n",
              "      <th>236060</th>\n",
              "      <td>255241</td>\n",
              "    </tr>\n",
              "    <tr>\n",
              "      <th>236061</th>\n",
              "      <td>255242</td>\n",
              "    </tr>\n",
              "    <tr>\n",
              "      <th>236062</th>\n",
              "      <td>255243</td>\n",
              "    </tr>\n",
              "    <tr>\n",
              "      <th>236063</th>\n",
              "      <td>255244</td>\n",
              "    </tr>\n",
              "    <tr>\n",
              "      <th>236064</th>\n",
              "      <td>255245</td>\n",
              "    </tr>\n",
              "  </tbody>\n",
              "</table>\n",
              "<p>236065 rows × 1 columns</p>\n",
              "</div><br><label><b>dtype:</b> int64</label>"
            ]
          },
          "metadata": {},
          "execution_count": 19
        }
      ]
    },
    {
      "cell_type": "code",
      "source": [
        "trip[\"starttime\"]"
      ],
      "metadata": {
        "colab": {
          "base_uri": "https://localhost:8080/",
          "height": 458
        },
        "id": "TFWRzCCk5wGT",
        "outputId": "879f4bc5-1d56-434a-c505-6d44176e4f44"
      },
      "execution_count": null,
      "outputs": [
        {
          "output_type": "execute_result",
          "data": {
            "text/plain": [
              "0         10/13/2014 10:31\n",
              "1         10/13/2014 10:32\n",
              "2         10/13/2014 10:33\n",
              "3         10/13/2014 10:34\n",
              "4         10/13/2014 10:34\n",
              "                ...       \n",
              "236060     8/31/2016 23:34\n",
              "236061     8/31/2016 23:48\n",
              "236062     8/31/2016 23:47\n",
              "236063     8/31/2016 23:49\n",
              "236064     8/31/2016 23:49\n",
              "Name: starttime, Length: 236065, dtype: object"
            ],
            "text/html": [
              "<div>\n",
              "<style scoped>\n",
              "    .dataframe tbody tr th:only-of-type {\n",
              "        vertical-align: middle;\n",
              "    }\n",
              "\n",
              "    .dataframe tbody tr th {\n",
              "        vertical-align: top;\n",
              "    }\n",
              "\n",
              "    .dataframe thead th {\n",
              "        text-align: right;\n",
              "    }\n",
              "</style>\n",
              "<table border=\"1\" class=\"dataframe\">\n",
              "  <thead>\n",
              "    <tr style=\"text-align: right;\">\n",
              "      <th></th>\n",
              "      <th>starttime</th>\n",
              "    </tr>\n",
              "  </thead>\n",
              "  <tbody>\n",
              "    <tr>\n",
              "      <th>0</th>\n",
              "      <td>10/13/2014 10:31</td>\n",
              "    </tr>\n",
              "    <tr>\n",
              "      <th>1</th>\n",
              "      <td>10/13/2014 10:32</td>\n",
              "    </tr>\n",
              "    <tr>\n",
              "      <th>2</th>\n",
              "      <td>10/13/2014 10:33</td>\n",
              "    </tr>\n",
              "    <tr>\n",
              "      <th>3</th>\n",
              "      <td>10/13/2014 10:34</td>\n",
              "    </tr>\n",
              "    <tr>\n",
              "      <th>4</th>\n",
              "      <td>10/13/2014 10:34</td>\n",
              "    </tr>\n",
              "    <tr>\n",
              "      <th>...</th>\n",
              "      <td>...</td>\n",
              "    </tr>\n",
              "    <tr>\n",
              "      <th>236060</th>\n",
              "      <td>8/31/2016 23:34</td>\n",
              "    </tr>\n",
              "    <tr>\n",
              "      <th>236061</th>\n",
              "      <td>8/31/2016 23:48</td>\n",
              "    </tr>\n",
              "    <tr>\n",
              "      <th>236062</th>\n",
              "      <td>8/31/2016 23:47</td>\n",
              "    </tr>\n",
              "    <tr>\n",
              "      <th>236063</th>\n",
              "      <td>8/31/2016 23:49</td>\n",
              "    </tr>\n",
              "    <tr>\n",
              "      <th>236064</th>\n",
              "      <td>8/31/2016 23:49</td>\n",
              "    </tr>\n",
              "  </tbody>\n",
              "</table>\n",
              "<p>236065 rows × 1 columns</p>\n",
              "</div><br><label><b>dtype:</b> object</label>"
            ]
          },
          "metadata": {},
          "execution_count": 20
        }
      ]
    },
    {
      "cell_type": "code",
      "source": [
        "trip[\"trip_id\"].head(2)"
      ],
      "metadata": {
        "colab": {
          "base_uri": "https://localhost:8080/",
          "height": 147
        },
        "id": "_kqfvcNZ5wBR",
        "outputId": "dec75d80-913b-4410-e296-dc7235edbc8c"
      },
      "execution_count": null,
      "outputs": [
        {
          "output_type": "execute_result",
          "data": {
            "text/plain": [
              "0    431\n",
              "1    432\n",
              "Name: trip_id, dtype: int64"
            ],
            "text/html": [
              "<div>\n",
              "<style scoped>\n",
              "    .dataframe tbody tr th:only-of-type {\n",
              "        vertical-align: middle;\n",
              "    }\n",
              "\n",
              "    .dataframe tbody tr th {\n",
              "        vertical-align: top;\n",
              "    }\n",
              "\n",
              "    .dataframe thead th {\n",
              "        text-align: right;\n",
              "    }\n",
              "</style>\n",
              "<table border=\"1\" class=\"dataframe\">\n",
              "  <thead>\n",
              "    <tr style=\"text-align: right;\">\n",
              "      <th></th>\n",
              "      <th>trip_id</th>\n",
              "    </tr>\n",
              "  </thead>\n",
              "  <tbody>\n",
              "    <tr>\n",
              "      <th>0</th>\n",
              "      <td>431</td>\n",
              "    </tr>\n",
              "    <tr>\n",
              "      <th>1</th>\n",
              "      <td>432</td>\n",
              "    </tr>\n",
              "  </tbody>\n",
              "</table>\n",
              "</div><br><label><b>dtype:</b> int64</label>"
            ]
          },
          "metadata": {},
          "execution_count": 21
        }
      ]
    },
    {
      "cell_type": "code",
      "source": [
        "# renaming columns"
      ],
      "metadata": {
        "id": "DMKOxfGg5v8O"
      },
      "execution_count": null,
      "outputs": []
    },
    {
      "cell_type": "code",
      "source": [
        "cols = ['TripID', 'StartTime', 'StopTime', 'BikeID', 'TripDuration',\n",
        "       'FromStationName', 'ToStationName', 'FromStationID',\n",
        "       'ToStationID', 'Usertype', 'Gender', 'Birthyear']"
      ],
      "metadata": {
        "id": "mlS7kekx5v3N"
      },
      "execution_count": null,
      "outputs": []
    },
    {
      "cell_type": "code",
      "source": [
        "trip.columns = cols"
      ],
      "metadata": {
        "id": "aOVZRyTK5vyQ"
      },
      "execution_count": null,
      "outputs": []
    },
    {
      "cell_type": "code",
      "source": [
        "trip.columns"
      ],
      "metadata": {
        "colab": {
          "base_uri": "https://localhost:8080/"
        },
        "id": "Rkx2z7WC5vtG",
        "outputId": "ea254d6d-f223-444a-adb8-849203d7be9b"
      },
      "execution_count": null,
      "outputs": [
        {
          "output_type": "execute_result",
          "data": {
            "text/plain": [
              "Index(['TripID', 'StartTime', 'StopTime', 'BikeID', 'TripDuration',\n",
              "       'FromStationName', 'ToStationName', 'FromStationID', 'ToStationID',\n",
              "       'Usertype', 'Gender', 'Birthyear'],\n",
              "      dtype='object')"
            ]
          },
          "metadata": {},
          "execution_count": 25
        }
      ]
    },
    {
      "cell_type": "code",
      "source": [
        "# method 2 to rename\n",
        "trip = trip.rename(columns={\"old_columns\":\"new_columns\"})"
      ],
      "metadata": {
        "id": "bwHVni-I5voR"
      },
      "execution_count": null,
      "outputs": []
    },
    {
      "cell_type": "code",
      "source": [
        "trip.rename(columns={\"old_columns\":\"new_columns\"}).head(3)"
      ],
      "metadata": {
        "colab": {
          "base_uri": "https://localhost:8080/",
          "height": 319
        },
        "id": "WKscepfA5vjb",
        "outputId": "93b0abfa-4177-4803-89ca-937a0ae9e154"
      },
      "execution_count": null,
      "outputs": [
        {
          "output_type": "execute_result",
          "data": {
            "text/plain": [
              "   TripID         StartTime          StopTime    BikeID  TripDuration  \\\n",
              "0     431  10/13/2014 10:31  10/13/2014 10:48  SEA00298       985.935   \n",
              "1     432  10/13/2014 10:32  10/13/2014 10:48  SEA00195       926.375   \n",
              "2     433  10/13/2014 10:33  10/13/2014 10:48  SEA00486       883.831   \n",
              "\n",
              "       FromStationName                                      ToStationName  \\\n",
              "0  2nd Ave & Spring St  Occidental Park / Occidental Ave S & S Washing...   \n",
              "1  2nd Ave & Spring St  Occidental Park / Occidental Ave S & S Washing...   \n",
              "2  2nd Ave & Spring St  Occidental Park / Occidental Ave S & S Washing...   \n",
              "\n",
              "  FromStationID ToStationID Usertype  Gender  Birthyear  \n",
              "0        CBD-06       PS-04   Member    Male     1960.0  \n",
              "1        CBD-06       PS-04   Member    Male     1970.0  \n",
              "2        CBD-06       PS-04   Member  Female     1988.0  "
            ],
            "text/html": [
              "\n",
              "  <div id=\"df-bd263926-c007-49ee-820d-b3b16b4e00f5\" class=\"colab-df-container\">\n",
              "    <div>\n",
              "<style scoped>\n",
              "    .dataframe tbody tr th:only-of-type {\n",
              "        vertical-align: middle;\n",
              "    }\n",
              "\n",
              "    .dataframe tbody tr th {\n",
              "        vertical-align: top;\n",
              "    }\n",
              "\n",
              "    .dataframe thead th {\n",
              "        text-align: right;\n",
              "    }\n",
              "</style>\n",
              "<table border=\"1\" class=\"dataframe\">\n",
              "  <thead>\n",
              "    <tr style=\"text-align: right;\">\n",
              "      <th></th>\n",
              "      <th>TripID</th>\n",
              "      <th>StartTime</th>\n",
              "      <th>StopTime</th>\n",
              "      <th>BikeID</th>\n",
              "      <th>TripDuration</th>\n",
              "      <th>FromStationName</th>\n",
              "      <th>ToStationName</th>\n",
              "      <th>FromStationID</th>\n",
              "      <th>ToStationID</th>\n",
              "      <th>Usertype</th>\n",
              "      <th>Gender</th>\n",
              "      <th>Birthyear</th>\n",
              "    </tr>\n",
              "  </thead>\n",
              "  <tbody>\n",
              "    <tr>\n",
              "      <th>0</th>\n",
              "      <td>431</td>\n",
              "      <td>10/13/2014 10:31</td>\n",
              "      <td>10/13/2014 10:48</td>\n",
              "      <td>SEA00298</td>\n",
              "      <td>985.935</td>\n",
              "      <td>2nd Ave &amp; Spring St</td>\n",
              "      <td>Occidental Park / Occidental Ave S &amp; S Washing...</td>\n",
              "      <td>CBD-06</td>\n",
              "      <td>PS-04</td>\n",
              "      <td>Member</td>\n",
              "      <td>Male</td>\n",
              "      <td>1960.0</td>\n",
              "    </tr>\n",
              "    <tr>\n",
              "      <th>1</th>\n",
              "      <td>432</td>\n",
              "      <td>10/13/2014 10:32</td>\n",
              "      <td>10/13/2014 10:48</td>\n",
              "      <td>SEA00195</td>\n",
              "      <td>926.375</td>\n",
              "      <td>2nd Ave &amp; Spring St</td>\n",
              "      <td>Occidental Park / Occidental Ave S &amp; S Washing...</td>\n",
              "      <td>CBD-06</td>\n",
              "      <td>PS-04</td>\n",
              "      <td>Member</td>\n",
              "      <td>Male</td>\n",
              "      <td>1970.0</td>\n",
              "    </tr>\n",
              "    <tr>\n",
              "      <th>2</th>\n",
              "      <td>433</td>\n",
              "      <td>10/13/2014 10:33</td>\n",
              "      <td>10/13/2014 10:48</td>\n",
              "      <td>SEA00486</td>\n",
              "      <td>883.831</td>\n",
              "      <td>2nd Ave &amp; Spring St</td>\n",
              "      <td>Occidental Park / Occidental Ave S &amp; S Washing...</td>\n",
              "      <td>CBD-06</td>\n",
              "      <td>PS-04</td>\n",
              "      <td>Member</td>\n",
              "      <td>Female</td>\n",
              "      <td>1988.0</td>\n",
              "    </tr>\n",
              "  </tbody>\n",
              "</table>\n",
              "</div>\n",
              "    <div class=\"colab-df-buttons\">\n",
              "\n",
              "  <div class=\"colab-df-container\">\n",
              "    <button class=\"colab-df-convert\" onclick=\"convertToInteractive('df-bd263926-c007-49ee-820d-b3b16b4e00f5')\"\n",
              "            title=\"Convert this dataframe to an interactive table.\"\n",
              "            style=\"display:none;\">\n",
              "\n",
              "  <svg xmlns=\"http://www.w3.org/2000/svg\" height=\"24px\" viewBox=\"0 -960 960 960\">\n",
              "    <path d=\"M120-120v-720h720v720H120Zm60-500h600v-160H180v160Zm220 220h160v-160H400v160Zm0 220h160v-160H400v160ZM180-400h160v-160H180v160Zm440 0h160v-160H620v160ZM180-180h160v-160H180v160Zm440 0h160v-160H620v160Z\"/>\n",
              "  </svg>\n",
              "    </button>\n",
              "\n",
              "  <style>\n",
              "    .colab-df-container {\n",
              "      display:flex;\n",
              "      gap: 12px;\n",
              "    }\n",
              "\n",
              "    .colab-df-convert {\n",
              "      background-color: #E8F0FE;\n",
              "      border: none;\n",
              "      border-radius: 50%;\n",
              "      cursor: pointer;\n",
              "      display: none;\n",
              "      fill: #1967D2;\n",
              "      height: 32px;\n",
              "      padding: 0 0 0 0;\n",
              "      width: 32px;\n",
              "    }\n",
              "\n",
              "    .colab-df-convert:hover {\n",
              "      background-color: #E2EBFA;\n",
              "      box-shadow: 0px 1px 2px rgba(60, 64, 67, 0.3), 0px 1px 3px 1px rgba(60, 64, 67, 0.15);\n",
              "      fill: #174EA6;\n",
              "    }\n",
              "\n",
              "    .colab-df-buttons div {\n",
              "      margin-bottom: 4px;\n",
              "    }\n",
              "\n",
              "    [theme=dark] .colab-df-convert {\n",
              "      background-color: #3B4455;\n",
              "      fill: #D2E3FC;\n",
              "    }\n",
              "\n",
              "    [theme=dark] .colab-df-convert:hover {\n",
              "      background-color: #434B5C;\n",
              "      box-shadow: 0px 1px 3px 1px rgba(0, 0, 0, 0.15);\n",
              "      filter: drop-shadow(0px 1px 2px rgba(0, 0, 0, 0.3));\n",
              "      fill: #FFFFFF;\n",
              "    }\n",
              "  </style>\n",
              "\n",
              "    <script>\n",
              "      const buttonEl =\n",
              "        document.querySelector('#df-bd263926-c007-49ee-820d-b3b16b4e00f5 button.colab-df-convert');\n",
              "      buttonEl.style.display =\n",
              "        google.colab.kernel.accessAllowed ? 'block' : 'none';\n",
              "\n",
              "      async function convertToInteractive(key) {\n",
              "        const element = document.querySelector('#df-bd263926-c007-49ee-820d-b3b16b4e00f5');\n",
              "        const dataTable =\n",
              "          await google.colab.kernel.invokeFunction('convertToInteractive',\n",
              "                                                    [key], {});\n",
              "        if (!dataTable) return;\n",
              "\n",
              "        const docLinkHtml = 'Like what you see? Visit the ' +\n",
              "          '<a target=\"_blank\" href=https://colab.research.google.com/notebooks/data_table.ipynb>data table notebook</a>'\n",
              "          + ' to learn more about interactive tables.';\n",
              "        element.innerHTML = '';\n",
              "        dataTable['output_type'] = 'display_data';\n",
              "        await google.colab.output.renderOutput(dataTable, element);\n",
              "        const docLink = document.createElement('div');\n",
              "        docLink.innerHTML = docLinkHtml;\n",
              "        element.appendChild(docLink);\n",
              "      }\n",
              "    </script>\n",
              "  </div>\n",
              "\n",
              "\n",
              "<div id=\"df-0074a611-48d3-4ab0-95bb-eb839e69bad8\">\n",
              "  <button class=\"colab-df-quickchart\" onclick=\"quickchart('df-0074a611-48d3-4ab0-95bb-eb839e69bad8')\"\n",
              "            title=\"Suggest charts\"\n",
              "            style=\"display:none;\">\n",
              "\n",
              "<svg xmlns=\"http://www.w3.org/2000/svg\" height=\"24px\"viewBox=\"0 0 24 24\"\n",
              "     width=\"24px\">\n",
              "    <g>\n",
              "        <path d=\"M19 3H5c-1.1 0-2 .9-2 2v14c0 1.1.9 2 2 2h14c1.1 0 2-.9 2-2V5c0-1.1-.9-2-2-2zM9 17H7v-7h2v7zm4 0h-2V7h2v10zm4 0h-2v-4h2v4z\"/>\n",
              "    </g>\n",
              "</svg>\n",
              "  </button>\n",
              "\n",
              "<style>\n",
              "  .colab-df-quickchart {\n",
              "      --bg-color: #E8F0FE;\n",
              "      --fill-color: #1967D2;\n",
              "      --hover-bg-color: #E2EBFA;\n",
              "      --hover-fill-color: #174EA6;\n",
              "      --disabled-fill-color: #AAA;\n",
              "      --disabled-bg-color: #DDD;\n",
              "  }\n",
              "\n",
              "  [theme=dark] .colab-df-quickchart {\n",
              "      --bg-color: #3B4455;\n",
              "      --fill-color: #D2E3FC;\n",
              "      --hover-bg-color: #434B5C;\n",
              "      --hover-fill-color: #FFFFFF;\n",
              "      --disabled-bg-color: #3B4455;\n",
              "      --disabled-fill-color: #666;\n",
              "  }\n",
              "\n",
              "  .colab-df-quickchart {\n",
              "    background-color: var(--bg-color);\n",
              "    border: none;\n",
              "    border-radius: 50%;\n",
              "    cursor: pointer;\n",
              "    display: none;\n",
              "    fill: var(--fill-color);\n",
              "    height: 32px;\n",
              "    padding: 0;\n",
              "    width: 32px;\n",
              "  }\n",
              "\n",
              "  .colab-df-quickchart:hover {\n",
              "    background-color: var(--hover-bg-color);\n",
              "    box-shadow: 0 1px 2px rgba(60, 64, 67, 0.3), 0 1px 3px 1px rgba(60, 64, 67, 0.15);\n",
              "    fill: var(--button-hover-fill-color);\n",
              "  }\n",
              "\n",
              "  .colab-df-quickchart-complete:disabled,\n",
              "  .colab-df-quickchart-complete:disabled:hover {\n",
              "    background-color: var(--disabled-bg-color);\n",
              "    fill: var(--disabled-fill-color);\n",
              "    box-shadow: none;\n",
              "  }\n",
              "\n",
              "  .colab-df-spinner {\n",
              "    border: 2px solid var(--fill-color);\n",
              "    border-color: transparent;\n",
              "    border-bottom-color: var(--fill-color);\n",
              "    animation:\n",
              "      spin 1s steps(1) infinite;\n",
              "  }\n",
              "\n",
              "  @keyframes spin {\n",
              "    0% {\n",
              "      border-color: transparent;\n",
              "      border-bottom-color: var(--fill-color);\n",
              "      border-left-color: var(--fill-color);\n",
              "    }\n",
              "    20% {\n",
              "      border-color: transparent;\n",
              "      border-left-color: var(--fill-color);\n",
              "      border-top-color: var(--fill-color);\n",
              "    }\n",
              "    30% {\n",
              "      border-color: transparent;\n",
              "      border-left-color: var(--fill-color);\n",
              "      border-top-color: var(--fill-color);\n",
              "      border-right-color: var(--fill-color);\n",
              "    }\n",
              "    40% {\n",
              "      border-color: transparent;\n",
              "      border-right-color: var(--fill-color);\n",
              "      border-top-color: var(--fill-color);\n",
              "    }\n",
              "    60% {\n",
              "      border-color: transparent;\n",
              "      border-right-color: var(--fill-color);\n",
              "    }\n",
              "    80% {\n",
              "      border-color: transparent;\n",
              "      border-right-color: var(--fill-color);\n",
              "      border-bottom-color: var(--fill-color);\n",
              "    }\n",
              "    90% {\n",
              "      border-color: transparent;\n",
              "      border-bottom-color: var(--fill-color);\n",
              "    }\n",
              "  }\n",
              "</style>\n",
              "\n",
              "  <script>\n",
              "    async function quickchart(key) {\n",
              "      const quickchartButtonEl =\n",
              "        document.querySelector('#' + key + ' button');\n",
              "      quickchartButtonEl.disabled = true;  // To prevent multiple clicks.\n",
              "      quickchartButtonEl.classList.add('colab-df-spinner');\n",
              "      try {\n",
              "        const charts = await google.colab.kernel.invokeFunction(\n",
              "            'suggestCharts', [key], {});\n",
              "      } catch (error) {\n",
              "        console.error('Error during call to suggestCharts:', error);\n",
              "      }\n",
              "      quickchartButtonEl.classList.remove('colab-df-spinner');\n",
              "      quickchartButtonEl.classList.add('colab-df-quickchart-complete');\n",
              "    }\n",
              "    (() => {\n",
              "      let quickchartButtonEl =\n",
              "        document.querySelector('#df-0074a611-48d3-4ab0-95bb-eb839e69bad8 button');\n",
              "      quickchartButtonEl.style.display =\n",
              "        google.colab.kernel.accessAllowed ? 'block' : 'none';\n",
              "    })();\n",
              "  </script>\n",
              "</div>\n",
              "\n",
              "    </div>\n",
              "  </div>\n"
            ],
            "application/vnd.google.colaboratory.intrinsic+json": {
              "type": "dataframe",
              "summary": "{\n  \"name\": \"trip\",\n  \"rows\": 3,\n  \"fields\": [\n    {\n      \"column\": \"TripID\",\n      \"properties\": {\n        \"dtype\": \"number\",\n        \"std\": 1,\n        \"min\": 431,\n        \"max\": 433,\n        \"num_unique_values\": 3,\n        \"samples\": [\n          431,\n          432,\n          433\n        ],\n        \"semantic_type\": \"\",\n        \"description\": \"\"\n      }\n    },\n    {\n      \"column\": \"StartTime\",\n      \"properties\": {\n        \"dtype\": \"object\",\n        \"num_unique_values\": 3,\n        \"samples\": [\n          \"10/13/2014 10:31\",\n          \"10/13/2014 10:32\",\n          \"10/13/2014 10:33\"\n        ],\n        \"semantic_type\": \"\",\n        \"description\": \"\"\n      }\n    },\n    {\n      \"column\": \"StopTime\",\n      \"properties\": {\n        \"dtype\": \"object\",\n        \"num_unique_values\": 1,\n        \"samples\": [\n          \"10/13/2014 10:48\"\n        ],\n        \"semantic_type\": \"\",\n        \"description\": \"\"\n      }\n    },\n    {\n      \"column\": \"BikeID\",\n      \"properties\": {\n        \"dtype\": \"string\",\n        \"num_unique_values\": 3,\n        \"samples\": [\n          \"SEA00298\"\n        ],\n        \"semantic_type\": \"\",\n        \"description\": \"\"\n      }\n    },\n    {\n      \"column\": \"TripDuration\",\n      \"properties\": {\n        \"dtype\": \"number\",\n        \"std\": 51.28777039412024,\n        \"min\": 883.831,\n        \"max\": 985.935,\n        \"num_unique_values\": 3,\n        \"samples\": [\n          985.935\n        ],\n        \"semantic_type\": \"\",\n        \"description\": \"\"\n      }\n    },\n    {\n      \"column\": \"FromStationName\",\n      \"properties\": {\n        \"dtype\": \"category\",\n        \"num_unique_values\": 1,\n        \"samples\": [\n          \"2nd Ave & Spring St\"\n        ],\n        \"semantic_type\": \"\",\n        \"description\": \"\"\n      }\n    },\n    {\n      \"column\": \"ToStationName\",\n      \"properties\": {\n        \"dtype\": \"category\",\n        \"num_unique_values\": 1,\n        \"samples\": [\n          \"Occidental Park / Occidental Ave S & S Washington St\"\n        ],\n        \"semantic_type\": \"\",\n        \"description\": \"\"\n      }\n    },\n    {\n      \"column\": \"FromStationID\",\n      \"properties\": {\n        \"dtype\": \"category\",\n        \"num_unique_values\": 1,\n        \"samples\": [\n          \"CBD-06\"\n        ],\n        \"semantic_type\": \"\",\n        \"description\": \"\"\n      }\n    },\n    {\n      \"column\": \"ToStationID\",\n      \"properties\": {\n        \"dtype\": \"category\",\n        \"num_unique_values\": 1,\n        \"samples\": [\n          \"PS-04\"\n        ],\n        \"semantic_type\": \"\",\n        \"description\": \"\"\n      }\n    },\n    {\n      \"column\": \"Usertype\",\n      \"properties\": {\n        \"dtype\": \"category\",\n        \"num_unique_values\": 1,\n        \"samples\": [\n          \"Member\"\n        ],\n        \"semantic_type\": \"\",\n        \"description\": \"\"\n      }\n    },\n    {\n      \"column\": \"Gender\",\n      \"properties\": {\n        \"dtype\": \"string\",\n        \"num_unique_values\": 2,\n        \"samples\": [\n          \"Female\"\n        ],\n        \"semantic_type\": \"\",\n        \"description\": \"\"\n      }\n    },\n    {\n      \"column\": \"Birthyear\",\n      \"properties\": {\n        \"dtype\": \"number\",\n        \"std\": 14.189197769195175,\n        \"min\": 1960.0,\n        \"max\": 1988.0,\n        \"num_unique_values\": 3,\n        \"samples\": [\n          1960.0\n        ],\n        \"semantic_type\": \"\",\n        \"description\": \"\"\n      }\n    }\n  ]\n}"
            }
          },
          "metadata": {},
          "execution_count": 27
        }
      ]
    },
    {
      "cell_type": "code",
      "source": [],
      "metadata": {
        "id": "OsmzQOfO5vev"
      },
      "execution_count": null,
      "outputs": []
    },
    {
      "cell_type": "code",
      "source": [
        "# .copy()method\n",
        "df = trip.copy()"
      ],
      "metadata": {
        "id": "bdEhIrim5vZ4"
      },
      "execution_count": null,
      "outputs": []
    },
    {
      "cell_type": "code",
      "source": [
        "df.head(2)"
      ],
      "metadata": {
        "colab": {
          "base_uri": "https://localhost:8080/",
          "height": 236
        },
        "id": "UbUBKQLT5vVC",
        "outputId": "59b3c31a-41e9-4e03-83db-cc65ceae5b6a"
      },
      "execution_count": null,
      "outputs": [
        {
          "output_type": "execute_result",
          "data": {
            "text/plain": [
              "   TripID         StartTime          StopTime    BikeID  TripDuration  \\\n",
              "0     431  10/13/2014 10:31  10/13/2014 10:48  SEA00298       985.935   \n",
              "1     432  10/13/2014 10:32  10/13/2014 10:48  SEA00195       926.375   \n",
              "\n",
              "       FromStationName                                      ToStationName  \\\n",
              "0  2nd Ave & Spring St  Occidental Park / Occidental Ave S & S Washing...   \n",
              "1  2nd Ave & Spring St  Occidental Park / Occidental Ave S & S Washing...   \n",
              "\n",
              "  FromStationID ToStationID Usertype Gender  Birthyear  \n",
              "0        CBD-06       PS-04   Member   Male     1960.0  \n",
              "1        CBD-06       PS-04   Member   Male     1970.0  "
            ],
            "text/html": [
              "\n",
              "  <div id=\"df-148b8683-51e3-45f4-bdbe-2fc7d22c0a32\" class=\"colab-df-container\">\n",
              "    <div>\n",
              "<style scoped>\n",
              "    .dataframe tbody tr th:only-of-type {\n",
              "        vertical-align: middle;\n",
              "    }\n",
              "\n",
              "    .dataframe tbody tr th {\n",
              "        vertical-align: top;\n",
              "    }\n",
              "\n",
              "    .dataframe thead th {\n",
              "        text-align: right;\n",
              "    }\n",
              "</style>\n",
              "<table border=\"1\" class=\"dataframe\">\n",
              "  <thead>\n",
              "    <tr style=\"text-align: right;\">\n",
              "      <th></th>\n",
              "      <th>TripID</th>\n",
              "      <th>StartTime</th>\n",
              "      <th>StopTime</th>\n",
              "      <th>BikeID</th>\n",
              "      <th>TripDuration</th>\n",
              "      <th>FromStationName</th>\n",
              "      <th>ToStationName</th>\n",
              "      <th>FromStationID</th>\n",
              "      <th>ToStationID</th>\n",
              "      <th>Usertype</th>\n",
              "      <th>Gender</th>\n",
              "      <th>Birthyear</th>\n",
              "    </tr>\n",
              "  </thead>\n",
              "  <tbody>\n",
              "    <tr>\n",
              "      <th>0</th>\n",
              "      <td>431</td>\n",
              "      <td>10/13/2014 10:31</td>\n",
              "      <td>10/13/2014 10:48</td>\n",
              "      <td>SEA00298</td>\n",
              "      <td>985.935</td>\n",
              "      <td>2nd Ave &amp; Spring St</td>\n",
              "      <td>Occidental Park / Occidental Ave S &amp; S Washing...</td>\n",
              "      <td>CBD-06</td>\n",
              "      <td>PS-04</td>\n",
              "      <td>Member</td>\n",
              "      <td>Male</td>\n",
              "      <td>1960.0</td>\n",
              "    </tr>\n",
              "    <tr>\n",
              "      <th>1</th>\n",
              "      <td>432</td>\n",
              "      <td>10/13/2014 10:32</td>\n",
              "      <td>10/13/2014 10:48</td>\n",
              "      <td>SEA00195</td>\n",
              "      <td>926.375</td>\n",
              "      <td>2nd Ave &amp; Spring St</td>\n",
              "      <td>Occidental Park / Occidental Ave S &amp; S Washing...</td>\n",
              "      <td>CBD-06</td>\n",
              "      <td>PS-04</td>\n",
              "      <td>Member</td>\n",
              "      <td>Male</td>\n",
              "      <td>1970.0</td>\n",
              "    </tr>\n",
              "  </tbody>\n",
              "</table>\n",
              "</div>\n",
              "    <div class=\"colab-df-buttons\">\n",
              "\n",
              "  <div class=\"colab-df-container\">\n",
              "    <button class=\"colab-df-convert\" onclick=\"convertToInteractive('df-148b8683-51e3-45f4-bdbe-2fc7d22c0a32')\"\n",
              "            title=\"Convert this dataframe to an interactive table.\"\n",
              "            style=\"display:none;\">\n",
              "\n",
              "  <svg xmlns=\"http://www.w3.org/2000/svg\" height=\"24px\" viewBox=\"0 -960 960 960\">\n",
              "    <path d=\"M120-120v-720h720v720H120Zm60-500h600v-160H180v160Zm220 220h160v-160H400v160Zm0 220h160v-160H400v160ZM180-400h160v-160H180v160Zm440 0h160v-160H620v160ZM180-180h160v-160H180v160Zm440 0h160v-160H620v160Z\"/>\n",
              "  </svg>\n",
              "    </button>\n",
              "\n",
              "  <style>\n",
              "    .colab-df-container {\n",
              "      display:flex;\n",
              "      gap: 12px;\n",
              "    }\n",
              "\n",
              "    .colab-df-convert {\n",
              "      background-color: #E8F0FE;\n",
              "      border: none;\n",
              "      border-radius: 50%;\n",
              "      cursor: pointer;\n",
              "      display: none;\n",
              "      fill: #1967D2;\n",
              "      height: 32px;\n",
              "      padding: 0 0 0 0;\n",
              "      width: 32px;\n",
              "    }\n",
              "\n",
              "    .colab-df-convert:hover {\n",
              "      background-color: #E2EBFA;\n",
              "      box-shadow: 0px 1px 2px rgba(60, 64, 67, 0.3), 0px 1px 3px 1px rgba(60, 64, 67, 0.15);\n",
              "      fill: #174EA6;\n",
              "    }\n",
              "\n",
              "    .colab-df-buttons div {\n",
              "      margin-bottom: 4px;\n",
              "    }\n",
              "\n",
              "    [theme=dark] .colab-df-convert {\n",
              "      background-color: #3B4455;\n",
              "      fill: #D2E3FC;\n",
              "    }\n",
              "\n",
              "    [theme=dark] .colab-df-convert:hover {\n",
              "      background-color: #434B5C;\n",
              "      box-shadow: 0px 1px 3px 1px rgba(0, 0, 0, 0.15);\n",
              "      filter: drop-shadow(0px 1px 2px rgba(0, 0, 0, 0.3));\n",
              "      fill: #FFFFFF;\n",
              "    }\n",
              "  </style>\n",
              "\n",
              "    <script>\n",
              "      const buttonEl =\n",
              "        document.querySelector('#df-148b8683-51e3-45f4-bdbe-2fc7d22c0a32 button.colab-df-convert');\n",
              "      buttonEl.style.display =\n",
              "        google.colab.kernel.accessAllowed ? 'block' : 'none';\n",
              "\n",
              "      async function convertToInteractive(key) {\n",
              "        const element = document.querySelector('#df-148b8683-51e3-45f4-bdbe-2fc7d22c0a32');\n",
              "        const dataTable =\n",
              "          await google.colab.kernel.invokeFunction('convertToInteractive',\n",
              "                                                    [key], {});\n",
              "        if (!dataTable) return;\n",
              "\n",
              "        const docLinkHtml = 'Like what you see? Visit the ' +\n",
              "          '<a target=\"_blank\" href=https://colab.research.google.com/notebooks/data_table.ipynb>data table notebook</a>'\n",
              "          + ' to learn more about interactive tables.';\n",
              "        element.innerHTML = '';\n",
              "        dataTable['output_type'] = 'display_data';\n",
              "        await google.colab.output.renderOutput(dataTable, element);\n",
              "        const docLink = document.createElement('div');\n",
              "        docLink.innerHTML = docLinkHtml;\n",
              "        element.appendChild(docLink);\n",
              "      }\n",
              "    </script>\n",
              "  </div>\n",
              "\n",
              "\n",
              "<div id=\"df-d639cb02-9572-425d-924b-c857ce67374d\">\n",
              "  <button class=\"colab-df-quickchart\" onclick=\"quickchart('df-d639cb02-9572-425d-924b-c857ce67374d')\"\n",
              "            title=\"Suggest charts\"\n",
              "            style=\"display:none;\">\n",
              "\n",
              "<svg xmlns=\"http://www.w3.org/2000/svg\" height=\"24px\"viewBox=\"0 0 24 24\"\n",
              "     width=\"24px\">\n",
              "    <g>\n",
              "        <path d=\"M19 3H5c-1.1 0-2 .9-2 2v14c0 1.1.9 2 2 2h14c1.1 0 2-.9 2-2V5c0-1.1-.9-2-2-2zM9 17H7v-7h2v7zm4 0h-2V7h2v10zm4 0h-2v-4h2v4z\"/>\n",
              "    </g>\n",
              "</svg>\n",
              "  </button>\n",
              "\n",
              "<style>\n",
              "  .colab-df-quickchart {\n",
              "      --bg-color: #E8F0FE;\n",
              "      --fill-color: #1967D2;\n",
              "      --hover-bg-color: #E2EBFA;\n",
              "      --hover-fill-color: #174EA6;\n",
              "      --disabled-fill-color: #AAA;\n",
              "      --disabled-bg-color: #DDD;\n",
              "  }\n",
              "\n",
              "  [theme=dark] .colab-df-quickchart {\n",
              "      --bg-color: #3B4455;\n",
              "      --fill-color: #D2E3FC;\n",
              "      --hover-bg-color: #434B5C;\n",
              "      --hover-fill-color: #FFFFFF;\n",
              "      --disabled-bg-color: #3B4455;\n",
              "      --disabled-fill-color: #666;\n",
              "  }\n",
              "\n",
              "  .colab-df-quickchart {\n",
              "    background-color: var(--bg-color);\n",
              "    border: none;\n",
              "    border-radius: 50%;\n",
              "    cursor: pointer;\n",
              "    display: none;\n",
              "    fill: var(--fill-color);\n",
              "    height: 32px;\n",
              "    padding: 0;\n",
              "    width: 32px;\n",
              "  }\n",
              "\n",
              "  .colab-df-quickchart:hover {\n",
              "    background-color: var(--hover-bg-color);\n",
              "    box-shadow: 0 1px 2px rgba(60, 64, 67, 0.3), 0 1px 3px 1px rgba(60, 64, 67, 0.15);\n",
              "    fill: var(--button-hover-fill-color);\n",
              "  }\n",
              "\n",
              "  .colab-df-quickchart-complete:disabled,\n",
              "  .colab-df-quickchart-complete:disabled:hover {\n",
              "    background-color: var(--disabled-bg-color);\n",
              "    fill: var(--disabled-fill-color);\n",
              "    box-shadow: none;\n",
              "  }\n",
              "\n",
              "  .colab-df-spinner {\n",
              "    border: 2px solid var(--fill-color);\n",
              "    border-color: transparent;\n",
              "    border-bottom-color: var(--fill-color);\n",
              "    animation:\n",
              "      spin 1s steps(1) infinite;\n",
              "  }\n",
              "\n",
              "  @keyframes spin {\n",
              "    0% {\n",
              "      border-color: transparent;\n",
              "      border-bottom-color: var(--fill-color);\n",
              "      border-left-color: var(--fill-color);\n",
              "    }\n",
              "    20% {\n",
              "      border-color: transparent;\n",
              "      border-left-color: var(--fill-color);\n",
              "      border-top-color: var(--fill-color);\n",
              "    }\n",
              "    30% {\n",
              "      border-color: transparent;\n",
              "      border-left-color: var(--fill-color);\n",
              "      border-top-color: var(--fill-color);\n",
              "      border-right-color: var(--fill-color);\n",
              "    }\n",
              "    40% {\n",
              "      border-color: transparent;\n",
              "      border-right-color: var(--fill-color);\n",
              "      border-top-color: var(--fill-color);\n",
              "    }\n",
              "    60% {\n",
              "      border-color: transparent;\n",
              "      border-right-color: var(--fill-color);\n",
              "    }\n",
              "    80% {\n",
              "      border-color: transparent;\n",
              "      border-right-color: var(--fill-color);\n",
              "      border-bottom-color: var(--fill-color);\n",
              "    }\n",
              "    90% {\n",
              "      border-color: transparent;\n",
              "      border-bottom-color: var(--fill-color);\n",
              "    }\n",
              "  }\n",
              "</style>\n",
              "\n",
              "  <script>\n",
              "    async function quickchart(key) {\n",
              "      const quickchartButtonEl =\n",
              "        document.querySelector('#' + key + ' button');\n",
              "      quickchartButtonEl.disabled = true;  // To prevent multiple clicks.\n",
              "      quickchartButtonEl.classList.add('colab-df-spinner');\n",
              "      try {\n",
              "        const charts = await google.colab.kernel.invokeFunction(\n",
              "            'suggestCharts', [key], {});\n",
              "      } catch (error) {\n",
              "        console.error('Error during call to suggestCharts:', error);\n",
              "      }\n",
              "      quickchartButtonEl.classList.remove('colab-df-spinner');\n",
              "      quickchartButtonEl.classList.add('colab-df-quickchart-complete');\n",
              "    }\n",
              "    (() => {\n",
              "      let quickchartButtonEl =\n",
              "        document.querySelector('#df-d639cb02-9572-425d-924b-c857ce67374d button');\n",
              "      quickchartButtonEl.style.display =\n",
              "        google.colab.kernel.accessAllowed ? 'block' : 'none';\n",
              "    })();\n",
              "  </script>\n",
              "</div>\n",
              "\n",
              "    </div>\n",
              "  </div>\n"
            ],
            "application/vnd.google.colaboratory.intrinsic+json": {
              "type": "dataframe",
              "variable_name": "df"
            }
          },
          "metadata": {},
          "execution_count": 29
        }
      ]
    },
    {
      "cell_type": "code",
      "source": [
        "df.tail(3)"
      ],
      "metadata": {
        "colab": {
          "base_uri": "https://localhost:8080/",
          "height": 319
        },
        "id": "WHbjgej8D77W",
        "outputId": "f12a40c0-2f17-45e2-a4b5-2205636552a6"
      },
      "execution_count": null,
      "outputs": [
        {
          "output_type": "execute_result",
          "data": {
            "text/plain": [
              "        TripID        StartTime       StopTime    BikeID  TripDuration  \\\n",
              "236062  255243  8/31/2016 23:47  9/1/2016 0:20  SEA00300      1951.173   \n",
              "236063  255244  8/31/2016 23:49  9/1/2016 0:20  SEA00047      1883.299   \n",
              "236064  255245  8/31/2016 23:49  9/1/2016 0:20  SEA00442      1896.031   \n",
              "\n",
              "                               FromStationName          ToStationName  \\\n",
              "236062  Cal Anderson Park / 11th Ave & Pine St  6th Ave S & S King St   \n",
              "236063  Cal Anderson Park / 11th Ave & Pine St  6th Ave S & S King St   \n",
              "236064  Cal Anderson Park / 11th Ave & Pine St  6th Ave S & S King St   \n",
              "\n",
              "       FromStationID ToStationID                Usertype Gender  Birthyear  \n",
              "236062         CH-08       ID-04  Short-Term Pass Holder    NaN        NaN  \n",
              "236063         CH-08       ID-04  Short-Term Pass Holder    NaN        NaN  \n",
              "236064         CH-08       ID-04  Short-Term Pass Holder    NaN        NaN  "
            ],
            "text/html": [
              "\n",
              "  <div id=\"df-50d9ac36-af50-4074-b6fd-c29eb7418bb6\" class=\"colab-df-container\">\n",
              "    <div>\n",
              "<style scoped>\n",
              "    .dataframe tbody tr th:only-of-type {\n",
              "        vertical-align: middle;\n",
              "    }\n",
              "\n",
              "    .dataframe tbody tr th {\n",
              "        vertical-align: top;\n",
              "    }\n",
              "\n",
              "    .dataframe thead th {\n",
              "        text-align: right;\n",
              "    }\n",
              "</style>\n",
              "<table border=\"1\" class=\"dataframe\">\n",
              "  <thead>\n",
              "    <tr style=\"text-align: right;\">\n",
              "      <th></th>\n",
              "      <th>TripID</th>\n",
              "      <th>StartTime</th>\n",
              "      <th>StopTime</th>\n",
              "      <th>BikeID</th>\n",
              "      <th>TripDuration</th>\n",
              "      <th>FromStationName</th>\n",
              "      <th>ToStationName</th>\n",
              "      <th>FromStationID</th>\n",
              "      <th>ToStationID</th>\n",
              "      <th>Usertype</th>\n",
              "      <th>Gender</th>\n",
              "      <th>Birthyear</th>\n",
              "    </tr>\n",
              "  </thead>\n",
              "  <tbody>\n",
              "    <tr>\n",
              "      <th>236062</th>\n",
              "      <td>255243</td>\n",
              "      <td>8/31/2016 23:47</td>\n",
              "      <td>9/1/2016 0:20</td>\n",
              "      <td>SEA00300</td>\n",
              "      <td>1951.173</td>\n",
              "      <td>Cal Anderson Park / 11th Ave &amp; Pine St</td>\n",
              "      <td>6th Ave S &amp; S King St</td>\n",
              "      <td>CH-08</td>\n",
              "      <td>ID-04</td>\n",
              "      <td>Short-Term Pass Holder</td>\n",
              "      <td>NaN</td>\n",
              "      <td>NaN</td>\n",
              "    </tr>\n",
              "    <tr>\n",
              "      <th>236063</th>\n",
              "      <td>255244</td>\n",
              "      <td>8/31/2016 23:49</td>\n",
              "      <td>9/1/2016 0:20</td>\n",
              "      <td>SEA00047</td>\n",
              "      <td>1883.299</td>\n",
              "      <td>Cal Anderson Park / 11th Ave &amp; Pine St</td>\n",
              "      <td>6th Ave S &amp; S King St</td>\n",
              "      <td>CH-08</td>\n",
              "      <td>ID-04</td>\n",
              "      <td>Short-Term Pass Holder</td>\n",
              "      <td>NaN</td>\n",
              "      <td>NaN</td>\n",
              "    </tr>\n",
              "    <tr>\n",
              "      <th>236064</th>\n",
              "      <td>255245</td>\n",
              "      <td>8/31/2016 23:49</td>\n",
              "      <td>9/1/2016 0:20</td>\n",
              "      <td>SEA00442</td>\n",
              "      <td>1896.031</td>\n",
              "      <td>Cal Anderson Park / 11th Ave &amp; Pine St</td>\n",
              "      <td>6th Ave S &amp; S King St</td>\n",
              "      <td>CH-08</td>\n",
              "      <td>ID-04</td>\n",
              "      <td>Short-Term Pass Holder</td>\n",
              "      <td>NaN</td>\n",
              "      <td>NaN</td>\n",
              "    </tr>\n",
              "  </tbody>\n",
              "</table>\n",
              "</div>\n",
              "    <div class=\"colab-df-buttons\">\n",
              "\n",
              "  <div class=\"colab-df-container\">\n",
              "    <button class=\"colab-df-convert\" onclick=\"convertToInteractive('df-50d9ac36-af50-4074-b6fd-c29eb7418bb6')\"\n",
              "            title=\"Convert this dataframe to an interactive table.\"\n",
              "            style=\"display:none;\">\n",
              "\n",
              "  <svg xmlns=\"http://www.w3.org/2000/svg\" height=\"24px\" viewBox=\"0 -960 960 960\">\n",
              "    <path d=\"M120-120v-720h720v720H120Zm60-500h600v-160H180v160Zm220 220h160v-160H400v160Zm0 220h160v-160H400v160ZM180-400h160v-160H180v160Zm440 0h160v-160H620v160ZM180-180h160v-160H180v160Zm440 0h160v-160H620v160Z\"/>\n",
              "  </svg>\n",
              "    </button>\n",
              "\n",
              "  <style>\n",
              "    .colab-df-container {\n",
              "      display:flex;\n",
              "      gap: 12px;\n",
              "    }\n",
              "\n",
              "    .colab-df-convert {\n",
              "      background-color: #E8F0FE;\n",
              "      border: none;\n",
              "      border-radius: 50%;\n",
              "      cursor: pointer;\n",
              "      display: none;\n",
              "      fill: #1967D2;\n",
              "      height: 32px;\n",
              "      padding: 0 0 0 0;\n",
              "      width: 32px;\n",
              "    }\n",
              "\n",
              "    .colab-df-convert:hover {\n",
              "      background-color: #E2EBFA;\n",
              "      box-shadow: 0px 1px 2px rgba(60, 64, 67, 0.3), 0px 1px 3px 1px rgba(60, 64, 67, 0.15);\n",
              "      fill: #174EA6;\n",
              "    }\n",
              "\n",
              "    .colab-df-buttons div {\n",
              "      margin-bottom: 4px;\n",
              "    }\n",
              "\n",
              "    [theme=dark] .colab-df-convert {\n",
              "      background-color: #3B4455;\n",
              "      fill: #D2E3FC;\n",
              "    }\n",
              "\n",
              "    [theme=dark] .colab-df-convert:hover {\n",
              "      background-color: #434B5C;\n",
              "      box-shadow: 0px 1px 3px 1px rgba(0, 0, 0, 0.15);\n",
              "      filter: drop-shadow(0px 1px 2px rgba(0, 0, 0, 0.3));\n",
              "      fill: #FFFFFF;\n",
              "    }\n",
              "  </style>\n",
              "\n",
              "    <script>\n",
              "      const buttonEl =\n",
              "        document.querySelector('#df-50d9ac36-af50-4074-b6fd-c29eb7418bb6 button.colab-df-convert');\n",
              "      buttonEl.style.display =\n",
              "        google.colab.kernel.accessAllowed ? 'block' : 'none';\n",
              "\n",
              "      async function convertToInteractive(key) {\n",
              "        const element = document.querySelector('#df-50d9ac36-af50-4074-b6fd-c29eb7418bb6');\n",
              "        const dataTable =\n",
              "          await google.colab.kernel.invokeFunction('convertToInteractive',\n",
              "                                                    [key], {});\n",
              "        if (!dataTable) return;\n",
              "\n",
              "        const docLinkHtml = 'Like what you see? Visit the ' +\n",
              "          '<a target=\"_blank\" href=https://colab.research.google.com/notebooks/data_table.ipynb>data table notebook</a>'\n",
              "          + ' to learn more about interactive tables.';\n",
              "        element.innerHTML = '';\n",
              "        dataTable['output_type'] = 'display_data';\n",
              "        await google.colab.output.renderOutput(dataTable, element);\n",
              "        const docLink = document.createElement('div');\n",
              "        docLink.innerHTML = docLinkHtml;\n",
              "        element.appendChild(docLink);\n",
              "      }\n",
              "    </script>\n",
              "  </div>\n",
              "\n",
              "\n",
              "<div id=\"df-fd6d9455-1f35-4d6d-bffe-aa5d591a5e77\">\n",
              "  <button class=\"colab-df-quickchart\" onclick=\"quickchart('df-fd6d9455-1f35-4d6d-bffe-aa5d591a5e77')\"\n",
              "            title=\"Suggest charts\"\n",
              "            style=\"display:none;\">\n",
              "\n",
              "<svg xmlns=\"http://www.w3.org/2000/svg\" height=\"24px\"viewBox=\"0 0 24 24\"\n",
              "     width=\"24px\">\n",
              "    <g>\n",
              "        <path d=\"M19 3H5c-1.1 0-2 .9-2 2v14c0 1.1.9 2 2 2h14c1.1 0 2-.9 2-2V5c0-1.1-.9-2-2-2zM9 17H7v-7h2v7zm4 0h-2V7h2v10zm4 0h-2v-4h2v4z\"/>\n",
              "    </g>\n",
              "</svg>\n",
              "  </button>\n",
              "\n",
              "<style>\n",
              "  .colab-df-quickchart {\n",
              "      --bg-color: #E8F0FE;\n",
              "      --fill-color: #1967D2;\n",
              "      --hover-bg-color: #E2EBFA;\n",
              "      --hover-fill-color: #174EA6;\n",
              "      --disabled-fill-color: #AAA;\n",
              "      --disabled-bg-color: #DDD;\n",
              "  }\n",
              "\n",
              "  [theme=dark] .colab-df-quickchart {\n",
              "      --bg-color: #3B4455;\n",
              "      --fill-color: #D2E3FC;\n",
              "      --hover-bg-color: #434B5C;\n",
              "      --hover-fill-color: #FFFFFF;\n",
              "      --disabled-bg-color: #3B4455;\n",
              "      --disabled-fill-color: #666;\n",
              "  }\n",
              "\n",
              "  .colab-df-quickchart {\n",
              "    background-color: var(--bg-color);\n",
              "    border: none;\n",
              "    border-radius: 50%;\n",
              "    cursor: pointer;\n",
              "    display: none;\n",
              "    fill: var(--fill-color);\n",
              "    height: 32px;\n",
              "    padding: 0;\n",
              "    width: 32px;\n",
              "  }\n",
              "\n",
              "  .colab-df-quickchart:hover {\n",
              "    background-color: var(--hover-bg-color);\n",
              "    box-shadow: 0 1px 2px rgba(60, 64, 67, 0.3), 0 1px 3px 1px rgba(60, 64, 67, 0.15);\n",
              "    fill: var(--button-hover-fill-color);\n",
              "  }\n",
              "\n",
              "  .colab-df-quickchart-complete:disabled,\n",
              "  .colab-df-quickchart-complete:disabled:hover {\n",
              "    background-color: var(--disabled-bg-color);\n",
              "    fill: var(--disabled-fill-color);\n",
              "    box-shadow: none;\n",
              "  }\n",
              "\n",
              "  .colab-df-spinner {\n",
              "    border: 2px solid var(--fill-color);\n",
              "    border-color: transparent;\n",
              "    border-bottom-color: var(--fill-color);\n",
              "    animation:\n",
              "      spin 1s steps(1) infinite;\n",
              "  }\n",
              "\n",
              "  @keyframes spin {\n",
              "    0% {\n",
              "      border-color: transparent;\n",
              "      border-bottom-color: var(--fill-color);\n",
              "      border-left-color: var(--fill-color);\n",
              "    }\n",
              "    20% {\n",
              "      border-color: transparent;\n",
              "      border-left-color: var(--fill-color);\n",
              "      border-top-color: var(--fill-color);\n",
              "    }\n",
              "    30% {\n",
              "      border-color: transparent;\n",
              "      border-left-color: var(--fill-color);\n",
              "      border-top-color: var(--fill-color);\n",
              "      border-right-color: var(--fill-color);\n",
              "    }\n",
              "    40% {\n",
              "      border-color: transparent;\n",
              "      border-right-color: var(--fill-color);\n",
              "      border-top-color: var(--fill-color);\n",
              "    }\n",
              "    60% {\n",
              "      border-color: transparent;\n",
              "      border-right-color: var(--fill-color);\n",
              "    }\n",
              "    80% {\n",
              "      border-color: transparent;\n",
              "      border-right-color: var(--fill-color);\n",
              "      border-bottom-color: var(--fill-color);\n",
              "    }\n",
              "    90% {\n",
              "      border-color: transparent;\n",
              "      border-bottom-color: var(--fill-color);\n",
              "    }\n",
              "  }\n",
              "</style>\n",
              "\n",
              "  <script>\n",
              "    async function quickchart(key) {\n",
              "      const quickchartButtonEl =\n",
              "        document.querySelector('#' + key + ' button');\n",
              "      quickchartButtonEl.disabled = true;  // To prevent multiple clicks.\n",
              "      quickchartButtonEl.classList.add('colab-df-spinner');\n",
              "      try {\n",
              "        const charts = await google.colab.kernel.invokeFunction(\n",
              "            'suggestCharts', [key], {});\n",
              "      } catch (error) {\n",
              "        console.error('Error during call to suggestCharts:', error);\n",
              "      }\n",
              "      quickchartButtonEl.classList.remove('colab-df-spinner');\n",
              "      quickchartButtonEl.classList.add('colab-df-quickchart-complete');\n",
              "    }\n",
              "    (() => {\n",
              "      let quickchartButtonEl =\n",
              "        document.querySelector('#df-fd6d9455-1f35-4d6d-bffe-aa5d591a5e77 button');\n",
              "      quickchartButtonEl.style.display =\n",
              "        google.colab.kernel.accessAllowed ? 'block' : 'none';\n",
              "    })();\n",
              "  </script>\n",
              "</div>\n",
              "\n",
              "    </div>\n",
              "  </div>\n"
            ],
            "application/vnd.google.colaboratory.intrinsic+json": {
              "type": "dataframe",
              "repr_error": "0"
            }
          },
          "metadata": {},
          "execution_count": 30
        }
      ]
    },
    {
      "cell_type": "code",
      "source": [
        "# setting index"
      ],
      "metadata": {
        "id": "8cMZQZuy5vQI"
      },
      "execution_count": null,
      "outputs": []
    },
    {
      "cell_type": "code",
      "source": [
        "# trip.index"
      ],
      "metadata": {
        "id": "PPDI5H275vLW"
      },
      "execution_count": null,
      "outputs": []
    },
    {
      "cell_type": "code",
      "source": [
        "# dot set_index()\n",
        "trip.set_index(\"TripID\")\n"
      ],
      "metadata": {
        "colab": {
          "base_uri": "https://localhost:8080/",
          "height": 995
        },
        "id": "Tl-YqMT88Lq4",
        "outputId": "b066d273-4a07-4bbf-d71e-bfb72763c7c3"
      },
      "execution_count": null,
      "outputs": [
        {
          "output_type": "execute_result",
          "data": {
            "text/plain": [
              "               StartTime          StopTime    BikeID  TripDuration  \\\n",
              "TripID                                                               \n",
              "431     10/13/2014 10:31  10/13/2014 10:48  SEA00298       985.935   \n",
              "432     10/13/2014 10:32  10/13/2014 10:48  SEA00195       926.375   \n",
              "433     10/13/2014 10:33  10/13/2014 10:48  SEA00486       883.831   \n",
              "434     10/13/2014 10:34  10/13/2014 10:48  SEA00333       865.937   \n",
              "435     10/13/2014 10:34  10/13/2014 10:49  SEA00202       923.923   \n",
              "...                  ...               ...       ...           ...   \n",
              "255241   8/31/2016 23:34   8/31/2016 23:45  SEA00201       679.532   \n",
              "255242   8/31/2016 23:48     9/1/2016 0:20  SEA00247      1965.418   \n",
              "255243   8/31/2016 23:47     9/1/2016 0:20  SEA00300      1951.173   \n",
              "255244   8/31/2016 23:49     9/1/2016 0:20  SEA00047      1883.299   \n",
              "255245   8/31/2016 23:49     9/1/2016 0:20  SEA00442      1896.031   \n",
              "\n",
              "                               FromStationName  \\\n",
              "TripID                                           \n",
              "431                        2nd Ave & Spring St   \n",
              "432                        2nd Ave & Spring St   \n",
              "433                        2nd Ave & Spring St   \n",
              "434                        2nd Ave & Spring St   \n",
              "435                        2nd Ave & Spring St   \n",
              "...                                        ...   \n",
              "255241                 Harvard Ave & E Pine St   \n",
              "255242  Cal Anderson Park / 11th Ave & Pine St   \n",
              "255243  Cal Anderson Park / 11th Ave & Pine St   \n",
              "255244  Cal Anderson Park / 11th Ave & Pine St   \n",
              "255245  Cal Anderson Park / 11th Ave & Pine St   \n",
              "\n",
              "                                            ToStationName FromStationID  \\\n",
              "TripID                                                                    \n",
              "431     Occidental Park / Occidental Ave S & S Washing...        CBD-06   \n",
              "432     Occidental Park / Occidental Ave S & S Washing...        CBD-06   \n",
              "433     Occidental Park / Occidental Ave S & S Washing...        CBD-06   \n",
              "434     Occidental Park / Occidental Ave S & S Washing...        CBD-06   \n",
              "435     Occidental Park / Occidental Ave S & S Washing...        CBD-06   \n",
              "...                                                   ...           ...   \n",
              "255241                                2nd Ave & Spring St         CH-09   \n",
              "255242                              6th Ave S & S King St         CH-08   \n",
              "255243                              6th Ave S & S King St         CH-08   \n",
              "255244                              6th Ave S & S King St         CH-08   \n",
              "255245                              6th Ave S & S King St         CH-08   \n",
              "\n",
              "       ToStationID                Usertype  Gender  Birthyear  \n",
              "TripID                                                         \n",
              "431          PS-04                  Member    Male     1960.0  \n",
              "432          PS-04                  Member    Male     1970.0  \n",
              "433          PS-04                  Member  Female     1988.0  \n",
              "434          PS-04                  Member  Female     1977.0  \n",
              "435          PS-04                  Member    Male     1971.0  \n",
              "...            ...                     ...     ...        ...  \n",
              "255241      CBD-06  Short-Term Pass Holder     NaN        NaN  \n",
              "255242       ID-04  Short-Term Pass Holder     NaN        NaN  \n",
              "255243       ID-04  Short-Term Pass Holder     NaN        NaN  \n",
              "255244       ID-04  Short-Term Pass Holder     NaN        NaN  \n",
              "255245       ID-04  Short-Term Pass Holder     NaN        NaN  \n",
              "\n",
              "[236065 rows x 11 columns]"
            ],
            "text/html": [
              "\n",
              "  <div id=\"df-ec1a3e96-5c76-428c-8186-9dd5b0c9c5fb\" class=\"colab-df-container\">\n",
              "    <div>\n",
              "<style scoped>\n",
              "    .dataframe tbody tr th:only-of-type {\n",
              "        vertical-align: middle;\n",
              "    }\n",
              "\n",
              "    .dataframe tbody tr th {\n",
              "        vertical-align: top;\n",
              "    }\n",
              "\n",
              "    .dataframe thead th {\n",
              "        text-align: right;\n",
              "    }\n",
              "</style>\n",
              "<table border=\"1\" class=\"dataframe\">\n",
              "  <thead>\n",
              "    <tr style=\"text-align: right;\">\n",
              "      <th></th>\n",
              "      <th>StartTime</th>\n",
              "      <th>StopTime</th>\n",
              "      <th>BikeID</th>\n",
              "      <th>TripDuration</th>\n",
              "      <th>FromStationName</th>\n",
              "      <th>ToStationName</th>\n",
              "      <th>FromStationID</th>\n",
              "      <th>ToStationID</th>\n",
              "      <th>Usertype</th>\n",
              "      <th>Gender</th>\n",
              "      <th>Birthyear</th>\n",
              "    </tr>\n",
              "    <tr>\n",
              "      <th>TripID</th>\n",
              "      <th></th>\n",
              "      <th></th>\n",
              "      <th></th>\n",
              "      <th></th>\n",
              "      <th></th>\n",
              "      <th></th>\n",
              "      <th></th>\n",
              "      <th></th>\n",
              "      <th></th>\n",
              "      <th></th>\n",
              "      <th></th>\n",
              "    </tr>\n",
              "  </thead>\n",
              "  <tbody>\n",
              "    <tr>\n",
              "      <th>431</th>\n",
              "      <td>10/13/2014 10:31</td>\n",
              "      <td>10/13/2014 10:48</td>\n",
              "      <td>SEA00298</td>\n",
              "      <td>985.935</td>\n",
              "      <td>2nd Ave &amp; Spring St</td>\n",
              "      <td>Occidental Park / Occidental Ave S &amp; S Washing...</td>\n",
              "      <td>CBD-06</td>\n",
              "      <td>PS-04</td>\n",
              "      <td>Member</td>\n",
              "      <td>Male</td>\n",
              "      <td>1960.0</td>\n",
              "    </tr>\n",
              "    <tr>\n",
              "      <th>432</th>\n",
              "      <td>10/13/2014 10:32</td>\n",
              "      <td>10/13/2014 10:48</td>\n",
              "      <td>SEA00195</td>\n",
              "      <td>926.375</td>\n",
              "      <td>2nd Ave &amp; Spring St</td>\n",
              "      <td>Occidental Park / Occidental Ave S &amp; S Washing...</td>\n",
              "      <td>CBD-06</td>\n",
              "      <td>PS-04</td>\n",
              "      <td>Member</td>\n",
              "      <td>Male</td>\n",
              "      <td>1970.0</td>\n",
              "    </tr>\n",
              "    <tr>\n",
              "      <th>433</th>\n",
              "      <td>10/13/2014 10:33</td>\n",
              "      <td>10/13/2014 10:48</td>\n",
              "      <td>SEA00486</td>\n",
              "      <td>883.831</td>\n",
              "      <td>2nd Ave &amp; Spring St</td>\n",
              "      <td>Occidental Park / Occidental Ave S &amp; S Washing...</td>\n",
              "      <td>CBD-06</td>\n",
              "      <td>PS-04</td>\n",
              "      <td>Member</td>\n",
              "      <td>Female</td>\n",
              "      <td>1988.0</td>\n",
              "    </tr>\n",
              "    <tr>\n",
              "      <th>434</th>\n",
              "      <td>10/13/2014 10:34</td>\n",
              "      <td>10/13/2014 10:48</td>\n",
              "      <td>SEA00333</td>\n",
              "      <td>865.937</td>\n",
              "      <td>2nd Ave &amp; Spring St</td>\n",
              "      <td>Occidental Park / Occidental Ave S &amp; S Washing...</td>\n",
              "      <td>CBD-06</td>\n",
              "      <td>PS-04</td>\n",
              "      <td>Member</td>\n",
              "      <td>Female</td>\n",
              "      <td>1977.0</td>\n",
              "    </tr>\n",
              "    <tr>\n",
              "      <th>435</th>\n",
              "      <td>10/13/2014 10:34</td>\n",
              "      <td>10/13/2014 10:49</td>\n",
              "      <td>SEA00202</td>\n",
              "      <td>923.923</td>\n",
              "      <td>2nd Ave &amp; Spring St</td>\n",
              "      <td>Occidental Park / Occidental Ave S &amp; S Washing...</td>\n",
              "      <td>CBD-06</td>\n",
              "      <td>PS-04</td>\n",
              "      <td>Member</td>\n",
              "      <td>Male</td>\n",
              "      <td>1971.0</td>\n",
              "    </tr>\n",
              "    <tr>\n",
              "      <th>...</th>\n",
              "      <td>...</td>\n",
              "      <td>...</td>\n",
              "      <td>...</td>\n",
              "      <td>...</td>\n",
              "      <td>...</td>\n",
              "      <td>...</td>\n",
              "      <td>...</td>\n",
              "      <td>...</td>\n",
              "      <td>...</td>\n",
              "      <td>...</td>\n",
              "      <td>...</td>\n",
              "    </tr>\n",
              "    <tr>\n",
              "      <th>255241</th>\n",
              "      <td>8/31/2016 23:34</td>\n",
              "      <td>8/31/2016 23:45</td>\n",
              "      <td>SEA00201</td>\n",
              "      <td>679.532</td>\n",
              "      <td>Harvard Ave &amp; E Pine St</td>\n",
              "      <td>2nd Ave &amp; Spring St</td>\n",
              "      <td>CH-09</td>\n",
              "      <td>CBD-06</td>\n",
              "      <td>Short-Term Pass Holder</td>\n",
              "      <td>NaN</td>\n",
              "      <td>NaN</td>\n",
              "    </tr>\n",
              "    <tr>\n",
              "      <th>255242</th>\n",
              "      <td>8/31/2016 23:48</td>\n",
              "      <td>9/1/2016 0:20</td>\n",
              "      <td>SEA00247</td>\n",
              "      <td>1965.418</td>\n",
              "      <td>Cal Anderson Park / 11th Ave &amp; Pine St</td>\n",
              "      <td>6th Ave S &amp; S King St</td>\n",
              "      <td>CH-08</td>\n",
              "      <td>ID-04</td>\n",
              "      <td>Short-Term Pass Holder</td>\n",
              "      <td>NaN</td>\n",
              "      <td>NaN</td>\n",
              "    </tr>\n",
              "    <tr>\n",
              "      <th>255243</th>\n",
              "      <td>8/31/2016 23:47</td>\n",
              "      <td>9/1/2016 0:20</td>\n",
              "      <td>SEA00300</td>\n",
              "      <td>1951.173</td>\n",
              "      <td>Cal Anderson Park / 11th Ave &amp; Pine St</td>\n",
              "      <td>6th Ave S &amp; S King St</td>\n",
              "      <td>CH-08</td>\n",
              "      <td>ID-04</td>\n",
              "      <td>Short-Term Pass Holder</td>\n",
              "      <td>NaN</td>\n",
              "      <td>NaN</td>\n",
              "    </tr>\n",
              "    <tr>\n",
              "      <th>255244</th>\n",
              "      <td>8/31/2016 23:49</td>\n",
              "      <td>9/1/2016 0:20</td>\n",
              "      <td>SEA00047</td>\n",
              "      <td>1883.299</td>\n",
              "      <td>Cal Anderson Park / 11th Ave &amp; Pine St</td>\n",
              "      <td>6th Ave S &amp; S King St</td>\n",
              "      <td>CH-08</td>\n",
              "      <td>ID-04</td>\n",
              "      <td>Short-Term Pass Holder</td>\n",
              "      <td>NaN</td>\n",
              "      <td>NaN</td>\n",
              "    </tr>\n",
              "    <tr>\n",
              "      <th>255245</th>\n",
              "      <td>8/31/2016 23:49</td>\n",
              "      <td>9/1/2016 0:20</td>\n",
              "      <td>SEA00442</td>\n",
              "      <td>1896.031</td>\n",
              "      <td>Cal Anderson Park / 11th Ave &amp; Pine St</td>\n",
              "      <td>6th Ave S &amp; S King St</td>\n",
              "      <td>CH-08</td>\n",
              "      <td>ID-04</td>\n",
              "      <td>Short-Term Pass Holder</td>\n",
              "      <td>NaN</td>\n",
              "      <td>NaN</td>\n",
              "    </tr>\n",
              "  </tbody>\n",
              "</table>\n",
              "<p>236065 rows × 11 columns</p>\n",
              "</div>\n",
              "    <div class=\"colab-df-buttons\">\n",
              "\n",
              "  <div class=\"colab-df-container\">\n",
              "    <button class=\"colab-df-convert\" onclick=\"convertToInteractive('df-ec1a3e96-5c76-428c-8186-9dd5b0c9c5fb')\"\n",
              "            title=\"Convert this dataframe to an interactive table.\"\n",
              "            style=\"display:none;\">\n",
              "\n",
              "  <svg xmlns=\"http://www.w3.org/2000/svg\" height=\"24px\" viewBox=\"0 -960 960 960\">\n",
              "    <path d=\"M120-120v-720h720v720H120Zm60-500h600v-160H180v160Zm220 220h160v-160H400v160Zm0 220h160v-160H400v160ZM180-400h160v-160H180v160Zm440 0h160v-160H620v160ZM180-180h160v-160H180v160Zm440 0h160v-160H620v160Z\"/>\n",
              "  </svg>\n",
              "    </button>\n",
              "\n",
              "  <style>\n",
              "    .colab-df-container {\n",
              "      display:flex;\n",
              "      gap: 12px;\n",
              "    }\n",
              "\n",
              "    .colab-df-convert {\n",
              "      background-color: #E8F0FE;\n",
              "      border: none;\n",
              "      border-radius: 50%;\n",
              "      cursor: pointer;\n",
              "      display: none;\n",
              "      fill: #1967D2;\n",
              "      height: 32px;\n",
              "      padding: 0 0 0 0;\n",
              "      width: 32px;\n",
              "    }\n",
              "\n",
              "    .colab-df-convert:hover {\n",
              "      background-color: #E2EBFA;\n",
              "      box-shadow: 0px 1px 2px rgba(60, 64, 67, 0.3), 0px 1px 3px 1px rgba(60, 64, 67, 0.15);\n",
              "      fill: #174EA6;\n",
              "    }\n",
              "\n",
              "    .colab-df-buttons div {\n",
              "      margin-bottom: 4px;\n",
              "    }\n",
              "\n",
              "    [theme=dark] .colab-df-convert {\n",
              "      background-color: #3B4455;\n",
              "      fill: #D2E3FC;\n",
              "    }\n",
              "\n",
              "    [theme=dark] .colab-df-convert:hover {\n",
              "      background-color: #434B5C;\n",
              "      box-shadow: 0px 1px 3px 1px rgba(0, 0, 0, 0.15);\n",
              "      filter: drop-shadow(0px 1px 2px rgba(0, 0, 0, 0.3));\n",
              "      fill: #FFFFFF;\n",
              "    }\n",
              "  </style>\n",
              "\n",
              "    <script>\n",
              "      const buttonEl =\n",
              "        document.querySelector('#df-ec1a3e96-5c76-428c-8186-9dd5b0c9c5fb button.colab-df-convert');\n",
              "      buttonEl.style.display =\n",
              "        google.colab.kernel.accessAllowed ? 'block' : 'none';\n",
              "\n",
              "      async function convertToInteractive(key) {\n",
              "        const element = document.querySelector('#df-ec1a3e96-5c76-428c-8186-9dd5b0c9c5fb');\n",
              "        const dataTable =\n",
              "          await google.colab.kernel.invokeFunction('convertToInteractive',\n",
              "                                                    [key], {});\n",
              "        if (!dataTable) return;\n",
              "\n",
              "        const docLinkHtml = 'Like what you see? Visit the ' +\n",
              "          '<a target=\"_blank\" href=https://colab.research.google.com/notebooks/data_table.ipynb>data table notebook</a>'\n",
              "          + ' to learn more about interactive tables.';\n",
              "        element.innerHTML = '';\n",
              "        dataTable['output_type'] = 'display_data';\n",
              "        await google.colab.output.renderOutput(dataTable, element);\n",
              "        const docLink = document.createElement('div');\n",
              "        docLink.innerHTML = docLinkHtml;\n",
              "        element.appendChild(docLink);\n",
              "      }\n",
              "    </script>\n",
              "  </div>\n",
              "\n",
              "\n",
              "<div id=\"df-16342f32-f7c1-46ac-abc7-96c5428777c4\">\n",
              "  <button class=\"colab-df-quickchart\" onclick=\"quickchart('df-16342f32-f7c1-46ac-abc7-96c5428777c4')\"\n",
              "            title=\"Suggest charts\"\n",
              "            style=\"display:none;\">\n",
              "\n",
              "<svg xmlns=\"http://www.w3.org/2000/svg\" height=\"24px\"viewBox=\"0 0 24 24\"\n",
              "     width=\"24px\">\n",
              "    <g>\n",
              "        <path d=\"M19 3H5c-1.1 0-2 .9-2 2v14c0 1.1.9 2 2 2h14c1.1 0 2-.9 2-2V5c0-1.1-.9-2-2-2zM9 17H7v-7h2v7zm4 0h-2V7h2v10zm4 0h-2v-4h2v4z\"/>\n",
              "    </g>\n",
              "</svg>\n",
              "  </button>\n",
              "\n",
              "<style>\n",
              "  .colab-df-quickchart {\n",
              "      --bg-color: #E8F0FE;\n",
              "      --fill-color: #1967D2;\n",
              "      --hover-bg-color: #E2EBFA;\n",
              "      --hover-fill-color: #174EA6;\n",
              "      --disabled-fill-color: #AAA;\n",
              "      --disabled-bg-color: #DDD;\n",
              "  }\n",
              "\n",
              "  [theme=dark] .colab-df-quickchart {\n",
              "      --bg-color: #3B4455;\n",
              "      --fill-color: #D2E3FC;\n",
              "      --hover-bg-color: #434B5C;\n",
              "      --hover-fill-color: #FFFFFF;\n",
              "      --disabled-bg-color: #3B4455;\n",
              "      --disabled-fill-color: #666;\n",
              "  }\n",
              "\n",
              "  .colab-df-quickchart {\n",
              "    background-color: var(--bg-color);\n",
              "    border: none;\n",
              "    border-radius: 50%;\n",
              "    cursor: pointer;\n",
              "    display: none;\n",
              "    fill: var(--fill-color);\n",
              "    height: 32px;\n",
              "    padding: 0;\n",
              "    width: 32px;\n",
              "  }\n",
              "\n",
              "  .colab-df-quickchart:hover {\n",
              "    background-color: var(--hover-bg-color);\n",
              "    box-shadow: 0 1px 2px rgba(60, 64, 67, 0.3), 0 1px 3px 1px rgba(60, 64, 67, 0.15);\n",
              "    fill: var(--button-hover-fill-color);\n",
              "  }\n",
              "\n",
              "  .colab-df-quickchart-complete:disabled,\n",
              "  .colab-df-quickchart-complete:disabled:hover {\n",
              "    background-color: var(--disabled-bg-color);\n",
              "    fill: var(--disabled-fill-color);\n",
              "    box-shadow: none;\n",
              "  }\n",
              "\n",
              "  .colab-df-spinner {\n",
              "    border: 2px solid var(--fill-color);\n",
              "    border-color: transparent;\n",
              "    border-bottom-color: var(--fill-color);\n",
              "    animation:\n",
              "      spin 1s steps(1) infinite;\n",
              "  }\n",
              "\n",
              "  @keyframes spin {\n",
              "    0% {\n",
              "      border-color: transparent;\n",
              "      border-bottom-color: var(--fill-color);\n",
              "      border-left-color: var(--fill-color);\n",
              "    }\n",
              "    20% {\n",
              "      border-color: transparent;\n",
              "      border-left-color: var(--fill-color);\n",
              "      border-top-color: var(--fill-color);\n",
              "    }\n",
              "    30% {\n",
              "      border-color: transparent;\n",
              "      border-left-color: var(--fill-color);\n",
              "      border-top-color: var(--fill-color);\n",
              "      border-right-color: var(--fill-color);\n",
              "    }\n",
              "    40% {\n",
              "      border-color: transparent;\n",
              "      border-right-color: var(--fill-color);\n",
              "      border-top-color: var(--fill-color);\n",
              "    }\n",
              "    60% {\n",
              "      border-color: transparent;\n",
              "      border-right-color: var(--fill-color);\n",
              "    }\n",
              "    80% {\n",
              "      border-color: transparent;\n",
              "      border-right-color: var(--fill-color);\n",
              "      border-bottom-color: var(--fill-color);\n",
              "    }\n",
              "    90% {\n",
              "      border-color: transparent;\n",
              "      border-bottom-color: var(--fill-color);\n",
              "    }\n",
              "  }\n",
              "</style>\n",
              "\n",
              "  <script>\n",
              "    async function quickchart(key) {\n",
              "      const quickchartButtonEl =\n",
              "        document.querySelector('#' + key + ' button');\n",
              "      quickchartButtonEl.disabled = true;  // To prevent multiple clicks.\n",
              "      quickchartButtonEl.classList.add('colab-df-spinner');\n",
              "      try {\n",
              "        const charts = await google.colab.kernel.invokeFunction(\n",
              "            'suggestCharts', [key], {});\n",
              "      } catch (error) {\n",
              "        console.error('Error during call to suggestCharts:', error);\n",
              "      }\n",
              "      quickchartButtonEl.classList.remove('colab-df-spinner');\n",
              "      quickchartButtonEl.classList.add('colab-df-quickchart-complete');\n",
              "    }\n",
              "    (() => {\n",
              "      let quickchartButtonEl =\n",
              "        document.querySelector('#df-16342f32-f7c1-46ac-abc7-96c5428777c4 button');\n",
              "      quickchartButtonEl.style.display =\n",
              "        google.colab.kernel.accessAllowed ? 'block' : 'none';\n",
              "    })();\n",
              "  </script>\n",
              "</div>\n",
              "\n",
              "    </div>\n",
              "  </div>\n"
            ],
            "application/vnd.google.colaboratory.intrinsic+json": {
              "type": "dataframe"
            }
          },
          "metadata": {},
          "execution_count": 31
        }
      ]
    },
    {
      "cell_type": "code",
      "source": [
        "trip.set_index(\"StartTime\")"
      ],
      "metadata": {
        "colab": {
          "base_uri": "https://localhost:8080/",
          "height": 995
        },
        "id": "R4mp3dqChkQZ",
        "outputId": "2f6929ef-cc79-4e76-ef04-2b0751120a7c"
      },
      "execution_count": null,
      "outputs": [
        {
          "output_type": "execute_result",
          "data": {
            "text/plain": [
              "                  TripID          StopTime    BikeID  TripDuration  \\\n",
              "StartTime                                                            \n",
              "10/13/2014 10:31     431  10/13/2014 10:48  SEA00298       985.935   \n",
              "10/13/2014 10:32     432  10/13/2014 10:48  SEA00195       926.375   \n",
              "10/13/2014 10:33     433  10/13/2014 10:48  SEA00486       883.831   \n",
              "10/13/2014 10:34     434  10/13/2014 10:48  SEA00333       865.937   \n",
              "10/13/2014 10:34     435  10/13/2014 10:49  SEA00202       923.923   \n",
              "...                  ...               ...       ...           ...   \n",
              "8/31/2016 23:34   255241   8/31/2016 23:45  SEA00201       679.532   \n",
              "8/31/2016 23:48   255242     9/1/2016 0:20  SEA00247      1965.418   \n",
              "8/31/2016 23:47   255243     9/1/2016 0:20  SEA00300      1951.173   \n",
              "8/31/2016 23:49   255244     9/1/2016 0:20  SEA00047      1883.299   \n",
              "8/31/2016 23:49   255245     9/1/2016 0:20  SEA00442      1896.031   \n",
              "\n",
              "                                         FromStationName  \\\n",
              "StartTime                                                  \n",
              "10/13/2014 10:31                     2nd Ave & Spring St   \n",
              "10/13/2014 10:32                     2nd Ave & Spring St   \n",
              "10/13/2014 10:33                     2nd Ave & Spring St   \n",
              "10/13/2014 10:34                     2nd Ave & Spring St   \n",
              "10/13/2014 10:34                     2nd Ave & Spring St   \n",
              "...                                                  ...   \n",
              "8/31/2016 23:34                  Harvard Ave & E Pine St   \n",
              "8/31/2016 23:48   Cal Anderson Park / 11th Ave & Pine St   \n",
              "8/31/2016 23:47   Cal Anderson Park / 11th Ave & Pine St   \n",
              "8/31/2016 23:49   Cal Anderson Park / 11th Ave & Pine St   \n",
              "8/31/2016 23:49   Cal Anderson Park / 11th Ave & Pine St   \n",
              "\n",
              "                                                      ToStationName  \\\n",
              "StartTime                                                             \n",
              "10/13/2014 10:31  Occidental Park / Occidental Ave S & S Washing...   \n",
              "10/13/2014 10:32  Occidental Park / Occidental Ave S & S Washing...   \n",
              "10/13/2014 10:33  Occidental Park / Occidental Ave S & S Washing...   \n",
              "10/13/2014 10:34  Occidental Park / Occidental Ave S & S Washing...   \n",
              "10/13/2014 10:34  Occidental Park / Occidental Ave S & S Washing...   \n",
              "...                                                             ...   \n",
              "8/31/2016 23:34                                 2nd Ave & Spring St   \n",
              "8/31/2016 23:48                               6th Ave S & S King St   \n",
              "8/31/2016 23:47                               6th Ave S & S King St   \n",
              "8/31/2016 23:49                               6th Ave S & S King St   \n",
              "8/31/2016 23:49                               6th Ave S & S King St   \n",
              "\n",
              "                 FromStationID ToStationID                Usertype  Gender  \\\n",
              "StartTime                                                                    \n",
              "10/13/2014 10:31        CBD-06       PS-04                  Member    Male   \n",
              "10/13/2014 10:32        CBD-06       PS-04                  Member    Male   \n",
              "10/13/2014 10:33        CBD-06       PS-04                  Member  Female   \n",
              "10/13/2014 10:34        CBD-06       PS-04                  Member  Female   \n",
              "10/13/2014 10:34        CBD-06       PS-04                  Member    Male   \n",
              "...                        ...         ...                     ...     ...   \n",
              "8/31/2016 23:34          CH-09      CBD-06  Short-Term Pass Holder     NaN   \n",
              "8/31/2016 23:48          CH-08       ID-04  Short-Term Pass Holder     NaN   \n",
              "8/31/2016 23:47          CH-08       ID-04  Short-Term Pass Holder     NaN   \n",
              "8/31/2016 23:49          CH-08       ID-04  Short-Term Pass Holder     NaN   \n",
              "8/31/2016 23:49          CH-08       ID-04  Short-Term Pass Holder     NaN   \n",
              "\n",
              "                  Birthyear  \n",
              "StartTime                    \n",
              "10/13/2014 10:31     1960.0  \n",
              "10/13/2014 10:32     1970.0  \n",
              "10/13/2014 10:33     1988.0  \n",
              "10/13/2014 10:34     1977.0  \n",
              "10/13/2014 10:34     1971.0  \n",
              "...                     ...  \n",
              "8/31/2016 23:34         NaN  \n",
              "8/31/2016 23:48         NaN  \n",
              "8/31/2016 23:47         NaN  \n",
              "8/31/2016 23:49         NaN  \n",
              "8/31/2016 23:49         NaN  \n",
              "\n",
              "[236065 rows x 11 columns]"
            ],
            "text/html": [
              "\n",
              "  <div id=\"df-6726962e-561c-4e87-8cdd-3dd4c9e51daf\" class=\"colab-df-container\">\n",
              "    <div>\n",
              "<style scoped>\n",
              "    .dataframe tbody tr th:only-of-type {\n",
              "        vertical-align: middle;\n",
              "    }\n",
              "\n",
              "    .dataframe tbody tr th {\n",
              "        vertical-align: top;\n",
              "    }\n",
              "\n",
              "    .dataframe thead th {\n",
              "        text-align: right;\n",
              "    }\n",
              "</style>\n",
              "<table border=\"1\" class=\"dataframe\">\n",
              "  <thead>\n",
              "    <tr style=\"text-align: right;\">\n",
              "      <th></th>\n",
              "      <th>TripID</th>\n",
              "      <th>StopTime</th>\n",
              "      <th>BikeID</th>\n",
              "      <th>TripDuration</th>\n",
              "      <th>FromStationName</th>\n",
              "      <th>ToStationName</th>\n",
              "      <th>FromStationID</th>\n",
              "      <th>ToStationID</th>\n",
              "      <th>Usertype</th>\n",
              "      <th>Gender</th>\n",
              "      <th>Birthyear</th>\n",
              "    </tr>\n",
              "    <tr>\n",
              "      <th>StartTime</th>\n",
              "      <th></th>\n",
              "      <th></th>\n",
              "      <th></th>\n",
              "      <th></th>\n",
              "      <th></th>\n",
              "      <th></th>\n",
              "      <th></th>\n",
              "      <th></th>\n",
              "      <th></th>\n",
              "      <th></th>\n",
              "      <th></th>\n",
              "    </tr>\n",
              "  </thead>\n",
              "  <tbody>\n",
              "    <tr>\n",
              "      <th>10/13/2014 10:31</th>\n",
              "      <td>431</td>\n",
              "      <td>10/13/2014 10:48</td>\n",
              "      <td>SEA00298</td>\n",
              "      <td>985.935</td>\n",
              "      <td>2nd Ave &amp; Spring St</td>\n",
              "      <td>Occidental Park / Occidental Ave S &amp; S Washing...</td>\n",
              "      <td>CBD-06</td>\n",
              "      <td>PS-04</td>\n",
              "      <td>Member</td>\n",
              "      <td>Male</td>\n",
              "      <td>1960.0</td>\n",
              "    </tr>\n",
              "    <tr>\n",
              "      <th>10/13/2014 10:32</th>\n",
              "      <td>432</td>\n",
              "      <td>10/13/2014 10:48</td>\n",
              "      <td>SEA00195</td>\n",
              "      <td>926.375</td>\n",
              "      <td>2nd Ave &amp; Spring St</td>\n",
              "      <td>Occidental Park / Occidental Ave S &amp; S Washing...</td>\n",
              "      <td>CBD-06</td>\n",
              "      <td>PS-04</td>\n",
              "      <td>Member</td>\n",
              "      <td>Male</td>\n",
              "      <td>1970.0</td>\n",
              "    </tr>\n",
              "    <tr>\n",
              "      <th>10/13/2014 10:33</th>\n",
              "      <td>433</td>\n",
              "      <td>10/13/2014 10:48</td>\n",
              "      <td>SEA00486</td>\n",
              "      <td>883.831</td>\n",
              "      <td>2nd Ave &amp; Spring St</td>\n",
              "      <td>Occidental Park / Occidental Ave S &amp; S Washing...</td>\n",
              "      <td>CBD-06</td>\n",
              "      <td>PS-04</td>\n",
              "      <td>Member</td>\n",
              "      <td>Female</td>\n",
              "      <td>1988.0</td>\n",
              "    </tr>\n",
              "    <tr>\n",
              "      <th>10/13/2014 10:34</th>\n",
              "      <td>434</td>\n",
              "      <td>10/13/2014 10:48</td>\n",
              "      <td>SEA00333</td>\n",
              "      <td>865.937</td>\n",
              "      <td>2nd Ave &amp; Spring St</td>\n",
              "      <td>Occidental Park / Occidental Ave S &amp; S Washing...</td>\n",
              "      <td>CBD-06</td>\n",
              "      <td>PS-04</td>\n",
              "      <td>Member</td>\n",
              "      <td>Female</td>\n",
              "      <td>1977.0</td>\n",
              "    </tr>\n",
              "    <tr>\n",
              "      <th>10/13/2014 10:34</th>\n",
              "      <td>435</td>\n",
              "      <td>10/13/2014 10:49</td>\n",
              "      <td>SEA00202</td>\n",
              "      <td>923.923</td>\n",
              "      <td>2nd Ave &amp; Spring St</td>\n",
              "      <td>Occidental Park / Occidental Ave S &amp; S Washing...</td>\n",
              "      <td>CBD-06</td>\n",
              "      <td>PS-04</td>\n",
              "      <td>Member</td>\n",
              "      <td>Male</td>\n",
              "      <td>1971.0</td>\n",
              "    </tr>\n",
              "    <tr>\n",
              "      <th>...</th>\n",
              "      <td>...</td>\n",
              "      <td>...</td>\n",
              "      <td>...</td>\n",
              "      <td>...</td>\n",
              "      <td>...</td>\n",
              "      <td>...</td>\n",
              "      <td>...</td>\n",
              "      <td>...</td>\n",
              "      <td>...</td>\n",
              "      <td>...</td>\n",
              "      <td>...</td>\n",
              "    </tr>\n",
              "    <tr>\n",
              "      <th>8/31/2016 23:34</th>\n",
              "      <td>255241</td>\n",
              "      <td>8/31/2016 23:45</td>\n",
              "      <td>SEA00201</td>\n",
              "      <td>679.532</td>\n",
              "      <td>Harvard Ave &amp; E Pine St</td>\n",
              "      <td>2nd Ave &amp; Spring St</td>\n",
              "      <td>CH-09</td>\n",
              "      <td>CBD-06</td>\n",
              "      <td>Short-Term Pass Holder</td>\n",
              "      <td>NaN</td>\n",
              "      <td>NaN</td>\n",
              "    </tr>\n",
              "    <tr>\n",
              "      <th>8/31/2016 23:48</th>\n",
              "      <td>255242</td>\n",
              "      <td>9/1/2016 0:20</td>\n",
              "      <td>SEA00247</td>\n",
              "      <td>1965.418</td>\n",
              "      <td>Cal Anderson Park / 11th Ave &amp; Pine St</td>\n",
              "      <td>6th Ave S &amp; S King St</td>\n",
              "      <td>CH-08</td>\n",
              "      <td>ID-04</td>\n",
              "      <td>Short-Term Pass Holder</td>\n",
              "      <td>NaN</td>\n",
              "      <td>NaN</td>\n",
              "    </tr>\n",
              "    <tr>\n",
              "      <th>8/31/2016 23:47</th>\n",
              "      <td>255243</td>\n",
              "      <td>9/1/2016 0:20</td>\n",
              "      <td>SEA00300</td>\n",
              "      <td>1951.173</td>\n",
              "      <td>Cal Anderson Park / 11th Ave &amp; Pine St</td>\n",
              "      <td>6th Ave S &amp; S King St</td>\n",
              "      <td>CH-08</td>\n",
              "      <td>ID-04</td>\n",
              "      <td>Short-Term Pass Holder</td>\n",
              "      <td>NaN</td>\n",
              "      <td>NaN</td>\n",
              "    </tr>\n",
              "    <tr>\n",
              "      <th>8/31/2016 23:49</th>\n",
              "      <td>255244</td>\n",
              "      <td>9/1/2016 0:20</td>\n",
              "      <td>SEA00047</td>\n",
              "      <td>1883.299</td>\n",
              "      <td>Cal Anderson Park / 11th Ave &amp; Pine St</td>\n",
              "      <td>6th Ave S &amp; S King St</td>\n",
              "      <td>CH-08</td>\n",
              "      <td>ID-04</td>\n",
              "      <td>Short-Term Pass Holder</td>\n",
              "      <td>NaN</td>\n",
              "      <td>NaN</td>\n",
              "    </tr>\n",
              "    <tr>\n",
              "      <th>8/31/2016 23:49</th>\n",
              "      <td>255245</td>\n",
              "      <td>9/1/2016 0:20</td>\n",
              "      <td>SEA00442</td>\n",
              "      <td>1896.031</td>\n",
              "      <td>Cal Anderson Park / 11th Ave &amp; Pine St</td>\n",
              "      <td>6th Ave S &amp; S King St</td>\n",
              "      <td>CH-08</td>\n",
              "      <td>ID-04</td>\n",
              "      <td>Short-Term Pass Holder</td>\n",
              "      <td>NaN</td>\n",
              "      <td>NaN</td>\n",
              "    </tr>\n",
              "  </tbody>\n",
              "</table>\n",
              "<p>236065 rows × 11 columns</p>\n",
              "</div>\n",
              "    <div class=\"colab-df-buttons\">\n",
              "\n",
              "  <div class=\"colab-df-container\">\n",
              "    <button class=\"colab-df-convert\" onclick=\"convertToInteractive('df-6726962e-561c-4e87-8cdd-3dd4c9e51daf')\"\n",
              "            title=\"Convert this dataframe to an interactive table.\"\n",
              "            style=\"display:none;\">\n",
              "\n",
              "  <svg xmlns=\"http://www.w3.org/2000/svg\" height=\"24px\" viewBox=\"0 -960 960 960\">\n",
              "    <path d=\"M120-120v-720h720v720H120Zm60-500h600v-160H180v160Zm220 220h160v-160H400v160Zm0 220h160v-160H400v160ZM180-400h160v-160H180v160Zm440 0h160v-160H620v160ZM180-180h160v-160H180v160Zm440 0h160v-160H620v160Z\"/>\n",
              "  </svg>\n",
              "    </button>\n",
              "\n",
              "  <style>\n",
              "    .colab-df-container {\n",
              "      display:flex;\n",
              "      gap: 12px;\n",
              "    }\n",
              "\n",
              "    .colab-df-convert {\n",
              "      background-color: #E8F0FE;\n",
              "      border: none;\n",
              "      border-radius: 50%;\n",
              "      cursor: pointer;\n",
              "      display: none;\n",
              "      fill: #1967D2;\n",
              "      height: 32px;\n",
              "      padding: 0 0 0 0;\n",
              "      width: 32px;\n",
              "    }\n",
              "\n",
              "    .colab-df-convert:hover {\n",
              "      background-color: #E2EBFA;\n",
              "      box-shadow: 0px 1px 2px rgba(60, 64, 67, 0.3), 0px 1px 3px 1px rgba(60, 64, 67, 0.15);\n",
              "      fill: #174EA6;\n",
              "    }\n",
              "\n",
              "    .colab-df-buttons div {\n",
              "      margin-bottom: 4px;\n",
              "    }\n",
              "\n",
              "    [theme=dark] .colab-df-convert {\n",
              "      background-color: #3B4455;\n",
              "      fill: #D2E3FC;\n",
              "    }\n",
              "\n",
              "    [theme=dark] .colab-df-convert:hover {\n",
              "      background-color: #434B5C;\n",
              "      box-shadow: 0px 1px 3px 1px rgba(0, 0, 0, 0.15);\n",
              "      filter: drop-shadow(0px 1px 2px rgba(0, 0, 0, 0.3));\n",
              "      fill: #FFFFFF;\n",
              "    }\n",
              "  </style>\n",
              "\n",
              "    <script>\n",
              "      const buttonEl =\n",
              "        document.querySelector('#df-6726962e-561c-4e87-8cdd-3dd4c9e51daf button.colab-df-convert');\n",
              "      buttonEl.style.display =\n",
              "        google.colab.kernel.accessAllowed ? 'block' : 'none';\n",
              "\n",
              "      async function convertToInteractive(key) {\n",
              "        const element = document.querySelector('#df-6726962e-561c-4e87-8cdd-3dd4c9e51daf');\n",
              "        const dataTable =\n",
              "          await google.colab.kernel.invokeFunction('convertToInteractive',\n",
              "                                                    [key], {});\n",
              "        if (!dataTable) return;\n",
              "\n",
              "        const docLinkHtml = 'Like what you see? Visit the ' +\n",
              "          '<a target=\"_blank\" href=https://colab.research.google.com/notebooks/data_table.ipynb>data table notebook</a>'\n",
              "          + ' to learn more about interactive tables.';\n",
              "        element.innerHTML = '';\n",
              "        dataTable['output_type'] = 'display_data';\n",
              "        await google.colab.output.renderOutput(dataTable, element);\n",
              "        const docLink = document.createElement('div');\n",
              "        docLink.innerHTML = docLinkHtml;\n",
              "        element.appendChild(docLink);\n",
              "      }\n",
              "    </script>\n",
              "  </div>\n",
              "\n",
              "\n",
              "<div id=\"df-312146c0-c3bb-48d4-9330-d80336636d47\">\n",
              "  <button class=\"colab-df-quickchart\" onclick=\"quickchart('df-312146c0-c3bb-48d4-9330-d80336636d47')\"\n",
              "            title=\"Suggest charts\"\n",
              "            style=\"display:none;\">\n",
              "\n",
              "<svg xmlns=\"http://www.w3.org/2000/svg\" height=\"24px\"viewBox=\"0 0 24 24\"\n",
              "     width=\"24px\">\n",
              "    <g>\n",
              "        <path d=\"M19 3H5c-1.1 0-2 .9-2 2v14c0 1.1.9 2 2 2h14c1.1 0 2-.9 2-2V5c0-1.1-.9-2-2-2zM9 17H7v-7h2v7zm4 0h-2V7h2v10zm4 0h-2v-4h2v4z\"/>\n",
              "    </g>\n",
              "</svg>\n",
              "  </button>\n",
              "\n",
              "<style>\n",
              "  .colab-df-quickchart {\n",
              "      --bg-color: #E8F0FE;\n",
              "      --fill-color: #1967D2;\n",
              "      --hover-bg-color: #E2EBFA;\n",
              "      --hover-fill-color: #174EA6;\n",
              "      --disabled-fill-color: #AAA;\n",
              "      --disabled-bg-color: #DDD;\n",
              "  }\n",
              "\n",
              "  [theme=dark] .colab-df-quickchart {\n",
              "      --bg-color: #3B4455;\n",
              "      --fill-color: #D2E3FC;\n",
              "      --hover-bg-color: #434B5C;\n",
              "      --hover-fill-color: #FFFFFF;\n",
              "      --disabled-bg-color: #3B4455;\n",
              "      --disabled-fill-color: #666;\n",
              "  }\n",
              "\n",
              "  .colab-df-quickchart {\n",
              "    background-color: var(--bg-color);\n",
              "    border: none;\n",
              "    border-radius: 50%;\n",
              "    cursor: pointer;\n",
              "    display: none;\n",
              "    fill: var(--fill-color);\n",
              "    height: 32px;\n",
              "    padding: 0;\n",
              "    width: 32px;\n",
              "  }\n",
              "\n",
              "  .colab-df-quickchart:hover {\n",
              "    background-color: var(--hover-bg-color);\n",
              "    box-shadow: 0 1px 2px rgba(60, 64, 67, 0.3), 0 1px 3px 1px rgba(60, 64, 67, 0.15);\n",
              "    fill: var(--button-hover-fill-color);\n",
              "  }\n",
              "\n",
              "  .colab-df-quickchart-complete:disabled,\n",
              "  .colab-df-quickchart-complete:disabled:hover {\n",
              "    background-color: var(--disabled-bg-color);\n",
              "    fill: var(--disabled-fill-color);\n",
              "    box-shadow: none;\n",
              "  }\n",
              "\n",
              "  .colab-df-spinner {\n",
              "    border: 2px solid var(--fill-color);\n",
              "    border-color: transparent;\n",
              "    border-bottom-color: var(--fill-color);\n",
              "    animation:\n",
              "      spin 1s steps(1) infinite;\n",
              "  }\n",
              "\n",
              "  @keyframes spin {\n",
              "    0% {\n",
              "      border-color: transparent;\n",
              "      border-bottom-color: var(--fill-color);\n",
              "      border-left-color: var(--fill-color);\n",
              "    }\n",
              "    20% {\n",
              "      border-color: transparent;\n",
              "      border-left-color: var(--fill-color);\n",
              "      border-top-color: var(--fill-color);\n",
              "    }\n",
              "    30% {\n",
              "      border-color: transparent;\n",
              "      border-left-color: var(--fill-color);\n",
              "      border-top-color: var(--fill-color);\n",
              "      border-right-color: var(--fill-color);\n",
              "    }\n",
              "    40% {\n",
              "      border-color: transparent;\n",
              "      border-right-color: var(--fill-color);\n",
              "      border-top-color: var(--fill-color);\n",
              "    }\n",
              "    60% {\n",
              "      border-color: transparent;\n",
              "      border-right-color: var(--fill-color);\n",
              "    }\n",
              "    80% {\n",
              "      border-color: transparent;\n",
              "      border-right-color: var(--fill-color);\n",
              "      border-bottom-color: var(--fill-color);\n",
              "    }\n",
              "    90% {\n",
              "      border-color: transparent;\n",
              "      border-bottom-color: var(--fill-color);\n",
              "    }\n",
              "  }\n",
              "</style>\n",
              "\n",
              "  <script>\n",
              "    async function quickchart(key) {\n",
              "      const quickchartButtonEl =\n",
              "        document.querySelector('#' + key + ' button');\n",
              "      quickchartButtonEl.disabled = true;  // To prevent multiple clicks.\n",
              "      quickchartButtonEl.classList.add('colab-df-spinner');\n",
              "      try {\n",
              "        const charts = await google.colab.kernel.invokeFunction(\n",
              "            'suggestCharts', [key], {});\n",
              "      } catch (error) {\n",
              "        console.error('Error during call to suggestCharts:', error);\n",
              "      }\n",
              "      quickchartButtonEl.classList.remove('colab-df-spinner');\n",
              "      quickchartButtonEl.classList.add('colab-df-quickchart-complete');\n",
              "    }\n",
              "    (() => {\n",
              "      let quickchartButtonEl =\n",
              "        document.querySelector('#df-312146c0-c3bb-48d4-9330-d80336636d47 button');\n",
              "      quickchartButtonEl.style.display =\n",
              "        google.colab.kernel.accessAllowed ? 'block' : 'none';\n",
              "    })();\n",
              "  </script>\n",
              "</div>\n",
              "\n",
              "    </div>\n",
              "  </div>\n"
            ],
            "application/vnd.google.colaboratory.intrinsic+json": {
              "type": "dataframe"
            }
          },
          "metadata": {},
          "execution_count": 32
        }
      ]
    },
    {
      "cell_type": "code",
      "source": [
        "# reset index\n",
        "trip.reset_index()"
      ],
      "metadata": {
        "colab": {
          "base_uri": "https://localhost:8080/",
          "height": 964
        },
        "id": "Eh174oj75vGX",
        "outputId": "3b317387-9257-4fbd-8ef3-5b1f99f72d29"
      },
      "execution_count": null,
      "outputs": [
        {
          "output_type": "execute_result",
          "data": {
            "text/plain": [
              "         index  TripID         StartTime          StopTime    BikeID  \\\n",
              "0            0     431  10/13/2014 10:31  10/13/2014 10:48  SEA00298   \n",
              "1            1     432  10/13/2014 10:32  10/13/2014 10:48  SEA00195   \n",
              "2            2     433  10/13/2014 10:33  10/13/2014 10:48  SEA00486   \n",
              "3            3     434  10/13/2014 10:34  10/13/2014 10:48  SEA00333   \n",
              "4            4     435  10/13/2014 10:34  10/13/2014 10:49  SEA00202   \n",
              "...        ...     ...               ...               ...       ...   \n",
              "236060  236060  255241   8/31/2016 23:34   8/31/2016 23:45  SEA00201   \n",
              "236061  236061  255242   8/31/2016 23:48     9/1/2016 0:20  SEA00247   \n",
              "236062  236062  255243   8/31/2016 23:47     9/1/2016 0:20  SEA00300   \n",
              "236063  236063  255244   8/31/2016 23:49     9/1/2016 0:20  SEA00047   \n",
              "236064  236064  255245   8/31/2016 23:49     9/1/2016 0:20  SEA00442   \n",
              "\n",
              "        TripDuration                         FromStationName  \\\n",
              "0            985.935                     2nd Ave & Spring St   \n",
              "1            926.375                     2nd Ave & Spring St   \n",
              "2            883.831                     2nd Ave & Spring St   \n",
              "3            865.937                     2nd Ave & Spring St   \n",
              "4            923.923                     2nd Ave & Spring St   \n",
              "...              ...                                     ...   \n",
              "236060       679.532                 Harvard Ave & E Pine St   \n",
              "236061      1965.418  Cal Anderson Park / 11th Ave & Pine St   \n",
              "236062      1951.173  Cal Anderson Park / 11th Ave & Pine St   \n",
              "236063      1883.299  Cal Anderson Park / 11th Ave & Pine St   \n",
              "236064      1896.031  Cal Anderson Park / 11th Ave & Pine St   \n",
              "\n",
              "                                            ToStationName FromStationID  \\\n",
              "0       Occidental Park / Occidental Ave S & S Washing...        CBD-06   \n",
              "1       Occidental Park / Occidental Ave S & S Washing...        CBD-06   \n",
              "2       Occidental Park / Occidental Ave S & S Washing...        CBD-06   \n",
              "3       Occidental Park / Occidental Ave S & S Washing...        CBD-06   \n",
              "4       Occidental Park / Occidental Ave S & S Washing...        CBD-06   \n",
              "...                                                   ...           ...   \n",
              "236060                                2nd Ave & Spring St         CH-09   \n",
              "236061                              6th Ave S & S King St         CH-08   \n",
              "236062                              6th Ave S & S King St         CH-08   \n",
              "236063                              6th Ave S & S King St         CH-08   \n",
              "236064                              6th Ave S & S King St         CH-08   \n",
              "\n",
              "       ToStationID                Usertype  Gender  Birthyear  \n",
              "0            PS-04                  Member    Male     1960.0  \n",
              "1            PS-04                  Member    Male     1970.0  \n",
              "2            PS-04                  Member  Female     1988.0  \n",
              "3            PS-04                  Member  Female     1977.0  \n",
              "4            PS-04                  Member    Male     1971.0  \n",
              "...            ...                     ...     ...        ...  \n",
              "236060      CBD-06  Short-Term Pass Holder     NaN        NaN  \n",
              "236061       ID-04  Short-Term Pass Holder     NaN        NaN  \n",
              "236062       ID-04  Short-Term Pass Holder     NaN        NaN  \n",
              "236063       ID-04  Short-Term Pass Holder     NaN        NaN  \n",
              "236064       ID-04  Short-Term Pass Holder     NaN        NaN  \n",
              "\n",
              "[236065 rows x 13 columns]"
            ],
            "text/html": [
              "\n",
              "  <div id=\"df-94b28ff4-c3f4-4a5f-835d-76d67eda373e\" class=\"colab-df-container\">\n",
              "    <div>\n",
              "<style scoped>\n",
              "    .dataframe tbody tr th:only-of-type {\n",
              "        vertical-align: middle;\n",
              "    }\n",
              "\n",
              "    .dataframe tbody tr th {\n",
              "        vertical-align: top;\n",
              "    }\n",
              "\n",
              "    .dataframe thead th {\n",
              "        text-align: right;\n",
              "    }\n",
              "</style>\n",
              "<table border=\"1\" class=\"dataframe\">\n",
              "  <thead>\n",
              "    <tr style=\"text-align: right;\">\n",
              "      <th></th>\n",
              "      <th>index</th>\n",
              "      <th>TripID</th>\n",
              "      <th>StartTime</th>\n",
              "      <th>StopTime</th>\n",
              "      <th>BikeID</th>\n",
              "      <th>TripDuration</th>\n",
              "      <th>FromStationName</th>\n",
              "      <th>ToStationName</th>\n",
              "      <th>FromStationID</th>\n",
              "      <th>ToStationID</th>\n",
              "      <th>Usertype</th>\n",
              "      <th>Gender</th>\n",
              "      <th>Birthyear</th>\n",
              "    </tr>\n",
              "  </thead>\n",
              "  <tbody>\n",
              "    <tr>\n",
              "      <th>0</th>\n",
              "      <td>0</td>\n",
              "      <td>431</td>\n",
              "      <td>10/13/2014 10:31</td>\n",
              "      <td>10/13/2014 10:48</td>\n",
              "      <td>SEA00298</td>\n",
              "      <td>985.935</td>\n",
              "      <td>2nd Ave &amp; Spring St</td>\n",
              "      <td>Occidental Park / Occidental Ave S &amp; S Washing...</td>\n",
              "      <td>CBD-06</td>\n",
              "      <td>PS-04</td>\n",
              "      <td>Member</td>\n",
              "      <td>Male</td>\n",
              "      <td>1960.0</td>\n",
              "    </tr>\n",
              "    <tr>\n",
              "      <th>1</th>\n",
              "      <td>1</td>\n",
              "      <td>432</td>\n",
              "      <td>10/13/2014 10:32</td>\n",
              "      <td>10/13/2014 10:48</td>\n",
              "      <td>SEA00195</td>\n",
              "      <td>926.375</td>\n",
              "      <td>2nd Ave &amp; Spring St</td>\n",
              "      <td>Occidental Park / Occidental Ave S &amp; S Washing...</td>\n",
              "      <td>CBD-06</td>\n",
              "      <td>PS-04</td>\n",
              "      <td>Member</td>\n",
              "      <td>Male</td>\n",
              "      <td>1970.0</td>\n",
              "    </tr>\n",
              "    <tr>\n",
              "      <th>2</th>\n",
              "      <td>2</td>\n",
              "      <td>433</td>\n",
              "      <td>10/13/2014 10:33</td>\n",
              "      <td>10/13/2014 10:48</td>\n",
              "      <td>SEA00486</td>\n",
              "      <td>883.831</td>\n",
              "      <td>2nd Ave &amp; Spring St</td>\n",
              "      <td>Occidental Park / Occidental Ave S &amp; S Washing...</td>\n",
              "      <td>CBD-06</td>\n",
              "      <td>PS-04</td>\n",
              "      <td>Member</td>\n",
              "      <td>Female</td>\n",
              "      <td>1988.0</td>\n",
              "    </tr>\n",
              "    <tr>\n",
              "      <th>3</th>\n",
              "      <td>3</td>\n",
              "      <td>434</td>\n",
              "      <td>10/13/2014 10:34</td>\n",
              "      <td>10/13/2014 10:48</td>\n",
              "      <td>SEA00333</td>\n",
              "      <td>865.937</td>\n",
              "      <td>2nd Ave &amp; Spring St</td>\n",
              "      <td>Occidental Park / Occidental Ave S &amp; S Washing...</td>\n",
              "      <td>CBD-06</td>\n",
              "      <td>PS-04</td>\n",
              "      <td>Member</td>\n",
              "      <td>Female</td>\n",
              "      <td>1977.0</td>\n",
              "    </tr>\n",
              "    <tr>\n",
              "      <th>4</th>\n",
              "      <td>4</td>\n",
              "      <td>435</td>\n",
              "      <td>10/13/2014 10:34</td>\n",
              "      <td>10/13/2014 10:49</td>\n",
              "      <td>SEA00202</td>\n",
              "      <td>923.923</td>\n",
              "      <td>2nd Ave &amp; Spring St</td>\n",
              "      <td>Occidental Park / Occidental Ave S &amp; S Washing...</td>\n",
              "      <td>CBD-06</td>\n",
              "      <td>PS-04</td>\n",
              "      <td>Member</td>\n",
              "      <td>Male</td>\n",
              "      <td>1971.0</td>\n",
              "    </tr>\n",
              "    <tr>\n",
              "      <th>...</th>\n",
              "      <td>...</td>\n",
              "      <td>...</td>\n",
              "      <td>...</td>\n",
              "      <td>...</td>\n",
              "      <td>...</td>\n",
              "      <td>...</td>\n",
              "      <td>...</td>\n",
              "      <td>...</td>\n",
              "      <td>...</td>\n",
              "      <td>...</td>\n",
              "      <td>...</td>\n",
              "      <td>...</td>\n",
              "      <td>...</td>\n",
              "    </tr>\n",
              "    <tr>\n",
              "      <th>236060</th>\n",
              "      <td>236060</td>\n",
              "      <td>255241</td>\n",
              "      <td>8/31/2016 23:34</td>\n",
              "      <td>8/31/2016 23:45</td>\n",
              "      <td>SEA00201</td>\n",
              "      <td>679.532</td>\n",
              "      <td>Harvard Ave &amp; E Pine St</td>\n",
              "      <td>2nd Ave &amp; Spring St</td>\n",
              "      <td>CH-09</td>\n",
              "      <td>CBD-06</td>\n",
              "      <td>Short-Term Pass Holder</td>\n",
              "      <td>NaN</td>\n",
              "      <td>NaN</td>\n",
              "    </tr>\n",
              "    <tr>\n",
              "      <th>236061</th>\n",
              "      <td>236061</td>\n",
              "      <td>255242</td>\n",
              "      <td>8/31/2016 23:48</td>\n",
              "      <td>9/1/2016 0:20</td>\n",
              "      <td>SEA00247</td>\n",
              "      <td>1965.418</td>\n",
              "      <td>Cal Anderson Park / 11th Ave &amp; Pine St</td>\n",
              "      <td>6th Ave S &amp; S King St</td>\n",
              "      <td>CH-08</td>\n",
              "      <td>ID-04</td>\n",
              "      <td>Short-Term Pass Holder</td>\n",
              "      <td>NaN</td>\n",
              "      <td>NaN</td>\n",
              "    </tr>\n",
              "    <tr>\n",
              "      <th>236062</th>\n",
              "      <td>236062</td>\n",
              "      <td>255243</td>\n",
              "      <td>8/31/2016 23:47</td>\n",
              "      <td>9/1/2016 0:20</td>\n",
              "      <td>SEA00300</td>\n",
              "      <td>1951.173</td>\n",
              "      <td>Cal Anderson Park / 11th Ave &amp; Pine St</td>\n",
              "      <td>6th Ave S &amp; S King St</td>\n",
              "      <td>CH-08</td>\n",
              "      <td>ID-04</td>\n",
              "      <td>Short-Term Pass Holder</td>\n",
              "      <td>NaN</td>\n",
              "      <td>NaN</td>\n",
              "    </tr>\n",
              "    <tr>\n",
              "      <th>236063</th>\n",
              "      <td>236063</td>\n",
              "      <td>255244</td>\n",
              "      <td>8/31/2016 23:49</td>\n",
              "      <td>9/1/2016 0:20</td>\n",
              "      <td>SEA00047</td>\n",
              "      <td>1883.299</td>\n",
              "      <td>Cal Anderson Park / 11th Ave &amp; Pine St</td>\n",
              "      <td>6th Ave S &amp; S King St</td>\n",
              "      <td>CH-08</td>\n",
              "      <td>ID-04</td>\n",
              "      <td>Short-Term Pass Holder</td>\n",
              "      <td>NaN</td>\n",
              "      <td>NaN</td>\n",
              "    </tr>\n",
              "    <tr>\n",
              "      <th>236064</th>\n",
              "      <td>236064</td>\n",
              "      <td>255245</td>\n",
              "      <td>8/31/2016 23:49</td>\n",
              "      <td>9/1/2016 0:20</td>\n",
              "      <td>SEA00442</td>\n",
              "      <td>1896.031</td>\n",
              "      <td>Cal Anderson Park / 11th Ave &amp; Pine St</td>\n",
              "      <td>6th Ave S &amp; S King St</td>\n",
              "      <td>CH-08</td>\n",
              "      <td>ID-04</td>\n",
              "      <td>Short-Term Pass Holder</td>\n",
              "      <td>NaN</td>\n",
              "      <td>NaN</td>\n",
              "    </tr>\n",
              "  </tbody>\n",
              "</table>\n",
              "<p>236065 rows × 13 columns</p>\n",
              "</div>\n",
              "    <div class=\"colab-df-buttons\">\n",
              "\n",
              "  <div class=\"colab-df-container\">\n",
              "    <button class=\"colab-df-convert\" onclick=\"convertToInteractive('df-94b28ff4-c3f4-4a5f-835d-76d67eda373e')\"\n",
              "            title=\"Convert this dataframe to an interactive table.\"\n",
              "            style=\"display:none;\">\n",
              "\n",
              "  <svg xmlns=\"http://www.w3.org/2000/svg\" height=\"24px\" viewBox=\"0 -960 960 960\">\n",
              "    <path d=\"M120-120v-720h720v720H120Zm60-500h600v-160H180v160Zm220 220h160v-160H400v160Zm0 220h160v-160H400v160ZM180-400h160v-160H180v160Zm440 0h160v-160H620v160ZM180-180h160v-160H180v160Zm440 0h160v-160H620v160Z\"/>\n",
              "  </svg>\n",
              "    </button>\n",
              "\n",
              "  <style>\n",
              "    .colab-df-container {\n",
              "      display:flex;\n",
              "      gap: 12px;\n",
              "    }\n",
              "\n",
              "    .colab-df-convert {\n",
              "      background-color: #E8F0FE;\n",
              "      border: none;\n",
              "      border-radius: 50%;\n",
              "      cursor: pointer;\n",
              "      display: none;\n",
              "      fill: #1967D2;\n",
              "      height: 32px;\n",
              "      padding: 0 0 0 0;\n",
              "      width: 32px;\n",
              "    }\n",
              "\n",
              "    .colab-df-convert:hover {\n",
              "      background-color: #E2EBFA;\n",
              "      box-shadow: 0px 1px 2px rgba(60, 64, 67, 0.3), 0px 1px 3px 1px rgba(60, 64, 67, 0.15);\n",
              "      fill: #174EA6;\n",
              "    }\n",
              "\n",
              "    .colab-df-buttons div {\n",
              "      margin-bottom: 4px;\n",
              "    }\n",
              "\n",
              "    [theme=dark] .colab-df-convert {\n",
              "      background-color: #3B4455;\n",
              "      fill: #D2E3FC;\n",
              "    }\n",
              "\n",
              "    [theme=dark] .colab-df-convert:hover {\n",
              "      background-color: #434B5C;\n",
              "      box-shadow: 0px 1px 3px 1px rgba(0, 0, 0, 0.15);\n",
              "      filter: drop-shadow(0px 1px 2px rgba(0, 0, 0, 0.3));\n",
              "      fill: #FFFFFF;\n",
              "    }\n",
              "  </style>\n",
              "\n",
              "    <script>\n",
              "      const buttonEl =\n",
              "        document.querySelector('#df-94b28ff4-c3f4-4a5f-835d-76d67eda373e button.colab-df-convert');\n",
              "      buttonEl.style.display =\n",
              "        google.colab.kernel.accessAllowed ? 'block' : 'none';\n",
              "\n",
              "      async function convertToInteractive(key) {\n",
              "        const element = document.querySelector('#df-94b28ff4-c3f4-4a5f-835d-76d67eda373e');\n",
              "        const dataTable =\n",
              "          await google.colab.kernel.invokeFunction('convertToInteractive',\n",
              "                                                    [key], {});\n",
              "        if (!dataTable) return;\n",
              "\n",
              "        const docLinkHtml = 'Like what you see? Visit the ' +\n",
              "          '<a target=\"_blank\" href=https://colab.research.google.com/notebooks/data_table.ipynb>data table notebook</a>'\n",
              "          + ' to learn more about interactive tables.';\n",
              "        element.innerHTML = '';\n",
              "        dataTable['output_type'] = 'display_data';\n",
              "        await google.colab.output.renderOutput(dataTable, element);\n",
              "        const docLink = document.createElement('div');\n",
              "        docLink.innerHTML = docLinkHtml;\n",
              "        element.appendChild(docLink);\n",
              "      }\n",
              "    </script>\n",
              "  </div>\n",
              "\n",
              "\n",
              "<div id=\"df-003c1bd1-fe21-46cb-8b0a-3b6d35070642\">\n",
              "  <button class=\"colab-df-quickchart\" onclick=\"quickchart('df-003c1bd1-fe21-46cb-8b0a-3b6d35070642')\"\n",
              "            title=\"Suggest charts\"\n",
              "            style=\"display:none;\">\n",
              "\n",
              "<svg xmlns=\"http://www.w3.org/2000/svg\" height=\"24px\"viewBox=\"0 0 24 24\"\n",
              "     width=\"24px\">\n",
              "    <g>\n",
              "        <path d=\"M19 3H5c-1.1 0-2 .9-2 2v14c0 1.1.9 2 2 2h14c1.1 0 2-.9 2-2V5c0-1.1-.9-2-2-2zM9 17H7v-7h2v7zm4 0h-2V7h2v10zm4 0h-2v-4h2v4z\"/>\n",
              "    </g>\n",
              "</svg>\n",
              "  </button>\n",
              "\n",
              "<style>\n",
              "  .colab-df-quickchart {\n",
              "      --bg-color: #E8F0FE;\n",
              "      --fill-color: #1967D2;\n",
              "      --hover-bg-color: #E2EBFA;\n",
              "      --hover-fill-color: #174EA6;\n",
              "      --disabled-fill-color: #AAA;\n",
              "      --disabled-bg-color: #DDD;\n",
              "  }\n",
              "\n",
              "  [theme=dark] .colab-df-quickchart {\n",
              "      --bg-color: #3B4455;\n",
              "      --fill-color: #D2E3FC;\n",
              "      --hover-bg-color: #434B5C;\n",
              "      --hover-fill-color: #FFFFFF;\n",
              "      --disabled-bg-color: #3B4455;\n",
              "      --disabled-fill-color: #666;\n",
              "  }\n",
              "\n",
              "  .colab-df-quickchart {\n",
              "    background-color: var(--bg-color);\n",
              "    border: none;\n",
              "    border-radius: 50%;\n",
              "    cursor: pointer;\n",
              "    display: none;\n",
              "    fill: var(--fill-color);\n",
              "    height: 32px;\n",
              "    padding: 0;\n",
              "    width: 32px;\n",
              "  }\n",
              "\n",
              "  .colab-df-quickchart:hover {\n",
              "    background-color: var(--hover-bg-color);\n",
              "    box-shadow: 0 1px 2px rgba(60, 64, 67, 0.3), 0 1px 3px 1px rgba(60, 64, 67, 0.15);\n",
              "    fill: var(--button-hover-fill-color);\n",
              "  }\n",
              "\n",
              "  .colab-df-quickchart-complete:disabled,\n",
              "  .colab-df-quickchart-complete:disabled:hover {\n",
              "    background-color: var(--disabled-bg-color);\n",
              "    fill: var(--disabled-fill-color);\n",
              "    box-shadow: none;\n",
              "  }\n",
              "\n",
              "  .colab-df-spinner {\n",
              "    border: 2px solid var(--fill-color);\n",
              "    border-color: transparent;\n",
              "    border-bottom-color: var(--fill-color);\n",
              "    animation:\n",
              "      spin 1s steps(1) infinite;\n",
              "  }\n",
              "\n",
              "  @keyframes spin {\n",
              "    0% {\n",
              "      border-color: transparent;\n",
              "      border-bottom-color: var(--fill-color);\n",
              "      border-left-color: var(--fill-color);\n",
              "    }\n",
              "    20% {\n",
              "      border-color: transparent;\n",
              "      border-left-color: var(--fill-color);\n",
              "      border-top-color: var(--fill-color);\n",
              "    }\n",
              "    30% {\n",
              "      border-color: transparent;\n",
              "      border-left-color: var(--fill-color);\n",
              "      border-top-color: var(--fill-color);\n",
              "      border-right-color: var(--fill-color);\n",
              "    }\n",
              "    40% {\n",
              "      border-color: transparent;\n",
              "      border-right-color: var(--fill-color);\n",
              "      border-top-color: var(--fill-color);\n",
              "    }\n",
              "    60% {\n",
              "      border-color: transparent;\n",
              "      border-right-color: var(--fill-color);\n",
              "    }\n",
              "    80% {\n",
              "      border-color: transparent;\n",
              "      border-right-color: var(--fill-color);\n",
              "      border-bottom-color: var(--fill-color);\n",
              "    }\n",
              "    90% {\n",
              "      border-color: transparent;\n",
              "      border-bottom-color: var(--fill-color);\n",
              "    }\n",
              "  }\n",
              "</style>\n",
              "\n",
              "  <script>\n",
              "    async function quickchart(key) {\n",
              "      const quickchartButtonEl =\n",
              "        document.querySelector('#' + key + ' button');\n",
              "      quickchartButtonEl.disabled = true;  // To prevent multiple clicks.\n",
              "      quickchartButtonEl.classList.add('colab-df-spinner');\n",
              "      try {\n",
              "        const charts = await google.colab.kernel.invokeFunction(\n",
              "            'suggestCharts', [key], {});\n",
              "      } catch (error) {\n",
              "        console.error('Error during call to suggestCharts:', error);\n",
              "      }\n",
              "      quickchartButtonEl.classList.remove('colab-df-spinner');\n",
              "      quickchartButtonEl.classList.add('colab-df-quickchart-complete');\n",
              "    }\n",
              "    (() => {\n",
              "      let quickchartButtonEl =\n",
              "        document.querySelector('#df-003c1bd1-fe21-46cb-8b0a-3b6d35070642 button');\n",
              "      quickchartButtonEl.style.display =\n",
              "        google.colab.kernel.accessAllowed ? 'block' : 'none';\n",
              "    })();\n",
              "  </script>\n",
              "</div>\n",
              "\n",
              "    </div>\n",
              "  </div>\n"
            ],
            "application/vnd.google.colaboratory.intrinsic+json": {
              "type": "dataframe"
            }
          },
          "metadata": {},
          "execution_count": 33
        }
      ]
    },
    {
      "cell_type": "code",
      "source": [
        "trip.isna().sum()"
      ],
      "metadata": {
        "colab": {
          "base_uri": "https://localhost:8080/",
          "height": 460
        },
        "id": "N7ofbpdE5vAl",
        "outputId": "a04ba6bd-c0fd-4ce6-9801-eade8c9a2d82"
      },
      "execution_count": null,
      "outputs": [
        {
          "output_type": "execute_result",
          "data": {
            "text/plain": [
              "TripID                 0\n",
              "StartTime              0\n",
              "StopTime               0\n",
              "BikeID                 0\n",
              "TripDuration           0\n",
              "FromStationName        0\n",
              "ToStationName          0\n",
              "FromStationID          0\n",
              "ToStationID            0\n",
              "Usertype               0\n",
              "Gender             89894\n",
              "Birthyear          89898\n",
              "dtype: int64"
            ],
            "text/html": [
              "<div>\n",
              "<style scoped>\n",
              "    .dataframe tbody tr th:only-of-type {\n",
              "        vertical-align: middle;\n",
              "    }\n",
              "\n",
              "    .dataframe tbody tr th {\n",
              "        vertical-align: top;\n",
              "    }\n",
              "\n",
              "    .dataframe thead th {\n",
              "        text-align: right;\n",
              "    }\n",
              "</style>\n",
              "<table border=\"1\" class=\"dataframe\">\n",
              "  <thead>\n",
              "    <tr style=\"text-align: right;\">\n",
              "      <th></th>\n",
              "      <th>0</th>\n",
              "    </tr>\n",
              "  </thead>\n",
              "  <tbody>\n",
              "    <tr>\n",
              "      <th>TripID</th>\n",
              "      <td>0</td>\n",
              "    </tr>\n",
              "    <tr>\n",
              "      <th>StartTime</th>\n",
              "      <td>0</td>\n",
              "    </tr>\n",
              "    <tr>\n",
              "      <th>StopTime</th>\n",
              "      <td>0</td>\n",
              "    </tr>\n",
              "    <tr>\n",
              "      <th>BikeID</th>\n",
              "      <td>0</td>\n",
              "    </tr>\n",
              "    <tr>\n",
              "      <th>TripDuration</th>\n",
              "      <td>0</td>\n",
              "    </tr>\n",
              "    <tr>\n",
              "      <th>FromStationName</th>\n",
              "      <td>0</td>\n",
              "    </tr>\n",
              "    <tr>\n",
              "      <th>ToStationName</th>\n",
              "      <td>0</td>\n",
              "    </tr>\n",
              "    <tr>\n",
              "      <th>FromStationID</th>\n",
              "      <td>0</td>\n",
              "    </tr>\n",
              "    <tr>\n",
              "      <th>ToStationID</th>\n",
              "      <td>0</td>\n",
              "    </tr>\n",
              "    <tr>\n",
              "      <th>Usertype</th>\n",
              "      <td>0</td>\n",
              "    </tr>\n",
              "    <tr>\n",
              "      <th>Gender</th>\n",
              "      <td>89894</td>\n",
              "    </tr>\n",
              "    <tr>\n",
              "      <th>Birthyear</th>\n",
              "      <td>89898</td>\n",
              "    </tr>\n",
              "  </tbody>\n",
              "</table>\n",
              "</div><br><label><b>dtype:</b> int64</label>"
            ]
          },
          "metadata": {},
          "execution_count": 228
        }
      ]
    },
    {
      "cell_type": "code",
      "source": [
        "trip[\"Gender\"]"
      ],
      "metadata": {
        "colab": {
          "base_uri": "https://localhost:8080/",
          "height": 458
        },
        "id": "y_lzFHxB5u5o",
        "outputId": "30eb0319-fcc2-4d32-8cae-7bf960af5076"
      },
      "execution_count": null,
      "outputs": [
        {
          "output_type": "execute_result",
          "data": {
            "text/plain": [
              "0           Male\n",
              "1           Male\n",
              "2         Female\n",
              "3         Female\n",
              "4           Male\n",
              "           ...  \n",
              "236060       NaN\n",
              "236061       NaN\n",
              "236062       NaN\n",
              "236063       NaN\n",
              "236064       NaN\n",
              "Name: Gender, Length: 236065, dtype: object"
            ],
            "text/html": [
              "<div>\n",
              "<style scoped>\n",
              "    .dataframe tbody tr th:only-of-type {\n",
              "        vertical-align: middle;\n",
              "    }\n",
              "\n",
              "    .dataframe tbody tr th {\n",
              "        vertical-align: top;\n",
              "    }\n",
              "\n",
              "    .dataframe thead th {\n",
              "        text-align: right;\n",
              "    }\n",
              "</style>\n",
              "<table border=\"1\" class=\"dataframe\">\n",
              "  <thead>\n",
              "    <tr style=\"text-align: right;\">\n",
              "      <th></th>\n",
              "      <th>Gender</th>\n",
              "    </tr>\n",
              "  </thead>\n",
              "  <tbody>\n",
              "    <tr>\n",
              "      <th>0</th>\n",
              "      <td>Male</td>\n",
              "    </tr>\n",
              "    <tr>\n",
              "      <th>1</th>\n",
              "      <td>Male</td>\n",
              "    </tr>\n",
              "    <tr>\n",
              "      <th>2</th>\n",
              "      <td>Female</td>\n",
              "    </tr>\n",
              "    <tr>\n",
              "      <th>3</th>\n",
              "      <td>Female</td>\n",
              "    </tr>\n",
              "    <tr>\n",
              "      <th>4</th>\n",
              "      <td>Male</td>\n",
              "    </tr>\n",
              "    <tr>\n",
              "      <th>...</th>\n",
              "      <td>...</td>\n",
              "    </tr>\n",
              "    <tr>\n",
              "      <th>236060</th>\n",
              "      <td>NaN</td>\n",
              "    </tr>\n",
              "    <tr>\n",
              "      <th>236061</th>\n",
              "      <td>NaN</td>\n",
              "    </tr>\n",
              "    <tr>\n",
              "      <th>236062</th>\n",
              "      <td>NaN</td>\n",
              "    </tr>\n",
              "    <tr>\n",
              "      <th>236063</th>\n",
              "      <td>NaN</td>\n",
              "    </tr>\n",
              "    <tr>\n",
              "      <th>236064</th>\n",
              "      <td>NaN</td>\n",
              "    </tr>\n",
              "  </tbody>\n",
              "</table>\n",
              "<p>236065 rows × 1 columns</p>\n",
              "</div><br><label><b>dtype:</b> object</label>"
            ]
          },
          "metadata": {},
          "execution_count": 229
        }
      ]
    },
    {
      "cell_type": "code",
      "source": [
        "trip[\"Gender\"].isna()"
      ],
      "metadata": {
        "colab": {
          "base_uri": "https://localhost:8080/",
          "height": 458
        },
        "id": "9B0MPRuk5u0P",
        "outputId": "6e14987b-e42c-404a-a4a8-b7e1a912e541"
      },
      "execution_count": null,
      "outputs": [
        {
          "output_type": "execute_result",
          "data": {
            "text/plain": [
              "0         False\n",
              "1         False\n",
              "2         False\n",
              "3         False\n",
              "4         False\n",
              "          ...  \n",
              "236060     True\n",
              "236061     True\n",
              "236062     True\n",
              "236063     True\n",
              "236064     True\n",
              "Name: Gender, Length: 236065, dtype: bool"
            ],
            "text/html": [
              "<div>\n",
              "<style scoped>\n",
              "    .dataframe tbody tr th:only-of-type {\n",
              "        vertical-align: middle;\n",
              "    }\n",
              "\n",
              "    .dataframe tbody tr th {\n",
              "        vertical-align: top;\n",
              "    }\n",
              "\n",
              "    .dataframe thead th {\n",
              "        text-align: right;\n",
              "    }\n",
              "</style>\n",
              "<table border=\"1\" class=\"dataframe\">\n",
              "  <thead>\n",
              "    <tr style=\"text-align: right;\">\n",
              "      <th></th>\n",
              "      <th>Gender</th>\n",
              "    </tr>\n",
              "  </thead>\n",
              "  <tbody>\n",
              "    <tr>\n",
              "      <th>0</th>\n",
              "      <td>False</td>\n",
              "    </tr>\n",
              "    <tr>\n",
              "      <th>1</th>\n",
              "      <td>False</td>\n",
              "    </tr>\n",
              "    <tr>\n",
              "      <th>2</th>\n",
              "      <td>False</td>\n",
              "    </tr>\n",
              "    <tr>\n",
              "      <th>3</th>\n",
              "      <td>False</td>\n",
              "    </tr>\n",
              "    <tr>\n",
              "      <th>4</th>\n",
              "      <td>False</td>\n",
              "    </tr>\n",
              "    <tr>\n",
              "      <th>...</th>\n",
              "      <td>...</td>\n",
              "    </tr>\n",
              "    <tr>\n",
              "      <th>236060</th>\n",
              "      <td>True</td>\n",
              "    </tr>\n",
              "    <tr>\n",
              "      <th>236061</th>\n",
              "      <td>True</td>\n",
              "    </tr>\n",
              "    <tr>\n",
              "      <th>236062</th>\n",
              "      <td>True</td>\n",
              "    </tr>\n",
              "    <tr>\n",
              "      <th>236063</th>\n",
              "      <td>True</td>\n",
              "    </tr>\n",
              "    <tr>\n",
              "      <th>236064</th>\n",
              "      <td>True</td>\n",
              "    </tr>\n",
              "  </tbody>\n",
              "</table>\n",
              "<p>236065 rows × 1 columns</p>\n",
              "</div><br><label><b>dtype:</b> bool</label>"
            ]
          },
          "metadata": {},
          "execution_count": 230
        }
      ]
    },
    {
      "cell_type": "code",
      "source": [
        "trip[\"Gender\"].head(2)"
      ],
      "metadata": {
        "colab": {
          "base_uri": "https://localhost:8080/",
          "height": 147
        },
        "id": "XbhuSZug5uvI",
        "outputId": "0d6123d4-2aaa-4d1e-bfe0-176e319077b9"
      },
      "execution_count": null,
      "outputs": [
        {
          "output_type": "execute_result",
          "data": {
            "text/plain": [
              "0    Male\n",
              "1    Male\n",
              "Name: Gender, dtype: object"
            ],
            "text/html": [
              "<div>\n",
              "<style scoped>\n",
              "    .dataframe tbody tr th:only-of-type {\n",
              "        vertical-align: middle;\n",
              "    }\n",
              "\n",
              "    .dataframe tbody tr th {\n",
              "        vertical-align: top;\n",
              "    }\n",
              "\n",
              "    .dataframe thead th {\n",
              "        text-align: right;\n",
              "    }\n",
              "</style>\n",
              "<table border=\"1\" class=\"dataframe\">\n",
              "  <thead>\n",
              "    <tr style=\"text-align: right;\">\n",
              "      <th></th>\n",
              "      <th>Gender</th>\n",
              "    </tr>\n",
              "  </thead>\n",
              "  <tbody>\n",
              "    <tr>\n",
              "      <th>0</th>\n",
              "      <td>Male</td>\n",
              "    </tr>\n",
              "    <tr>\n",
              "      <th>1</th>\n",
              "      <td>Male</td>\n",
              "    </tr>\n",
              "  </tbody>\n",
              "</table>\n",
              "</div><br><label><b>dtype:</b> object</label>"
            ]
          },
          "metadata": {},
          "execution_count": 231
        }
      ]
    },
    {
      "cell_type": "code",
      "source": [
        "trip.Gender.value_counts()"
      ],
      "metadata": {
        "colab": {
          "base_uri": "https://localhost:8080/",
          "height": 209
        },
        "id": "XEhzHtSl5uqZ",
        "outputId": "0d9dedad-bd9c-46bd-e03d-03ee2e5ce725"
      },
      "execution_count": null,
      "outputs": [
        {
          "output_type": "execute_result",
          "data": {
            "text/plain": [
              "Gender\n",
              "Male      112940\n",
              "Female     30330\n",
              "Other       2901\n",
              "Name: count, dtype: int64"
            ],
            "text/html": [
              "<div>\n",
              "<style scoped>\n",
              "    .dataframe tbody tr th:only-of-type {\n",
              "        vertical-align: middle;\n",
              "    }\n",
              "\n",
              "    .dataframe tbody tr th {\n",
              "        vertical-align: top;\n",
              "    }\n",
              "\n",
              "    .dataframe thead th {\n",
              "        text-align: right;\n",
              "    }\n",
              "</style>\n",
              "<table border=\"1\" class=\"dataframe\">\n",
              "  <thead>\n",
              "    <tr style=\"text-align: right;\">\n",
              "      <th></th>\n",
              "      <th>count</th>\n",
              "    </tr>\n",
              "    <tr>\n",
              "      <th>Gender</th>\n",
              "      <th></th>\n",
              "    </tr>\n",
              "  </thead>\n",
              "  <tbody>\n",
              "    <tr>\n",
              "      <th>Male</th>\n",
              "      <td>112940</td>\n",
              "    </tr>\n",
              "    <tr>\n",
              "      <th>Female</th>\n",
              "      <td>30330</td>\n",
              "    </tr>\n",
              "    <tr>\n",
              "      <th>Other</th>\n",
              "      <td>2901</td>\n",
              "    </tr>\n",
              "  </tbody>\n",
              "</table>\n",
              "</div><br><label><b>dtype:</b> int64</label>"
            ]
          },
          "metadata": {},
          "execution_count": 232
        }
      ]
    },
    {
      "cell_type": "code",
      "source": [
        "trip[\"Gender\"].fillna(\"male\", inplace = True)"
      ],
      "metadata": {
        "id": "wetgZQ0J5uld"
      },
      "execution_count": null,
      "outputs": []
    },
    {
      "cell_type": "code",
      "source": [
        "trip.isna().sum()"
      ],
      "metadata": {
        "colab": {
          "base_uri": "https://localhost:8080/",
          "height": 460
        },
        "id": "EDcUjNqA5ucU",
        "outputId": "7549dd31-e79c-4393-a402-b1752e38a8dd"
      },
      "execution_count": null,
      "outputs": [
        {
          "output_type": "execute_result",
          "data": {
            "text/plain": [
              "TripID                 0\n",
              "StartTime              0\n",
              "StopTime               0\n",
              "BikeID                 0\n",
              "TripDuration           0\n",
              "FromStationName        0\n",
              "ToStationName          0\n",
              "FromStationID          0\n",
              "ToStationID            0\n",
              "Usertype               0\n",
              "Gender                 0\n",
              "Birthyear          89898\n",
              "dtype: int64"
            ],
            "text/html": [
              "<div>\n",
              "<style scoped>\n",
              "    .dataframe tbody tr th:only-of-type {\n",
              "        vertical-align: middle;\n",
              "    }\n",
              "\n",
              "    .dataframe tbody tr th {\n",
              "        vertical-align: top;\n",
              "    }\n",
              "\n",
              "    .dataframe thead th {\n",
              "        text-align: right;\n",
              "    }\n",
              "</style>\n",
              "<table border=\"1\" class=\"dataframe\">\n",
              "  <thead>\n",
              "    <tr style=\"text-align: right;\">\n",
              "      <th></th>\n",
              "      <th>0</th>\n",
              "    </tr>\n",
              "  </thead>\n",
              "  <tbody>\n",
              "    <tr>\n",
              "      <th>TripID</th>\n",
              "      <td>0</td>\n",
              "    </tr>\n",
              "    <tr>\n",
              "      <th>StartTime</th>\n",
              "      <td>0</td>\n",
              "    </tr>\n",
              "    <tr>\n",
              "      <th>StopTime</th>\n",
              "      <td>0</td>\n",
              "    </tr>\n",
              "    <tr>\n",
              "      <th>BikeID</th>\n",
              "      <td>0</td>\n",
              "    </tr>\n",
              "    <tr>\n",
              "      <th>TripDuration</th>\n",
              "      <td>0</td>\n",
              "    </tr>\n",
              "    <tr>\n",
              "      <th>FromStationName</th>\n",
              "      <td>0</td>\n",
              "    </tr>\n",
              "    <tr>\n",
              "      <th>ToStationName</th>\n",
              "      <td>0</td>\n",
              "    </tr>\n",
              "    <tr>\n",
              "      <th>FromStationID</th>\n",
              "      <td>0</td>\n",
              "    </tr>\n",
              "    <tr>\n",
              "      <th>ToStationID</th>\n",
              "      <td>0</td>\n",
              "    </tr>\n",
              "    <tr>\n",
              "      <th>Usertype</th>\n",
              "      <td>0</td>\n",
              "    </tr>\n",
              "    <tr>\n",
              "      <th>Gender</th>\n",
              "      <td>0</td>\n",
              "    </tr>\n",
              "    <tr>\n",
              "      <th>Birthyear</th>\n",
              "      <td>89898</td>\n",
              "    </tr>\n",
              "  </tbody>\n",
              "</table>\n",
              "</div><br><label><b>dtype:</b> int64</label>"
            ]
          },
          "metadata": {},
          "execution_count": 235
        }
      ]
    },
    {
      "cell_type": "code",
      "source": [
        "# aggregate are used with groupby, we have 8 types\n",
        "1. sum()\n",
        "2. mean()\n",
        "3. median()\n",
        "4. std()\n",
        "5. var()\n",
        "6. min()\n",
        "7. max()\n",
        "8. value_count()\n"
      ],
      "metadata": {
        "id": "tZfCtLpP5uKq"
      },
      "execution_count": null,
      "outputs": []
    },
    {
      "cell_type": "code",
      "source": [
        "# using groupby()\n",
        "trip.groupby(\"Gender\").value_counts()"
      ],
      "metadata": {
        "colab": {
          "base_uri": "https://localhost:8080/",
          "height": 961
        },
        "id": "EBYK0kIS5uFI",
        "outputId": "f05923ba-fc16-4e37-b70f-9461201a600c"
      },
      "execution_count": null,
      "outputs": [
        {
          "output_type": "execute_result",
          "data": {
            "text/plain": [
              "Gender  TripID  StartTime         StopTime          BikeID    TripDuration  FromStationName                                       ToStationName                                                   FromStationID  ToStationID  Usertype  Birthyear\n",
              "Female  433     10/13/2014 10:33  10/13/2014 10:48  SEA00486  883.831       2nd Ave & Spring St                                   Occidental Park / Occidental Ave S & S Washington St            CBD-06         PS-04        Member    1988.0       1\n",
              "        434     10/13/2014 10:34  10/13/2014 10:48  SEA00333  865.937       2nd Ave & Spring St                                   Occidental Park / Occidental Ave S & S Washington St            CBD-06         PS-04        Member    1977.0       1\n",
              "        439     10/13/2014 11:35  10/13/2014 11:45  SEA00486  586.347       Occidental Park / Occidental Ave S & S Washington St  King Street Station Plaza / 2nd Ave Extension S & S Jackson St  PS-04          PS-05        Member    1974.0       1\n",
              "        441     10/13/2014 11:36  10/13/2014 11:45  SEA00195  564.899       Occidental Park / Occidental Ave S & S Washington St  King Street Station Plaza / 2nd Ave Extension S & S Jackson St  PS-04          PS-05        Member    1983.0       1\n",
              "        446     10/13/2014 11:37  10/13/2014 11:47  SEA00106  618.781       Occidental Park / Occidental Ave S & S Washington St  King Street Station Plaza / 2nd Ave Extension S & S Jackson St  PS-04          PS-05        Member    1958.0       1\n",
              "                                                                                                                                                                                                                                                    ..\n",
              "Other   254795  8/30/2016 16:52   8/30/2016 16:57   SEA00279  306.542       3rd Ave & Broad St                                    2nd Ave & Pine St                                               BT-01          CBD-13       Member    1987.0       1\n",
              "        254801  8/30/2016 17:06   8/30/2016 17:09   SEA00429  163.026       Broadway and E Denny Way                              E Harrison St & Broadway Ave E                                  CH-16          CH-02        Member    1987.0       1\n",
              "        254983  8/31/2016 8:30    8/31/2016 8:42    SEA00151  695.299       Summit Ave & E Denny Way                              3rd Ave & Broad St                                              CH-01          BT-01        Member    1987.0       1\n",
              "        255148  8/31/2016 17:21   8/31/2016 17:26   SEA00083  329.898       3rd Ave & Broad St                                    2nd Ave & Pine St                                               BT-01          CBD-13       Member    1987.0       1\n",
              "        255214  8/31/2016 19:58   8/31/2016 20:06   SEA00045  503.995       2nd Ave & Pine St                                     Summit Ave & E Denny Way                                        CBD-13         CH-01        Member    1987.0       1\n",
              "Name: count, Length: 146167, dtype: int64"
            ],
            "text/html": [
              "<div>\n",
              "<style scoped>\n",
              "    .dataframe tbody tr th:only-of-type {\n",
              "        vertical-align: middle;\n",
              "    }\n",
              "\n",
              "    .dataframe tbody tr th {\n",
              "        vertical-align: top;\n",
              "    }\n",
              "\n",
              "    .dataframe thead th {\n",
              "        text-align: right;\n",
              "    }\n",
              "</style>\n",
              "<table border=\"1\" class=\"dataframe\">\n",
              "  <thead>\n",
              "    <tr style=\"text-align: right;\">\n",
              "      <th></th>\n",
              "      <th></th>\n",
              "      <th></th>\n",
              "      <th></th>\n",
              "      <th></th>\n",
              "      <th></th>\n",
              "      <th></th>\n",
              "      <th></th>\n",
              "      <th></th>\n",
              "      <th></th>\n",
              "      <th></th>\n",
              "      <th></th>\n",
              "      <th>count</th>\n",
              "    </tr>\n",
              "    <tr>\n",
              "      <th>Gender</th>\n",
              "      <th>TripID</th>\n",
              "      <th>StartTime</th>\n",
              "      <th>StopTime</th>\n",
              "      <th>BikeID</th>\n",
              "      <th>TripDuration</th>\n",
              "      <th>FromStationName</th>\n",
              "      <th>ToStationName</th>\n",
              "      <th>FromStationID</th>\n",
              "      <th>ToStationID</th>\n",
              "      <th>Usertype</th>\n",
              "      <th>Birthyear</th>\n",
              "      <th></th>\n",
              "    </tr>\n",
              "  </thead>\n",
              "  <tbody>\n",
              "    <tr>\n",
              "      <th rowspan=\"5\" valign=\"top\">Female</th>\n",
              "      <th>433</th>\n",
              "      <th>10/13/2014 10:33</th>\n",
              "      <th>10/13/2014 10:48</th>\n",
              "      <th>SEA00486</th>\n",
              "      <th>883.831</th>\n",
              "      <th>2nd Ave &amp; Spring St</th>\n",
              "      <th>Occidental Park / Occidental Ave S &amp; S Washington St</th>\n",
              "      <th>CBD-06</th>\n",
              "      <th>PS-04</th>\n",
              "      <th>Member</th>\n",
              "      <th>1988.0</th>\n",
              "      <td>1</td>\n",
              "    </tr>\n",
              "    <tr>\n",
              "      <th>434</th>\n",
              "      <th>10/13/2014 10:34</th>\n",
              "      <th>10/13/2014 10:48</th>\n",
              "      <th>SEA00333</th>\n",
              "      <th>865.937</th>\n",
              "      <th>2nd Ave &amp; Spring St</th>\n",
              "      <th>Occidental Park / Occidental Ave S &amp; S Washington St</th>\n",
              "      <th>CBD-06</th>\n",
              "      <th>PS-04</th>\n",
              "      <th>Member</th>\n",
              "      <th>1977.0</th>\n",
              "      <td>1</td>\n",
              "    </tr>\n",
              "    <tr>\n",
              "      <th>439</th>\n",
              "      <th>10/13/2014 11:35</th>\n",
              "      <th>10/13/2014 11:45</th>\n",
              "      <th>SEA00486</th>\n",
              "      <th>586.347</th>\n",
              "      <th>Occidental Park / Occidental Ave S &amp; S Washington St</th>\n",
              "      <th>King Street Station Plaza / 2nd Ave Extension S &amp; S Jackson St</th>\n",
              "      <th>PS-04</th>\n",
              "      <th>PS-05</th>\n",
              "      <th>Member</th>\n",
              "      <th>1974.0</th>\n",
              "      <td>1</td>\n",
              "    </tr>\n",
              "    <tr>\n",
              "      <th>441</th>\n",
              "      <th>10/13/2014 11:36</th>\n",
              "      <th>10/13/2014 11:45</th>\n",
              "      <th>SEA00195</th>\n",
              "      <th>564.899</th>\n",
              "      <th>Occidental Park / Occidental Ave S &amp; S Washington St</th>\n",
              "      <th>King Street Station Plaza / 2nd Ave Extension S &amp; S Jackson St</th>\n",
              "      <th>PS-04</th>\n",
              "      <th>PS-05</th>\n",
              "      <th>Member</th>\n",
              "      <th>1983.0</th>\n",
              "      <td>1</td>\n",
              "    </tr>\n",
              "    <tr>\n",
              "      <th>446</th>\n",
              "      <th>10/13/2014 11:37</th>\n",
              "      <th>10/13/2014 11:47</th>\n",
              "      <th>SEA00106</th>\n",
              "      <th>618.781</th>\n",
              "      <th>Occidental Park / Occidental Ave S &amp; S Washington St</th>\n",
              "      <th>King Street Station Plaza / 2nd Ave Extension S &amp; S Jackson St</th>\n",
              "      <th>PS-04</th>\n",
              "      <th>PS-05</th>\n",
              "      <th>Member</th>\n",
              "      <th>1958.0</th>\n",
              "      <td>1</td>\n",
              "    </tr>\n",
              "    <tr>\n",
              "      <th>...</th>\n",
              "      <th>...</th>\n",
              "      <th>...</th>\n",
              "      <th>...</th>\n",
              "      <th>...</th>\n",
              "      <th>...</th>\n",
              "      <th>...</th>\n",
              "      <th>...</th>\n",
              "      <th>...</th>\n",
              "      <th>...</th>\n",
              "      <th>...</th>\n",
              "      <th>...</th>\n",
              "      <td>...</td>\n",
              "    </tr>\n",
              "    <tr>\n",
              "      <th rowspan=\"5\" valign=\"top\">Other</th>\n",
              "      <th>254795</th>\n",
              "      <th>8/30/2016 16:52</th>\n",
              "      <th>8/30/2016 16:57</th>\n",
              "      <th>SEA00279</th>\n",
              "      <th>306.542</th>\n",
              "      <th>3rd Ave &amp; Broad St</th>\n",
              "      <th>2nd Ave &amp; Pine St</th>\n",
              "      <th>BT-01</th>\n",
              "      <th>CBD-13</th>\n",
              "      <th>Member</th>\n",
              "      <th>1987.0</th>\n",
              "      <td>1</td>\n",
              "    </tr>\n",
              "    <tr>\n",
              "      <th>254801</th>\n",
              "      <th>8/30/2016 17:06</th>\n",
              "      <th>8/30/2016 17:09</th>\n",
              "      <th>SEA00429</th>\n",
              "      <th>163.026</th>\n",
              "      <th>Broadway and E Denny Way</th>\n",
              "      <th>E Harrison St &amp; Broadway Ave E</th>\n",
              "      <th>CH-16</th>\n",
              "      <th>CH-02</th>\n",
              "      <th>Member</th>\n",
              "      <th>1987.0</th>\n",
              "      <td>1</td>\n",
              "    </tr>\n",
              "    <tr>\n",
              "      <th>254983</th>\n",
              "      <th>8/31/2016 8:30</th>\n",
              "      <th>8/31/2016 8:42</th>\n",
              "      <th>SEA00151</th>\n",
              "      <th>695.299</th>\n",
              "      <th>Summit Ave &amp; E Denny Way</th>\n",
              "      <th>3rd Ave &amp; Broad St</th>\n",
              "      <th>CH-01</th>\n",
              "      <th>BT-01</th>\n",
              "      <th>Member</th>\n",
              "      <th>1987.0</th>\n",
              "      <td>1</td>\n",
              "    </tr>\n",
              "    <tr>\n",
              "      <th>255148</th>\n",
              "      <th>8/31/2016 17:21</th>\n",
              "      <th>8/31/2016 17:26</th>\n",
              "      <th>SEA00083</th>\n",
              "      <th>329.898</th>\n",
              "      <th>3rd Ave &amp; Broad St</th>\n",
              "      <th>2nd Ave &amp; Pine St</th>\n",
              "      <th>BT-01</th>\n",
              "      <th>CBD-13</th>\n",
              "      <th>Member</th>\n",
              "      <th>1987.0</th>\n",
              "      <td>1</td>\n",
              "    </tr>\n",
              "    <tr>\n",
              "      <th>255214</th>\n",
              "      <th>8/31/2016 19:58</th>\n",
              "      <th>8/31/2016 20:06</th>\n",
              "      <th>SEA00045</th>\n",
              "      <th>503.995</th>\n",
              "      <th>2nd Ave &amp; Pine St</th>\n",
              "      <th>Summit Ave &amp; E Denny Way</th>\n",
              "      <th>CBD-13</th>\n",
              "      <th>CH-01</th>\n",
              "      <th>Member</th>\n",
              "      <th>1987.0</th>\n",
              "      <td>1</td>\n",
              "    </tr>\n",
              "  </tbody>\n",
              "</table>\n",
              "<p>146167 rows × 1 columns</p>\n",
              "</div><br><label><b>dtype:</b> int64</label>"
            ]
          },
          "metadata": {},
          "execution_count": 236
        }
      ]
    },
    {
      "cell_type": "code",
      "source": [
        "trip.groupby([\"Gender\", \"Birthyear\"]).count()"
      ],
      "metadata": {
        "colab": {
          "base_uri": "https://localhost:8080/",
          "height": 455
        },
        "id": "x9VwhH8e5t_w",
        "outputId": "b85012fa-7e7a-4d37-b1de-9a78cf039ac9"
      },
      "execution_count": null,
      "outputs": [
        {
          "output_type": "execute_result",
          "data": {
            "text/plain": [
              "                  TripID  StartTime  StopTime  BikeID  TripDuration  \\\n",
              "Gender Birthyear                                                      \n",
              "Female 1931.0          1          1         1       1             1   \n",
              "       1946.0         43         43        43      43            43   \n",
              "       1947.0        691        691       691     691           691   \n",
              "       1948.0          6          6         6       6             6   \n",
              "       1949.0        132        132       132     132           132   \n",
              "...                  ...        ...       ...     ...           ...   \n",
              "Other  1988.0          5          5         5       5             5   \n",
              "       1989.0          1          1         1       1             1   \n",
              "       1990.0         12         12        12      12            12   \n",
              "       1992.0        153        153       153     153           153   \n",
              "       1999.0          2          2         2       2             2   \n",
              "\n",
              "                  FromStationName  ToStationName  FromStationID  ToStationID  \\\n",
              "Gender Birthyear                                                               \n",
              "Female 1931.0                   1              1              1            1   \n",
              "       1946.0                  43             43             43           43   \n",
              "       1947.0                 691            691            691          691   \n",
              "       1948.0                   6              6              6            6   \n",
              "       1949.0                 132            132            132          132   \n",
              "...                           ...            ...            ...          ...   \n",
              "Other  1988.0                   5              5              5            5   \n",
              "       1989.0                   1              1              1            1   \n",
              "       1990.0                  12             12             12           12   \n",
              "       1992.0                 153            153            153          153   \n",
              "       1999.0                   2              2              2            2   \n",
              "\n",
              "                  Usertype  \n",
              "Gender Birthyear            \n",
              "Female 1931.0            1  \n",
              "       1946.0           43  \n",
              "       1947.0          691  \n",
              "       1948.0            6  \n",
              "       1949.0          132  \n",
              "...                    ...  \n",
              "Other  1988.0            5  \n",
              "       1989.0            1  \n",
              "       1990.0           12  \n",
              "       1992.0          153  \n",
              "       1999.0            2  \n",
              "\n",
              "[135 rows x 10 columns]"
            ],
            "text/html": [
              "\n",
              "  <div id=\"df-90839445-1b73-4a22-adad-0dc50308be8a\" class=\"colab-df-container\">\n",
              "    <div>\n",
              "<style scoped>\n",
              "    .dataframe tbody tr th:only-of-type {\n",
              "        vertical-align: middle;\n",
              "    }\n",
              "\n",
              "    .dataframe tbody tr th {\n",
              "        vertical-align: top;\n",
              "    }\n",
              "\n",
              "    .dataframe thead th {\n",
              "        text-align: right;\n",
              "    }\n",
              "</style>\n",
              "<table border=\"1\" class=\"dataframe\">\n",
              "  <thead>\n",
              "    <tr style=\"text-align: right;\">\n",
              "      <th></th>\n",
              "      <th></th>\n",
              "      <th>TripID</th>\n",
              "      <th>StartTime</th>\n",
              "      <th>StopTime</th>\n",
              "      <th>BikeID</th>\n",
              "      <th>TripDuration</th>\n",
              "      <th>FromStationName</th>\n",
              "      <th>ToStationName</th>\n",
              "      <th>FromStationID</th>\n",
              "      <th>ToStationID</th>\n",
              "      <th>Usertype</th>\n",
              "    </tr>\n",
              "    <tr>\n",
              "      <th>Gender</th>\n",
              "      <th>Birthyear</th>\n",
              "      <th></th>\n",
              "      <th></th>\n",
              "      <th></th>\n",
              "      <th></th>\n",
              "      <th></th>\n",
              "      <th></th>\n",
              "      <th></th>\n",
              "      <th></th>\n",
              "      <th></th>\n",
              "      <th></th>\n",
              "    </tr>\n",
              "  </thead>\n",
              "  <tbody>\n",
              "    <tr>\n",
              "      <th rowspan=\"5\" valign=\"top\">Female</th>\n",
              "      <th>1931.0</th>\n",
              "      <td>1</td>\n",
              "      <td>1</td>\n",
              "      <td>1</td>\n",
              "      <td>1</td>\n",
              "      <td>1</td>\n",
              "      <td>1</td>\n",
              "      <td>1</td>\n",
              "      <td>1</td>\n",
              "      <td>1</td>\n",
              "      <td>1</td>\n",
              "    </tr>\n",
              "    <tr>\n",
              "      <th>1946.0</th>\n",
              "      <td>43</td>\n",
              "      <td>43</td>\n",
              "      <td>43</td>\n",
              "      <td>43</td>\n",
              "      <td>43</td>\n",
              "      <td>43</td>\n",
              "      <td>43</td>\n",
              "      <td>43</td>\n",
              "      <td>43</td>\n",
              "      <td>43</td>\n",
              "    </tr>\n",
              "    <tr>\n",
              "      <th>1947.0</th>\n",
              "      <td>691</td>\n",
              "      <td>691</td>\n",
              "      <td>691</td>\n",
              "      <td>691</td>\n",
              "      <td>691</td>\n",
              "      <td>691</td>\n",
              "      <td>691</td>\n",
              "      <td>691</td>\n",
              "      <td>691</td>\n",
              "      <td>691</td>\n",
              "    </tr>\n",
              "    <tr>\n",
              "      <th>1948.0</th>\n",
              "      <td>6</td>\n",
              "      <td>6</td>\n",
              "      <td>6</td>\n",
              "      <td>6</td>\n",
              "      <td>6</td>\n",
              "      <td>6</td>\n",
              "      <td>6</td>\n",
              "      <td>6</td>\n",
              "      <td>6</td>\n",
              "      <td>6</td>\n",
              "    </tr>\n",
              "    <tr>\n",
              "      <th>1949.0</th>\n",
              "      <td>132</td>\n",
              "      <td>132</td>\n",
              "      <td>132</td>\n",
              "      <td>132</td>\n",
              "      <td>132</td>\n",
              "      <td>132</td>\n",
              "      <td>132</td>\n",
              "      <td>132</td>\n",
              "      <td>132</td>\n",
              "      <td>132</td>\n",
              "    </tr>\n",
              "    <tr>\n",
              "      <th>...</th>\n",
              "      <th>...</th>\n",
              "      <td>...</td>\n",
              "      <td>...</td>\n",
              "      <td>...</td>\n",
              "      <td>...</td>\n",
              "      <td>...</td>\n",
              "      <td>...</td>\n",
              "      <td>...</td>\n",
              "      <td>...</td>\n",
              "      <td>...</td>\n",
              "      <td>...</td>\n",
              "    </tr>\n",
              "    <tr>\n",
              "      <th rowspan=\"5\" valign=\"top\">Other</th>\n",
              "      <th>1988.0</th>\n",
              "      <td>5</td>\n",
              "      <td>5</td>\n",
              "      <td>5</td>\n",
              "      <td>5</td>\n",
              "      <td>5</td>\n",
              "      <td>5</td>\n",
              "      <td>5</td>\n",
              "      <td>5</td>\n",
              "      <td>5</td>\n",
              "      <td>5</td>\n",
              "    </tr>\n",
              "    <tr>\n",
              "      <th>1989.0</th>\n",
              "      <td>1</td>\n",
              "      <td>1</td>\n",
              "      <td>1</td>\n",
              "      <td>1</td>\n",
              "      <td>1</td>\n",
              "      <td>1</td>\n",
              "      <td>1</td>\n",
              "      <td>1</td>\n",
              "      <td>1</td>\n",
              "      <td>1</td>\n",
              "    </tr>\n",
              "    <tr>\n",
              "      <th>1990.0</th>\n",
              "      <td>12</td>\n",
              "      <td>12</td>\n",
              "      <td>12</td>\n",
              "      <td>12</td>\n",
              "      <td>12</td>\n",
              "      <td>12</td>\n",
              "      <td>12</td>\n",
              "      <td>12</td>\n",
              "      <td>12</td>\n",
              "      <td>12</td>\n",
              "    </tr>\n",
              "    <tr>\n",
              "      <th>1992.0</th>\n",
              "      <td>153</td>\n",
              "      <td>153</td>\n",
              "      <td>153</td>\n",
              "      <td>153</td>\n",
              "      <td>153</td>\n",
              "      <td>153</td>\n",
              "      <td>153</td>\n",
              "      <td>153</td>\n",
              "      <td>153</td>\n",
              "      <td>153</td>\n",
              "    </tr>\n",
              "    <tr>\n",
              "      <th>1999.0</th>\n",
              "      <td>2</td>\n",
              "      <td>2</td>\n",
              "      <td>2</td>\n",
              "      <td>2</td>\n",
              "      <td>2</td>\n",
              "      <td>2</td>\n",
              "      <td>2</td>\n",
              "      <td>2</td>\n",
              "      <td>2</td>\n",
              "      <td>2</td>\n",
              "    </tr>\n",
              "  </tbody>\n",
              "</table>\n",
              "<p>135 rows × 10 columns</p>\n",
              "</div>\n",
              "    <div class=\"colab-df-buttons\">\n",
              "\n",
              "  <div class=\"colab-df-container\">\n",
              "    <button class=\"colab-df-convert\" onclick=\"convertToInteractive('df-90839445-1b73-4a22-adad-0dc50308be8a')\"\n",
              "            title=\"Convert this dataframe to an interactive table.\"\n",
              "            style=\"display:none;\">\n",
              "\n",
              "  <svg xmlns=\"http://www.w3.org/2000/svg\" height=\"24px\" viewBox=\"0 -960 960 960\">\n",
              "    <path d=\"M120-120v-720h720v720H120Zm60-500h600v-160H180v160Zm220 220h160v-160H400v160Zm0 220h160v-160H400v160ZM180-400h160v-160H180v160Zm440 0h160v-160H620v160ZM180-180h160v-160H180v160Zm440 0h160v-160H620v160Z\"/>\n",
              "  </svg>\n",
              "    </button>\n",
              "\n",
              "  <style>\n",
              "    .colab-df-container {\n",
              "      display:flex;\n",
              "      gap: 12px;\n",
              "    }\n",
              "\n",
              "    .colab-df-convert {\n",
              "      background-color: #E8F0FE;\n",
              "      border: none;\n",
              "      border-radius: 50%;\n",
              "      cursor: pointer;\n",
              "      display: none;\n",
              "      fill: #1967D2;\n",
              "      height: 32px;\n",
              "      padding: 0 0 0 0;\n",
              "      width: 32px;\n",
              "    }\n",
              "\n",
              "    .colab-df-convert:hover {\n",
              "      background-color: #E2EBFA;\n",
              "      box-shadow: 0px 1px 2px rgba(60, 64, 67, 0.3), 0px 1px 3px 1px rgba(60, 64, 67, 0.15);\n",
              "      fill: #174EA6;\n",
              "    }\n",
              "\n",
              "    .colab-df-buttons div {\n",
              "      margin-bottom: 4px;\n",
              "    }\n",
              "\n",
              "    [theme=dark] .colab-df-convert {\n",
              "      background-color: #3B4455;\n",
              "      fill: #D2E3FC;\n",
              "    }\n",
              "\n",
              "    [theme=dark] .colab-df-convert:hover {\n",
              "      background-color: #434B5C;\n",
              "      box-shadow: 0px 1px 3px 1px rgba(0, 0, 0, 0.15);\n",
              "      filter: drop-shadow(0px 1px 2px rgba(0, 0, 0, 0.3));\n",
              "      fill: #FFFFFF;\n",
              "    }\n",
              "  </style>\n",
              "\n",
              "    <script>\n",
              "      const buttonEl =\n",
              "        document.querySelector('#df-90839445-1b73-4a22-adad-0dc50308be8a button.colab-df-convert');\n",
              "      buttonEl.style.display =\n",
              "        google.colab.kernel.accessAllowed ? 'block' : 'none';\n",
              "\n",
              "      async function convertToInteractive(key) {\n",
              "        const element = document.querySelector('#df-90839445-1b73-4a22-adad-0dc50308be8a');\n",
              "        const dataTable =\n",
              "          await google.colab.kernel.invokeFunction('convertToInteractive',\n",
              "                                                    [key], {});\n",
              "        if (!dataTable) return;\n",
              "\n",
              "        const docLinkHtml = 'Like what you see? Visit the ' +\n",
              "          '<a target=\"_blank\" href=https://colab.research.google.com/notebooks/data_table.ipynb>data table notebook</a>'\n",
              "          + ' to learn more about interactive tables.';\n",
              "        element.innerHTML = '';\n",
              "        dataTable['output_type'] = 'display_data';\n",
              "        await google.colab.output.renderOutput(dataTable, element);\n",
              "        const docLink = document.createElement('div');\n",
              "        docLink.innerHTML = docLinkHtml;\n",
              "        element.appendChild(docLink);\n",
              "      }\n",
              "    </script>\n",
              "  </div>\n",
              "\n",
              "\n",
              "<div id=\"df-520e8483-e49d-4c06-8e4b-f4f0904b025e\">\n",
              "  <button class=\"colab-df-quickchart\" onclick=\"quickchart('df-520e8483-e49d-4c06-8e4b-f4f0904b025e')\"\n",
              "            title=\"Suggest charts\"\n",
              "            style=\"display:none;\">\n",
              "\n",
              "<svg xmlns=\"http://www.w3.org/2000/svg\" height=\"24px\"viewBox=\"0 0 24 24\"\n",
              "     width=\"24px\">\n",
              "    <g>\n",
              "        <path d=\"M19 3H5c-1.1 0-2 .9-2 2v14c0 1.1.9 2 2 2h14c1.1 0 2-.9 2-2V5c0-1.1-.9-2-2-2zM9 17H7v-7h2v7zm4 0h-2V7h2v10zm4 0h-2v-4h2v4z\"/>\n",
              "    </g>\n",
              "</svg>\n",
              "  </button>\n",
              "\n",
              "<style>\n",
              "  .colab-df-quickchart {\n",
              "      --bg-color: #E8F0FE;\n",
              "      --fill-color: #1967D2;\n",
              "      --hover-bg-color: #E2EBFA;\n",
              "      --hover-fill-color: #174EA6;\n",
              "      --disabled-fill-color: #AAA;\n",
              "      --disabled-bg-color: #DDD;\n",
              "  }\n",
              "\n",
              "  [theme=dark] .colab-df-quickchart {\n",
              "      --bg-color: #3B4455;\n",
              "      --fill-color: #D2E3FC;\n",
              "      --hover-bg-color: #434B5C;\n",
              "      --hover-fill-color: #FFFFFF;\n",
              "      --disabled-bg-color: #3B4455;\n",
              "      --disabled-fill-color: #666;\n",
              "  }\n",
              "\n",
              "  .colab-df-quickchart {\n",
              "    background-color: var(--bg-color);\n",
              "    border: none;\n",
              "    border-radius: 50%;\n",
              "    cursor: pointer;\n",
              "    display: none;\n",
              "    fill: var(--fill-color);\n",
              "    height: 32px;\n",
              "    padding: 0;\n",
              "    width: 32px;\n",
              "  }\n",
              "\n",
              "  .colab-df-quickchart:hover {\n",
              "    background-color: var(--hover-bg-color);\n",
              "    box-shadow: 0 1px 2px rgba(60, 64, 67, 0.3), 0 1px 3px 1px rgba(60, 64, 67, 0.15);\n",
              "    fill: var(--button-hover-fill-color);\n",
              "  }\n",
              "\n",
              "  .colab-df-quickchart-complete:disabled,\n",
              "  .colab-df-quickchart-complete:disabled:hover {\n",
              "    background-color: var(--disabled-bg-color);\n",
              "    fill: var(--disabled-fill-color);\n",
              "    box-shadow: none;\n",
              "  }\n",
              "\n",
              "  .colab-df-spinner {\n",
              "    border: 2px solid var(--fill-color);\n",
              "    border-color: transparent;\n",
              "    border-bottom-color: var(--fill-color);\n",
              "    animation:\n",
              "      spin 1s steps(1) infinite;\n",
              "  }\n",
              "\n",
              "  @keyframes spin {\n",
              "    0% {\n",
              "      border-color: transparent;\n",
              "      border-bottom-color: var(--fill-color);\n",
              "      border-left-color: var(--fill-color);\n",
              "    }\n",
              "    20% {\n",
              "      border-color: transparent;\n",
              "      border-left-color: var(--fill-color);\n",
              "      border-top-color: var(--fill-color);\n",
              "    }\n",
              "    30% {\n",
              "      border-color: transparent;\n",
              "      border-left-color: var(--fill-color);\n",
              "      border-top-color: var(--fill-color);\n",
              "      border-right-color: var(--fill-color);\n",
              "    }\n",
              "    40% {\n",
              "      border-color: transparent;\n",
              "      border-right-color: var(--fill-color);\n",
              "      border-top-color: var(--fill-color);\n",
              "    }\n",
              "    60% {\n",
              "      border-color: transparent;\n",
              "      border-right-color: var(--fill-color);\n",
              "    }\n",
              "    80% {\n",
              "      border-color: transparent;\n",
              "      border-right-color: var(--fill-color);\n",
              "      border-bottom-color: var(--fill-color);\n",
              "    }\n",
              "    90% {\n",
              "      border-color: transparent;\n",
              "      border-bottom-color: var(--fill-color);\n",
              "    }\n",
              "  }\n",
              "</style>\n",
              "\n",
              "  <script>\n",
              "    async function quickchart(key) {\n",
              "      const quickchartButtonEl =\n",
              "        document.querySelector('#' + key + ' button');\n",
              "      quickchartButtonEl.disabled = true;  // To prevent multiple clicks.\n",
              "      quickchartButtonEl.classList.add('colab-df-spinner');\n",
              "      try {\n",
              "        const charts = await google.colab.kernel.invokeFunction(\n",
              "            'suggestCharts', [key], {});\n",
              "      } catch (error) {\n",
              "        console.error('Error during call to suggestCharts:', error);\n",
              "      }\n",
              "      quickchartButtonEl.classList.remove('colab-df-spinner');\n",
              "      quickchartButtonEl.classList.add('colab-df-quickchart-complete');\n",
              "    }\n",
              "    (() => {\n",
              "      let quickchartButtonEl =\n",
              "        document.querySelector('#df-520e8483-e49d-4c06-8e4b-f4f0904b025e button');\n",
              "      quickchartButtonEl.style.display =\n",
              "        google.colab.kernel.accessAllowed ? 'block' : 'none';\n",
              "    })();\n",
              "  </script>\n",
              "</div>\n",
              "\n",
              "    </div>\n",
              "  </div>\n"
            ],
            "application/vnd.google.colaboratory.intrinsic+json": {
              "type": "dataframe",
              "summary": "{\n  \"name\": \"trip\",\n  \"rows\": 135,\n  \"fields\": [\n    {\n      \"column\": \"TripID\",\n      \"properties\": {\n        \"dtype\": \"number\",\n        \"std\": 1688,\n        \"min\": 1,\n        \"max\": 9889,\n        \"num_unique_values\": 119,\n        \"samples\": [\n          2,\n          2248,\n          132\n        ],\n        \"semantic_type\": \"\",\n        \"description\": \"\"\n      }\n    },\n    {\n      \"column\": \"StartTime\",\n      \"properties\": {\n        \"dtype\": \"number\",\n        \"std\": 1688,\n        \"min\": 1,\n        \"max\": 9889,\n        \"num_unique_values\": 119,\n        \"samples\": [\n          2,\n          2248,\n          132\n        ],\n        \"semantic_type\": \"\",\n        \"description\": \"\"\n      }\n    },\n    {\n      \"column\": \"StopTime\",\n      \"properties\": {\n        \"dtype\": \"number\",\n        \"std\": 1688,\n        \"min\": 1,\n        \"max\": 9889,\n        \"num_unique_values\": 119,\n        \"samples\": [\n          2,\n          2248,\n          132\n        ],\n        \"semantic_type\": \"\",\n        \"description\": \"\"\n      }\n    },\n    {\n      \"column\": \"BikeID\",\n      \"properties\": {\n        \"dtype\": \"number\",\n        \"std\": 1688,\n        \"min\": 1,\n        \"max\": 9889,\n        \"num_unique_values\": 119,\n        \"samples\": [\n          2,\n          2248,\n          132\n        ],\n        \"semantic_type\": \"\",\n        \"description\": \"\"\n      }\n    },\n    {\n      \"column\": \"TripDuration\",\n      \"properties\": {\n        \"dtype\": \"number\",\n        \"std\": 1688,\n        \"min\": 1,\n        \"max\": 9889,\n        \"num_unique_values\": 119,\n        \"samples\": [\n          2,\n          2248,\n          132\n        ],\n        \"semantic_type\": \"\",\n        \"description\": \"\"\n      }\n    },\n    {\n      \"column\": \"FromStationName\",\n      \"properties\": {\n        \"dtype\": \"number\",\n        \"std\": 1688,\n        \"min\": 1,\n        \"max\": 9889,\n        \"num_unique_values\": 119,\n        \"samples\": [\n          2,\n          2248,\n          132\n        ],\n        \"semantic_type\": \"\",\n        \"description\": \"\"\n      }\n    },\n    {\n      \"column\": \"ToStationName\",\n      \"properties\": {\n        \"dtype\": \"number\",\n        \"std\": 1688,\n        \"min\": 1,\n        \"max\": 9889,\n        \"num_unique_values\": 119,\n        \"samples\": [\n          2,\n          2248,\n          132\n        ],\n        \"semantic_type\": \"\",\n        \"description\": \"\"\n      }\n    },\n    {\n      \"column\": \"FromStationID\",\n      \"properties\": {\n        \"dtype\": \"number\",\n        \"std\": 1688,\n        \"min\": 1,\n        \"max\": 9889,\n        \"num_unique_values\": 119,\n        \"samples\": [\n          2,\n          2248,\n          132\n        ],\n        \"semantic_type\": \"\",\n        \"description\": \"\"\n      }\n    },\n    {\n      \"column\": \"ToStationID\",\n      \"properties\": {\n        \"dtype\": \"number\",\n        \"std\": 1688,\n        \"min\": 1,\n        \"max\": 9889,\n        \"num_unique_values\": 119,\n        \"samples\": [\n          2,\n          2248,\n          132\n        ],\n        \"semantic_type\": \"\",\n        \"description\": \"\"\n      }\n    },\n    {\n      \"column\": \"Usertype\",\n      \"properties\": {\n        \"dtype\": \"number\",\n        \"std\": 1688,\n        \"min\": 1,\n        \"max\": 9889,\n        \"num_unique_values\": 119,\n        \"samples\": [\n          2,\n          2248,\n          132\n        ],\n        \"semantic_type\": \"\",\n        \"description\": \"\"\n      }\n    }\n  ]\n}"
            }
          },
          "metadata": {},
          "execution_count": 237
        }
      ]
    },
    {
      "cell_type": "code",
      "source": [
        "gender_group = trip.groupby([\"Gender\", \"Birthyear\"])[\"TripID\"]"
      ],
      "metadata": {
        "id": "e6fhcC2s5t54"
      },
      "execution_count": null,
      "outputs": []
    },
    {
      "cell_type": "code",
      "source": [
        "gender_group.count()"
      ],
      "metadata": {
        "colab": {
          "base_uri": "https://localhost:8080/",
          "height": 489
        },
        "id": "MhiSQ4Ri5t0g",
        "outputId": "06420f80-5879-45e9-fb66-bf4b0b22d779"
      },
      "execution_count": null,
      "outputs": [
        {
          "output_type": "execute_result",
          "data": {
            "text/plain": [
              "Gender  Birthyear\n",
              "Female  1931.0         1\n",
              "        1946.0        43\n",
              "        1947.0       691\n",
              "        1948.0         6\n",
              "        1949.0       132\n",
              "                    ... \n",
              "Other   1988.0         5\n",
              "        1989.0         1\n",
              "        1990.0        12\n",
              "        1992.0       153\n",
              "        1999.0         2\n",
              "Name: TripID, Length: 135, dtype: int64"
            ],
            "text/html": [
              "<div>\n",
              "<style scoped>\n",
              "    .dataframe tbody tr th:only-of-type {\n",
              "        vertical-align: middle;\n",
              "    }\n",
              "\n",
              "    .dataframe tbody tr th {\n",
              "        vertical-align: top;\n",
              "    }\n",
              "\n",
              "    .dataframe thead th {\n",
              "        text-align: right;\n",
              "    }\n",
              "</style>\n",
              "<table border=\"1\" class=\"dataframe\">\n",
              "  <thead>\n",
              "    <tr style=\"text-align: right;\">\n",
              "      <th></th>\n",
              "      <th></th>\n",
              "      <th>TripID</th>\n",
              "    </tr>\n",
              "    <tr>\n",
              "      <th>Gender</th>\n",
              "      <th>Birthyear</th>\n",
              "      <th></th>\n",
              "    </tr>\n",
              "  </thead>\n",
              "  <tbody>\n",
              "    <tr>\n",
              "      <th rowspan=\"5\" valign=\"top\">Female</th>\n",
              "      <th>1931.0</th>\n",
              "      <td>1</td>\n",
              "    </tr>\n",
              "    <tr>\n",
              "      <th>1946.0</th>\n",
              "      <td>43</td>\n",
              "    </tr>\n",
              "    <tr>\n",
              "      <th>1947.0</th>\n",
              "      <td>691</td>\n",
              "    </tr>\n",
              "    <tr>\n",
              "      <th>1948.0</th>\n",
              "      <td>6</td>\n",
              "    </tr>\n",
              "    <tr>\n",
              "      <th>1949.0</th>\n",
              "      <td>132</td>\n",
              "    </tr>\n",
              "    <tr>\n",
              "      <th>...</th>\n",
              "      <th>...</th>\n",
              "      <td>...</td>\n",
              "    </tr>\n",
              "    <tr>\n",
              "      <th rowspan=\"5\" valign=\"top\">Other</th>\n",
              "      <th>1988.0</th>\n",
              "      <td>5</td>\n",
              "    </tr>\n",
              "    <tr>\n",
              "      <th>1989.0</th>\n",
              "      <td>1</td>\n",
              "    </tr>\n",
              "    <tr>\n",
              "      <th>1990.0</th>\n",
              "      <td>12</td>\n",
              "    </tr>\n",
              "    <tr>\n",
              "      <th>1992.0</th>\n",
              "      <td>153</td>\n",
              "    </tr>\n",
              "    <tr>\n",
              "      <th>1999.0</th>\n",
              "      <td>2</td>\n",
              "    </tr>\n",
              "  </tbody>\n",
              "</table>\n",
              "<p>135 rows × 1 columns</p>\n",
              "</div><br><label><b>dtype:</b> int64</label>"
            ]
          },
          "metadata": {},
          "execution_count": 239
        }
      ]
    },
    {
      "cell_type": "code",
      "source": [
        "# extract, transform and load"
      ],
      "metadata": {
        "id": "yOC6csDt5tuP"
      },
      "execution_count": null,
      "outputs": []
    },
    {
      "cell_type": "code",
      "source": [],
      "metadata": {
        "id": "mzhtBIwT5toz"
      },
      "execution_count": null,
      "outputs": []
    },
    {
      "cell_type": "code",
      "source": [],
      "metadata": {
        "id": "FUvnKKxZ5tkU"
      },
      "execution_count": null,
      "outputs": []
    },
    {
      "cell_type": "code",
      "source": [],
      "metadata": {
        "id": "J26s7LUr5tbW"
      },
      "execution_count": null,
      "outputs": []
    },
    {
      "cell_type": "code",
      "source": [
        "\n"
      ],
      "metadata": {
        "id": "9t_BQQ0e5tWx"
      },
      "execution_count": null,
      "outputs": []
    },
    {
      "cell_type": "code",
      "source": [],
      "metadata": {
        "id": "-9Y1JdDF5tRW"
      },
      "execution_count": null,
      "outputs": []
    },
    {
      "cell_type": "code",
      "source": [],
      "metadata": {
        "id": "6G50jCBF51ur"
      },
      "execution_count": null,
      "outputs": []
    },
    {
      "cell_type": "code",
      "source": [],
      "metadata": {
        "id": "8r8e5zaU51po"
      },
      "execution_count": null,
      "outputs": []
    },
    {
      "cell_type": "code",
      "source": [],
      "metadata": {
        "id": "3oezchdy51kD"
      },
      "execution_count": null,
      "outputs": []
    },
    {
      "cell_type": "code",
      "source": [],
      "metadata": {
        "id": "jQb38Vyr51fB"
      },
      "execution_count": null,
      "outputs": []
    },
    {
      "cell_type": "code",
      "source": [],
      "metadata": {
        "id": "jJgTH-Nu51Zy"
      },
      "execution_count": null,
      "outputs": []
    },
    {
      "cell_type": "code",
      "source": [],
      "metadata": {
        "id": "Jv0_yIUA51U1"
      },
      "execution_count": null,
      "outputs": []
    },
    {
      "cell_type": "code",
      "source": [],
      "metadata": {
        "id": "JPWS2T4k51PQ"
      },
      "execution_count": null,
      "outputs": []
    },
    {
      "cell_type": "code",
      "source": [],
      "metadata": {
        "id": "9yTIrkLs51Jp"
      },
      "execution_count": null,
      "outputs": []
    },
    {
      "cell_type": "code",
      "source": [],
      "metadata": {
        "id": "FeZSOhef51Dm"
      },
      "execution_count": null,
      "outputs": []
    },
    {
      "cell_type": "code",
      "source": [],
      "metadata": {
        "id": "gIBtfA6G508s"
      },
      "execution_count": null,
      "outputs": []
    },
    {
      "cell_type": "code",
      "source": [],
      "metadata": {
        "id": "DTu3uoOc503n"
      },
      "execution_count": null,
      "outputs": []
    },
    {
      "cell_type": "code",
      "source": [],
      "metadata": {
        "id": "NVgwSkCj50yv"
      },
      "execution_count": null,
      "outputs": []
    },
    {
      "cell_type": "code",
      "source": [],
      "metadata": {
        "id": "knnM-Vij50tF"
      },
      "execution_count": null,
      "outputs": []
    },
    {
      "cell_type": "code",
      "source": [],
      "metadata": {
        "id": "aLWMU2Kz50oE"
      },
      "execution_count": null,
      "outputs": []
    },
    {
      "cell_type": "code",
      "source": [],
      "metadata": {
        "id": "UMBGLYIt50i_"
      },
      "execution_count": null,
      "outputs": []
    },
    {
      "cell_type": "code",
      "source": [],
      "metadata": {
        "id": "V1lOHPUU50d8"
      },
      "execution_count": null,
      "outputs": []
    },
    {
      "cell_type": "code",
      "source": [],
      "metadata": {
        "id": "6GIhvm2U50Y1"
      },
      "execution_count": null,
      "outputs": []
    },
    {
      "cell_type": "code",
      "source": [],
      "metadata": {
        "id": "G_Gat-nW50Tl"
      },
      "execution_count": null,
      "outputs": []
    },
    {
      "cell_type": "code",
      "source": [],
      "metadata": {
        "id": "SGcdqSnV50Oh"
      },
      "execution_count": null,
      "outputs": []
    },
    {
      "cell_type": "code",
      "source": [],
      "metadata": {
        "id": "aa5nuua_50Jo"
      },
      "execution_count": null,
      "outputs": []
    },
    {
      "cell_type": "code",
      "source": [],
      "metadata": {
        "id": "oDMo1p1D50Ep"
      },
      "execution_count": null,
      "outputs": []
    },
    {
      "cell_type": "code",
      "source": [],
      "metadata": {
        "id": "EAOwicIL5z_J"
      },
      "execution_count": null,
      "outputs": []
    },
    {
      "cell_type": "code",
      "source": [],
      "metadata": {
        "id": "qvu7iQ_k5z5Q"
      },
      "execution_count": null,
      "outputs": []
    },
    {
      "cell_type": "code",
      "source": [],
      "metadata": {
        "id": "3NOteh165z0C"
      },
      "execution_count": null,
      "outputs": []
    },
    {
      "cell_type": "code",
      "source": [],
      "metadata": {
        "id": "tegUp6tS5zvC"
      },
      "execution_count": null,
      "outputs": []
    },
    {
      "cell_type": "code",
      "source": [],
      "metadata": {
        "id": "EWWZl4Nz5zqP"
      },
      "execution_count": null,
      "outputs": []
    },
    {
      "cell_type": "code",
      "source": [],
      "metadata": {
        "id": "NC5aHFHc5zkm"
      },
      "execution_count": null,
      "outputs": []
    },
    {
      "cell_type": "code",
      "source": [],
      "metadata": {
        "id": "NFdnqHtm5ze-"
      },
      "execution_count": null,
      "outputs": []
    },
    {
      "cell_type": "code",
      "source": [],
      "metadata": {
        "id": "bLa5Q-Mb5zaD"
      },
      "execution_count": null,
      "outputs": []
    },
    {
      "cell_type": "code",
      "source": [],
      "metadata": {
        "id": "ZAwBSsVJ5zT-"
      },
      "execution_count": null,
      "outputs": []
    }
  ]
}